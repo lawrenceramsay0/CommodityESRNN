{
 "cells": [
  {
   "cell_type": "code",
   "execution_count": 4,
   "id": "afc1468b",
   "metadata": {},
   "outputs": [
    {
     "data": {
      "text/plain": [
       "'C:\\\\Users\\\\lawre\\\\OneDrive - City, University of London\\\\Thesis\\\\'"
      ]
     },
     "execution_count": 4,
     "metadata": {},
     "output_type": "execute_result"
    }
   ],
   "source": [
    "import sys\n",
    "sys.path.append('C:/Users/lawre/OneDrive/Documents/GitHub/ESRNN-GPU')\n",
    "\n",
    "root = os.getcwd()[-0:-6]\n",
    "root"
   ]
  },
  {
   "cell_type": "code",
   "execution_count": 10,
   "id": "4ee5bd1f",
   "metadata": {},
   "outputs": [
    {
     "name": "stdout",
     "output_type": "stream",
     "text": [
      "loading config\n",
      "loading data\n"
     ]
    },
    {
     "ename": "ValueError",
     "evalue": "setting an array element with a sequence. The requested array has an inhomogeneous shape after 1 dimensions. The detected shape was (23000,) + inhomogeneous part.",
     "output_type": "error",
     "traceback": [
      "\u001b[1;31m---------------------------------------------------------------------------\u001b[0m",
      "\u001b[1;31mValueError\u001b[0m                                Traceback (most recent call last)",
      "Cell \u001b[1;32mIn[10], line 19\u001b[0m\n\u001b[0;32m     16\u001b[0m train_path \u001b[38;5;241m=\u001b[39m root \u001b[38;5;241m+\u001b[39m \u001b[38;5;124m'\u001b[39m\u001b[38;5;124mdata\u001b[39m\u001b[38;5;130;01m\\\\\u001b[39;00m\u001b[38;5;124mm4\u001b[39m\u001b[38;5;130;01m\\\\\u001b[39;00m\u001b[38;5;124mTrain\u001b[39m\u001b[38;5;130;01m\\\\\u001b[39;00m\u001b[38;5;132;01m%s\u001b[39;00m\u001b[38;5;124m-train.csv\u001b[39m\u001b[38;5;124m'\u001b[39m \u001b[38;5;241m%\u001b[39m (config[\u001b[38;5;124m'\u001b[39m\u001b[38;5;124mvariable\u001b[39m\u001b[38;5;124m'\u001b[39m])\n\u001b[0;32m     17\u001b[0m test_path \u001b[38;5;241m=\u001b[39m root \u001b[38;5;241m+\u001b[39m \u001b[38;5;124m'\u001b[39m\u001b[38;5;124mdata\u001b[39m\u001b[38;5;130;01m\\\\\u001b[39;00m\u001b[38;5;124mm4\u001b[39m\u001b[38;5;130;01m\\\\\u001b[39;00m\u001b[38;5;124mTest\u001b[39m\u001b[38;5;130;01m\\\\\u001b[39;00m\u001b[38;5;132;01m%s\u001b[39;00m\u001b[38;5;124m-test.csv\u001b[39m\u001b[38;5;124m'\u001b[39m \u001b[38;5;241m%\u001b[39m (config[\u001b[38;5;124m'\u001b[39m\u001b[38;5;124mvariable\u001b[39m\u001b[38;5;124m'\u001b[39m])\n\u001b[1;32m---> 19\u001b[0m train, val, test \u001b[38;5;241m=\u001b[39m \u001b[43mcreate_datasets\u001b[49m\u001b[43m(\u001b[49m\u001b[43mtrain_path\u001b[49m\u001b[43m,\u001b[49m\u001b[43m \u001b[49m\u001b[43mtest_path\u001b[49m\u001b[43m,\u001b[49m\u001b[43m \u001b[49m\u001b[43mconfig\u001b[49m\u001b[43m[\u001b[49m\u001b[38;5;124;43m'\u001b[39;49m\u001b[38;5;124;43moutput_size\u001b[39;49m\u001b[38;5;124;43m'\u001b[39;49m\u001b[43m]\u001b[49m\u001b[43m)\u001b[49m\n\u001b[0;32m     21\u001b[0m dataset \u001b[38;5;241m=\u001b[39m SeriesDataset(train, val, test, info, config[\u001b[38;5;124m'\u001b[39m\u001b[38;5;124mvariable\u001b[39m\u001b[38;5;124m'\u001b[39m], config[\u001b[38;5;124m'\u001b[39m\u001b[38;5;124mchop_val\u001b[39m\u001b[38;5;124m'\u001b[39m], config[\u001b[38;5;124m'\u001b[39m\u001b[38;5;124mdevice\u001b[39m\u001b[38;5;124m'\u001b[39m])\n\u001b[0;32m     22\u001b[0m dataloader \u001b[38;5;241m=\u001b[39m DataLoader(dataset, batch_size\u001b[38;5;241m=\u001b[39mconfig[\u001b[38;5;124m'\u001b[39m\u001b[38;5;124mbatch_size\u001b[39m\u001b[38;5;124m'\u001b[39m], shuffle\u001b[38;5;241m=\u001b[39m\u001b[38;5;28;01mTrue\u001b[39;00m)\n",
      "File \u001b[1;32mC:\\Users/lawre/OneDrive/Documents/GitHub/ESRNN-GPU\\es_rnn\\data_loading.py:40\u001b[0m, in \u001b[0;36mcreate_datasets\u001b[1;34m(train_file_location, test_file_location, output_size)\u001b[0m\n\u001b[0;32m     39\u001b[0m \u001b[38;5;28;01mdef\u001b[39;00m \u001b[38;5;21mcreate_datasets\u001b[39m(train_file_location, test_file_location, output_size):\n\u001b[1;32m---> 40\u001b[0m     train \u001b[38;5;241m=\u001b[39m \u001b[43mread_file\u001b[49m\u001b[43m(\u001b[49m\u001b[43mtrain_file_location\u001b[49m\u001b[43m)\u001b[49m\n\u001b[0;32m     41\u001b[0m     test \u001b[38;5;241m=\u001b[39m read_file(test_file_location)\n\u001b[0;32m     42\u001b[0m     val \u001b[38;5;241m=\u001b[39m create_val_set(train, output_size)\n",
      "File \u001b[1;32mC:\\Users/lawre/OneDrive/Documents/GitHub/ESRNN-GPU\\es_rnn\\data_loading.py:19\u001b[0m, in \u001b[0;36mread_file\u001b[1;34m(file_location)\u001b[0m\n\u001b[0;32m     16\u001b[0m     series\u001b[38;5;241m.\u001b[39mappend(np\u001b[38;5;241m.\u001b[39marray([\u001b[38;5;28mfloat\u001b[39m(j) \u001b[38;5;28;01mfor\u001b[39;00m j \u001b[38;5;129;01min\u001b[39;00m row[\u001b[38;5;241m1\u001b[39m:] \u001b[38;5;28;01mif\u001b[39;00m j \u001b[38;5;241m!=\u001b[39m \u001b[38;5;124m\"\u001b[39m\u001b[38;5;124m\"\u001b[39m]))\n\u001b[0;32m     17\u001b[0m     ids\u001b[38;5;241m.\u001b[39mappend(row[\u001b[38;5;241m0\u001b[39m])\n\u001b[1;32m---> 19\u001b[0m series \u001b[38;5;241m=\u001b[39m \u001b[43mnp\u001b[49m\u001b[38;5;241;43m.\u001b[39;49m\u001b[43marray\u001b[49m\u001b[43m(\u001b[49m\u001b[43mseries\u001b[49m\u001b[43m)\u001b[49m\n\u001b[0;32m     20\u001b[0m \u001b[38;5;28;01mreturn\u001b[39;00m series\n",
      "\u001b[1;31mValueError\u001b[0m: setting an array element with a sequence. The requested array has an inhomogeneous shape after 1 dimensions. The detected shape was (23000,) + inhomogeneous part."
     ]
    }
   ],
   "source": [
    "import pandas as pd\n",
    "import tensorflow as tf\n",
    "from torch.utils.data import DataLoader\n",
    "from es_rnn.data_loading import create_datasets, SeriesDataset\n",
    "from es_rnn.config import get_config\n",
    "from es_rnn.trainer import ESRNNTrainer\n",
    "from es_rnn.model import ESRNN\n",
    "import time\n",
    "\n",
    "print('loading config')\n",
    "config = get_config('Yearly')\n",
    "\n",
    "print('loading data')\n",
    "info = pd.read_csv(root + 'data/m4/M4-info.csv')\n",
    "\n",
    "train_path = root + 'data/m4/Train/%s-train.csv' % (config['variable'])\n",
    "test_path = root + 'data/m4/Test/%s-test.csv' % (config['variable'])\n",
    "\n",
    "train, val, test = create_datasets(train_path, test_path, config['output_size'])\n",
    "\n",
    "dataset = SeriesDataset(train, val, test, info, config['variable'], config['chop_val'], config['device'])\n",
    "dataloader = DataLoader(dataset, batch_size=config['batch_size'], shuffle=True)\n",
    "\n",
    "run_id = str(int(time.time()))\n",
    "model = ESRNN(num_series=len(dataset), config=config)\n",
    "tr = ESRNNTrainer(model, dataloader, run_id, config, ohe_headers=dataset.dataInfoCatHeaders)\n",
    "tr.train_epochs()\n"
   ]
  },
  {
   "cell_type": "code",
   "execution_count": 6,
   "id": "9fab2bcc",
   "metadata": {},
   "outputs": [
    {
     "data": {
      "text/plain": [
       "6"
      ]
     },
     "execution_count": 6,
     "metadata": {},
     "output_type": "execute_result"
    }
   ],
   "source": [
    "config['output_size']"
   ]
  }
 ],
 "metadata": {
  "kernelspec": {
   "display_name": "esrnn2",
   "language": "python",
   "name": "esrnn2"
  },
  "language_info": {
   "codemirror_mode": {
    "name": "ipython",
    "version": 3
   },
   "file_extension": ".py",
   "mimetype": "text/x-python",
   "name": "python",
   "nbconvert_exporter": "python",
   "pygments_lexer": "ipython3",
   "version": "3.9.17"
  },
  "varInspector": {
   "cols": {
    "lenName": 16,
    "lenType": 16,
    "lenVar": 40
   },
   "kernels_config": {
    "python": {
     "delete_cmd_postfix": "",
     "delete_cmd_prefix": "del ",
     "library": "var_list.py",
     "varRefreshCmd": "print(var_dic_list())"
    },
    "r": {
     "delete_cmd_postfix": ") ",
     "delete_cmd_prefix": "rm(",
     "library": "var_list.r",
     "varRefreshCmd": "cat(var_dic_list()) "
    }
   },
   "types_to_exclude": [
    "module",
    "function",
    "builtin_function_or_method",
    "instance",
    "_Feature"
   ],
   "window_display": false
  }
 },
 "nbformat": 4,
 "nbformat_minor": 5
}
