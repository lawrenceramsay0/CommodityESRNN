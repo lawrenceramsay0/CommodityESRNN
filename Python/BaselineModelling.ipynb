{
 "cells": [
  {
   "cell_type": "markdown",
   "id": "a6ece6e1",
   "metadata": {},
   "source": [
    "## Set up"
   ]
  },
  {
   "cell_type": "code",
   "execution_count": 2,
   "id": "40dbc437",
   "metadata": {},
   "outputs": [],
   "source": [
    "%matplotlib inline\n",
    "import pandas as pd\n",
    "import numpy as np\n",
    "import itertools\n",
    "import time\n",
    "import statsmodels.api as sm\n",
    "import matplotlib.pyplot as plt\n",
    "import torch\n",
    "from torch import nn\n",
    "import skorch\n",
    "import math\n",
    "from sklearn.metrics import mean_squared_error\n",
    "from skopt import BayesSearchCV\n",
    "from torch.nn.utils import prune\n",
    "from datetime import date\n",
    "from datetime import datetime, timedelta\n",
    "import os\n",
    "import seaborn as sns\n",
    "\n",
    "# from ESRNN import ESRNN\n",
    "# from ESRNN.utils_evaluation import evaluate_prediction_owa\n",
    "# from ESRNN.utils_visualization import plot_grid_prediction\n",
    "\n",
    "root = os.getcwd()[-0:-7]\n",
    "root\n",
    "\n",
    "read_vif_values = False\n",
    "run_hyper_params = False\n",
    "train_lstm = False\n",
    "train_statistical = True\n",
    "forecast_start_date = date(2023, 1, 1)\n",
    "\n",
    "y_name = \"tgt_crd\"\n",
    "y_remove = \"tgt_iron\"\n",
    "model_name = \"lstm\"\n",
    "\n",
    "dat = pd.read_csv(root + \"\\\\data\\\\dat.csv\")\n",
    "dat = dat.set_index(\"dte\")\n",
    "dat = dat.dropna() #data is pre-cleaned no no NA's should be present. This is to make sure.\n",
    "dates = dat.iloc[:-100]\n",
    "dates = dates[(dates.index >= str(forecast_start_date))].index\n",
    "# dat = dat.drop(\"tgt_iron\", axis=1)#.astype('float64')\n",
    "dat.shape\n",
    "\n",
    "import sys\n",
    "sys.path.append('ESRNN-GPU')"
   ]
  },
  {
   "cell_type": "code",
   "execution_count": 3,
   "id": "3349cc50",
   "metadata": {},
   "outputs": [
    {
     "name": "stdout",
     "output_type": "stream",
     "text": [
      "{\n",
      "  \"shell_port\": 64766,\n",
      "  \"iopub_port\": 64767,\n",
      "  \"stdin_port\": 64768,\n",
      "  \"control_port\": 64770,\n",
      "  \"hb_port\": 64769,\n",
      "  \"ip\": \"127.0.0.1\",\n",
      "  \"key\": \"66b3e6b3-e53f8f24f9a31395dec5f47e\",\n",
      "  \"transport\": \"tcp\",\n",
      "  \"signature_scheme\": \"hmac-sha256\",\n",
      "  \"kernel_name\": \"gpu2\"\n",
      "}\n",
      "\n",
      "Paste the above JSON into a file, and connect with:\n",
      "    $> jupyter <app> --existing <file>\n",
      "or, if you are local, you can connect with just:\n",
      "    $> jupyter <app> --existing kernel-b496ab78-6e93-4aa3-9d93-bd72f93b6baf.json\n",
      "or even just:\n",
      "    $> jupyter <app> --existing\n",
      "if this is the most recent Jupyter kernel you have started.\n"
     ]
    }
   ],
   "source": [
    "%connect_info"
   ]
  },
  {
   "cell_type": "markdown",
   "id": "6960f9dc",
   "metadata": {
    "heading_collapsed": true,
    "jp-MarkdownHeadingCollapsed": true
   },
   "source": [
    "## Kernal Check"
   ]
  },
  {
   "cell_type": "code",
   "execution_count": 10,
   "id": "b74fe027",
   "metadata": {
    "hidden": true
   },
   "outputs": [
    {
     "data": {
      "text/plain": [
       "[PhysicalDevice(name='/physical_device:CPU:0', device_type='CPU')]"
      ]
     },
     "execution_count": 10,
     "metadata": {},
     "output_type": "execute_result"
    }
   ],
   "source": [
    "import tensorflow as tf\n",
    "from tensorflow.python.client import device_lib\n",
    "tf.config.list_physical_devices()"
   ]
  },
  {
   "cell_type": "code",
   "execution_count": 11,
   "id": "f372c98e",
   "metadata": {
    "hidden": true
   },
   "outputs": [
    {
     "data": {
      "text/plain": [
       "[name: \"/device:CPU:0\"\n",
       " device_type: \"CPU\"\n",
       " memory_limit: 268435456\n",
       " locality {\n",
       " }\n",
       " incarnation: 7676120182123176638\n",
       " xla_global_id: -1]"
      ]
     },
     "execution_count": 11,
     "metadata": {},
     "output_type": "execute_result"
    }
   ],
   "source": [
    "device_lib.list_local_devices()"
   ]
  },
  {
   "cell_type": "code",
   "execution_count": 12,
   "id": "8da0956a",
   "metadata": {
    "hidden": true
   },
   "outputs": [
    {
     "name": "stdout",
     "output_type": "stream",
     "text": [
      "Nvidia GPU detected!\n",
      "False\n",
      "True\n"
     ]
    }
   ],
   "source": [
    "import subprocess\n",
    "\n",
    "try:\n",
    "    subprocess.check_output('nvidia-smi')\n",
    "    print('Nvidia GPU detected!')\n",
    "except Exception: # this command not being found can raise quite a few different errors depending on the configuration\n",
    "    print('No Nvidia GPU in system!')\n",
    "\n",
    "print(torch.cuda.is_available())\n",
    "print(torch.backends.cudnn.enabled)"
   ]
  },
  {
   "cell_type": "code",
   "execution_count": 13,
   "id": "bb7141b0",
   "metadata": {
    "hidden": true
   },
   "outputs": [],
   "source": [
    "#torch.set_default_device('cuda')"
   ]
  },
  {
   "cell_type": "markdown",
   "id": "e75c63f8",
   "metadata": {
    "jp-MarkdownHeadingCollapsed": true
   },
   "source": [
    "## Funtions"
   ]
  },
  {
   "cell_type": "markdown",
   "id": "14f39fd8",
   "metadata": {},
   "source": [
    "https://towardsdatascience.com/building-rnn-lstm-and-gru-for-time-series-using-pytorch-a46e5b094e7b"
   ]
  },
  {
   "cell_type": "code",
   "execution_count": 24,
   "id": "b48a6723-ac9c-4671-a996-e9f0dba11c8f",
   "metadata": {},
   "outputs": [],
   "source": [
    "from train_test_split_custom import feature_label_split, train_val_test_split, train_val_test_split_date"
   ]
  },
  {
   "cell_type": "code",
   "execution_count": 15,
   "id": "a4b5bd05",
   "metadata": {},
   "outputs": [],
   "source": [
    "# #Train Test Split\n",
    "# from sklearn.model_selection import train_test_split\n",
    "\n",
    "# def feature_label_split(df, target_col):\n",
    "#     y = df[[target_col]]\n",
    "#     X = df.drop(columns=[target_col])\n",
    "#     return X, y\n",
    "\n",
    "# def train_val_test_split(df, target_col, test_ratio):\n",
    "#     val_ratio = test_ratio / (1 - test_ratio)\n",
    "#     X, y = feature_label_split(df, target_col)\n",
    "#     X_train, X_val, y_train, y_val = train_test_split(X, y, test_size=val_ratio, shuffle=False)\n",
    "#     X_train, X_test, y_train, y_test = train_test_split(X_train, y_train, test_size=test_ratio, shuffle=False)\n",
    "#     return X_train, X_val, X_test, y_train, y_val, y_test\n",
    "\n",
    "# def train_val_test_split_date(df, target_col, dte, val_days = 50, test_days = 50):\n",
    "#     val_date = dte + timedelta(days=val_days)\n",
    "#     test_max_date = val_date + timedelta(days=test_days)\n",
    "\n",
    "#     X_train = df[df.index <= str(dte)]\n",
    "#     X_val = df[(df.index > str(dte)) & (df.index <= str(val_date))]\n",
    "#     X_test = df[(df.index > str(val_date)) & (df.index <= str(test_max_date))]\n",
    "\n",
    "#     X_train, y_train = feature_label_split(X_train, target_col)\n",
    "#     X_val, y_val = feature_label_split(X_val, target_col)\n",
    "#     X_test, y_test = feature_label_split(X_test, target_col)\n",
    "    \n",
    "#     return X_train, X_val, X_test, y_train, y_val, y_test"
   ]
  },
  {
   "cell_type": "markdown",
   "id": "d4af6f4a",
   "metadata": {},
   "source": [
    "https://www.kaggle.com/code/taronzakaryan/predicting-stock-price-using-lstm-model-pytorch/notebook"
   ]
  },
  {
   "cell_type": "code",
   "execution_count": 16,
   "id": "3b87067f",
   "metadata": {},
   "outputs": [],
   "source": [
    "#Subset Selection\n",
    "def processSubset(feature_set, X, y):\n",
    "    # Fit model on feature_set and calculate RSS\n",
    "    model = sm.OLS(y,X[list(feature_set)])\n",
    "    regr = model.fit()\n",
    "    RSS = ((regr.predict(X[list(feature_set)]) - y) ** 2).sum()\n",
    "    return {\"model\":regr, \"RSS\":RSS}\n",
    "\n",
    "def forward(predictors, X, y):\n",
    "\n",
    "    # Pull out predictors we still need to process\n",
    "    remaining_predictors = [p for p in X.columns if p not in predictors]\n",
    "    \n",
    "    tic = time.time()\n",
    "    \n",
    "    results = []\n",
    "    \n",
    "    for p in remaining_predictors:\n",
    "        results.append(processSubset(predictors+[p], X, y))\n",
    "    \n",
    "    # Wrap everything up in a nice dataframe\n",
    "    models = pd.DataFrame(results)\n",
    "    \n",
    "    # Choose the model with the highest RSS\n",
    "    best_model = models.loc[models['RSS'].argmin()]\n",
    "    \n",
    "    toc = time.time()\n",
    "    print(\"Processed \", models.shape[0], \"models on\", len(predictors)+1, \"predictors in\", (toc-tic), \"seconds.\")\n",
    "    \n",
    "    # Return the best model, along with some other useful information about the model\n",
    "    return best_model"
   ]
  },
  {
   "cell_type": "code",
   "execution_count": 17,
   "id": "30068f66",
   "metadata": {},
   "outputs": [],
   "source": [
    "def vif_correlation_subset(X_train, X_test, X_val, read_vif_values = False, verbose = True):\n",
    "\n",
    "    from statsmodels.stats.outliers_influence import variance_inflation_factor\n",
    "\n",
    "    if read_vif_values:\n",
    "        X_train_vif = pd.read_csv(\"X_train_vif.csv\", index_col = 0)\n",
    "        X_train = X_train[X_train_vif.columns]  \n",
    "        X_test = X_test[X_train_vif.columns]        \n",
    "        X_val = X_val[X_train_vif.columns] \n",
    "\n",
    "    else:  \n",
    "        # Create correlation matrix\n",
    "        corr_matrix = X_train.corr().abs()\n",
    "\n",
    "        # Select upper triangle of correlation matrix\n",
    "        upper = corr_matrix.where(np.triu(np.ones(corr_matrix.shape), k=1).astype(bool))\n",
    "\n",
    "        # Find features with correlation greater than 0.95\n",
    "        to_drop = [column for column in upper.columns if any(upper[column] > 0.95)]\n",
    "\n",
    "        # Drop features \n",
    "        X_train.drop(to_drop, axis=1, inplace=True)\n",
    "\n",
    "        #https://www.geeksforgeeks.org/detecting-multicollinearity-with-vif-python/\n",
    "\n",
    "        X_train_vif = X_train\n",
    "        # vif_cols = list(X_train.columns)\n",
    "        # vif_values = X_train.values\n",
    "\n",
    "        for index, col in enumerate(X_train.columns):\n",
    "            if verbose:\n",
    "                print(col)\n",
    "                print(index)\n",
    "\n",
    "            vif_data = pd.DataFrame()\n",
    "            vif_data[\"VIF\"] = [variance_inflation_factor(X_train_vif.values, i)\n",
    "                              for i in range(len(X_train_vif.columns))]\n",
    "            vif_data[\"feature\"] = X_train_vif.columns  \n",
    "\n",
    "            feature = vif_data[vif_data[\"feature\"] == col]\n",
    "            if verbose:\n",
    "                print(feature)\n",
    "\n",
    "            if feature[\"VIF\"].values[0] > 10:\n",
    "                #vif_cols.remove(feature[\"feature\"].values[0])  \n",
    "                X_train = X_train.drop([feature[\"feature\"].values[0]], axis=1)\n",
    "                if verbose:\n",
    "                    print(\"Removing \" + feature[\"feature\"].values[0])\n",
    "                    #print(X_Train)\n",
    "\n",
    "            X_train.head(5).to_csv(\"X_train_vif.csv\")\n",
    " \n",
    "        X_test = X_test[X_train.columns]        \n",
    "        X_val = X_val[X_train.columns] \n",
    "    \n",
    "    return(X_train, X_test, X_val)"
   ]
  },
  {
   "cell_type": "code",
   "execution_count": 18,
   "id": "19377d72",
   "metadata": {},
   "outputs": [],
   "source": [
    "def fwd_subset(X_train, X_test, X_val, y_train, y_name, verbose = True, read_subset_values = False):\n",
    "    \n",
    "    if read_subset_values:\n",
    "        X_train_subset1 = pd.read_csv(\"X_train_subset.csv\", index_col = 0)\n",
    "        X_train_subset = X_train[X_train_subset1.columns]  \n",
    "        X_test_subset = X_test[X_train_subset1.columns]        \n",
    "        X_val_subset = X_val[X_train_subset1.columns] \n",
    "        from statsmodels.regression.linear_model import OLSResults\n",
    "        reg_model = OLSResults.load(\"reg_model.pickle\")\n",
    "        subsets = pd.read_csv(\"subsets.csv\", index_col = 0)\n",
    "\n",
    "    else:\n",
    "        models_fwd = pd.DataFrame(columns=[\"RSS\", \"model\"])\n",
    "\n",
    "        tic = time.time()\n",
    "        predictors = []\n",
    "\n",
    "        for i in range(1,len(X_train.columns)+1):    \n",
    "            models_fwd.loc[i] = forward(predictors, X_train, y_train[y_name])\n",
    "            predictors = models_fwd.loc[i][\"model\"].model.exog_names\n",
    "\n",
    "        toc = time.time()\n",
    "\n",
    "        if verbose:\n",
    "            print(\"Total elapsed time:\", (toc-tic), \"seconds.\")\n",
    "\n",
    "        d = []\n",
    "        for i in range(1, len(models_fwd)):\n",
    "            d.append({\"model\" : i, \"r_sq\": models_fwd.loc[i, \"model\"].rsquared})\n",
    "\n",
    "        subsets = pd.DataFrame(d)\n",
    "        subsets[\"diff\"] = subsets[\"r_sq\"].diff()\n",
    "\n",
    "        pred_subset = min(subsets[subsets[\"diff\"] < 0.0001].index)\n",
    "        pred_subset\n",
    "\n",
    "        reg_model = models_fwd.loc[pred_subset, \"model\"]\n",
    "        if verbose:\n",
    "            print(models_fwd.loc[pred_subset, \"model\"].summary())\n",
    "\n",
    "        subset_cols = reg_model.params.index.tolist()\n",
    "        #'quant_bef_low_high_range', taken out due to high VIF\n",
    "        X_train_subset = X_train[subset_cols]\n",
    "        X_test_subset = X_test[subset_cols]\n",
    "        X_val_subset = X_val[subset_cols]\n",
    "        \n",
    "        reg_model.save(\"reg_model.pickle\")\n",
    "        X_train_subset.head(5).to_csv(\"X_train_subset.csv\")\n",
    "        subsets.to_csv(\"subsets.csv\")\n",
    "    \n",
    "    return(X_train_subset, X_test_subset, X_val_subset, reg_model, subsets)"
   ]
  },
  {
   "cell_type": "markdown",
   "id": "ace26545-12a2-4263-b42a-a2f876459e75",
   "metadata": {
    "jp-MarkdownHeadingCollapsed": true
   },
   "source": [
    "## Models"
   ]
  },
  {
   "cell_type": "code",
   "execution_count": 19,
   "id": "d43509e4",
   "metadata": {},
   "outputs": [],
   "source": [
    "# Build LSTM model\n",
    "#####################\n",
    "# Here we define our model as a class\n",
    "class LSTM(nn.Module):\n",
    "    def __init__(self, input_dim, hidden_dim, num_layers, output_dim, dropout_prob):\n",
    "        super(LSTM, self).__init__()\n",
    "        # Hidden dimensions\n",
    "        self.hidden_dim = hidden_dim\n",
    "\n",
    "        # Number of hidden layers\n",
    "        self.num_layers = num_layers\n",
    "\n",
    "        # batch_first=True causes input/output tensors to be of shape\n",
    "        # (batch_dim, seq_dim, feature_dim)\n",
    "        self.lstm = nn.LSTM(input_dim, hidden_dim, num_layers, batch_first=True, dropout=dropout_prob)\n",
    "\n",
    "        # Readout layer\n",
    "        self.fc = nn.Linear(hidden_dim, output_dim)\n",
    "        \n",
    "        self.relu = nn.ReLU()\n",
    "\n",
    "    def forward(self, x):\n",
    "        # Initialize hidden state with zeros\n",
    "        h0 = torch.zeros(self.num_layers, x.size(0), self.hidden_dim).requires_grad_()\n",
    "\n",
    "        # Initialize cell state\n",
    "        c0 = torch.zeros(self.num_layers, x.size(0), self.hidden_dim).requires_grad_()\n",
    "\n",
    "        # We need to detach as we are doing truncated backpropagation through time (BPTT)\n",
    "        # If we don't, we'll backprop all the way to the start even after going through another batch\n",
    "        out, (hn, cn) = self.lstm(x, (h0.detach(), c0.detach()))\n",
    "\n",
    "        # Index hidden state of last time step\n",
    "        # out.size() --> 100, 32, 100\n",
    "        # out[:, -1, :] --> 100, 100 --> just want last time step hidden states! \n",
    "        out = self.fc(out[:, -1, :]) \n",
    "        # out.size() --> 100, 10\n",
    "        return out\n",
    "    "
   ]
  },
  {
   "cell_type": "code",
   "execution_count": 20,
   "id": "8d4bbc0f",
   "metadata": {},
   "outputs": [],
   "source": [
    "class RNN(nn.Module):\n",
    "    def __init__(self, input_dim, hidden_dim, layer_dim, output_dim, dropout_prob):\n",
    "        super(RNN, self).__init__()\n",
    "\n",
    "        # Defining the number of layers and the nodes in each layer\n",
    "        self.hidden_dim = hidden_dim\n",
    "        self.layer_dim = layer_dim\n",
    "\n",
    "        # RNN layers\n",
    "        self.rnn = nn.RNN(\n",
    "            input_dim, hidden_dim, layer_dim, batch_first=True, dropout=dropout_prob\n",
    "        )\n",
    "        # Fully connected layer\n",
    "        self.fc = nn.Linear(hidden_dim, output_dim)\n",
    "        \n",
    "        self.relu = nn.ReLU()\n",
    "\n",
    "    def forward(self, x):\n",
    "        # Initializing hidden state for first input with zeros\n",
    "        h0 = torch.zeros(self.layer_dim, x.size(0), self.hidden_dim).requires_grad_()\n",
    "\n",
    "        # Forward propagation by passing in the input and hidden state into the model\n",
    "        out, h0 = self.rnn(x, h0.detach())\n",
    "\n",
    "        # Reshaping the outputs in the shape of (batch_size, seq_length, hidden_size)\n",
    "        # so that it can fit into the fully connected layer\n",
    "        out = out[:, -1, :]\n",
    "\n",
    "        # Convert the final state to our desired output shape (batch_size, output_dim)\n",
    "        out = self.fc(out)\n",
    "        return out"
   ]
  },
  {
   "cell_type": "code",
   "execution_count": 21,
   "id": "aad00d1a",
   "metadata": {},
   "outputs": [],
   "source": [
    "\n",
    "class GRU(nn.Module):\n",
    "    def __init__(self, input_dim, hidden_dim, num_layers, output_dim):\n",
    "        super(GRU, self).__init__()\n",
    "        # Hidden dimensions\n",
    "        self.hidden_dim = hidden_dim\n",
    "\n",
    "        # Number of hidden layers\n",
    "        self.num_layers = num_layers\n",
    "\n",
    "        # batch_first=True causes input/output tensors to be of shape\n",
    "        # (batch_dim, seq_dim, feature_dim)\n",
    "        self.gru = nn.GRU(input_dim, hidden_dim, num_layers, batch_first=True)\n",
    "\n",
    "        # Readout layer\n",
    "        self.fc = nn.Linear(hidden_dim, output_dim)\n",
    "\n",
    "    def forward(self, x):\n",
    "        # Initialize hidden state with zeros\n",
    "        h0 = torch.zeros(self.num_layers, x.size(0), self.hidden_dim).requires_grad_()\n",
    "\n",
    "        # Initialize cell state\n",
    "        c0 = torch.zeros(self.num_layers, x.size(0), self.hidden_dim).requires_grad_()\n",
    "\n",
    "        # We need to detach as we are doing truncated backpropagation through time (BPTT)\n",
    "        # If we don't, we'll backprop all the way to the start even after going through another batch\n",
    "        out, (hn, cn) = self.gru(x, (h0.detach()))\n",
    "\n",
    "        # Index hidden state of last time step\n",
    "        # out.size() --> 100, 32, 100\n",
    "        # out[:, -1, :] --> 100, 100 --> just want last time step hidden states! \n",
    "        out = self.fc(out[:, -1, :]) \n",
    "        # out.size() --> 100, 10\n",
    "        return out"
   ]
  },
  {
   "cell_type": "code",
   "execution_count": 22,
   "id": "5ec1c0b9",
   "metadata": {},
   "outputs": [],
   "source": [
    "def prune_model_l1_unstructured(model, layer_type, proportion):\n",
    "    for module in model.modules():\n",
    "        if isinstance(module, layer_type):\n",
    "            prune.l1_unstructured(module, 'weight', proportion)\n",
    "            prune.remove(module, 'weight')\n",
    "    return model"
   ]
  },
  {
   "cell_type": "markdown",
   "id": "25bac5a2",
   "metadata": {
    "heading_collapsed": true,
    "jp-MarkdownHeadingCollapsed": true
   },
   "source": [
    "## Preparation"
   ]
  },
  {
   "cell_type": "markdown",
   "id": "f9fc090b",
   "metadata": {
    "hidden": true
   },
   "source": [
    "#### Processing"
   ]
  },
  {
   "cell_type": "code",
   "execution_count": 23,
   "id": "8e5b0034",
   "metadata": {
    "hidden": true
   },
   "outputs": [
    {
     "ename": "NameError",
     "evalue": "name 'train_val_test_split_date' is not defined",
     "output_type": "error",
     "traceback": [
      "Traceback \u001b[1;36m(most recent call last)\u001b[0m:\n",
      "\u001b[1;36m  Cell \u001b[1;32mIn[23], line 3\u001b[1;36m\n\u001b[1;33m    X_train, X_val, X_test, y_train, y_val, y_test = train_val_test_split_date(dat, y_name, dte = forecast_start_date)\u001b[1;36m\n",
      "\u001b[1;31mNameError\u001b[0m\u001b[1;31m:\u001b[0m name 'train_val_test_split_date' is not defined\n"
     ]
    }
   ],
   "source": [
    "# #Train test validation splits\n",
    "# #X_train, X_val, X_test, y_train, y_val, y_test = train_val_test_split(ob, y_name, 0.2)\n",
    "X_train, X_val, X_test, y_train, y_val, y_test = train_val_test_split_date(dat, y_name, dte = forecast_start_date)\n",
    "# y_val_low = y_val\n",
    "# print(\"X_train: \" + str(X_train.shape) + \" \" + str(min(X_train.index)) + \">\" + str(max(X_train.index)))\n",
    "# print(\"X_test: \" + str(X_test.shape)+ \" \" + str(min(X_test.index)) + \">\" + str(max(X_test.index)))\n",
    "# print(\"X_val: \" + str(X_val.shape)+ \" \" + str(min(X_val.index)) + \">\" + str(max(X_val.index)))\n",
    "# print(\"y_train: \" + str(y_train.shape)+ \" \" + str(min(y_train.index)) + \">\" + str(max(y_train.index)))\n",
    "# print(\"y_test: \" + str(y_test.shape)+ \" \" + str(min(y_test.index)) + \">\" + str(max(y_test.index)))\n",
    "# print(\"y_val: \" + str(y_val.shape)+ \" \" + str(min(y_val.index)) + \">\" + str(max(y_val.index)))"
   ]
  },
  {
   "cell_type": "code",
   "execution_count": null,
   "id": "3d56241c",
   "metadata": {
    "hidden": true
   },
   "outputs": [],
   "source": [
    "# import datetime\n",
    "# forecast_start_date + datetime.timedelta(days=1)"
   ]
  },
  {
   "cell_type": "markdown",
   "id": "7b5d711d",
   "metadata": {
    "hidden": true
   },
   "source": [
    "### Exploration"
   ]
  },
  {
   "cell_type": "markdown",
   "id": "de4f8d63",
   "metadata": {
    "hidden": true
   },
   "source": [
    "Data visualisation check, although in quantile form the data has an odd structure. "
   ]
  },
  {
   "cell_type": "code",
   "execution_count": null,
   "id": "7253a63d",
   "metadata": {
    "hidden": true
   },
   "outputs": [],
   "source": [
    "fig, ax = plt.subplots()\n",
    "ax.plot(y_train.index, y_train.values)\n",
    "ax.grid()\n",
    "plt.xticks(np.arange(0,y_train.shape[0],math.floor(y_train.shape[0]/4)))\n",
    "plt.show()"
   ]
  },
  {
   "cell_type": "markdown",
   "id": "290ccd01",
   "metadata": {
    "hidden": true
   },
   "source": [
    "Data against one of the key features yesterdays mean rolled value in quantile form."
   ]
  },
  {
   "cell_type": "code",
   "execution_count": null,
   "id": "68b4c7b4",
   "metadata": {
    "hidden": true
   },
   "outputs": [],
   "source": [
    "fig, ax = plt.subplots()\n",
    "ax.scatter(X_train['WB_CRUDE_BRENT'], y_train)\n",
    "ax.grid()\n",
    "plt.show()"
   ]
  },
  {
   "cell_type": "code",
   "execution_count": null,
   "id": "b7fafa26",
   "metadata": {
    "hidden": true
   },
   "outputs": [],
   "source": [
    "import seaborn as sns\n",
    "# sns.pairplot(ob)"
   ]
  },
  {
   "cell_type": "markdown",
   "id": "5f35a408",
   "metadata": {
    "hidden": true
   },
   "source": [
    "Look at correlation of the key feature against target "
   ]
  },
  {
   "cell_type": "code",
   "execution_count": null,
   "id": "c425ece3",
   "metadata": {
    "hidden": true
   },
   "outputs": [],
   "source": [
    "# calculate the spearmans's correlation between two variables\n",
    "from numpy.random import randn\n",
    "from numpy.random import seed\n",
    "from scipy.stats import spearmanr\n",
    "# seed random number generator\n",
    "# calculate spearman's correlation\n",
    "# corr, _ = spearmanr(X_train['quant_bef_Last_Rolled'], y_train)\n",
    "# print('Spearmans correlation: %.3f' % corr)"
   ]
  },
  {
   "cell_type": "markdown",
   "id": "8415bf4a",
   "metadata": {
    "heading_collapsed": true,
    "hidden": true
   },
   "source": [
    "### VIF"
   ]
  },
  {
   "cell_type": "markdown",
   "id": "f27f07de",
   "metadata": {
    "heading_collapsed": true,
    "hidden": true
   },
   "source": [
    "### Subsetting"
   ]
  },
  {
   "cell_type": "markdown",
   "id": "a4ae48ba",
   "metadata": {
    "hidden": true
   },
   "source": [
    "http://www.science.smith.edu/~jcrouser/SDS293/labs/lab8-py.html"
   ]
  },
  {
   "cell_type": "markdown",
   "id": "9b957669",
   "metadata": {
    "hidden": true
   },
   "source": [
    " Create a subset of the best features to feed into the networks to speed up training time."
   ]
  },
  {
   "cell_type": "code",
   "execution_count": null,
   "id": "b568e0d3",
   "metadata": {
    "hidden": true,
    "scrolled": true
   },
   "outputs": [],
   "source": [
    "# models_fwd = pd.DataFrame(columns=[\"RSS\", \"model\"])\n",
    "\n",
    "# tic = time.time()\n",
    "# predictors = []\n",
    "\n",
    "# for i in range(1,len(X_train.columns)+1):    \n",
    "#     models_fwd.loc[i] = forward(predictors, X_train, y_train[y_name])\n",
    "#     predictors = models_fwd.loc[i][\"model\"].model.exog_names\n",
    "\n",
    "# toc = time.time()\n",
    "# print(\"Total elapsed time:\", (toc-tic), \"seconds.\")"
   ]
  },
  {
   "cell_type": "code",
   "execution_count": null,
   "id": "4220e220",
   "metadata": {
    "hidden": true
   },
   "outputs": [],
   "source": [
    "# d = []\n",
    "# for i in range(1, len(models_fwd)):\n",
    "#     d.append({\"model\" : i, \"r_sq\": models_fwd.loc[i, \"model\"].rsquared})\n",
    "    \n",
    "# subsets = pd.DataFrame(d)\n",
    "# subsets[\"diff\"] = subsets[\"r_sq\"].diff()\n",
    "\n",
    "# pred_subset = min(subsets[subsets[\"diff\"] < 0.0001].index)\n",
    "# pred_subset"
   ]
  },
  {
   "cell_type": "code",
   "execution_count": null,
   "id": "bae2f4e4",
   "metadata": {
    "hidden": true
   },
   "outputs": [],
   "source": [
    "# plt.plot(subsets[\"r_sq\"], label=\"r squared\")\n",
    "# plt.legend()\n",
    "# plt.show()"
   ]
  },
  {
   "cell_type": "code",
   "execution_count": null,
   "id": "8b7d7227",
   "metadata": {
    "hidden": true,
    "scrolled": true
   },
   "outputs": [],
   "source": [
    "# reg_model_low = models_fwd.loc[pred_subset, \"model\"]\n",
    "# print(models_fwd.loc[pred_subset, \"model\"].summary())"
   ]
  },
  {
   "cell_type": "code",
   "execution_count": null,
   "id": "9dd1eeb3",
   "metadata": {
    "hidden": true
   },
   "outputs": [],
   "source": [
    "# subset_cols = reg_model_low.params.index.tolist()\n",
    "# #'quant_bef_low_high_range', taken out due to high VIF\n",
    "# X_train_subset = X_train[subset_cols]\n",
    "# X_test_subset = X_test[subset_cols]\n",
    "# X_val_subset = X_val[subset_cols]\n",
    "# #Nieve Model\n",
    "# # y_pred_reg_low = reg_model_low.predict(X_val_subset) \n",
    "# # y_pred_reg_low"
   ]
  },
  {
   "cell_type": "markdown",
   "id": "267ce57d",
   "metadata": {
    "hidden": true
   },
   "source": [
    "Recheck on the VIF"
   ]
  },
  {
   "cell_type": "markdown",
   "id": "f8ea17d3",
   "metadata": {
    "hidden": true
   },
   "source": [
    "At this point the X_train_subset or the orginal X_train can be fed into the tensors depending on how one wants to train the networks"
   ]
  },
  {
   "cell_type": "code",
   "execution_count": null,
   "id": "247c354a",
   "metadata": {
    "hidden": true
   },
   "outputs": [],
   "source": [
    "# from sklearn.preprocessing import MinMaxScaler\n",
    "\n",
    "# scaler = MinMaxScaler()\n",
    "# X_train_arr = scaler.fit_transform(X_train_subset)\n",
    "# X_val_arr = scaler.transform(X_val_subset)\n",
    "# X_test_arr = scaler.transform(X_test_subset)\n",
    "\n",
    "# y_train_arr = scaler.fit_transform(y_train)\n",
    "# y_val_arr = scaler.transform(y_val)\n",
    "# y_test_arr = scaler.transform(y_test)\n",
    "\n",
    "# # make training and test sets in torch\n",
    "# X_train_subset_tensor = torch.from_numpy(X_train_arr).type(torch.Tensor)\n",
    "# X_test_subset_tensor = torch.from_numpy(X_test_arr).type(torch.Tensor)\n",
    "# X_val_subset_tensor = torch.from_numpy(X_val_arr).type(torch.Tensor)\n",
    "# y_train_tensor = torch.from_numpy(y_train_arr).type(torch.Tensor)\n",
    "# y_test_tensor = torch.from_numpy(y_test_arr).type(torch.Tensor)\n",
    "# y_val_tensor = torch.from_numpy(y_val_arr).type(torch.Tensor)\n",
    "\n",
    "# X_train_subset_tensor = X_train_subset_tensor[:,:,None]\n",
    "# #y_train_tensor = y_train_tensor[:,None]\n",
    "# X_test_subset_tensor = X_test_subset_tensor[:,:,None]\n",
    "# #y_test_tensor = y_test_tensor[:,None]\n",
    "# X_val_subset_tensor = X_val_subset_tensor[:,:,None]\n",
    "# #y_val_tensor = y_val_tensor[:,None]\n",
    "\n",
    "# print('x_train.shape = ',X_train_subset_tensor.shape)\n",
    "# print('y_train.shape = ',y_train_tensor.shape)\n",
    "# print('x_test.shape = ',X_test_subset_tensor.shape)\n",
    "# print('y_test.shape = ',y_test_tensor.shape)\n",
    "# print('x_val.shape = ',X_val_subset_tensor.shape)\n",
    "# print('y_val.shape = ',y_val_tensor.shape)"
   ]
  },
  {
   "cell_type": "markdown",
   "id": "08a58d8c",
   "metadata": {
    "hidden": true
   },
   "source": [
    "Trains the regression model"
   ]
  },
  {
   "cell_type": "code",
   "execution_count": null,
   "id": "e0cd8025",
   "metadata": {
    "hidden": true
   },
   "outputs": [],
   "source": [
    "# y_pred_train_reg_low = reg_model_low.predict(X_train_arr) \n",
    "# y_pred_test_reg_low = reg_model_low.predict(X_test_arr) \n",
    "# y_pred_val_reg_low = reg_model_low.predict(X_val_arr) \n",
    "\n",
    "# trainScore = math.sqrt(mean_squared_error(y_train, y_pred_train_reg_low))\n",
    "# print('Regression Train Score: %.2f RMSE' % (trainScore))\n",
    "# testScore = math.sqrt(mean_squared_error(y_test, y_pred_test_reg_low))\n",
    "# print('Regression Test Score: %.2f RMSE' % (testScore))\n",
    "# valScore = math.sqrt(mean_squared_error(y_val, y_pred_val_reg_low))\n",
    "# print('Regression Validation Score: %.2f RMSE' % (valScore))"
   ]
  },
  {
   "cell_type": "markdown",
   "id": "34fb30f8",
   "metadata": {
    "heading_collapsed": true,
    "jp-MarkdownHeadingCollapsed": true
   },
   "source": [
    "## Modelling"
   ]
  },
  {
   "cell_type": "markdown",
   "id": "e2bcefd8",
   "metadata": {
    "heading_collapsed": true,
    "jp-MarkdownHeadingCollapsed": true
   },
   "source": [
    "## HyperOpt"
   ]
  },
  {
   "cell_type": "markdown",
   "id": "6bc5fee5",
   "metadata": {
    "hidden": true
   },
   "source": [
    "https://discuss.pytorch.org/t/hyperparameter-using-skorch-how-to-set-some-optimizer-as-parameter/38057"
   ]
  },
  {
   "cell_type": "markdown",
   "id": "fa4f0716",
   "metadata": {
    "hidden": true
   },
   "source": [
    "https://scikit-learn.org/stable/modules/generated/sklearn.model_selection.GridSearchCV.html"
   ]
  },
  {
   "cell_type": "markdown",
   "id": "2c22ba8c",
   "metadata": {
    "hidden": true
   },
   "source": [
    "https://skorch.readthedocs.io/en/stable/regressor.html"
   ]
  },
  {
   "cell_type": "markdown",
   "id": "a01a93f5",
   "metadata": {
    "hidden": true
   },
   "source": [
    "This creates two set of parameters. The outer parameters are fed into the LSTM creation and the inner paramterers are fed into the neural net regressor. Items are added to each of the lists and run for the number of required epochs. Althought it doesnt not produce the best model the epochs are held to 100 to save training time. "
   ]
  },
  {
   "cell_type": "code",
   "execution_count": null,
   "id": "55ac6daa",
   "metadata": {
    "hidden": true
   },
   "outputs": [],
   "source": [
    "from itertools import product\n",
    "outer_params = {\n",
    "        'hidden_dim': [32, 16, 8],\n",
    "        'num_layers': [2,  4],\n",
    "        'dropout_prob': [0.2, 0.4],\n",
    "        'criterion': [torch.nn.L1Loss(), torch.nn.MSELoss()],\n",
    "        'prune':[0.2, 0.4]\n",
    "    }\n",
    "\n",
    "\n",
    "def expand_grid(dictionary):\n",
    "    return(pd.DataFrame([row for row in product(*dictionary.values())], \n",
    "                       columns=dictionary.keys()))\n",
    "\n",
    "outer_params_grid = expand_grid(outer_params).iloc[11]\n",
    "outer_params_grid"
   ]
  },
  {
   "cell_type": "code",
   "execution_count": null,
   "id": "c40a5a39",
   "metadata": {
    "hidden": true
   },
   "outputs": [],
   "source": [
    "#TODO, change to subset tensors which might work better\n",
    "from sklearn.model_selection import GridSearchCV\n",
    "from skorch import NeuralNetRegressor\n",
    "\n",
    "if run_hyper_params == True:\n",
    "    \n",
    "    # #Train test validation splits\n",
    "    y_name = \"tgt_crd\"\n",
    "    X_train, X_val, X_test, y_train, y_val, y_test = train_val_test_split_date(dat, y_name, dte = forecast_start_date)\n",
    "    print(\"X_train: \" + str(X_train.shape) + \" \" + str(min(X_train.index)) + \">\" + str(max(X_train.index)))\n",
    "    print(\"X_test: \" + str(X_test.shape)+ \" \" + str(min(X_test.index)) + \">\" + str(max(X_test.index)))\n",
    "    print(\"X_val: \" + str(X_val.shape)+ \" \" + str(min(X_val.index)) + \">\" + str(max(X_val.index)))\n",
    "    print(\"y_train: \" + str(y_train.shape)+ \" \" + str(min(y_train.index)) + \">\" + str(max(y_train.index)))\n",
    "    print(\"y_test: \" + str(y_test.shape)+ \" \" + str(min(y_test.index)) + \">\" + str(max(y_test.index)))\n",
    "    print(\"y_val: \" + str(y_val.shape)+ \" \" + str(min(y_val.index)) + \">\" + str(max(y_val.index)))\n",
    "    \n",
    "    X_train_vif, X_test_vif, X_val_vif = vif_correlation_subset(X_train, X_test, X_val, \n",
    "                                                                read_vif_values = True, verbose = True)\n",
    "    \n",
    "    X_train_subset, X_test_subset, X_val_subset, reg_model, subsets = fwd_subset(X_train_vif, X_test_vif, X_val_vif, \n",
    "                                                             y_train, y_name, verbose = True, \n",
    "                                                                        read_subset_values = True)\n",
    "    from sklearn.preprocessing import MinMaxScaler\n",
    "    scaler = MinMaxScaler()\n",
    "    X_train_arr = scaler.fit_transform(X_train_subset)\n",
    "    X_val_arr = scaler.transform(X_val_subset)\n",
    "    X_test_arr = scaler.transform(X_test_subset)\n",
    "\n",
    "    y_train_arr = scaler.fit_transform(y_train)\n",
    "    y_val_arr = scaler.transform(y_val)\n",
    "    y_test_arr = scaler.transform(y_test)\n",
    "    \n",
    "    # make training and test sets in torch\n",
    "    X_train_subset_tensor = torch.from_numpy(X_train_arr).type(torch.Tensor)\n",
    "    X_test_subset_tensor = torch.from_numpy(X_test_arr).type(torch.Tensor)\n",
    "    X_val_subset_tensor = torch.from_numpy(X_val_arr).type(torch.Tensor)\n",
    "    y_train_tensor = torch.from_numpy(y_train_arr).type(torch.Tensor)\n",
    "    y_test_tensor = torch.from_numpy(y_test_arr).type(torch.Tensor)\n",
    "    y_val_tensor = torch.from_numpy(y_val_arr).type(torch.Tensor)\n",
    "    \n",
    "    X_train_subset_tensor = X_train_subset_tensor[:,:,None]\n",
    "    X_test_subset_tensor = X_test_subset_tensor[:,:,None]\n",
    "    X_val_subset_tensor = X_val_subset_tensor[:,:,None]\n",
    "    \n",
    "    start_time = time.time()   \n",
    "    output = []\n",
    "#     outer_params = {\n",
    "#         'hidden_dim': [32, 32, 24, 24, 16, 16],\n",
    "#         'num_layers': [2, 2, 4 , 4],\n",
    "#         'dropout_prob': [0.2, 0.2, 0.2, 0.2],\n",
    "#         'criterion': [torch.nn.L1Loss(), torch.nn.L1Loss(),\n",
    "#                      torch.nn.L1Loss(), torch.nn.MSELoss()],\n",
    "#         'prune':[0.2, 0.4, 0.4, 0.4]\n",
    "#     }\n",
    "    \n",
    "    outer_params = outer_params_grid\n",
    "\n",
    "    inner_params = {\n",
    "        'lr': [0.1],\n",
    "        'max_epochs': [200]#list(range(300,1000, 200))\n",
    "    }\n",
    "\n",
    "    for idx, x in enumerate(outer_params['hidden_dim']):\n",
    "        print(\"Hidden Dim:\" + str(outer_params['hidden_dim'][idx]) + \n",
    "              \" Layers:\" + str(outer_params['num_layers'][idx]) + \n",
    "             \" Dropout:\" + str(outer_params['dropout_prob'][idx]) + \n",
    "             \" Criterion:\" + str(outer_params['criterion'][idx]))\n",
    "\n",
    "        net = LSTM(input_dim = 1,\n",
    "                    hidden_dim = outer_params['hidden_dim'][idx],\n",
    "                    num_layers = outer_params['num_layers'][idx], \n",
    "                    output_dim = 1,\n",
    "                    dropout_prob = outer_params['dropout_prob'][idx])\n",
    "\n",
    "        net = prune_model_l1_unstructured(net, nn.Conv2d, outer_params['prune'][idx])\n",
    "\n",
    "        net = NeuralNetRegressor(net,\n",
    "                                 verbose=1, \n",
    "                                criterion = outer_params['criterion'][idx],\n",
    "                                optimizer= torch.optim.Adam)\n",
    "\n",
    "        #criterion = nn.L1Loss()\n",
    "        #criteion = nn.MSELoss()\n",
    "        #optimizer = torch.optim.Adam(net.parameters(), lr=learning_rate)  \n",
    "        #optimizer = torch.optim.SGD(net.parameters(), lr=learning_rate)\n",
    "\n",
    "#         X_trf = np.array(X_train)\n",
    "#         y_trf = np.array(y_train).reshape(-1, 1)\n",
    "\n",
    "        gs = GridSearchCV(net, inner_params, refit=False, scoring='r2', verbose=1, error_score='raise', cv=2, n_jobs = -1)\n",
    "\n",
    "        gs.fit(X_train_subset_tensor, y_train_tensor)\n",
    "\n",
    "        output.append(\"Hidden Dim:\" + str(list(outer_params.values[idx])[0]) +\n",
    "                      \" Num Layers:\" + str(list(outer_params.values[idx])[1]) +\n",
    "                      \" Dropout:\" + str(list(outer_params.values[idx])[2]) +\n",
    "                      \" Criterion:\" + str(list(outer_params.values[idx])[3]) +\n",
    "                      \" Prune:\" + str(list(outer_params.values[idx])[4]) +\n",
    "                      str(gs.best_params_) + \n",
    "                      \" Error: \" + str(round(gs.cv_results_['mean_test_score'][gs.best_index_],2)))\n",
    "\n",
    "    print(\"--- %s seconds ---\" % (time.time() - start_time))\n",
    "    print(output)\n",
    "    print(str(gs.best_params_) + \" with \" + str(round(gs.cv_results_['mean_test_score'][gs.best_index_],2)))"
   ]
  },
  {
   "cell_type": "markdown",
   "id": "d85e2f4c",
   "metadata": {
    "hidden": true
   },
   "source": [
    "The best params here is the last one from the outer params loop and might not match the true best params. Output needs to be looked at to see which in the full list were the best."
   ]
  },
  {
   "cell_type": "markdown",
   "id": "4a90ce64-97b9-4c78-ae73-c73f59351d46",
   "metadata": {},
   "source": [
    "## Y only"
   ]
  },
  {
   "cell_type": "code",
   "execution_count": null,
   "id": "ef5065f0-b9b1-4e79-a233-fd8a01198878",
   "metadata": {},
   "outputs": [],
   "source": []
  },
  {
   "cell_type": "markdown",
   "id": "2f7adfa6-149b-46d0-bad5-35f9c6f5e6b8",
   "metadata": {},
   "source": [
    "## Regression"
   ]
  },
  {
   "cell_type": "code",
   "execution_count": 43,
   "id": "f166dba9-86a7-409c-9df7-c95c9b386cf7",
   "metadata": {},
   "outputs": [],
   "source": [
    "def train_stat(\n",
    "            dat,\n",
    "            dte,\n",
    "            y_name,\n",
    "            y_remove,\n",
    "            step,\n",
    "            model_name,\n",
    "            run_vif = True,\n",
    "            run_fwd_selection = True,\n",
    "            verbose = True,\n",
    "            read_vif_values = False,\n",
    "            read_subset_values = False,\n",
    "            val_days = 50,\n",
    "            test_days = 50):\n",
    "    \n",
    "    #Split data\n",
    "    #Train test validation splits\n",
    "    dat = dat.copy().drop(y_remove, axis=1)#.astype('float64')\n",
    "    X_train, X_val, X_test, y_train, y_val, y_test = train_val_test_split_date(df = dat, target_col = y_name, dte = dte,\n",
    "                                                                              val_days = val_days, test_days = val_days)\n",
    "    \n",
    "    if verbose == True:\n",
    "        print(dte)\n",
    "        print(\"X_train: \" + str(X_train.shape) + \" \" + str(min(X_train.index)) + \">\" + str(max(X_train.index)))\n",
    "        print(\"X_test: \" + str(X_test.shape)+ \" \" + str(min(X_test.index)) + \">\" + str(max(X_test.index)))\n",
    "        print(\"X_val: \" + str(X_val.shape)+ \" \" + str(min(X_val.index)) + \">\" + str(max(X_val.index)))\n",
    "        print(\"y_train: \" + str(y_train.shape)+ \" \" + str(min(y_train.index)) + \">\" + str(max(y_train.index)))\n",
    "        print(\"y_test: \" + str(y_test.shape)+ \" \" + str(min(y_test.index)) + \">\" + str(max(y_test.index)))\n",
    "        print(\"y_val: \" + str(y_val.shape)+ \" \" + str(min(y_val.index)) + \">\" + str(max(y_val.index)))\n",
    "\n",
    "\n",
    "    #Create tensors from subset of data\n",
    "    from sklearn.preprocessing import MinMaxScaler\n",
    "\n",
    "    scaler = MinMaxScaler()\n",
    "    X_train_arr = scaler.fit_transform(X_train_subset)\n",
    "    X_val_arr = scaler.transform(X_val_subset)\n",
    "    X_test_arr = scaler.transform(X_test_subset)\n",
    "\n",
    "    # y_train_arr = scaler.fit_transform(y_train)\n",
    "    # y_val_arr = scaler.transform(y_val)\n",
    "    # y_test_arr = scaler.transform(y_test)\n",
    "    \n",
    "    #Subset data \n",
    "    if run_vif:\n",
    "       X_train, X_test, X_val = vif_correlation_subset(X_train_arr, X_test_arr, X_val_arr, \n",
    "                                                                read_vif_values = read_vif_values, verbose = verbose)\n",
    "\n",
    "    if run_fwd_selection:\n",
    "        X_train, X_test, X_val, reg_model, subsets = fwd_subset(X_train_vif, X_test_vif, X_val_vif, \n",
    "                                                             y_train, y_name, verbose = verbose, \n",
    "                                                            read_subset_values = read_subset_values)\n",
    "\n",
    "    if model_name == \"reg\":\n",
    "        y_pred_train_reg = reg_model.predict(X_train_arr) \n",
    "        y_pred_test_reg = reg_model.predict(X_test_arr) \n",
    "        y_pred_val_reg = reg_model.predict(X_val_arr) \n",
    "        \n",
    "        import math\n",
    "        from sklearn.metrics import mean_squared_error\n",
    "        trainScoreReg = math.sqrt(mean_squared_error(y_train, y_pred_train_reg))\n",
    "        testScoreReg = math.sqrt(mean_squared_error(y_test, y_pred_test_reg))\n",
    "        valScoreReg = math.sqrt(mean_squared_error(y_val, y_pred_val_reg))\n",
    "        \n",
    "        if verbose == True:\n",
    "            print('Regression Train Score: %.2f RMSE' % (trainScoreReg))\n",
    "            print('Regression Test Score: %.2f RMSE' % (testScoreReg))\n",
    "            print('Regression Validation Score: %.2f RMSE' % (valScoreReg))\n",
    "            \n",
    "            plt.plot(subsets[\"r_sq\"], label=\"r squared\")\n",
    "            plt.legend()\n",
    "            plt.show()\n",
    "\n",
    "\n",
    "    err_row = pd.DataFrame(data = {\"reg_train\":trainScoreReg,\"reg_test\":testScoreReg, \"reg_val\":valScoreReg#,\n",
    "            #\"hist\":hist,\"hist_test\":hist_test,\"y_test_pred\":y_test_pred, \"y_val_pred\":y_val_pred\n",
    "                                  }, index = [str(dte)])\n",
    "        \n",
    "    fcst = pd.DataFrame(data = {\"dte\" : y_val.index.to_list(), \"step\":[step] * len(y_pred_val_reg), \n",
    "                                \"y_pred\": y_pred_val_reg.flatten(), \"y_val\": y_val.values.flatten()})\n",
    "\n",
    "    fcst.index = fcst[\"step\"].astype(str) + \"_\" + fcst[\"dte\"]\n",
    "\n",
    "    return(y_pred_test_reg, y_pred_val_reg, err_row, fcst)\n"
   ]
  },
  {
   "cell_type": "code",
   "execution_count": 50,
   "id": "fd5eeb46-8908-4ca8-afce-a3b5f3c80468",
   "metadata": {},
   "outputs": [
    {
     "name": "stdout",
     "output_type": "stream",
     "text": [
      "2023-01-03 00:00:00\n",
      "X_train: (3066, 312) 2010-10-26>2023-01-03\n",
      "X_test: (35, 312) 2023-02-23>2023-04-13\n",
      "X_val: (34, 312) 2023-01-04>2023-02-22\n",
      "y_train: (3066, 1) 2010-10-26>2023-01-03\n",
      "y_test: (35, 1) 2023-02-23>2023-04-13\n",
      "y_val: (34, 1) 2023-01-04>2023-02-22\n",
      "Processed  48 models on 1 predictors in 0.046172142028808594 seconds.\n",
      "Processed  47 models on 2 predictors in 0.052465200424194336 seconds.\n",
      "Processed  46 models on 3 predictors in 0.05447101593017578 seconds.\n",
      "Processed  45 models on 4 predictors in 0.06482219696044922 seconds.\n",
      "Processed  44 models on 5 predictors in 0.07258319854736328 seconds.\n",
      "Processed  43 models on 6 predictors in 0.07682228088378906 seconds.\n",
      "Processed  42 models on 7 predictors in 0.08600330352783203 seconds.\n",
      "Processed  41 models on 8 predictors in 0.10513877868652344 seconds.\n",
      "Processed  40 models on 9 predictors in 0.10223746299743652 seconds.\n",
      "Processed  39 models on 10 predictors in 0.11682415008544922 seconds.\n",
      "Processed  38 models on 11 predictors in 0.11783695220947266 seconds.\n",
      "Processed  37 models on 12 predictors in 0.14257407188415527 seconds.\n",
      "Processed  36 models on 13 predictors in 0.13448739051818848 seconds.\n",
      "Processed  35 models on 14 predictors in 0.15210962295532227 seconds.\n",
      "Processed  34 models on 15 predictors in 0.1780080795288086 seconds.\n",
      "Processed  33 models on 16 predictors in 0.1806812286376953 seconds.\n",
      "Processed  32 models on 17 predictors in 0.19623422622680664 seconds.\n",
      "Processed  31 models on 18 predictors in 0.21773219108581543 seconds.\n",
      "Processed  30 models on 19 predictors in 0.18280363082885742 seconds.\n",
      "Processed  29 models on 20 predictors in 0.18434524536132812 seconds.\n",
      "Processed  28 models on 21 predictors in 0.1780564785003662 seconds.\n",
      "Processed  27 models on 22 predictors in 0.21612906455993652 seconds.\n",
      "Processed  26 models on 23 predictors in 0.18574929237365723 seconds.\n",
      "Processed  25 models on 24 predictors in 0.2073662281036377 seconds.\n",
      "Processed  24 models on 25 predictors in 0.18841338157653809 seconds.\n",
      "Processed  23 models on 26 predictors in 0.19236016273498535 seconds.\n",
      "Processed  22 models on 27 predictors in 0.21279120445251465 seconds.\n",
      "Processed  21 models on 28 predictors in 0.1950511932373047 seconds.\n",
      "Processed  20 models on 29 predictors in 0.20544219017028809 seconds.\n",
      "Processed  19 models on 30 predictors in 0.2059164047241211 seconds.\n",
      "Processed  18 models on 31 predictors in 0.1973876953125 seconds.\n",
      "Processed  17 models on 32 predictors in 0.19162821769714355 seconds.\n",
      "Processed  16 models on 33 predictors in 0.18912720680236816 seconds.\n",
      "Processed  15 models on 34 predictors in 0.17975997924804688 seconds.\n",
      "Processed  14 models on 35 predictors in 0.17722821235656738 seconds.\n",
      "Processed  13 models on 36 predictors in 0.16762733459472656 seconds.\n",
      "Processed  12 models on 37 predictors in 0.16701865196228027 seconds.\n",
      "Processed  11 models on 38 predictors in 0.15896034240722656 seconds.\n",
      "Processed  10 models on 39 predictors in 0.15185332298278809 seconds.\n",
      "Processed  9 models on 40 predictors in 0.13692259788513184 seconds.\n",
      "Processed  8 models on 41 predictors in 0.1365671157836914 seconds.\n",
      "Processed  7 models on 42 predictors in 0.13019490242004395 seconds.\n",
      "Processed  6 models on 43 predictors in 0.11624979972839355 seconds.\n",
      "Processed  5 models on 44 predictors in 0.10257911682128906 seconds.\n",
      "Processed  4 models on 45 predictors in 0.08598828315734863 seconds.\n",
      "Processed  3 models on 46 predictors in 0.06889629364013672 seconds.\n",
      "Processed  2 models on 47 predictors in 0.04656648635864258 seconds.\n",
      "Processed  1 models on 48 predictors in 0.024559736251831055 seconds.\n",
      "Total elapsed time: 6.936912775039673 seconds.\n",
      "                                 OLS Regression Results                                \n",
      "=======================================================================================\n",
      "Dep. Variable:                tgt_crd   R-squared (uncentered):                   0.972\n",
      "Model:                            OLS   Adj. R-squared (uncentered):              0.972\n",
      "Method:                 Least Squares   F-statistic:                              7145.\n",
      "Date:                Sat, 02 Sep 2023   Prob (F-statistic):                        0.00\n",
      "Time:                        14:47:27   Log-Likelihood:                         -12072.\n",
      "No. Observations:                3066   AIC:                                  2.417e+04\n",
      "Df Residuals:                    3051   BIC:                                  2.426e+04\n",
      "Df Model:                          15                                                  \n",
      "Covariance Type:            nonrobust                                                  \n",
      "======================================================================================\n",
      "                         coef    std err          t      P>|t|      [0.025      0.975]\n",
      "--------------------------------------------------------------------------------------\n",
      "WB_IRON_ORE            0.3394      0.005     66.517      0.000       0.329       0.349\n",
      "WB_NGAS_US             4.9471      0.250     19.782      0.000       4.457       5.437\n",
      "BS-SCI-BAL             1.5977      0.036     44.139      0.000       1.527       1.669\n",
      "BS-RCI-BAL            -1.3926      0.052    -26.576      0.000      -1.495      -1.290\n",
      "ravg_yr_Volume_crd -3.397e-05   1.12e-06    -30.203      0.000   -3.62e-05   -3.18e-05\n",
      "yoy_WB_NGAS_US        -4.8836      0.617     -7.913      0.000      -6.094      -3.673\n",
      "yoy_WB_CRUDE_BRENT     0.5479      0.050     11.057      0.000       0.451       0.645\n",
      "yoy_WB_IRON_ORE       -0.2552      0.028     -9.142      0.000      -0.310      -0.200\n",
      "yoy_Price              0.2318      0.032      7.147      0.000       0.168       0.295\n",
      "BS-ICI-BAL            -0.1700      0.027     -6.218      0.000      -0.224      -0.116\n",
      "yoy_BS-SCI-BAL        -0.4590      0.089     -5.176      0.000      -0.633      -0.285\n",
      "yoy_Open_usd          -0.8509      0.171     -4.985      0.000      -1.186      -0.516\n",
      "yoy_BS-RCI-BAL         0.5881      0.102      5.745      0.000       0.387       0.789\n",
      "yoy_BS-CSMCI-BAL      -0.9047      0.193     -4.691      0.000      -1.283      -0.527\n",
      "diff_High_crd          0.6758      0.169      3.999      0.000       0.344       1.007\n",
      "==============================================================================\n",
      "Omnibus:                        0.010   Durbin-Watson:                   0.063\n",
      "Prob(Omnibus):                  0.995   Jarque-Bera (JB):                0.019\n",
      "Skew:                           0.004   Prob(JB):                        0.991\n",
      "Kurtosis:                       2.991   Cond. No.                     1.26e+06\n",
      "==============================================================================\n",
      "\n",
      "Notes:\n",
      "[1] R² is computed without centering (uncentered) since the model does not contain a constant.\n",
      "[2] Standard Errors assume that the covariance matrix of the errors is correctly specified.\n",
      "[3] The condition number is large, 1.26e+06. This might indicate that there are\n",
      "strong multicollinearity or other numerical problems.\n",
      "Regression Train Score: 75.50 RMSE\n",
      "Regression Test Score: 77.54 RMSE\n",
      "Regression Validation Score: 77.44 RMSE\n"
     ]
    },
    {
     "data": {
      "image/png": "[encoded data removed]",
      "text/plain": [
       "<Figure size 432x288 with 1 Axes>"
      ]
     },
     "metadata": {},
     "output_type": "display_data"
    },
    {
     "name": "stderr",
     "output_type": "stream",
     "text": [
      "C:\\Users\\lawre\\AppData\\Local\\Temp\\ipykernel_24108\\1006258410.py:17: FutureWarning: The behavior of DataFrame concatenation with empty or all-NA entries is deprecated. In a future version, this will no longer exclude empty or all-NA columns when determining the result dtypes. To retain the old behavior, exclude the relevant entries before the concat operation.\n",
      "  model_list = pd.concat([model_list, err_row])\n",
      "C:\\Users\\lawre\\AppData\\Local\\Temp\\ipykernel_24108\\1006258410.py:18: FutureWarning: The behavior of DataFrame concatenation with empty or all-NA entries is deprecated. In a future version, this will no longer exclude empty or all-NA columns when determining the result dtypes. To retain the old behavior, exclude the relevant entries before the concat operation.\n",
      "  fcst_all = pd.concat([fcst_all, fcst])\n"
     ]
    },
    {
     "name": "stdout",
     "output_type": "stream",
     "text": [
      "2023-01-10 00:00:00\n",
      "X_train: (3071, 312) 2010-10-26>2023-01-10\n",
      "X_test: (35, 312) 2023-03-02>2023-04-20\n",
      "X_val: (34, 312) 2023-01-11>2023-03-01\n",
      "y_train: (3071, 1) 2010-10-26>2023-01-10\n",
      "y_test: (35, 1) 2023-03-02>2023-04-20\n",
      "y_val: (34, 1) 2023-01-11>2023-03-01\n",
      "Processed  48 models on 1 predictors in 0.04986715316772461 seconds.\n",
      "Processed  47 models on 2 predictors in 0.06461548805236816 seconds.\n",
      "Processed  46 models on 3 predictors in 0.06905651092529297 seconds.\n",
      "Processed  45 models on 4 predictors in 0.0853722095489502 seconds.\n",
      "Processed  44 models on 5 predictors in 0.07855629920959473 seconds.\n",
      "Processed  43 models on 6 predictors in 0.09078741073608398 seconds.\n",
      "Processed  42 models on 7 predictors in 0.09556245803833008 seconds.\n",
      "Processed  41 models on 8 predictors in 0.09815812110900879 seconds.\n",
      "Processed  40 models on 9 predictors in 0.13257455825805664 seconds.\n",
      "Processed  39 models on 10 predictors in 0.12720298767089844 seconds.\n",
      "Processed  38 models on 11 predictors in 0.12560629844665527 seconds.\n",
      "Processed  37 models on 12 predictors in 0.12153053283691406 seconds.\n",
      "Processed  36 models on 13 predictors in 0.12467050552368164 seconds.\n",
      "Processed  35 models on 14 predictors in 0.12741875648498535 seconds.\n",
      "Processed  34 models on 15 predictors in 0.13894963264465332 seconds.\n",
      "Processed  33 models on 16 predictors in 0.14252161979675293 seconds.\n",
      "Processed  32 models on 17 predictors in 0.17040061950683594 seconds.\n",
      "Processed  31 models on 18 predictors in 0.17586803436279297 seconds.\n",
      "Processed  30 models on 19 predictors in 0.16103506088256836 seconds.\n",
      "Processed  29 models on 20 predictors in 0.16760945320129395 seconds.\n",
      "Processed  28 models on 21 predictors in 0.18216466903686523 seconds.\n",
      "Processed  27 models on 22 predictors in 0.19164609909057617 seconds.\n",
      "Processed  26 models on 23 predictors in 0.19146132469177246 seconds.\n",
      "Processed  25 models on 24 predictors in 0.19873785972595215 seconds.\n",
      "Processed  24 models on 25 predictors in 0.18604421615600586 seconds.\n",
      "Processed  23 models on 26 predictors in 0.18514227867126465 seconds.\n",
      "Processed  22 models on 27 predictors in 0.21443748474121094 seconds.\n",
      "Processed  21 models on 28 predictors in 0.1887209415435791 seconds.\n",
      "Processed  20 models on 29 predictors in 0.19175100326538086 seconds.\n",
      "Processed  19 models on 30 predictors in 0.1891632080078125 seconds.\n",
      "Processed  18 models on 31 predictors in 0.18988943099975586 seconds.\n",
      "Processed  17 models on 32 predictors in 0.1826033592224121 seconds.\n",
      "Processed  16 models on 33 predictors in 0.18753361701965332 seconds.\n",
      "Processed  15 models on 34 predictors in 0.17792463302612305 seconds.\n",
      "Processed  14 models on 35 predictors in 0.17690539360046387 seconds.\n",
      "Processed  13 models on 36 predictors in 0.16710615158081055 seconds.\n",
      "Processed  12 models on 37 predictors in 0.16466832160949707 seconds.\n",
      "Processed  11 models on 38 predictors in 0.15525436401367188 seconds.\n",
      "Processed  10 models on 39 predictors in 0.14820456504821777 seconds.\n",
      "Processed  9 models on 40 predictors in 0.14155268669128418 seconds.\n",
      "Processed  8 models on 41 predictors in 0.13844728469848633 seconds.\n",
      "Processed  7 models on 42 predictors in 0.12421822547912598 seconds.\n",
      "Processed  6 models on 43 predictors in 0.11390471458435059 seconds.\n",
      "Processed  5 models on 44 predictors in 0.09937381744384766 seconds.\n",
      "Processed  4 models on 45 predictors in 0.07808089256286621 seconds.\n",
      "Processed  3 models on 46 predictors in 0.06426286697387695 seconds.\n",
      "Processed  2 models on 47 predictors in 0.04354047775268555 seconds.\n",
      "Processed  1 models on 48 predictors in 0.02301788330078125 seconds.\n",
      "Total elapsed time: 6.695362329483032 seconds.\n",
      "                                 OLS Regression Results                                \n",
      "=======================================================================================\n",
      "Dep. Variable:                tgt_crd   R-squared (uncentered):                   0.972\n",
      "Model:                            OLS   Adj. R-squared (uncentered):              0.972\n",
      "Method:                 Least Squares   F-statistic:                              7161.\n",
      "Date:                Sat, 02 Sep 2023   Prob (F-statistic):                        0.00\n",
      "Time:                        14:47:34   Log-Likelihood:                         -12091.\n",
      "No. Observations:                3071   AIC:                                  2.421e+04\n",
      "Df Residuals:                    3056   BIC:                                  2.430e+04\n",
      "Df Model:                          15                                                  \n",
      "Covariance Type:            nonrobust                                                  \n",
      "======================================================================================\n",
      "                         coef    std err          t      P>|t|      [0.025      0.975]\n",
      "--------------------------------------------------------------------------------------\n",
      "WB_IRON_ORE            0.3397      0.005     66.642      0.000       0.330       0.350\n",
      "WB_NGAS_US             4.9190      0.249     19.716      0.000       4.430       5.408\n",
      "BS-SCI-BAL             1.6002      0.036     44.254      0.000       1.529       1.671\n",
      "BS-RCI-BAL            -1.3924      0.052    -26.579      0.000      -1.495      -1.290\n",
      "ravg_yr_Volume_crd -3.394e-05   1.12e-06    -30.187      0.000   -3.61e-05   -3.17e-05\n",
      "yoy_WB_NGAS_US        -4.8681      0.617     -7.891      0.000      -6.078      -3.659\n",
      "yoy_WB_CRUDE_BRENT     0.5474      0.050     11.050      0.000       0.450       0.645\n",
      "yoy_WB_IRON_ORE       -0.2545      0.028     -9.122      0.000      -0.309      -0.200\n",
      "yoy_Price              0.2298      0.032      7.092      0.000       0.166       0.293\n",
      "BS-ICI-BAL            -0.1700      0.027     -6.220      0.000      -0.224      -0.116\n",
      "yoy_BS-SCI-BAL        -0.4611      0.089     -5.201      0.000      -0.635      -0.287\n",
      "yoy_Open_usd          -0.8485      0.171     -4.974      0.000      -1.183      -0.514\n",
      "yoy_BS-RCI-BAL         0.5892      0.102      5.756      0.000       0.388       0.790\n",
      "yoy_BS-CSMCI-BAL      -0.9061      0.193     -4.699      0.000      -1.284      -0.528\n",
      "diff_High_crd          0.6845      0.169      4.061      0.000       0.354       1.015\n",
      "==============================================================================\n",
      "Omnibus:                        0.032   Durbin-Watson:                   0.063\n",
      "Prob(Omnibus):                  0.984   Jarque-Bera (JB):                0.038\n",
      "Skew:                           0.008   Prob(JB):                        0.981\n",
      "Kurtosis:                       2.993   Cond. No.                     1.26e+06\n",
      "==============================================================================\n",
      "\n",
      "Notes:\n",
      "[1] R² is computed without centering (uncentered) since the model does not contain a constant.\n",
      "[2] Standard Errors assume that the covariance matrix of the errors is correctly specified.\n",
      "[3] The condition number is large, 1.26e+06. This might indicate that there are\n",
      "strong multicollinearity or other numerical problems.\n",
      "Regression Train Score: 75.49 RMSE\n",
      "Regression Test Score: 77.83 RMSE\n",
      "Regression Validation Score: 78.06 RMSE\n"
     ]
    },
    {
     "data": {
      "image/png": "[encoded data removed]",
      "text/plain": [
       "<Figure size 432x288 with 1 Axes>"
      ]
     },
     "metadata": {},
     "output_type": "display_data"
    },
    {
     "name": "stdout",
     "output_type": "stream",
     "text": [
      "2023-01-18 00:00:00\n",
      "X_train: (3076, 312) 2010-10-26>2023-01-18\n",
      "X_test: (35, 312) 2023-03-10>2023-04-28\n",
      "X_val: (35, 312) 2023-01-19>2023-03-09\n",
      "y_train: (3076, 1) 2010-10-26>2023-01-18\n",
      "y_test: (35, 1) 2023-03-10>2023-04-28\n",
      "y_val: (35, 1) 2023-01-19>2023-03-09\n",
      "Processed  48 models on 1 predictors in 0.04454851150512695 seconds.\n",
      "Processed  47 models on 2 predictors in 0.045038461685180664 seconds.\n",
      "Processed  46 models on 3 predictors in 0.06006264686584473 seconds.\n",
      "Processed  45 models on 4 predictors in 0.06256699562072754 seconds.\n",
      "Processed  44 models on 5 predictors in 0.06740164756774902 seconds.\n",
      "Processed  43 models on 6 predictors in 0.0714409351348877 seconds.\n",
      "Processed  42 models on 7 predictors in 0.0779416561126709 seconds.\n",
      "Processed  41 models on 8 predictors in 0.08669161796569824 seconds.\n",
      "Processed  40 models on 9 predictors in 0.09659504890441895 seconds.\n",
      "Processed  39 models on 10 predictors in 0.10907363891601562 seconds.\n",
      "Processed  38 models on 11 predictors in 0.1077871322631836 seconds.\n",
      "Processed  37 models on 12 predictors in 0.11493444442749023 seconds.\n",
      "Processed  36 models on 13 predictors in 0.14281368255615234 seconds.\n",
      "Processed  35 models on 14 predictors in 0.13927650451660156 seconds.\n",
      "Processed  34 models on 15 predictors in 0.13487935066223145 seconds.\n",
      "Processed  33 models on 16 predictors in 0.14391565322875977 seconds.\n",
      "Processed  32 models on 17 predictors in 0.14455819129943848 seconds.\n",
      "Processed  31 models on 18 predictors in 0.15537047386169434 seconds.\n",
      "Processed  30 models on 19 predictors in 0.1520683765411377 seconds.\n",
      "Processed  29 models on 20 predictors in 0.18096113204956055 seconds.\n",
      "Processed  28 models on 21 predictors in 0.1716477870941162 seconds.\n",
      "Processed  27 models on 22 predictors in 0.17426848411560059 seconds.\n",
      "Processed  26 models on 23 predictors in 0.1825551986694336 seconds.\n",
      "Processed  25 models on 24 predictors in 0.1858043670654297 seconds.\n",
      "Processed  24 models on 25 predictors in 0.20221638679504395 seconds.\n",
      "Processed  23 models on 26 predictors in 0.19057416915893555 seconds.\n",
      "Processed  22 models on 27 predictors in 0.18411588668823242 seconds.\n",
      "Processed  21 models on 28 predictors in 0.20538544654846191 seconds.\n",
      "Processed  20 models on 29 predictors in 0.21317338943481445 seconds.\n",
      "Processed  19 models on 30 predictors in 0.24740242958068848 seconds.\n",
      "Processed  18 models on 31 predictors in 0.21104168891906738 seconds.\n",
      "Processed  17 models on 32 predictors in 0.21148204803466797 seconds.\n",
      "Processed  16 models on 33 predictors in 0.20808005332946777 seconds.\n",
      "Processed  15 models on 34 predictors in 0.1870415210723877 seconds.\n",
      "Processed  14 models on 35 predictors in 0.17136716842651367 seconds.\n",
      "Processed  13 models on 36 predictors in 0.17583131790161133 seconds.\n",
      "Processed  12 models on 37 predictors in 0.15943026542663574 seconds.\n",
      "Processed  11 models on 38 predictors in 0.15894055366516113 seconds.\n",
      "Processed  10 models on 39 predictors in 0.14472103118896484 seconds.\n",
      "Processed  9 models on 40 predictors in 0.13915205001831055 seconds.\n",
      "Processed  8 models on 41 predictors in 0.13626456260681152 seconds.\n",
      "Processed  7 models on 42 predictors in 0.12798500061035156 seconds.\n",
      "Processed  6 models on 43 predictors in 0.11693525314331055 seconds.\n",
      "Processed  5 models on 44 predictors in 0.09741473197937012 seconds.\n",
      "Processed  4 models on 45 predictors in 0.08370661735534668 seconds.\n",
      "Processed  3 models on 46 predictors in 0.06289839744567871 seconds.\n",
      "Processed  2 models on 47 predictors in 0.04303598403930664 seconds.\n",
      "Processed  1 models on 48 predictors in 0.023004770278930664 seconds.\n",
      "Total elapsed time: 6.606110572814941 seconds.\n",
      "                                 OLS Regression Results                                \n",
      "=======================================================================================\n",
      "Dep. Variable:                tgt_crd   R-squared (uncentered):                   0.972\n",
      "Model:                            OLS   Adj. R-squared (uncentered):              0.972\n",
      "Method:                 Least Squares   F-statistic:                              7182.\n",
      "Date:                Sat, 02 Sep 2023   Prob (F-statistic):                        0.00\n",
      "Time:                        14:47:41   Log-Likelihood:                         -12109.\n",
      "No. Observations:                3076   AIC:                                  2.425e+04\n",
      "Df Residuals:                    3061   BIC:                                  2.434e+04\n",
      "Df Model:                          15                                                  \n",
      "Covariance Type:            nonrobust                                                  \n",
      "======================================================================================\n",
      "                         coef    std err          t      P>|t|      [0.025      0.975]\n",
      "--------------------------------------------------------------------------------------\n",
      "WB_IRON_ORE            0.3400      0.005     66.789      0.000       0.330       0.350\n",
      "WB_NGAS_US             4.8967      0.249     19.680      0.000       4.409       5.385\n",
      "BS-SCI-BAL             1.6019      0.036     44.352      0.000       1.531       1.673\n",
      "BS-RCI-BAL            -1.3922      0.052    -26.591      0.000      -1.495      -1.290\n",
      "ravg_yr_Volume_crd -3.392e-05   1.12e-06    -30.186      0.000   -3.61e-05   -3.17e-05\n",
      "yoy_WB_NGAS_US        -4.8550      0.617     -7.875      0.000      -6.064      -3.646\n",
      "yoy_WB_CRUDE_BRENT     0.5475      0.050     11.059      0.000       0.450       0.645\n",
      "yoy_WB_IRON_ORE       -0.2537      0.028     -9.100      0.000      -0.308      -0.199\n",
      "yoy_Price              0.2276      0.032      7.037      0.000       0.164       0.291\n",
      "BS-ICI-BAL            -0.1700      0.027     -6.221      0.000      -0.224      -0.116\n",
      "yoy_BS-SCI-BAL        -0.4633      0.089     -5.230      0.000      -0.637      -0.290\n",
      "yoy_Open_usd          -0.8377      0.170     -4.919      0.000      -1.172      -0.504\n",
      "yoy_BS-RCI-BAL         0.5902      0.102      5.769      0.000       0.390       0.791\n",
      "yoy_BS-CSMCI-BAL      -0.9058      0.193     -4.700      0.000      -1.284      -0.528\n",
      "diff_High_crd          0.6757      0.168      4.014      0.000       0.346       1.006\n",
      "==============================================================================\n",
      "Omnibus:                        0.058   Durbin-Watson:                   0.063\n",
      "Prob(Omnibus):                  0.971   Jarque-Bera (JB):                0.059\n",
      "Skew:                           0.011   Prob(JB):                        0.971\n",
      "Kurtosis:                       2.996   Cond. No.                     1.26e+06\n",
      "==============================================================================\n",
      "\n",
      "Notes:\n",
      "[1] R² is computed without centering (uncentered) since the model does not contain a constant.\n",
      "[2] Standard Errors assume that the covariance matrix of the errors is correctly specified.\n",
      "[3] The condition number is large, 1.26e+06. This might indicate that there are\n",
      "strong multicollinearity or other numerical problems.\n",
      "Regression Train Score: 75.50 RMSE\n",
      "Regression Test Score: 77.55 RMSE\n",
      "Regression Validation Score: 78.17 RMSE\n"
     ]
    },
    {
     "data": {
      "image/png": "[encoded data removed]",
      "text/plain": [
       "<Figure size 432x288 with 1 Axes>"
      ]
     },
     "metadata": {},
     "output_type": "display_data"
    },
    {
     "name": "stdout",
     "output_type": "stream",
     "text": [
      "2023-01-25 00:00:00\n",
      "X_train: (3081, 312) 2010-10-26>2023-01-25\n",
      "X_test: (35, 312) 2023-03-17>2023-05-05\n",
      "X_val: (35, 312) 2023-01-26>2023-03-16\n",
      "y_train: (3081, 1) 2010-10-26>2023-01-25\n",
      "y_test: (35, 1) 2023-03-17>2023-05-05\n",
      "y_val: (35, 1) 2023-01-26>2023-03-16\n",
      "Processed  48 models on 1 predictors in 0.042037010192871094 seconds.\n",
      "Processed  47 models on 2 predictors in 0.047083139419555664 seconds.\n",
      "Processed  46 models on 3 predictors in 0.06310486793518066 seconds.\n",
      "Processed  45 models on 4 predictors in 0.06278657913208008 seconds.\n",
      "Processed  44 models on 5 predictors in 0.06556940078735352 seconds.\n",
      "Processed  43 models on 6 predictors in 0.07423734664916992 seconds.\n",
      "Processed  42 models on 7 predictors in 0.07948803901672363 seconds.\n",
      "Processed  41 models on 8 predictors in 0.08651471138000488 seconds.\n",
      "Processed  40 models on 9 predictors in 0.09430837631225586 seconds.\n",
      "Processed  39 models on 10 predictors in 0.1070554256439209 seconds.\n",
      "Processed  38 models on 11 predictors in 0.1101076602935791 seconds.\n",
      "Processed  37 models on 12 predictors in 0.1161661148071289 seconds.\n",
      "Processed  36 models on 13 predictors in 0.12467360496520996 seconds.\n",
      "Processed  35 models on 14 predictors in 0.13068413734436035 seconds.\n",
      "Processed  34 models on 15 predictors in 0.13292908668518066 seconds.\n",
      "Processed  33 models on 16 predictors in 0.16202163696289062 seconds.\n",
      "Processed  32 models on 17 predictors in 0.15702581405639648 seconds.\n",
      "Processed  31 models on 18 predictors in 0.15595531463623047 seconds.\n",
      "Processed  30 models on 19 predictors in 0.17011260986328125 seconds.\n",
      "Processed  29 models on 20 predictors in 0.16896915435791016 seconds.\n",
      "Processed  28 models on 21 predictors in 0.1798102855682373 seconds.\n",
      "Processed  27 models on 22 predictors in 0.21284008026123047 seconds.\n",
      "Processed  26 models on 23 predictors in 0.19926095008850098 seconds.\n",
      "Processed  25 models on 24 predictors in 0.21524882316589355 seconds.\n",
      "Processed  24 models on 25 predictors in 0.19792628288269043 seconds.\n",
      "Processed  23 models on 26 predictors in 0.198319673538208 seconds.\n",
      "Processed  22 models on 27 predictors in 0.19688701629638672 seconds.\n",
      "Processed  21 models on 28 predictors in 0.21074843406677246 seconds.\n",
      "Processed  20 models on 29 predictors in 0.20831012725830078 seconds.\n",
      "Processed  19 models on 30 predictors in 0.2016913890838623 seconds.\n",
      "Processed  18 models on 31 predictors in 0.1920030117034912 seconds.\n",
      "Processed  17 models on 32 predictors in 0.19641447067260742 seconds.\n",
      "Processed  16 models on 33 predictors in 0.19376134872436523 seconds.\n",
      "Processed  15 models on 34 predictors in 0.18499517440795898 seconds.\n",
      "Processed  14 models on 35 predictors in 0.17299771308898926 seconds.\n",
      "Processed  13 models on 36 predictors in 0.1850287914276123 seconds.\n",
      "Processed  12 models on 37 predictors in 0.160353422164917 seconds.\n",
      "Processed  11 models on 38 predictors in 0.16229033470153809 seconds.\n",
      "Processed  10 models on 39 predictors in 0.14565086364746094 seconds.\n",
      "Processed  9 models on 40 predictors in 0.1436910629272461 seconds.\n",
      "Processed  8 models on 41 predictors in 0.1406259536743164 seconds.\n",
      "Processed  7 models on 42 predictors in 0.14092016220092773 seconds.\n",
      "Processed  6 models on 43 predictors in 0.11478757858276367 seconds.\n",
      "Processed  5 models on 44 predictors in 0.09715890884399414 seconds.\n",
      "Processed  4 models on 45 predictors in 0.08407187461853027 seconds.\n",
      "Processed  3 models on 46 predictors in 0.06205439567565918 seconds.\n",
      "Processed  2 models on 47 predictors in 0.04221820831298828 seconds.\n",
      "Processed  1 models on 48 predictors in 0.022521257400512695 seconds.\n",
      "Total elapsed time: 6.667554140090942 seconds.\n",
      "                                 OLS Regression Results                                \n",
      "=======================================================================================\n",
      "Dep. Variable:                tgt_crd   R-squared (uncentered):                   0.972\n",
      "Model:                            OLS   Adj. R-squared (uncentered):              0.972\n",
      "Method:                 Least Squares   F-statistic:                              7206.\n",
      "Date:                Sat, 02 Sep 2023   Prob (F-statistic):                        0.00\n",
      "Time:                        14:47:48   Log-Likelihood:                         -12127.\n",
      "No. Observations:                3081   AIC:                                  2.428e+04\n",
      "Df Residuals:                    3066   BIC:                                  2.437e+04\n",
      "Df Model:                          15                                                  \n",
      "Covariance Type:            nonrobust                                                  \n",
      "======================================================================================\n",
      "                         coef    std err          t      P>|t|      [0.025      0.975]\n",
      "--------------------------------------------------------------------------------------\n",
      "WB_IRON_ORE            0.3402      0.005     66.922      0.000       0.330       0.350\n",
      "WB_NGAS_US             4.8815      0.248     19.674      0.000       4.395       5.368\n",
      "BS-SCI-BAL             1.6031      0.036     44.441      0.000       1.532       1.674\n",
      "BS-RCI-BAL            -1.3921      0.052    -26.605      0.000      -1.495      -1.289\n",
      "ravg_yr_Volume_crd  -3.39e-05   1.12e-06    -30.195      0.000   -3.61e-05   -3.17e-05\n",
      "yoy_WB_NGAS_US        -4.8470      0.616     -7.868      0.000      -6.055      -3.639\n",
      "yoy_WB_CRUDE_BRENT     0.5474      0.049     11.064      0.000       0.450       0.644\n",
      "yoy_WB_IRON_ORE       -0.2534      0.028     -9.098      0.000      -0.308      -0.199\n",
      "yoy_Price              0.2269      0.032      7.021      0.000       0.164       0.290\n",
      "BS-ICI-BAL            -0.1699      0.027     -6.224      0.000      -0.223      -0.116\n",
      "yoy_BS-SCI-BAL        -0.4648      0.089     -5.250      0.000      -0.638      -0.291\n",
      "yoy_Open_usd          -0.8266      0.170     -4.869      0.000      -1.160      -0.494\n",
      "yoy_BS-RCI-BAL         0.5905      0.102      5.777      0.000       0.390       0.791\n",
      "yoy_BS-CSMCI-BAL      -0.9049      0.193     -4.699      0.000      -1.283      -0.527\n",
      "diff_High_crd          0.6765      0.168      4.023      0.000       0.347       1.006\n",
      "==============================================================================\n",
      "Omnibus:                        0.087   Durbin-Watson:                   0.063\n",
      "Prob(Omnibus):                  0.957   Jarque-Bera (JB):                0.081\n",
      "Skew:                           0.013   Prob(JB):                        0.960\n",
      "Kurtosis:                       3.001   Cond. No.                     1.26e+06\n",
      "==============================================================================\n",
      "\n",
      "Notes:\n",
      "[1] R² is computed without centering (uncentered) since the model does not contain a constant.\n",
      "[2] Standard Errors assume that the covariance matrix of the errors is correctly specified.\n",
      "[3] The condition number is large, 1.26e+06. This might indicate that there are\n",
      "strong multicollinearity or other numerical problems.\n",
      "Regression Train Score: 75.50 RMSE\n",
      "Regression Test Score: 77.67 RMSE\n",
      "Regression Validation Score: 76.93 RMSE\n"
     ]
    },
    {
     "data": {
      "image/png": "[encoded data removed]",
      "text/plain": [
       "<Figure size 432x288 with 1 Axes>"
      ]
     },
     "metadata": {},
     "output_type": "display_data"
    },
    {
     "name": "stdout",
     "output_type": "stream",
     "text": [
      "2023-02-01 00:00:00\n",
      "X_train: (3086, 312) 2010-10-26>2023-02-01\n",
      "X_test: (35, 312) 2023-03-24>2023-05-12\n",
      "X_val: (35, 312) 2023-02-02>2023-03-23\n",
      "y_train: (3086, 1) 2010-10-26>2023-02-01\n",
      "y_test: (35, 1) 2023-03-24>2023-05-12\n",
      "y_val: (35, 1) 2023-02-02>2023-03-23\n",
      "Processed  48 models on 1 predictors in 0.043543338775634766 seconds.\n",
      "Processed  47 models on 2 predictors in 0.045197248458862305 seconds.\n",
      "Processed  46 models on 3 predictors in 0.05805516242980957 seconds.\n",
      "Processed  45 models on 4 predictors in 0.06079840660095215 seconds.\n",
      "Processed  44 models on 5 predictors in 0.06607437133789062 seconds.\n",
      "Processed  43 models on 6 predictors in 0.07122993469238281 seconds.\n",
      "Processed  42 models on 7 predictors in 0.07835102081298828 seconds.\n",
      "Processed  41 models on 8 predictors in 0.08516836166381836 seconds.\n",
      "Processed  40 models on 9 predictors in 0.08960676193237305 seconds.\n",
      "Processed  39 models on 10 predictors in 0.1052091121673584 seconds.\n",
      "Processed  38 models on 11 predictors in 0.10761713981628418 seconds.\n",
      "Processed  37 models on 12 predictors in 0.11431074142456055 seconds.\n",
      "Processed  36 models on 13 predictors in 0.12236809730529785 seconds.\n",
      "Processed  35 models on 14 predictors in 0.1269090175628662 seconds.\n",
      "Processed  34 models on 15 predictors in 0.13521742820739746 seconds.\n",
      "Processed  33 models on 16 predictors in 0.15997838973999023 seconds.\n",
      "Processed  32 models on 17 predictors in 0.1544041633605957 seconds.\n",
      "Processed  31 models on 18 predictors in 0.15246367454528809 seconds.\n",
      "Processed  30 models on 19 predictors in 0.15108752250671387 seconds.\n",
      "Processed  29 models on 20 predictors in 0.16051006317138672 seconds.\n",
      "Processed  28 models on 21 predictors in 0.15975737571716309 seconds.\n",
      "Processed  27 models on 22 predictors in 0.19511675834655762 seconds.\n",
      "Processed  26 models on 23 predictors in 0.19091296195983887 seconds.\n",
      "Processed  25 models on 24 predictors in 0.18200397491455078 seconds.\n",
      "Processed  24 models on 25 predictors in 0.19666242599487305 seconds.\n",
      "Processed  23 models on 26 predictors in 0.19241833686828613 seconds.\n",
      "Processed  22 models on 27 predictors in 0.19637179374694824 seconds.\n",
      "Processed  21 models on 28 predictors in 0.20075130462646484 seconds.\n",
      "Processed  20 models on 29 predictors in 0.19162487983703613 seconds.\n",
      "Processed  19 models on 30 predictors in 0.19283509254455566 seconds.\n",
      "Processed  18 models on 31 predictors in 0.19593262672424316 seconds.\n",
      "Processed  17 models on 32 predictors in 0.21590399742126465 seconds.\n",
      "Processed  16 models on 33 predictors in 0.19820880889892578 seconds.\n",
      "Processed  15 models on 34 predictors in 0.19409871101379395 seconds.\n",
      "Processed  14 models on 35 predictors in 0.189284086227417 seconds.\n",
      "Processed  13 models on 36 predictors in 0.1812572479248047 seconds.\n",
      "Processed  12 models on 37 predictors in 0.16382884979248047 seconds.\n",
      "Processed  11 models on 38 predictors in 0.16028594970703125 seconds.\n",
      "Processed  10 models on 39 predictors in 0.15139341354370117 seconds.\n",
      "Processed  9 models on 40 predictors in 0.14487528800964355 seconds.\n",
      "Processed  8 models on 41 predictors in 0.13723111152648926 seconds.\n",
      "Processed  7 models on 42 predictors in 0.15311717987060547 seconds.\n",
      "Processed  6 models on 43 predictors in 0.12068533897399902 seconds.\n",
      "Processed  5 models on 44 predictors in 0.1043863296508789 seconds.\n",
      "Processed  4 models on 45 predictors in 0.08792877197265625 seconds.\n",
      "Processed  3 models on 46 predictors in 0.06785297393798828 seconds.\n",
      "Processed  2 models on 47 predictors in 0.04554557800292969 seconds.\n",
      "Processed  1 models on 48 predictors in 0.026055574417114258 seconds.\n",
      "Total elapsed time: 6.581882953643799 seconds.\n",
      "                                 OLS Regression Results                                \n",
      "=======================================================================================\n",
      "Dep. Variable:                tgt_crd   R-squared (uncentered):                   0.972\n",
      "Model:                            OLS   Adj. R-squared (uncentered):              0.972\n",
      "Method:                 Least Squares   F-statistic:                              7228.\n",
      "Date:                Sat, 02 Sep 2023   Prob (F-statistic):                        0.00\n",
      "Time:                        14:47:54   Log-Likelihood:                         -12144.\n",
      "No. Observations:                3086   AIC:                                  2.432e+04\n",
      "Df Residuals:                    3071   BIC:                                  2.441e+04\n",
      "Df Model:                          15                                                  \n",
      "Covariance Type:            nonrobust                                                  \n",
      "======================================================================================\n",
      "                         coef    std err          t      P>|t|      [0.025      0.975]\n",
      "--------------------------------------------------------------------------------------\n",
      "WB_IRON_ORE            0.3403      0.005     67.035      0.000       0.330       0.350\n",
      "WB_NGAS_US             4.8668      0.248     19.660      0.000       4.381       5.352\n",
      "BS-SCI-BAL             1.6044      0.036     44.534      0.000       1.534       1.675\n",
      "BS-RCI-BAL            -1.3919      0.052    -26.618      0.000      -1.494      -1.289\n",
      "ravg_yr_Volume_crd -3.389e-05   1.12e-06    -30.204      0.000   -3.61e-05   -3.17e-05\n",
      "yoy_WB_NGAS_US        -4.8052      0.609     -7.888      0.000      -6.000      -3.611\n",
      "yoy_WB_CRUDE_BRENT     0.5471      0.049     11.065      0.000       0.450       0.644\n",
      "yoy_WB_IRON_ORE       -0.2534      0.028     -9.103      0.000      -0.308      -0.199\n",
      "yoy_Price              0.2266      0.032      7.018      0.000       0.163       0.290\n",
      "BS-ICI-BAL            -0.1701      0.027     -6.233      0.000      -0.224      -0.117\n",
      "yoy_BS-SCI-BAL        -0.4674      0.088     -5.288      0.000      -0.641      -0.294\n",
      "yoy_BS-RCI-BAL         0.5932      0.102      5.817      0.000       0.393       0.793\n",
      "yoy_Open_usd          -0.8195      0.169     -4.836      0.000      -1.152      -0.487\n",
      "yoy_BS-CSMCI-BAL      -0.9101      0.192     -4.742      0.000      -1.286      -0.534\n",
      "diff_High_crd          0.6778      0.168      4.036      0.000       0.348       1.007\n",
      "==============================================================================\n",
      "Omnibus:                        0.136   Durbin-Watson:                   0.063\n",
      "Prob(Omnibus):                  0.934   Jarque-Bera (JB):                0.124\n",
      "Skew:                           0.015   Prob(JB):                        0.940\n",
      "Kurtosis:                       3.005   Cond. No.                     1.24e+06\n",
      "==============================================================================\n",
      "\n",
      "Notes:\n",
      "[1] R² is computed without centering (uncentered) since the model does not contain a constant.\n",
      "[2] Standard Errors assume that the covariance matrix of the errors is correctly specified.\n",
      "[3] The condition number is large, 1.24e+06. This might indicate that there are\n",
      "strong multicollinearity or other numerical problems.\n",
      "Regression Train Score: 75.73 RMSE\n",
      "Regression Test Score: 78.23 RMSE\n",
      "Regression Validation Score: 76.44 RMSE\n"
     ]
    },
    {
     "data": {
      "image/png": "[encoded data removed]",
      "text/plain": [
       "<Figure size 432x288 with 1 Axes>"
      ]
     },
     "metadata": {},
     "output_type": "display_data"
    }
   ],
   "source": [
    "if train_statistical == True:\n",
    "    fcst_all = pd.DataFrame(columns = [\"dte\", \"step\", \"y_pred\", \"y_val\"])\n",
    "    model_list = pd.DataFrame(columns = [\"reg_train\", \"reg_test\", \"reg_val\"])\n",
    "    model_name = \"reg\"\n",
    "    \n",
    "    for i, dte_str in enumerate(dates[::5]):\n",
    "        dte = datetime.strptime(dte_str, \"%Y-%m-%d\")\n",
    "        y_test_pred, y_val_pred, err_row, fcst = train_stat(dat = dat, dte = dte, step = i,\n",
    "                                                         y_name = y_name, y_remove = y_remove,\n",
    "                                                        run_vif = True, \n",
    "                                                        run_fwd_selection = True,\n",
    "                                                        read_vif_values = True,\n",
    "                                                        read_subset_values = False,\n",
    "                                                        verbose = True,\n",
    "                                                        model_name = model_name)\n",
    "\n",
    "        model_list = pd.concat([model_list, err_row])\n",
    "        fcst_all = pd.concat([fcst_all, fcst])\n",
    "\n",
    "    model_list.to_csv(y_name + \"_\" + model_name + \"_output_model.csv\")\n",
    "    fcst_all.to_csv(y_name + \"_\" + model_name +\"_fcst_all.csv\")\n",
    "\n",
    "    model_list"
   ]
  },
  {
   "cell_type": "code",
   "execution_count": 29,
   "id": "a2b6a5a1-dd08-4af5-9640-706f444681d0",
   "metadata": {},
   "outputs": [
    {
     "data": {
      "text/plain": [
       "<function __main__.train_stat(dat, dte, y_name, y_remove, step, model_name, run_vif=True, run_fwd_selection=True, verbose=True, val_days=50, test_days=50)>"
      ]
     },
     "execution_count": 29,
     "metadata": {},
     "output_type": "execute_result"
    }
   ],
   "source": [
    "train_stat"
   ]
  },
  {
   "cell_type": "markdown",
   "id": "ac8a24e0",
   "metadata": {},
   "source": [
    "## Train Neural"
   ]
  },
  {
   "cell_type": "markdown",
   "id": "b84c3bea",
   "metadata": {},
   "source": [
    "Trains LSTM with the parameters found from the hyperparameter optimisation"
   ]
  },
  {
   "cell_type": "code",
   "execution_count": 29,
   "id": "373a875e",
   "metadata": {},
   "outputs": [],
   "source": [
    "def train_net(\n",
    "            dat,\n",
    "            dte,\n",
    "            y_name,\n",
    "            y_remove,\n",
    "            step,\n",
    "            model_name = \"lstm\",\n",
    "            input_dim = 1,\n",
    "            hidden_dim = 32,\n",
    "            num_layers = 4,\n",
    "            output_dim = 1,\n",
    "            learning_rate = 0.1,\n",
    "            weight_decay = 0.000001,\n",
    "            dropout = 0.2,\n",
    "            prune_prop = 0.2,\n",
    "            num_epochs = 200,\n",
    "            read_vif_values = False,\n",
    "            verbose = True,\n",
    "            read_subset_values = False,\n",
    "            val_days = 50,\n",
    "            test_days = 50):\n",
    "    \n",
    "    #Split data\n",
    "    #Train test validation splits\n",
    "    dat = dat.copy().drop(y_remove, axis=1)#.astype('float64')\n",
    "    X_train, X_val, X_test, y_train, y_val, y_test = train_val_test_split_date(df = dat, target_col = y_name, dte = dte,\n",
    "                                                                              val_days = val_days, test_days = val_days)\n",
    "    \n",
    "    if verbose == True:\n",
    "        print(dte)\n",
    "        print(\"X_train: \" + str(X_train.shape) + \" \" + str(min(X_train.index)) + \">\" + str(max(X_train.index)))\n",
    "        print(\"X_test: \" + str(X_test.shape)+ \" \" + str(min(X_test.index)) + \">\" + str(max(X_test.index)))\n",
    "        print(\"X_val: \" + str(X_val.shape)+ \" \" + str(min(X_val.index)) + \">\" + str(max(X_val.index)))\n",
    "        print(\"y_train: \" + str(y_train.shape)+ \" \" + str(min(y_train.index)) + \">\" + str(max(y_train.index)))\n",
    "        print(\"y_test: \" + str(y_test.shape)+ \" \" + str(min(y_test.index)) + \">\" + str(max(y_test.index)))\n",
    "        print(\"y_val: \" + str(y_val.shape)+ \" \" + str(min(y_val.index)) + \">\" + str(max(y_val.index)))\n",
    "    \n",
    "    #Subset data \n",
    "    X_train_vif, X_test_vif, X_val_vif = vif_correlation_subset(X_train, X_test, X_val, \n",
    "                                                                read_vif_values = read_vif_values, verbose = verbose)\n",
    "    \n",
    "    X_train_subset, X_test_subset, X_val_subset, reg_model, subsets = fwd_subset(X_train_vif, X_test_vif, X_val_vif, \n",
    "                                                             y_train, y_name, verbose = verbose, \n",
    "                                                                        read_subset_values = read_subset_values)\n",
    "\n",
    "    #Create tensors from subset of data\n",
    "    from sklearn.preprocessing import MinMaxScaler\n",
    "\n",
    "    scaler = MinMaxScaler()\n",
    "    X_train_arr = scaler.fit_transform(X_train_subset)\n",
    "    X_val_arr = scaler.transform(X_val_subset)\n",
    "    X_test_arr = scaler.transform(X_test_subset)\n",
    "\n",
    "    y_train_arr = scaler.fit_transform(y_train)\n",
    "    y_val_arr = scaler.transform(y_val)\n",
    "    y_test_arr = scaler.transform(y_test)\n",
    "    \n",
    "    y_pred_train_reg = reg_model.predict(X_train) \n",
    "    y_pred_test_reg = reg_model.predict(X_test) \n",
    "    y_pred_val_reg = reg_model.predict(X_val) \n",
    "    \n",
    "    import math\n",
    "    from sklearn.metrics import mean_squared_error\n",
    "    trainScoreReg = math.sqrt(mean_squared_error(y_train, y_pred_train_reg))\n",
    "    testScoreReg = math.sqrt(mean_squared_error(y_test, y_pred_test_reg))\n",
    "    valScoreReg = math.sqrt(mean_squared_error(y_val, y_pred_val_reg))\n",
    "    \n",
    "    if verbose == True:\n",
    "        print('Regression Train Score: %.2f RMSE' % (trainScoreReg))\n",
    "        print('Regression Test Score: %.2f RMSE' % (testScoreReg))\n",
    "        print('Regression Validation Score: %.2f RMSE' % (valScoreReg))\n",
    "        \n",
    "        plt.plot(subsets[\"r_sq\"], label=\"r squared\")\n",
    "        plt.legend()\n",
    "        plt.show()\n",
    "\n",
    "    # make training and test sets in torch\n",
    "    X_train_subset_tensor = torch.from_numpy(X_train_arr).type(torch.Tensor)\n",
    "    X_test_subset_tensor = torch.from_numpy(X_test_arr).type(torch.Tensor)\n",
    "    X_val_subset_tensor = torch.from_numpy(X_val_arr).type(torch.Tensor)\n",
    "    y_train_tensor = torch.from_numpy(y_train_arr).type(torch.Tensor)\n",
    "    y_test_tensor = torch.from_numpy(y_test_arr).type(torch.Tensor)\n",
    "    y_val_tensor = torch.from_numpy(y_val_arr).type(torch.Tensor)\n",
    "\n",
    "    X_train_subset_tensor = X_train_subset_tensor[:,:,None]\n",
    "    X_test_subset_tensor = X_test_subset_tensor[:,:,None]\n",
    "    X_val_subset_tensor = X_val_subset_tensor[:,:,None]\n",
    "\n",
    "    if verbose == True:\n",
    "        print('x_train.shape = ',X_train_subset_tensor.shape)\n",
    "        print('y_train.shape = ',y_train_tensor.shape)\n",
    "        print('x_test.shape = ',X_test_subset_tensor.shape)\n",
    "        print('y_test.shape = ',y_test_tensor.shape)\n",
    "        print('x_val.shape = ',X_val_subset_tensor.shape)\n",
    "        print('y_val.shape = ',y_val_tensor.shape)\n",
    "\n",
    "    if model_name == \"lstm\":\n",
    "        model = LSTM(input_dim=input_dim, hidden_dim=hidden_dim, output_dim=output_dim, \n",
    "                  num_layers=num_layers, dropout_prob = dropout)\n",
    "    elif model_name == \"gru\":\n",
    "        model = GRU(input_dim=input_dim, hidden_dim=hidden_dim, output_dim=output_dim, \n",
    "                    num_layers=num_layers)\n",
    "    elif model_name == \"rnn\":\n",
    "        model = RNN(input_dim=input_dim, hidden_dim=hidden_dim, output_dim=output_dim, \n",
    "                          layer_dim=num_layers, dropout_prob = dropout)\n",
    "\n",
    "    model = prune_model_l1_unstructured(model, nn.Conv2d, prune_prop)\n",
    "\n",
    "    loss_fn = torch.nn.L1Loss()\n",
    "\n",
    "    optimiser = torch.optim.Adam(model.parameters(), lr=learning_rate, weight_decay=weight_decay)\n",
    "    \n",
    "    if verbose == True:\n",
    "        print(model)\n",
    "        print(len(list(model.parameters())))\n",
    "        for i in range(len(list(model.parameters()))):\n",
    "            print(list(model.parameters())[i].size())\n",
    "        \n",
    "    model = prune_model_l1_unstructured(model, nn.Conv2d, prune_prop)\n",
    "\n",
    "    # Train model\n",
    "    #####################\n",
    "    hist = np.zeros(num_epochs)\n",
    "    hist_test = np.zeros(num_epochs)\n",
    "    look_back = 10 # choose sequence length\n",
    "\n",
    "    # Number of steps to unroll\n",
    "    seq_dim = look_back-1  \n",
    "\n",
    "    start_time = time.time() \n",
    "    for t in range(num_epochs):\n",
    "        # Initialise hidden state\n",
    "        # Don't do this if you want your LSTM to be stateful\n",
    "        #model.hidden = model.init_hidden()\n",
    "\n",
    "        # Forward pass\n",
    "        y_train_pred = model(X_train_subset_tensor)\n",
    "        y_test_pred = model(X_test_subset_tensor)\n",
    "\n",
    "        loss = loss_fn(y_train_pred, y_train_tensor)\n",
    "        loss_test = loss_fn(y_test_pred, y_test_tensor)\n",
    "        if verbose == True:\n",
    "            if t % 50 == 0 and t !=0:\n",
    "                print(\"Epoch \", t, \"MSE: \", loss.item())\n",
    "                print(\"Epoch \", t, \"Test MSE: \", loss_test.item())\n",
    "        hist[t] = loss.item()\n",
    "        hist_test[t] = loss_test.item()\n",
    "\n",
    "        # Zero out gradient, else they will accumulate between epochs\n",
    "        optimiser.zero_grad()\n",
    "\n",
    "        # Backward pass\n",
    "        loss.backward()\n",
    "\n",
    "        # Update parameters\n",
    "        optimiser.step()\n",
    "    \n",
    "    if verbose == True:\n",
    "        print(\"--- %s seconds ---\" % (time.time() - start_time))\n",
    "     \n",
    "    if verbose == True:\n",
    "        plt.plot(hist, label=\"Training loss\")\n",
    "        plt.plot(hist_test, label=\"Test loss\")\n",
    "        plt.legend()\n",
    "        plt.title(str(model) + \" Loss\")\n",
    "        plt.savefig('lstm_loss_low.png')\n",
    "        plt.show()\n",
    "\n",
    "    # make test predictions\n",
    "    y_test_pred = model(X_test_subset_tensor)\n",
    "\n",
    "    # invert predictions\n",
    "    y_train_pred = scaler.inverse_transform(y_train_pred.detach().numpy())\n",
    "    y_train_det = scaler.inverse_transform(y_train_tensor.detach().numpy())\n",
    "    y_test_pred = scaler.inverse_transform(y_test_pred.detach().numpy())\n",
    "    y_test_det = scaler.inverse_transform(y_test_tensor.detach().numpy())\n",
    "\n",
    "    # make validation predictions\n",
    "    y_val_pred = model(X_val_subset_tensor)\n",
    "\n",
    "    # invert predictions\n",
    "    y_val_pred = scaler.inverse_transform(y_val_pred.detach().numpy())\n",
    "    y_val_det = scaler.inverse_transform(y_val_tensor.detach().numpy())\n",
    "\n",
    "    # calculate root mean squared error\n",
    "    trainScore = math.sqrt(mean_squared_error(y_train_det[:,0], y_train_pred[:,0]))\n",
    "    testScore = math.sqrt(mean_squared_error(y_test_det[:,0], y_test_pred[:,0]))\n",
    "    valScore = math.sqrt(mean_squared_error(y_val_det[:,0], y_val_pred[:,0]))\n",
    "    \n",
    "    if verbose == True:\n",
    "        print('Test Score: %.2f RMSE' % (testScore))\n",
    "        print('Train Score: %.2f RMSE' % (trainScore))\n",
    "        print('Validation Score: %.2f RMSE' % (valScore))\n",
    "        \n",
    "        # Visualising the results\n",
    "        figure, axes = plt.subplots()\n",
    "        axes.xaxis_date()\n",
    "\n",
    "        axes.plot(pd.to_datetime(y_val.index), y_val.values, color = 'red', label = 'Real')\n",
    "        axes.plot(pd.to_datetime(y_val.index), y_val_pred, color = 'blue', label = 'Predicted')\n",
    "        plt.title(str(model) + ' Prediction')\n",
    "        plt.xlabel('Time')\n",
    "        plt.ylabel('Price')\n",
    "        plt.legend()\n",
    "        plt.savefig('lstm.png')\n",
    "        plt.show()\n",
    "\n",
    "    err_row = pd.DataFrame(data = {\"reg_train\":trainScoreReg,\"reg_test\":testScoreReg, \"reg_val\":valScoreReg,\n",
    "          \"net_train\":trainScore,\"net_test\":testScore, \"net_val\":valScore#,\n",
    "            #\"hist\":hist,\"hist_test\":hist_test,\"y_test_pred\":y_test_pred, \"y_val_pred\":y_val_pred\n",
    "                                  }, index = [str(dte)])\n",
    "    \n",
    "    fcst = pd.DataFrame(data = {\"dte\" : y_val.index.to_list(), \"step\":[step] * len(y_val_pred), \n",
    "                                \"y_pred\": y_val_pred.flatten(), \"y_val\": y_val.values.flatten()})\n",
    "\n",
    "    fcst.index = fcst[\"step\"].astype(str) + \"_\" + fcst[\"dte\"]\n",
    "\n",
    "    return(hist, hist_test, y_test_pred, y_val_pred, err_row, fcst)\n"
   ]
  },
  {
   "cell_type": "code",
   "execution_count": 30,
   "id": "394cf4c9",
   "metadata": {},
   "outputs": [],
   "source": [
    "if train_lstm == True:\n",
    "    fcst_all = pd.DataFrame(columns = [\"dte\", \"step\", \"y_pred\", \"y_val\"])\n",
    "    model_list = pd.DataFrame(columns = [\"reg_train\", \"reg_test\", \"reg_val\", \"net_train\", \"net_test\",\"net_val\"])\n",
    "\n",
    "    for i, dte_str in enumerate(dates[::5]):\n",
    "        dte = datetime.strptime(dte_str, \"%Y-%m-%d\")\n",
    "        hist, hist_test, y_test_pred, y_val_pred, err_row, fcst = train_net(dat = dat, dte = dte, step = i,\n",
    "                                                         y_name = y_name, y_remove = y_remove,\n",
    "                                                        read_vif_values = True, read_subset_values = True,\n",
    "                                                        num_epochs = 100, verbose = True,\n",
    "                                                        model_name = model_name)\n",
    "\n",
    "        model_list = model_list.append(err_row)\n",
    "        fcst_all = fcst_all.append(fcst)\n",
    "\n",
    "    model_list.to_csv(model_name + \"_output_model.csv\")\n",
    "    fcst_all.to_csv(root + \"\\\\data\\\\\" + y_name + \"_fcst_all.csv\")\n",
    "\n",
    "    model_list"
   ]
  },
  {
   "cell_type": "markdown",
   "id": "21b5ee93",
   "metadata": {
    "heading_collapsed": true
   },
   "source": [
    "## ESRNN"
   ]
  },
  {
   "cell_type": "code",
   "execution_count": 31,
   "id": "c1cb0003",
   "metadata": {
    "hidden": true
   },
   "outputs": [],
   "source": [
    "def train_net(\n",
    "            dat,\n",
    "            dte,\n",
    "            y_name,\n",
    "            y_remove,\n",
    "            step,\n",
    "            model_name = \"lstm\",\n",
    "            input_dim = 1,\n",
    "            hidden_dim = 32,\n",
    "            num_layers = 4,\n",
    "            output_dim = 1,\n",
    "            learning_rate = 0.1,\n",
    "            weight_decay = 0.000001,\n",
    "            dropout = 0.2,\n",
    "            prune_prop = 0.2,\n",
    "            num_epochs = 200,\n",
    "            read_vif_values = False,\n",
    "            verbose = True,\n",
    "            read_subset_values = False,\n",
    "            val_days = 50,\n",
    "            test_days = 50):\n",
    "    \n",
    "    #Split data\n",
    "    #Train test validation splits\n",
    "    dat_y = dat.copy().drop(y_remove, axis=1)#.astype('float64')\n",
    "    X_train, X_val, X_test, y_train, y_val, y_test = train_val_test_split_date(df = dat, target_col = y_name, dte = dte,\n",
    "                                                                              val_days = val_days, test_days = val_days)\n",
    "    \n",
    "    if verbose == True:\n",
    "        print(dte)\n",
    "        print(\"X_train: \" + str(X_train.shape) + \" \" + str(min(X_train.index)) + \">\" + str(max(X_train.index)))\n",
    "        print(\"X_test: \" + str(X_test.shape)+ \" \" + str(min(X_test.index)) + \">\" + str(max(X_test.index)))\n",
    "        print(\"X_val: \" + str(X_val.shape)+ \" \" + str(min(X_val.index)) + \">\" + str(max(X_val.index)))\n",
    "        print(\"y_train: \" + str(y_train.shape)+ \" \" + str(min(y_train.index)) + \">\" + str(max(y_train.index)))\n",
    "        print(\"y_test: \" + str(y_test.shape)+ \" \" + str(min(y_test.index)) + \">\" + str(max(y_test.index)))\n",
    "        print(\"y_val: \" + str(y_val.shape)+ \" \" + str(min(y_val.index)) + \">\" + str(max(y_val.index)))\n",
    "        \n",
    "    model = ESRNN(max_epochs=5, \n",
    "                    freq_of_test=1, \n",
    "                    batch_size=32, \n",
    "                    learning_rate=0.02, \n",
    "                    per_series_lr_multip=0.5,\n",
    "                    lr_scheduler_step_size=7, \n",
    "                    lr_decay=0.5, \n",
    "                    gradient_clipping_threshold=50, \n",
    "                    rnn_weight_decay=0.0, \n",
    "                    noise_std=0.001, \n",
    "                    level_variability_penalty=30, \n",
    "                    testing_percentile=50, \n",
    "                    training_percentile=50,\n",
    "                    ensemble=True, \n",
    "                    max_periods=371, \n",
    "                    seasonality=[24, 168], \n",
    "                    input_size=24, \n",
    "                    output_size=48,\n",
    "                    cell_type='LSTM', \n",
    "                    state_hsize=40, \n",
    "                    dilations=[[1, 4, 24, 168]], \n",
    "                    add_nl_layer=False,\n",
    "                    random_seed=1, \n",
    "                    device='cpu')\n",
    "\n",
    "    #Subset data \n",
    "    X_train_vif, X_test_vif, X_val_vif = vif_correlation_subset(X_train, X_test, X_val, \n",
    "                                                                read_vif_values = read_vif_values, verbose = verbose)\n",
    "    \n",
    "    X_train_subset, X_test_subset, X_val_subset, reg_model, subsets = fwd_subset(X_train_vif, X_test_vif, X_val_vif, \n",
    "                                                             y_train, y_name, verbose = verbose, \n",
    "                                                                        read_subset_values = read_subset_values)\n",
    "\n",
    "    #Create tensors from subset of data\n",
    "    from sklearn.preprocessing import MinMaxScaler\n",
    "\n",
    "    scaler = MinMaxScaler()\n",
    "    X_train_arr = scaler.fit_transform(X_train_subset)\n",
    "    X_val_arr = scaler.transform(X_val_subset)\n",
    "    X_test_arr = scaler.transform(X_test_subset)\n",
    "\n",
    "    y_train_arr = scaler.fit_transform(y_train)\n",
    "    y_val_arr = scaler.transform(y_val)\n",
    "    y_test_arr = scaler.transform(y_test)\n",
    "    \n",
    "    y_pred_train_reg = reg_model.predict(X_train_arr) \n",
    "    y_pred_test_reg = reg_model.predict(X_test_arr) \n",
    "    y_pred_val_reg = reg_model.predict(X_val_arr) \n",
    "    \n",
    "    import math\n",
    "    from sklearn.metrics import mean_squared_error\n",
    "    trainScoreReg = math.sqrt(mean_squared_error(y_train, y_pred_train_reg))\n",
    "    testScoreReg = math.sqrt(mean_squared_error(y_test, y_pred_test_reg))\n",
    "    valScoreReg = math.sqrt(mean_squared_error(y_val, y_pred_val_reg))\n",
    "    \n",
    "    if verbose == True:\n",
    "        print('Regression Train Score: %.2f RMSE' % (trainScoreReg))\n",
    "        print('Regression Test Score: %.2f RMSE' % (testScoreReg))\n",
    "        print('Regression Validation Score: %.2f RMSE' % (valScoreReg))\n",
    "        \n",
    "        plt.plot(subsets[\"r_sq\"], label=\"r squared\")\n",
    "        plt.legend()\n",
    "        plt.show()\n",
    "\n",
    "    # make training and test sets in torch\n",
    "    X_train_subset_tensor = torch.from_numpy(X_train_arr).type(torch.Tensor)\n",
    "    X_test_subset_tensor = torch.from_numpy(X_test_arr).type(torch.Tensor)\n",
    "    X_val_subset_tensor = torch.from_numpy(X_val_arr).type(torch.Tensor)\n",
    "    y_train_tensor = torch.from_numpy(y_train_arr).type(torch.Tensor)\n",
    "    y_test_tensor = torch.from_numpy(y_test_arr).type(torch.Tensor)\n",
    "    y_val_tensor = torch.from_numpy(y_val_arr).type(torch.Tensor)\n",
    "\n",
    "    X_train_subset_tensor = X_train_subset_tensor[:,:,None]\n",
    "    X_test_subset_tensor = X_test_subset_tensor[:,:,None]\n",
    "    X_val_subset_tensor = X_val_subset_tensor[:,:,None]\n",
    "\n",
    "    if verbose == True:\n",
    "        print('x_train.shape = ',X_train_subset_tensor.shape)\n",
    "        print('y_train.shape = ',y_train_tensor.shape)\n",
    "        print('x_test.shape = ',X_test_subset_tensor.shape)\n",
    "        print('y_test.shape = ',y_test_tensor.shape)\n",
    "        print('x_val.shape = ',X_val_subset_tensor.shape)\n",
    "        print('y_val.shape = ',y_val_tensor.shape)\n",
    "\n",
    "    if model_name == \"lstm\":\n",
    "        model = LSTM(input_dim=input_dim, hidden_dim=hidden_dim, output_dim=output_dim, \n",
    "                  num_layers=num_layers, dropout_prob = dropout)\n",
    "    elif model_name == \"gru\":\n",
    "        model = GRU(input_dim=input_dim, hidden_dim=hidden_dim, output_dim=output_dim, num_layers=num_layers)\n",
    "    elif model_name == \"rnn\":\n",
    "        model = RNN(input_dim=input_dim, hidden_dim=hidden_dim, output_dim=output_dim, \n",
    "                          layer_dim=num_layers, dropout_prob = dropout)\n",
    "\n",
    "    model = prune_model_l1_unstructured(model, nn.Conv2d, prune_prop)\n",
    "\n",
    "    loss_fn = torch.nn.L1Loss()\n",
    "\n",
    "    optimiser = torch.optim.Adam(model.parameters(), lr=learning_rate, weight_decay=weight_decay)\n",
    "    \n",
    "    if verbose == True:\n",
    "        print(model)\n",
    "        print(len(list(model.parameters())))\n",
    "        for i in range(len(list(model.parameters()))):\n",
    "            print(list(model.parameters())[i].size())\n",
    "        \n",
    "    model = prune_model_l1_unstructured(model, nn.Conv2d, prune_prop)\n",
    "\n",
    "    # Train model\n",
    "    #####################\n",
    "    hist = np.zeros(num_epochs)\n",
    "    hist_test = np.zeros(num_epochs)\n",
    "    look_back = 10 # choose sequence length\n",
    "\n",
    "    # Number of steps to unroll\n",
    "    seq_dim = look_back-1  \n",
    "\n",
    "    start_time = time.time() \n",
    "    for t in range(num_epochs):\n",
    "        # Initialise hidden state\n",
    "        # Don't do this if you want your LSTM to be stateful\n",
    "        #model.hidden = model.init_hidden()\n",
    "\n",
    "        # Forward pass\n",
    "        y_train_pred = model(X_train_subset_tensor)\n",
    "        y_test_pred = model(X_test_subset_tensor)\n",
    "\n",
    "        loss = loss_fn(y_train_pred, y_train_tensor)\n",
    "        loss_test = loss_fn(y_test_pred, y_test_tensor)\n",
    "        if verbose == True:\n",
    "            if t % 50 == 0 and t !=0:\n",
    "                print(\"Epoch \", t, \"MSE: \", loss.item())\n",
    "                print(\"Epoch \", t, \"Test MSE: \", loss_test.item())\n",
    "        hist[t] = loss.item()\n",
    "        hist_test[t] = loss_test.item()\n",
    "\n",
    "        # Zero out gradient, else they will accumulate between epochs\n",
    "        optimiser.zero_grad()\n",
    "\n",
    "        # Backward pass\n",
    "        loss.backward()\n",
    "\n",
    "        # Update parameters\n",
    "        optimiser.step()\n",
    "    \n",
    "    if verbose == True:\n",
    "        print(\"--- %s seconds ---\" % (time.time() - start_time))\n",
    "     \n",
    "    if verbose == True:\n",
    "        plt.plot(hist, label=\"Training loss\")\n",
    "        plt.plot(hist_test, label=\"Test loss\")\n",
    "        plt.legend()\n",
    "        plt.title(str(model) + \" Loss\")\n",
    "        plt.savefig('lstm_loss_low.png')\n",
    "        plt.show()\n",
    "\n",
    "    # make test predictions\n",
    "    y_test_pred = model(X_test_subset_tensor)\n",
    "\n",
    "    # invert predictions\n",
    "    y_train_pred = scaler.inverse_transform(y_train_pred.detach().numpy())\n",
    "    y_train_det = scaler.inverse_transform(y_train_tensor.detach().numpy())\n",
    "    y_test_pred = scaler.inverse_transform(y_test_pred.detach().numpy())\n",
    "    y_test_det = scaler.inverse_transform(y_test_tensor.detach().numpy())\n",
    "\n",
    "    # make validation predictions\n",
    "    y_val_pred = model(X_val_subset_tensor)\n",
    "\n",
    "    # invert predictions\n",
    "    y_val_pred = scaler.inverse_transform(y_val_pred.detach().numpy())\n",
    "    y_val_det = scaler.inverse_transform(y_val_tensor.detach().numpy())\n",
    "\n",
    "    # calculate root mean squared error\n",
    "    trainScore = math.sqrt(mean_squared_error(y_train_det[:,0], y_train_pred[:,0]))\n",
    "    testScore = math.sqrt(mean_squared_error(y_test_det[:,0], y_test_pred[:,0]))\n",
    "    valScore = math.sqrt(mean_squared_error(y_val_det[:,0], y_val_pred[:,0]))\n",
    "    \n",
    "    if verbose == True:\n",
    "        print('Test Score: %.2f RMSE' % (testScore))\n",
    "        print('Train Score: %.2f RMSE' % (trainScore))\n",
    "        print('Validation Score: %.2f RMSE' % (valScore))\n",
    "        \n",
    "        # Visualising the results\n",
    "        figure, axes = plt.subplots()\n",
    "        axes.xaxis_date()\n",
    "\n",
    "        axes.plot(pd.to_datetime(y_val.index), y_val.values, color = 'red', label = 'Real')\n",
    "        axes.plot(pd.to_datetime(y_val.index), y_val_pred, color = 'blue', label = 'Predicted')\n",
    "        plt.title(str(model) + ' Prediction')\n",
    "        plt.xlabel('Time')\n",
    "        plt.ylabel('Price')\n",
    "        plt.legend()\n",
    "        plt.savefig('lstm.png')\n",
    "        plt.show()\n",
    "\n",
    "    err_row = pd.DataFrame(data = {\"reg_train\":trainScoreReg,\"reg_test\":testScoreReg, \"reg_val\":valScoreReg,\n",
    "          \"net_train\":trainScore,\"net_test\":testScore, \"net_val\":valScore#,\n",
    "            #\"hist\":hist,\"hist_test\":hist_test,\"y_test_pred\":y_test_pred, \"y_val_pred\":y_val_pred\n",
    "                                  }, index = [str(dte)])\n",
    "    \n",
    "    fcst = pd.DataFrame(data = {\"dte\" : y_val.index.to_list(), \"step\":[step] * len(y_val_pred), \n",
    "                                \"y_pred\": y_val_pred.flatten(), \"y_val\": y_val.values.flatten()})\n",
    "\n",
    "    fcst.index = fcst[\"step\"].astype(str) + \"_\" + fcst[\"dte\"]\n",
    "\n",
    "    return(hist, hist_test, y_test_pred, y_val_pred, err_row, fcst)\n"
   ]
  },
  {
   "cell_type": "markdown",
   "id": "2e051523",
   "metadata": {},
   "source": [
    "## ESRNN2"
   ]
  },
  {
   "cell_type": "code",
   "execution_count": 51,
   "id": "2c6e316a",
   "metadata": {},
   "outputs": [
    {
     "name": "stdout",
     "output_type": "stream",
     "text": [
      "loading config\n",
      "loading data\n"
     ]
    },
    {
     "name": "stderr",
     "output_type": "stream",
     "text": [
      "C:/Users/lawre/OneDrive/Documents/GitHub/ESRNN-GPU\\es_rnn\\data_loading.py:19: VisibleDeprecationWarning: Creating an ndarray from ragged nested sequences (which is a list-or-tuple of lists-or-tuples-or ndarrays with different lengths or shapes) is deprecated. If you meant to do this, you must specify 'dtype=object' when creating the ndarray\n",
      "  series = np.array(series)\n"
     ]
    },
    {
     "ename": "AttributeError",
     "evalue": "module 'tensorboard.summary._tf.summary' has no attribute 'FileWriter'",
     "output_type": "error",
     "traceback": [
      "\u001b[1;31m---------------------------------------------------------------------------\u001b[0m",
      "\u001b[1;31mAttributeError\u001b[0m                            Traceback (most recent call last)",
      "\u001b[1;32m<ipython-input-51-f0854609fea9>\u001b[0m in \u001b[0;36m<module>\u001b[1;34m\u001b[0m\n\u001b[0;32m     24\u001b[0m \u001b[0mrun_id\u001b[0m \u001b[1;33m=\u001b[0m \u001b[0mstr\u001b[0m\u001b[1;33m(\u001b[0m\u001b[0mint\u001b[0m\u001b[1;33m(\u001b[0m\u001b[0mtime\u001b[0m\u001b[1;33m.\u001b[0m\u001b[0mtime\u001b[0m\u001b[1;33m(\u001b[0m\u001b[1;33m)\u001b[0m\u001b[1;33m)\u001b[0m\u001b[1;33m)\u001b[0m\u001b[1;33m\u001b[0m\u001b[1;33m\u001b[0m\u001b[0m\n\u001b[0;32m     25\u001b[0m \u001b[0mmodel\u001b[0m \u001b[1;33m=\u001b[0m \u001b[0mESRNN\u001b[0m\u001b[1;33m(\u001b[0m\u001b[0mnum_series\u001b[0m\u001b[1;33m=\u001b[0m\u001b[0mlen\u001b[0m\u001b[1;33m(\u001b[0m\u001b[0mdataset\u001b[0m\u001b[1;33m)\u001b[0m\u001b[1;33m,\u001b[0m \u001b[0mconfig\u001b[0m\u001b[1;33m=\u001b[0m\u001b[0mconfig\u001b[0m\u001b[1;33m)\u001b[0m\u001b[1;33m\u001b[0m\u001b[1;33m\u001b[0m\u001b[0m\n\u001b[1;32m---> 26\u001b[1;33m \u001b[0mtr\u001b[0m \u001b[1;33m=\u001b[0m \u001b[0mESRNNTrainer\u001b[0m\u001b[1;33m(\u001b[0m\u001b[0mmodel\u001b[0m\u001b[1;33m,\u001b[0m \u001b[0mdataloader\u001b[0m\u001b[1;33m,\u001b[0m \u001b[0mrun_id\u001b[0m\u001b[1;33m,\u001b[0m \u001b[0mconfig\u001b[0m\u001b[1;33m,\u001b[0m \u001b[0mohe_headers\u001b[0m\u001b[1;33m=\u001b[0m\u001b[0mdataset\u001b[0m\u001b[1;33m.\u001b[0m\u001b[0mdataInfoCatHeaders\u001b[0m\u001b[1;33m)\u001b[0m\u001b[1;33m\u001b[0m\u001b[1;33m\u001b[0m\u001b[0m\n\u001b[0m\u001b[0;32m     27\u001b[0m \u001b[0mtr\u001b[0m\u001b[1;33m.\u001b[0m\u001b[0mtrain_epochs\u001b[0m\u001b[1;33m(\u001b[0m\u001b[1;33m)\u001b[0m\u001b[1;33m\u001b[0m\u001b[1;33m\u001b[0m\u001b[0m\n",
      "\u001b[1;32mC:/Users/lawre/OneDrive/Documents/GitHub/ESRNN-GPU\\es_rnn\\trainer.py\u001b[0m in \u001b[0;36m__init__\u001b[1;34m(self, model, dataloader, run_id, config, ohe_headers)\u001b[0m\n\u001b[0;32m     28\u001b[0m         \u001b[0mself\u001b[0m\u001b[1;33m.\u001b[0m\u001b[0mrun_id\u001b[0m \u001b[1;33m=\u001b[0m \u001b[0mstr\u001b[0m\u001b[1;33m(\u001b[0m\u001b[0mrun_id\u001b[0m\u001b[1;33m)\u001b[0m\u001b[1;33m\u001b[0m\u001b[1;33m\u001b[0m\u001b[0m\n\u001b[0;32m     29\u001b[0m         \u001b[0mself\u001b[0m\u001b[1;33m.\u001b[0m\u001b[0mprod_str\u001b[0m \u001b[1;33m=\u001b[0m \u001b[1;34m'prod'\u001b[0m \u001b[1;32mif\u001b[0m \u001b[0mconfig\u001b[0m\u001b[1;33m[\u001b[0m\u001b[1;34m'prod'\u001b[0m\u001b[1;33m]\u001b[0m \u001b[1;32melse\u001b[0m \u001b[1;34m'dev'\u001b[0m\u001b[1;33m\u001b[0m\u001b[1;33m\u001b[0m\u001b[0m\n\u001b[1;32m---> 30\u001b[1;33m         \u001b[0mself\u001b[0m\u001b[1;33m.\u001b[0m\u001b[0mlog\u001b[0m \u001b[1;33m=\u001b[0m \u001b[0mLogger\u001b[0m\u001b[1;33m(\u001b[0m\u001b[1;34m\"../logs/train%s%s%s\"\u001b[0m \u001b[1;33m%\u001b[0m \u001b[1;33m(\u001b[0m\u001b[0mself\u001b[0m\u001b[1;33m.\u001b[0m\u001b[0mconfig\u001b[0m\u001b[1;33m[\u001b[0m\u001b[1;34m'variable'\u001b[0m\u001b[1;33m]\u001b[0m\u001b[1;33m,\u001b[0m \u001b[0mself\u001b[0m\u001b[1;33m.\u001b[0m\u001b[0mprod_str\u001b[0m\u001b[1;33m,\u001b[0m \u001b[0mself\u001b[0m\u001b[1;33m.\u001b[0m\u001b[0mrun_id\u001b[0m\u001b[1;33m)\u001b[0m\u001b[1;33m)\u001b[0m\u001b[1;33m\u001b[0m\u001b[1;33m\u001b[0m\u001b[0m\n\u001b[0m\u001b[0;32m     31\u001b[0m         \u001b[0mself\u001b[0m\u001b[1;33m.\u001b[0m\u001b[0mcsv_save_path\u001b[0m \u001b[1;33m=\u001b[0m \u001b[1;32mNone\u001b[0m\u001b[1;33m\u001b[0m\u001b[1;33m\u001b[0m\u001b[0m\n\u001b[0;32m     32\u001b[0m \u001b[1;33m\u001b[0m\u001b[0m\n",
      "\u001b[1;32mC:/Users/lawre/OneDrive/Documents/GitHub/ESRNN-GPU\\utils\\logger.py\u001b[0m in \u001b[0;36m__init__\u001b[1;34m(self, log_dir)\u001b[0m\n\u001b[0;32m      7\u001b[0m \u001b[1;33m\u001b[0m\u001b[0m\n\u001b[0;32m      8\u001b[0m     \u001b[1;32mdef\u001b[0m \u001b[0m__init__\u001b[0m\u001b[1;33m(\u001b[0m\u001b[0mself\u001b[0m\u001b[1;33m,\u001b[0m \u001b[0mlog_dir\u001b[0m\u001b[1;33m)\u001b[0m\u001b[1;33m:\u001b[0m\u001b[1;33m\u001b[0m\u001b[1;33m\u001b[0m\u001b[0m\n\u001b[1;32m----> 9\u001b[1;33m         \u001b[0mself\u001b[0m\u001b[1;33m.\u001b[0m\u001b[0mwriter\u001b[0m \u001b[1;33m=\u001b[0m \u001b[0mtf\u001b[0m\u001b[1;33m.\u001b[0m\u001b[0msummary\u001b[0m\u001b[1;33m.\u001b[0m\u001b[0mFileWriter\u001b[0m\u001b[1;33m(\u001b[0m\u001b[0mlog_dir\u001b[0m\u001b[1;33m)\u001b[0m\u001b[1;33m\u001b[0m\u001b[1;33m\u001b[0m\u001b[0m\n\u001b[0m\u001b[0;32m     10\u001b[0m \u001b[1;33m\u001b[0m\u001b[0m\n\u001b[0;32m     11\u001b[0m     \u001b[1;32mdef\u001b[0m \u001b[0mlog_scalar\u001b[0m\u001b[1;33m(\u001b[0m\u001b[0mself\u001b[0m\u001b[1;33m,\u001b[0m \u001b[0mtag\u001b[0m\u001b[1;33m,\u001b[0m \u001b[0mvalue\u001b[0m\u001b[1;33m,\u001b[0m \u001b[0mstep\u001b[0m\u001b[1;33m)\u001b[0m\u001b[1;33m:\u001b[0m\u001b[1;33m\u001b[0m\u001b[1;33m\u001b[0m\u001b[0m\n",
      "\u001b[1;31mAttributeError\u001b[0m: module 'tensorboard.summary._tf.summary' has no attribute 'FileWriter'"
     ]
    }
   ],
   "source": []
  },
  {
   "cell_type": "markdown",
   "id": "8c3fe8d9",
   "metadata": {},
   "source": [
    "## Testing"
   ]
  },
  {
   "cell_type": "code",
   "execution_count": 32,
   "id": "292311d7",
   "metadata": {},
   "outputs": [],
   "source": [
    "# dat,\n",
    "# dte,\n",
    "# y_name,\n",
    "# y_remove,\n",
    "step = 1\n",
    "model_name = \"lstm\"\n",
    "input_dim = 1\n",
    "hidden_dim = 32\n",
    "num_layers = 4\n",
    "output_dim = 1\n",
    "learning_rate = 0.1\n",
    "weight_decay = 0.000001\n",
    "dropout = 0.2\n",
    "prune_prop = 0.2\n",
    "num_epochs = 200\n",
    "read_vif_values = False\n",
    "verbose = True\n",
    "read_subset_values = False\n",
    "val_days = 50\n",
    "test_days = 50\n",
    "y_name = \"tgt_crd\"\n",
    "y_remove = \"tgt_iron\"\n",
    "dates = dat.iloc[:-100]\n",
    "dates = dates[(dates.index >= str(forecast_start_date))].index\n",
    "model_name = \"lstm\"\n",
    "dte = dte = datetime.strptime(dates[1], \"%Y-%m-%d\")\n",
    "val_days = 50\n",
    "test_days = 50"
   ]
  },
  {
   "cell_type": "code",
   "execution_count": 33,
   "id": "2af8589d",
   "metadata": {},
   "outputs": [],
   "source": [
    "X_df = pd.read_csv(root + \"\\\\data\\\\X_df.csv\")\n",
    "y_df = pd.read_csv(root + \"\\\\data\\\\y_df.csv\")"
   ]
  },
  {
   "cell_type": "code",
   "execution_count": 42,
   "id": "5e402444",
   "metadata": {},
   "outputs": [],
   "source": [
    "def train_val_test_split_date_esrnn(df, dte, val_days = 50, test_days = 50):\n",
    "    val_date = dte + timedelta(days=val_days)\n",
    "    test_max_date = val_date + timedelta(days=test_days)\n",
    "    df[\"ds\"] = pd.to_datetime(df[\"ds\"])\n",
    "    train = df[df[\"ds\"] <= str(dte)]\n",
    "    val = df[(df[\"ds\"] > str(dte)) & (df[\"ds\"] <= str(val_date))]\n",
    "    test = df[(df[\"ds\"] > str(val_date)) & (df[\"ds\"] <= str(test_max_date))]\n",
    "    \n",
    "\n",
    "    return train, val, test\n",
    "\n",
    "X_train, X_val, X_test = train_val_test_split_date_esrnn(X_df, dte)\n",
    "y_train, y_val, y_test = train_val_test_split_date_esrnn(y_df, dte)\n"
   ]
  },
  {
   "cell_type": "code",
   "execution_count": 44,
   "id": "e40d9bae",
   "metadata": {},
   "outputs": [
    {
     "name": "stdout",
     "output_type": "stream",
     "text": [
      "Infered frequency: B\n",
      "=============== Training ESRNN  ===============\n",
      "\n",
      "========= Epoch 0 finished =========\n",
      "Training time: 585.85353\n",
      "Training loss (50 prc): nan\n",
      "Testing loss  (50 prc): nan\n"
     ]
    },
    {
     "name": "stderr",
     "output_type": "stream",
     "text": [
      "C:\\Users\\lawre\\anaconda3\\envs\\gpu2\\lib\\site-packages\\ESRNN\\utils_evaluation.py:248: RuntimeWarning: invalid value encountered in true_divide\n",
      "  smape = np.mean(2.0 * np.abs(y - y_hat) / (np.abs(y) + np.abs(y_hat)))\n"
     ]
    },
    {
     "name": "stdout",
     "output_type": "stream",
     "text": [
      "OWA: nan \n",
      "SMAPE: nan \n",
      "MASE: nan \n",
      "========= Epoch 1 finished =========\n",
      "Training time: 617.21526\n",
      "Training loss (50 prc): nan\n",
      "Testing loss  (50 prc): nan\n",
      "OWA: nan \n",
      "SMAPE: nan \n",
      "MASE: nan \n",
      "========= Epoch 2 finished =========\n",
      "Training time: 632.24327\n",
      "Training loss (50 prc): nan\n",
      "Testing loss  (50 prc): nan\n",
      "OWA: nan \n",
      "SMAPE: nan \n",
      "MASE: nan \n",
      "========= Epoch 3 finished =========\n",
      "Training time: 633.94149\n",
      "Training loss (50 prc): nan\n",
      "Testing loss  (50 prc): nan\n",
      "OWA: nan \n",
      "SMAPE: nan \n",
      "MASE: nan \n",
      "========= Epoch 4 finished =========\n",
      "Training time: 630.75236\n",
      "Training loss (50 prc): nan\n",
      "Testing loss  (50 prc): nan\n",
      "OWA: nan \n",
      "SMAPE: nan \n",
      "MASE: nan \n",
      "Train finished! \n",
      "\n"
     ]
    }
   ],
   "source": [
    "# dat_y = dat.copy().drop(y_remove, axis=1)#.astype('float64')\n",
    "# X_train, X_val, X_test, y_train, y_val, y_test = train_val_test_split_date(df = dat, target_col = y_name, dte = dte,\n",
    "#                                                                           val_days = val_days, test_days = val_days)\n",
    "\n",
    "# if verbose == True:\n",
    "#     print(dte)\n",
    "#     print(\"X_train: \" + str(X_train.shape) + \" \" + str(min(X_train.index)) + \">\" + str(max(X_train.index)))\n",
    "#     print(\"X_test: \" + str(X_test.shape)+ \" \" + str(min(X_test.index)) + \">\" + str(max(X_test.index)))\n",
    "#     print(\"X_val: \" + str(X_val.shape)+ \" \" + str(min(X_val.index)) + \">\" + str(max(X_val.index)))\n",
    "#     print(\"y_train: \" + str(y_train.shape)+ \" \" + str(min(y_train.index)) + \">\" + str(max(y_train.index)))\n",
    "#     print(\"y_test: \" + str(y_test.shape)+ \" \" + str(min(y_test.index)) + \">\" + str(max(y_test.index)))\n",
    "#     print(\"y_val: \" + str(y_val.shape)+ \" \" + str(min(y_val.index)) + \">\" + str(max(y_val.index)))\n",
    "\n",
    "model = ESRNN(max_epochs=5, \n",
    "                freq_of_test=1, \n",
    "                batch_size=32, \n",
    "                learning_rate=0.02, \n",
    "                per_series_lr_multip=0.5,\n",
    "                lr_scheduler_step_size=7, \n",
    "                lr_decay=0.5, \n",
    "                gradient_clipping_threshold=50, \n",
    "                rnn_weight_decay=0.0, \n",
    "                noise_std=0.001, \n",
    "                level_variability_penalty=30, \n",
    "                testing_percentile=50, \n",
    "                training_percentile=50,\n",
    "                ensemble=True, \n",
    "                max_periods=371, \n",
    "                seasonality=[24, 168], \n",
    "                input_size=24, \n",
    "                output_size=48,\n",
    "                cell_type='LSTM', \n",
    "                state_hsize=40, \n",
    "                dilations=[[1, 4, 24, 168]], \n",
    "                add_nl_layer=False,\n",
    "                random_seed=1, \n",
    "                device='cpu')\n",
    "\n",
    "model.fit(X_df = X_train, y_df = y_train, X_test_df = X_test, y_test_df = y_test)"
   ]
  },
  {
   "cell_type": "code",
   "execution_count": 47,
   "id": "1de5866b",
   "metadata": {},
   "outputs": [
    {
     "name": "stdout",
     "output_type": "stream",
     "text": [
      "===============  Model evaluation  ==============\n",
      "OWA: nan \n",
      "SMAPE: nan \n",
      "MASE: nan \n"
     ]
    }
   ],
   "source": [
    "# Predict on test set\n",
    "y_hat_df = model.predict(X_test)\n",
    "\n",
    "# Evaluate predictions\n",
    "final_owa, final_mase, final_smape = evaluate_prediction_owa(y_hat_df, y_train,\n",
    "                                                             X_test, y_test,\n",
    "                                                             naive2_seasonality=1)"
   ]
  },
  {
   "cell_type": "code",
   "execution_count": 35,
   "id": "18b96c16",
   "metadata": {},
   "outputs": [
    {
     "data": {
      "text/html": [
       "<div>\n",
       "<style scoped>\n",
       "    .dataframe tbody tr th:only-of-type {\n",
       "        vertical-align: middle;\n",
       "    }\n",
       "\n",
       "    .dataframe tbody tr th {\n",
       "        vertical-align: top;\n",
       "    }\n",
       "\n",
       "    .dataframe thead th {\n",
       "        text-align: right;\n",
       "    }\n",
       "</style>\n",
       "<table border=\"1\" class=\"dataframe\">\n",
       "  <thead>\n",
       "    <tr style=\"text-align: right;\">\n",
       "      <th></th>\n",
       "      <th>dte</th>\n",
       "      <th>unique_id</th>\n",
       "      <th>x</th>\n",
       "    </tr>\n",
       "  </thead>\n",
       "  <tbody>\n",
       "    <tr>\n",
       "      <th>0</th>\n",
       "      <td>2010-10-26</td>\n",
       "      <td>Open_crd</td>\n",
       "      <td>82.470001</td>\n",
       "    </tr>\n",
       "    <tr>\n",
       "      <th>1</th>\n",
       "      <td>2010-10-27</td>\n",
       "      <td>Open_crd</td>\n",
       "      <td>82.480003</td>\n",
       "    </tr>\n",
       "    <tr>\n",
       "      <th>2</th>\n",
       "      <td>2010-10-28</td>\n",
       "      <td>Open_crd</td>\n",
       "      <td>81.989998</td>\n",
       "    </tr>\n",
       "    <tr>\n",
       "      <th>3</th>\n",
       "      <td>2010-10-29</td>\n",
       "      <td>Open_crd</td>\n",
       "      <td>81.919998</td>\n",
       "    </tr>\n",
       "    <tr>\n",
       "      <th>4</th>\n",
       "      <td>2010-11-01</td>\n",
       "      <td>Open_crd</td>\n",
       "      <td>81.449997</td>\n",
       "    </tr>\n",
       "    <tr>\n",
       "      <th>...</th>\n",
       "      <td>...</td>\n",
       "      <td>...</td>\n",
       "      <td>...</td>\n",
       "    </tr>\n",
       "    <tr>\n",
       "      <th>959966</th>\n",
       "      <td>2022-12-28</td>\n",
       "      <td>yoy_Price</td>\n",
       "      <td>0.320000</td>\n",
       "    </tr>\n",
       "    <tr>\n",
       "      <th>959967</th>\n",
       "      <td>2022-12-29</td>\n",
       "      <td>yoy_Price</td>\n",
       "      <td>1.510000</td>\n",
       "    </tr>\n",
       "    <tr>\n",
       "      <th>959968</th>\n",
       "      <td>2022-12-30</td>\n",
       "      <td>yoy_Price</td>\n",
       "      <td>2.050000</td>\n",
       "    </tr>\n",
       "    <tr>\n",
       "      <th>959969</th>\n",
       "      <td>2023-01-03</td>\n",
       "      <td>yoy_Price</td>\n",
       "      <td>8.530000</td>\n",
       "    </tr>\n",
       "    <tr>\n",
       "      <th>959970</th>\n",
       "      <td>2023-01-04</td>\n",
       "      <td>yoy_Price</td>\n",
       "      <td>4.850000</td>\n",
       "    </tr>\n",
       "  </tbody>\n",
       "</table>\n",
       "<p>959971 rows × 3 columns</p>\n",
       "</div>"
      ],
      "text/plain": [
       "               dte  unique_id          x\n",
       "0       2010-10-26   Open_crd  82.470001\n",
       "1       2010-10-27   Open_crd  82.480003\n",
       "2       2010-10-28   Open_crd  81.989998\n",
       "3       2010-10-29   Open_crd  81.919998\n",
       "4       2010-11-01   Open_crd  81.449997\n",
       "...            ...        ...        ...\n",
       "959966  2022-12-28  yoy_Price   0.320000\n",
       "959967  2022-12-29  yoy_Price   1.510000\n",
       "959968  2022-12-30  yoy_Price   2.050000\n",
       "959969  2023-01-03  yoy_Price   8.530000\n",
       "959970  2023-01-04  yoy_Price   4.850000\n",
       "\n",
       "[959971 rows x 3 columns]"
      ]
     },
     "execution_count": 35,
     "metadata": {},
     "output_type": "execute_result"
    }
   ],
   "source": [
    "X_train_long = pd.melt(X_train.reset_index(), id_vars = \"dte\", var_name = \"unique_id\", value_name = \"x\")\n",
    "X_train_long"
   ]
  },
  {
   "cell_type": "code",
   "execution_count": 39,
   "id": "3e3ededf",
   "metadata": {},
   "outputs": [
    {
     "name": "stdout",
     "output_type": "stream",
     "text": [
      "Successfully downloaded Train/Quarterly-train.csv 38788547 bytes.\n",
      "Successfully downloaded Train/Weekly-train.csv 4015067 bytes.\n",
      "Successfully downloaded Train/Yearly-train.csv 25355736 bytes.\n",
      "Successfully downloaded Test/Daily-test.csv 576459 bytes.\n",
      "Successfully downloaded Test/Hourly-test.csv 132820 bytes.\n",
      "Successfully downloaded Test/Monthly-test.csv 7942698 bytes.\n",
      "Successfully downloaded Test/Quarterly-test.csv 1971754 bytes.\n",
      "Successfully downloaded Test/Weekly-test.csv 44247 bytes.\n",
      "Successfully downloaded Test/Yearly-test.csv 1486434 bytes.\n",
      "\n",
      "\n",
      "Preparing Yearly dataset\n",
      "Preparing Naive2 Yearly dataset predictions\n"
     ]
    },
    {
     "data": {
      "text/html": [
       "<div>\n",
       "<style scoped>\n",
       "    .dataframe tbody tr th:only-of-type {\n",
       "        vertical-align: middle;\n",
       "    }\n",
       "\n",
       "    .dataframe tbody tr th {\n",
       "        vertical-align: top;\n",
       "    }\n",
       "\n",
       "    .dataframe thead th {\n",
       "        text-align: right;\n",
       "    }\n",
       "</style>\n",
       "<table border=\"1\" class=\"dataframe\">\n",
       "  <thead>\n",
       "    <tr style=\"text-align: right;\">\n",
       "      <th></th>\n",
       "      <th>unique_id</th>\n",
       "      <th>ds</th>\n",
       "      <th>x</th>\n",
       "    </tr>\n",
       "  </thead>\n",
       "  <tbody>\n",
       "    <tr>\n",
       "      <th>0</th>\n",
       "      <td>Y1</td>\n",
       "      <td>1970-01-01</td>\n",
       "      <td>Macro</td>\n",
       "    </tr>\n",
       "    <tr>\n",
       "      <th>1</th>\n",
       "      <td>Y1</td>\n",
       "      <td>1970-01-02</td>\n",
       "      <td>Macro</td>\n",
       "    </tr>\n",
       "    <tr>\n",
       "      <th>2</th>\n",
       "      <td>Y1</td>\n",
       "      <td>1970-01-03</td>\n",
       "      <td>Macro</td>\n",
       "    </tr>\n",
       "    <tr>\n",
       "      <th>3</th>\n",
       "      <td>Y1</td>\n",
       "      <td>1970-01-04</td>\n",
       "      <td>Macro</td>\n",
       "    </tr>\n",
       "    <tr>\n",
       "      <th>4</th>\n",
       "      <td>Y1</td>\n",
       "      <td>1970-01-05</td>\n",
       "      <td>Macro</td>\n",
       "    </tr>\n",
       "    <tr>\n",
       "      <th>...</th>\n",
       "      <td>...</td>\n",
       "      <td>...</td>\n",
       "      <td>...</td>\n",
       "    </tr>\n",
       "    <tr>\n",
       "      <th>34876</th>\n",
       "      <td>Y999</td>\n",
       "      <td>1970-01-16</td>\n",
       "      <td>Macro</td>\n",
       "    </tr>\n",
       "    <tr>\n",
       "      <th>34877</th>\n",
       "      <td>Y999</td>\n",
       "      <td>1970-01-17</td>\n",
       "      <td>Macro</td>\n",
       "    </tr>\n",
       "    <tr>\n",
       "      <th>34878</th>\n",
       "      <td>Y999</td>\n",
       "      <td>1970-01-18</td>\n",
       "      <td>Macro</td>\n",
       "    </tr>\n",
       "    <tr>\n",
       "      <th>34879</th>\n",
       "      <td>Y999</td>\n",
       "      <td>1970-01-19</td>\n",
       "      <td>Macro</td>\n",
       "    </tr>\n",
       "    <tr>\n",
       "      <th>34880</th>\n",
       "      <td>Y999</td>\n",
       "      <td>1970-01-20</td>\n",
       "      <td>Macro</td>\n",
       "    </tr>\n",
       "  </tbody>\n",
       "</table>\n",
       "<p>34881 rows × 3 columns</p>\n",
       "</div>"
      ],
      "text/plain": [
       "      unique_id         ds      x\n",
       "0            Y1 1970-01-01  Macro\n",
       "1            Y1 1970-01-02  Macro\n",
       "2            Y1 1970-01-03  Macro\n",
       "3            Y1 1970-01-04  Macro\n",
       "4            Y1 1970-01-05  Macro\n",
       "...         ...        ...    ...\n",
       "34876      Y999 1970-01-16  Macro\n",
       "34877      Y999 1970-01-17  Macro\n",
       "34878      Y999 1970-01-18  Macro\n",
       "34879      Y999 1970-01-19  Macro\n",
       "34880      Y999 1970-01-20  Macro\n",
       "\n",
       "[34881 rows x 3 columns]"
      ]
     },
     "execution_count": 39,
     "metadata": {},
     "output_type": "execute_result"
    }
   ],
   "source": [
    "from ESRNN.m4_data import prepare_m4_data\n",
    "from ESRNN.utils_evaluation import evaluate_prediction_owa\n",
    "\n",
    "from ESRNN import ESRNN\n",
    "\n",
    "X_train_df, y_train_df, X_test_df, y_test_df = prepare_m4_data(dataset_name='Yearly',\n",
    "                                                               directory = root + '/data',\n",
    "                                                               num_obs=1000)\n",
    "X_train_df"
   ]
  },
  {
   "cell_type": "code",
   "execution_count": 40,
   "id": "fa955e51",
   "metadata": {},
   "outputs": [
    {
     "data": {
      "text/html": [
       "<div>\n",
       "<style scoped>\n",
       "    .dataframe tbody tr th:only-of-type {\n",
       "        vertical-align: middle;\n",
       "    }\n",
       "\n",
       "    .dataframe tbody tr th {\n",
       "        vertical-align: top;\n",
       "    }\n",
       "\n",
       "    .dataframe thead th {\n",
       "        text-align: right;\n",
       "    }\n",
       "</style>\n",
       "<table border=\"1\" class=\"dataframe\">\n",
       "  <thead>\n",
       "    <tr style=\"text-align: right;\">\n",
       "      <th></th>\n",
       "      <th>unique_id</th>\n",
       "      <th>ds</th>\n",
       "      <th>y</th>\n",
       "    </tr>\n",
       "  </thead>\n",
       "  <tbody>\n",
       "    <tr>\n",
       "      <th>0</th>\n",
       "      <td>Y1</td>\n",
       "      <td>1970-01-01</td>\n",
       "      <td>5172.1</td>\n",
       "    </tr>\n",
       "    <tr>\n",
       "      <th>1</th>\n",
       "      <td>Y1</td>\n",
       "      <td>1970-01-02</td>\n",
       "      <td>5133.5</td>\n",
       "    </tr>\n",
       "    <tr>\n",
       "      <th>2</th>\n",
       "      <td>Y1</td>\n",
       "      <td>1970-01-03</td>\n",
       "      <td>5186.9</td>\n",
       "    </tr>\n",
       "    <tr>\n",
       "      <th>3</th>\n",
       "      <td>Y1</td>\n",
       "      <td>1970-01-04</td>\n",
       "      <td>5084.6</td>\n",
       "    </tr>\n",
       "    <tr>\n",
       "      <th>4</th>\n",
       "      <td>Y1</td>\n",
       "      <td>1970-01-05</td>\n",
       "      <td>5182.0</td>\n",
       "    </tr>\n",
       "    <tr>\n",
       "      <th>...</th>\n",
       "      <td>...</td>\n",
       "      <td>...</td>\n",
       "      <td>...</td>\n",
       "    </tr>\n",
       "    <tr>\n",
       "      <th>34876</th>\n",
       "      <td>Y999</td>\n",
       "      <td>1970-01-16</td>\n",
       "      <td>1742.0</td>\n",
       "    </tr>\n",
       "    <tr>\n",
       "      <th>34877</th>\n",
       "      <td>Y999</td>\n",
       "      <td>1970-01-17</td>\n",
       "      <td>1420.0</td>\n",
       "    </tr>\n",
       "    <tr>\n",
       "      <th>34878</th>\n",
       "      <td>Y999</td>\n",
       "      <td>1970-01-18</td>\n",
       "      <td>971.0</td>\n",
       "    </tr>\n",
       "    <tr>\n",
       "      <th>34879</th>\n",
       "      <td>Y999</td>\n",
       "      <td>1970-01-19</td>\n",
       "      <td>563.0</td>\n",
       "    </tr>\n",
       "    <tr>\n",
       "      <th>34880</th>\n",
       "      <td>Y999</td>\n",
       "      <td>1970-01-20</td>\n",
       "      <td>383.0</td>\n",
       "    </tr>\n",
       "  </tbody>\n",
       "</table>\n",
       "<p>34881 rows × 3 columns</p>\n",
       "</div>"
      ],
      "text/plain": [
       "      unique_id         ds       y\n",
       "0            Y1 1970-01-01  5172.1\n",
       "1            Y1 1970-01-02  5133.5\n",
       "2            Y1 1970-01-03  5186.9\n",
       "3            Y1 1970-01-04  5084.6\n",
       "4            Y1 1970-01-05  5182.0\n",
       "...         ...        ...     ...\n",
       "34876      Y999 1970-01-16  1742.0\n",
       "34877      Y999 1970-01-17  1420.0\n",
       "34878      Y999 1970-01-18   971.0\n",
       "34879      Y999 1970-01-19   563.0\n",
       "34880      Y999 1970-01-20   383.0\n",
       "\n",
       "[34881 rows x 3 columns]"
      ]
     },
     "execution_count": 40,
     "metadata": {},
     "output_type": "execute_result"
    }
   ],
   "source": [
    "y_train_df"
   ]
  },
  {
   "cell_type": "code",
   "execution_count": 26,
   "id": "e5a1c5bc",
   "metadata": {},
   "outputs": [
    {
     "data": {
      "text/html": [
       "<div>\n",
       "<style scoped>\n",
       "    .dataframe tbody tr th:only-of-type {\n",
       "        vertical-align: middle;\n",
       "    }\n",
       "\n",
       "    .dataframe tbody tr th {\n",
       "        vertical-align: top;\n",
       "    }\n",
       "\n",
       "    .dataframe thead th {\n",
       "        text-align: right;\n",
       "    }\n",
       "</style>\n",
       "<table border=\"1\" class=\"dataframe\">\n",
       "  <thead>\n",
       "    <tr style=\"text-align: right;\">\n",
       "      <th></th>\n",
       "      <th>tgt_crd</th>\n",
       "    </tr>\n",
       "    <tr>\n",
       "      <th>dte</th>\n",
       "      <th></th>\n",
       "    </tr>\n",
       "  </thead>\n",
       "  <tbody>\n",
       "    <tr>\n",
       "      <th>2010-10-26</th>\n",
       "      <td>81.940002</td>\n",
       "    </tr>\n",
       "    <tr>\n",
       "      <th>2010-10-27</th>\n",
       "      <td>82.180000</td>\n",
       "    </tr>\n",
       "    <tr>\n",
       "      <th>2010-10-28</th>\n",
       "      <td>81.430000</td>\n",
       "    </tr>\n",
       "    <tr>\n",
       "      <th>2010-10-29</th>\n",
       "      <td>82.949997</td>\n",
       "    </tr>\n",
       "    <tr>\n",
       "      <th>2010-11-01</th>\n",
       "      <td>83.900002</td>\n",
       "    </tr>\n",
       "    <tr>\n",
       "      <th>...</th>\n",
       "      <td>...</td>\n",
       "    </tr>\n",
       "    <tr>\n",
       "      <th>2022-12-28</th>\n",
       "      <td>78.400002</td>\n",
       "    </tr>\n",
       "    <tr>\n",
       "      <th>2022-12-29</th>\n",
       "      <td>80.260002</td>\n",
       "    </tr>\n",
       "    <tr>\n",
       "      <th>2022-12-30</th>\n",
       "      <td>76.930000</td>\n",
       "    </tr>\n",
       "    <tr>\n",
       "      <th>2023-01-03</th>\n",
       "      <td>72.839996</td>\n",
       "    </tr>\n",
       "    <tr>\n",
       "      <th>2023-01-04</th>\n",
       "      <td>73.669998</td>\n",
       "    </tr>\n",
       "  </tbody>\n",
       "</table>\n",
       "<p>3067 rows × 1 columns</p>\n",
       "</div>"
      ],
      "text/plain": [
       "              tgt_crd\n",
       "dte                  \n",
       "2010-10-26  81.940002\n",
       "2010-10-27  82.180000\n",
       "2010-10-28  81.430000\n",
       "2010-10-29  82.949997\n",
       "2010-11-01  83.900002\n",
       "...               ...\n",
       "2022-12-28  78.400002\n",
       "2022-12-29  80.260002\n",
       "2022-12-30  76.930000\n",
       "2023-01-03  72.839996\n",
       "2023-01-04  73.669998\n",
       "\n",
       "[3067 rows x 1 columns]"
      ]
     },
     "execution_count": 26,
     "metadata": {},
     "output_type": "execute_result"
    }
   ],
   "source": [
    "y_train"
   ]
  },
  {
   "cell_type": "code",
   "execution_count": 62,
   "id": "80c8f56d",
   "metadata": {},
   "outputs": [
    {
     "name": "stdout",
     "output_type": "stream",
     "text": [
      "2023-01-03 00:00:00\n",
      "X_train: (3066, 312) 2010-10-26>2023-01-03\n",
      "X_test: (35, 312) 2023-02-23>2023-04-13\n",
      "X_val: (34, 312) 2023-01-04>2023-02-22\n",
      "y_train: (3066, 1) 2010-10-26>2023-01-03\n",
      "y_test: (35, 1) 2023-02-23>2023-04-13\n",
      "y_val: (34, 1) 2023-01-04>2023-02-22\n",
      "Open_crd\n",
      "0\n"
     ]
    },
    {
     "name": "stderr",
     "output_type": "stream",
     "text": [
      "C:\\Users\\lawre\\anaconda3\\envs\\gpu2\\lib\\site-packages\\statsmodels\\stats\\outliers_influence.py:193: RuntimeWarning: divide by zero encountered in double_scalars\n",
      "  vif = 1. / (1. - r_squared_i)\n"
     ]
    },
    {
     "name": "stdout",
     "output_type": "stream",
     "text": [
      "         VIF   feature\n",
      "0  12.015204  Open_crd\n",
      "Removing Open_crd\n",
      "Volume_crd\n",
      "1\n"
     ]
    },
    {
     "name": "stderr",
     "output_type": "stream",
     "text": [
      "C:\\Users\\lawre\\anaconda3\\envs\\gpu2\\lib\\site-packages\\statsmodels\\stats\\outliers_influence.py:193: RuntimeWarning: divide by zero encountered in double_scalars\n",
      "  vif = 1. / (1. - r_squared_i)\n"
     ]
    },
    {
     "name": "stdout",
     "output_type": "stream",
     "text": [
      "   VIF     feature\n",
      "1  inf  Volume_crd\n",
      "Removing Volume_crd\n",
      "Open_sp\n",
      "2\n"
     ]
    },
    {
     "name": "stderr",
     "output_type": "stream",
     "text": [
      "C:\\Users\\lawre\\anaconda3\\envs\\gpu2\\lib\\site-packages\\statsmodels\\stats\\outliers_influence.py:193: RuntimeWarning: divide by zero encountered in double_scalars\n",
      "  vif = 1. / (1. - r_squared_i)\n"
     ]
    },
    {
     "name": "stdout",
     "output_type": "stream",
     "text": [
      "          VIF  feature\n",
      "2  160.744068  Open_sp\n",
      "Removing Open_sp\n",
      "Volume_sp\n",
      "3\n"
     ]
    },
    {
     "name": "stderr",
     "output_type": "stream",
     "text": [
      "C:\\Users\\lawre\\anaconda3\\envs\\gpu2\\lib\\site-packages\\statsmodels\\stats\\outliers_influence.py:193: RuntimeWarning: divide by zero encountered in double_scalars\n",
      "  vif = 1. / (1. - r_squared_i)\n"
     ]
    },
    {
     "name": "stdout",
     "output_type": "stream",
     "text": [
      "   VIF    feature\n",
      "3  inf  Volume_sp\n",
      "Removing Volume_sp\n",
      "Volume_ns\n",
      "4\n"
     ]
    },
    {
     "name": "stderr",
     "output_type": "stream",
     "text": [
      "C:\\Users\\lawre\\anaconda3\\envs\\gpu2\\lib\\site-packages\\statsmodels\\stats\\outliers_influence.py:193: RuntimeWarning: divide by zero encountered in double_scalars\n",
      "  vif = 1. / (1. - r_squared_i)\n"
     ]
    },
    {
     "name": "stdout",
     "output_type": "stream",
     "text": [
      "         VIF    feature\n",
      "4  20.529047  Volume_ns\n",
      "Removing Volume_ns\n",
      "Open_usd\n",
      "5\n"
     ]
    },
    {
     "name": "stderr",
     "output_type": "stream",
     "text": [
      "C:\\Users\\lawre\\anaconda3\\envs\\gpu2\\lib\\site-packages\\statsmodels\\stats\\outliers_influence.py:193: RuntimeWarning: divide by zero encountered in double_scalars\n",
      "  vif = 1. / (1. - r_squared_i)\n"
     ]
    },
    {
     "name": "stdout",
     "output_type": "stream",
     "text": [
      "         VIF   feature\n",
      "5  17.554704  Open_usd\n",
      "Removing Open_usd\n",
      "Volume_usd\n",
      "6\n"
     ]
    },
    {
     "name": "stderr",
     "output_type": "stream",
     "text": [
      "C:\\Users\\lawre\\anaconda3\\envs\\gpu2\\lib\\site-packages\\statsmodels\\stats\\outliers_influence.py:193: RuntimeWarning: divide by zero encountered in double_scalars\n",
      "  vif = 1. / (1. - r_squared_i)\n"
     ]
    },
    {
     "name": "stdout",
     "output_type": "stream",
     "text": [
      "   VIF     feature\n",
      "6  inf  Volume_usd\n",
      "Removing Volume_usd\n",
      "WB_NGAS_EUR\n",
      "7\n"
     ]
    },
    {
     "name": "stderr",
     "output_type": "stream",
     "text": [
      "C:\\Users\\lawre\\anaconda3\\envs\\gpu2\\lib\\site-packages\\statsmodels\\stats\\outliers_influence.py:193: RuntimeWarning: divide by zero encountered in double_scalars\n",
      "  vif = 1. / (1. - r_squared_i)\n"
     ]
    },
    {
     "name": "stdout",
     "output_type": "stream",
     "text": [
      "        VIF      feature\n",
      "7  15.13601  WB_NGAS_EUR\n",
      "Removing WB_NGAS_EUR\n",
      "WB_IRON_ORE\n",
      "8\n"
     ]
    },
    {
     "name": "stderr",
     "output_type": "stream",
     "text": [
      "C:\\Users\\lawre\\anaconda3\\envs\\gpu2\\lib\\site-packages\\statsmodels\\stats\\outliers_influence.py:193: RuntimeWarning: divide by zero encountered in double_scalars\n",
      "  vif = 1. / (1. - r_squared_i)\n"
     ]
    },
    {
     "name": "stdout",
     "output_type": "stream",
     "text": [
      "        VIF      feature\n",
      "8  5.353591  WB_IRON_ORE\n",
      "WB_NGAS_US\n",
      "9\n"
     ]
    },
    {
     "name": "stderr",
     "output_type": "stream",
     "text": [
      "C:\\Users\\lawre\\anaconda3\\envs\\gpu2\\lib\\site-packages\\statsmodels\\stats\\outliers_influence.py:193: RuntimeWarning: divide by zero encountered in double_scalars\n",
      "  vif = 1. / (1. - r_squared_i)\n"
     ]
    },
    {
     "name": "stdout",
     "output_type": "stream",
     "text": [
      "        VIF     feature\n",
      "9  7.272005  WB_NGAS_US\n",
      "CON_DE_B-D_F\n",
      "10\n"
     ]
    },
    {
     "name": "stderr",
     "output_type": "stream",
     "text": [
      "C:\\Users\\lawre\\anaconda3\\envs\\gpu2\\lib\\site-packages\\statsmodels\\stats\\outliers_influence.py:193: RuntimeWarning: divide by zero encountered in double_scalars\n",
      "  vif = 1. / (1. - r_squared_i)\n"
     ]
    },
    {
     "name": "stdout",
     "output_type": "stream",
     "text": [
      "          VIF       feature\n",
      "10  50.839455  CON_DE_B-D_F\n",
      "Removing CON_DE_B-D_F\n",
      "CON_DE_F\n",
      "11\n"
     ]
    },
    {
     "name": "stderr",
     "output_type": "stream",
     "text": [
      "C:\\Users\\lawre\\anaconda3\\envs\\gpu2\\lib\\site-packages\\statsmodels\\stats\\outliers_influence.py:193: RuntimeWarning: divide by zero encountered in double_scalars\n",
      "  vif = 1. / (1. - r_squared_i)\n"
     ]
    },
    {
     "name": "stdout",
     "output_type": "stream",
     "text": [
      "          VIF   feature\n",
      "11  422.03025  CON_DE_F\n",
      "Removing CON_DE_F\n",
      "CON_DE_F_CC1\n",
      "12\n"
     ]
    },
    {
     "name": "stderr",
     "output_type": "stream",
     "text": [
      "C:\\Users\\lawre\\anaconda3\\envs\\gpu2\\lib\\site-packages\\statsmodels\\stats\\outliers_influence.py:193: RuntimeWarning: divide by zero encountered in double_scalars\n",
      "  vif = 1. / (1. - r_squared_i)\n"
     ]
    },
    {
     "name": "stdout",
     "output_type": "stream",
     "text": [
      "           VIF       feature\n",
      "12  278.345674  CON_DE_F_CC1\n",
      "Removing CON_DE_F_CC1\n",
      "CON_DE_F_CC2\n",
      "13\n"
     ]
    },
    {
     "name": "stderr",
     "output_type": "stream",
     "text": [
      "C:\\Users\\lawre\\anaconda3\\envs\\gpu2\\lib\\site-packages\\statsmodels\\stats\\outliers_influence.py:193: RuntimeWarning: divide by zero encountered in double_scalars\n",
      "  vif = 1. / (1. - r_squared_i)\n"
     ]
    },
    {
     "name": "stdout",
     "output_type": "stream",
     "text": [
      "          VIF       feature\n",
      "13  22.012506  CON_DE_F_CC2\n",
      "Removing CON_DE_F_CC2\n",
      "ELC_GAS\n",
      "14\n"
     ]
    },
    {
     "name": "stderr",
     "output_type": "stream",
     "text": [
      "C:\\Users\\lawre\\anaconda3\\envs\\gpu2\\lib\\site-packages\\statsmodels\\stats\\outliers_influence.py:193: RuntimeWarning: divide by zero encountered in double_scalars\n",
      "  vif = 1. / (1. - r_squared_i)\n"
     ]
    },
    {
     "name": "stdout",
     "output_type": "stream",
     "text": [
      "            VIF  feature\n",
      "14  1535.914509  ELC_GAS\n",
      "Removing ELC_GAS\n",
      "TOT_X_ALC_TBC\n",
      "15\n"
     ]
    },
    {
     "name": "stderr",
     "output_type": "stream",
     "text": [
      "C:\\Users\\lawre\\anaconda3\\envs\\gpu2\\lib\\site-packages\\statsmodels\\stats\\outliers_influence.py:193: RuntimeWarning: divide by zero encountered in double_scalars\n",
      "  vif = 1. / (1. - r_squared_i)\n"
     ]
    },
    {
     "name": "stdout",
     "output_type": "stream",
     "text": [
      "            VIF        feature\n",
      "15  5125.784155  TOT_X_ALC_TBC\n",
      "Removing TOT_X_ALC_TBC\n",
      "BS-CCI-BAL\n",
      "16\n"
     ]
    },
    {
     "name": "stderr",
     "output_type": "stream",
     "text": [
      "C:\\Users\\lawre\\anaconda3\\envs\\gpu2\\lib\\site-packages\\statsmodels\\stats\\outliers_influence.py:193: RuntimeWarning: divide by zero encountered in double_scalars\n",
      "  vif = 1. / (1. - r_squared_i)\n"
     ]
    },
    {
     "name": "stdout",
     "output_type": "stream",
     "text": [
      "         VIF     feature\n",
      "16  5.678152  BS-CCI-BAL\n",
      "BS-CSMCI-BAL\n",
      "17\n"
     ]
    },
    {
     "name": "stderr",
     "output_type": "stream",
     "text": [
      "C:\\Users\\lawre\\anaconda3\\envs\\gpu2\\lib\\site-packages\\statsmodels\\stats\\outliers_influence.py:193: RuntimeWarning: divide by zero encountered in double_scalars\n",
      "  vif = 1. / (1. - r_squared_i)\n"
     ]
    },
    {
     "name": "stdout",
     "output_type": "stream",
     "text": [
      "          VIF       feature\n",
      "17  16.660479  BS-CSMCI-BAL\n",
      "Removing BS-CSMCI-BAL\n",
      "BS-ICI-BAL\n",
      "18\n"
     ]
    },
    {
     "name": "stderr",
     "output_type": "stream",
     "text": [
      "C:\\Users\\lawre\\anaconda3\\envs\\gpu2\\lib\\site-packages\\statsmodels\\stats\\outliers_influence.py:193: RuntimeWarning: divide by zero encountered in double_scalars\n",
      "  vif = 1. / (1. - r_squared_i)\n"
     ]
    },
    {
     "name": "stdout",
     "output_type": "stream",
     "text": [
      "       VIF     feature\n",
      "18  4.4637  BS-ICI-BAL\n",
      "BS-RCI-BAL\n",
      "19\n"
     ]
    },
    {
     "name": "stderr",
     "output_type": "stream",
     "text": [
      "C:\\Users\\lawre\\anaconda3\\envs\\gpu2\\lib\\site-packages\\statsmodels\\stats\\outliers_influence.py:193: RuntimeWarning: divide by zero encountered in double_scalars\n",
      "  vif = 1. / (1. - r_squared_i)\n"
     ]
    },
    {
     "name": "stdout",
     "output_type": "stream",
     "text": [
      "         VIF     feature\n",
      "19  5.740331  BS-RCI-BAL\n",
      "BS-SCI-BAL\n",
      "20\n"
     ]
    },
    {
     "name": "stderr",
     "output_type": "stream",
     "text": [
      "C:\\Users\\lawre\\anaconda3\\envs\\gpu2\\lib\\site-packages\\statsmodels\\stats\\outliers_influence.py:193: RuntimeWarning: divide by zero encountered in double_scalars\n",
      "  vif = 1. / (1. - r_squared_i)\n"
     ]
    },
    {
     "name": "stdout",
     "output_type": "stream",
     "text": [
      "         VIF     feature\n",
      "20  9.463961  BS-SCI-BAL\n",
      "diff_Open_crd\n",
      "21\n"
     ]
    },
    {
     "name": "stderr",
     "output_type": "stream",
     "text": [
      "C:\\Users\\lawre\\anaconda3\\envs\\gpu2\\lib\\site-packages\\statsmodels\\stats\\outliers_influence.py:193: RuntimeWarning: divide by zero encountered in double_scalars\n",
      "  vif = 1. / (1. - r_squared_i)\n"
     ]
    },
    {
     "name": "stdout",
     "output_type": "stream",
     "text": [
      "        VIF        feature\n",
      "21  4.57012  diff_Open_crd\n",
      "diff_High_crd\n",
      "22\n"
     ]
    },
    {
     "name": "stderr",
     "output_type": "stream",
     "text": [
      "C:\\Users\\lawre\\anaconda3\\envs\\gpu2\\lib\\site-packages\\statsmodels\\stats\\outliers_influence.py:193: RuntimeWarning: divide by zero encountered in double_scalars\n",
      "  vif = 1. / (1. - r_squared_i)\n"
     ]
    },
    {
     "name": "stdout",
     "output_type": "stream",
     "text": [
      "        VIF        feature\n",
      "22  3.32311  diff_High_crd\n",
      "diff_Low_crd\n",
      "23\n"
     ]
    },
    {
     "name": "stderr",
     "output_type": "stream",
     "text": [
      "C:\\Users\\lawre\\anaconda3\\envs\\gpu2\\lib\\site-packages\\statsmodels\\stats\\outliers_influence.py:193: RuntimeWarning: divide by zero encountered in double_scalars\n",
      "  vif = 1. / (1. - r_squared_i)\n"
     ]
    },
    {
     "name": "stdout",
     "output_type": "stream",
     "text": [
      "         VIF       feature\n",
      "23  6.141526  diff_Low_crd\n",
      "diff_Close_crd\n",
      "24\n"
     ]
    },
    {
     "name": "stderr",
     "output_type": "stream",
     "text": [
      "C:\\Users\\lawre\\anaconda3\\envs\\gpu2\\lib\\site-packages\\statsmodels\\stats\\outliers_influence.py:193: RuntimeWarning: divide by zero encountered in double_scalars\n",
      "  vif = 1. / (1. - r_squared_i)\n"
     ]
    },
    {
     "name": "stdout",
     "output_type": "stream",
     "text": [
      "         VIF         feature\n",
      "24  6.829207  diff_Close_crd\n",
      "diff_Volume_crd\n",
      "25\n"
     ]
    },
    {
     "name": "stderr",
     "output_type": "stream",
     "text": [
      "C:\\Users\\lawre\\anaconda3\\envs\\gpu2\\lib\\site-packages\\statsmodels\\stats\\outliers_influence.py:193: RuntimeWarning: divide by zero encountered in double_scalars\n",
      "  vif = 1. / (1. - r_squared_i)\n"
     ]
    },
    {
     "name": "stdout",
     "output_type": "stream",
     "text": [
      "    VIF          feature\n",
      "25  inf  diff_Volume_crd\n",
      "Removing diff_Volume_crd\n",
      "diff_Open_sp\n",
      "26\n"
     ]
    },
    {
     "name": "stderr",
     "output_type": "stream",
     "text": [
      "C:\\Users\\lawre\\anaconda3\\envs\\gpu2\\lib\\site-packages\\statsmodels\\stats\\outliers_influence.py:193: RuntimeWarning: divide by zero encountered in double_scalars\n",
      "  vif = 1. / (1. - r_squared_i)\n"
     ]
    },
    {
     "name": "stdout",
     "output_type": "stream",
     "text": [
      "        VIF       feature\n",
      "26  9.20365  diff_Open_sp\n",
      "diff_High_sp\n",
      "27\n"
     ]
    },
    {
     "name": "stderr",
     "output_type": "stream",
     "text": [
      "C:\\Users\\lawre\\anaconda3\\envs\\gpu2\\lib\\site-packages\\statsmodels\\stats\\outliers_influence.py:193: RuntimeWarning: divide by zero encountered in double_scalars\n",
      "  vif = 1. / (1. - r_squared_i)\n"
     ]
    },
    {
     "name": "stdout",
     "output_type": "stream",
     "text": [
      "          VIF       feature\n",
      "27  16.594476  diff_High_sp\n",
      "Removing diff_High_sp\n",
      "diff_Low_sp\n",
      "28\n"
     ]
    },
    {
     "name": "stderr",
     "output_type": "stream",
     "text": [
      "C:\\Users\\lawre\\anaconda3\\envs\\gpu2\\lib\\site-packages\\statsmodels\\stats\\outliers_influence.py:193: RuntimeWarning: divide by zero encountered in double_scalars\n",
      "  vif = 1. / (1. - r_squared_i)\n"
     ]
    },
    {
     "name": "stdout",
     "output_type": "stream",
     "text": [
      "          VIF      feature\n",
      "28  19.349272  diff_Low_sp\n",
      "Removing diff_Low_sp\n",
      "diff_Close_sp\n",
      "29\n"
     ]
    },
    {
     "name": "stderr",
     "output_type": "stream",
     "text": [
      "C:\\Users\\lawre\\anaconda3\\envs\\gpu2\\lib\\site-packages\\statsmodels\\stats\\outliers_influence.py:193: RuntimeWarning: divide by zero encountered in double_scalars\n",
      "  vif = 1. / (1. - r_squared_i)\n"
     ]
    },
    {
     "name": "stdout",
     "output_type": "stream",
     "text": [
      "          VIF        feature\n",
      "29  26.257887  diff_Close_sp\n",
      "Removing diff_Close_sp\n",
      "diff_Volume_sp\n",
      "30\n"
     ]
    },
    {
     "name": "stderr",
     "output_type": "stream",
     "text": [
      "C:\\Users\\lawre\\anaconda3\\envs\\gpu2\\lib\\site-packages\\statsmodels\\stats\\outliers_influence.py:193: RuntimeWarning: divide by zero encountered in double_scalars\n",
      "  vif = 1. / (1. - r_squared_i)\n"
     ]
    },
    {
     "name": "stdout",
     "output_type": "stream",
     "text": [
      "    VIF         feature\n",
      "30  inf  diff_Volume_sp\n",
      "Removing diff_Volume_sp\n",
      "diff_Open_ns\n",
      "31\n"
     ]
    },
    {
     "name": "stderr",
     "output_type": "stream",
     "text": [
      "C:\\Users\\lawre\\anaconda3\\envs\\gpu2\\lib\\site-packages\\statsmodels\\stats\\outliers_influence.py:193: RuntimeWarning: divide by zero encountered in double_scalars\n",
      "  vif = 1. / (1. - r_squared_i)\n"
     ]
    },
    {
     "name": "stdout",
     "output_type": "stream",
     "text": [
      "         VIF       feature\n",
      "31  9.947747  diff_Open_ns\n",
      "diff_High_ns\n",
      "32\n"
     ]
    },
    {
     "name": "stderr",
     "output_type": "stream",
     "text": [
      "C:\\Users\\lawre\\anaconda3\\envs\\gpu2\\lib\\site-packages\\statsmodels\\stats\\outliers_influence.py:193: RuntimeWarning: divide by zero encountered in double_scalars\n",
      "  vif = 1. / (1. - r_squared_i)\n"
     ]
    },
    {
     "name": "stdout",
     "output_type": "stream",
     "text": [
      "          VIF       feature\n",
      "32  17.585382  diff_High_ns\n",
      "Removing diff_High_ns\n",
      "diff_Low_ns\n",
      "33\n"
     ]
    },
    {
     "name": "stderr",
     "output_type": "stream",
     "text": [
      "C:\\Users\\lawre\\anaconda3\\envs\\gpu2\\lib\\site-packages\\statsmodels\\stats\\outliers_influence.py:193: RuntimeWarning: divide by zero encountered in double_scalars\n",
      "  vif = 1. / (1. - r_squared_i)\n"
     ]
    },
    {
     "name": "stdout",
     "output_type": "stream",
     "text": [
      "          VIF      feature\n",
      "33  18.347109  diff_Low_ns\n",
      "Removing diff_Low_ns\n",
      "diff_Close_ns\n",
      "34\n"
     ]
    },
    {
     "name": "stderr",
     "output_type": "stream",
     "text": [
      "C:\\Users\\lawre\\anaconda3\\envs\\gpu2\\lib\\site-packages\\statsmodels\\stats\\outliers_influence.py:193: RuntimeWarning: divide by zero encountered in double_scalars\n",
      "  vif = 1. / (1. - r_squared_i)\n"
     ]
    },
    {
     "name": "stdout",
     "output_type": "stream",
     "text": [
      "          VIF        feature\n",
      "34  24.991375  diff_Close_ns\n",
      "Removing diff_Close_ns\n",
      "diff_Volume_ns\n",
      "35\n"
     ]
    },
    {
     "name": "stderr",
     "output_type": "stream",
     "text": [
      "C:\\Users\\lawre\\anaconda3\\envs\\gpu2\\lib\\site-packages\\statsmodels\\stats\\outliers_influence.py:193: RuntimeWarning: divide by zero encountered in double_scalars\n",
      "  vif = 1. / (1. - r_squared_i)\n"
     ]
    },
    {
     "name": "stdout",
     "output_type": "stream",
     "text": [
      "         VIF         feature\n",
      "35  3.342606  diff_Volume_ns\n",
      "diff_Open_usd\n",
      "36\n"
     ]
    },
    {
     "name": "stderr",
     "output_type": "stream",
     "text": [
      "C:\\Users\\lawre\\anaconda3\\envs\\gpu2\\lib\\site-packages\\statsmodels\\stats\\outliers_influence.py:193: RuntimeWarning: divide by zero encountered in double_scalars\n",
      "  vif = 1. / (1. - r_squared_i)\n"
     ]
    },
    {
     "name": "stdout",
     "output_type": "stream",
     "text": [
      "         VIF        feature\n",
      "36  2.893356  diff_Open_usd\n",
      "diff_High_usd\n",
      "37\n"
     ]
    },
    {
     "name": "stderr",
     "output_type": "stream",
     "text": [
      "C:\\Users\\lawre\\anaconda3\\envs\\gpu2\\lib\\site-packages\\statsmodels\\stats\\outliers_influence.py:193: RuntimeWarning: divide by zero encountered in double_scalars\n",
      "  vif = 1. / (1. - r_squared_i)\n"
     ]
    },
    {
     "name": "stdout",
     "output_type": "stream",
     "text": [
      "         VIF        feature\n",
      "37  2.791055  diff_High_usd\n",
      "diff_Low_usd\n",
      "38\n"
     ]
    },
    {
     "name": "stderr",
     "output_type": "stream",
     "text": [
      "C:\\Users\\lawre\\anaconda3\\envs\\gpu2\\lib\\site-packages\\statsmodels\\stats\\outliers_influence.py:193: RuntimeWarning: divide by zero encountered in double_scalars\n",
      "  vif = 1. / (1. - r_squared_i)\n"
     ]
    },
    {
     "name": "stdout",
     "output_type": "stream",
     "text": [
      "         VIF       feature\n",
      "38  3.111729  diff_Low_usd\n",
      "diff_Close_usd\n",
      "39\n"
     ]
    },
    {
     "name": "stderr",
     "output_type": "stream",
     "text": [
      "C:\\Users\\lawre\\anaconda3\\envs\\gpu2\\lib\\site-packages\\statsmodels\\stats\\outliers_influence.py:193: RuntimeWarning: divide by zero encountered in double_scalars\n",
      "  vif = 1. / (1. - r_squared_i)\n"
     ]
    },
    {
     "name": "stdout",
     "output_type": "stream",
     "text": [
      "         VIF         feature\n",
      "39  3.320479  diff_Close_usd\n",
      "diff_Volume_usd\n",
      "40\n"
     ]
    },
    {
     "name": "stderr",
     "output_type": "stream",
     "text": [
      "C:\\Users\\lawre\\anaconda3\\envs\\gpu2\\lib\\site-packages\\statsmodels\\stats\\outliers_influence.py:193: RuntimeWarning: divide by zero encountered in double_scalars\n",
      "  vif = 1. / (1. - r_squared_i)\n"
     ]
    },
    {
     "name": "stdout",
     "output_type": "stream",
     "text": [
      "    VIF          feature\n",
      "40  inf  diff_Volume_usd\n",
      "Removing diff_Volume_usd\n",
      "diff_WB_CRUDE_BRENT\n",
      "41\n"
     ]
    },
    {
     "name": "stderr",
     "output_type": "stream",
     "text": [
      "C:\\Users\\lawre\\anaconda3\\envs\\gpu2\\lib\\site-packages\\statsmodels\\stats\\outliers_influence.py:193: RuntimeWarning: divide by zero encountered in double_scalars\n",
      "  vif = 1. / (1. - r_squared_i)\n"
     ]
    },
    {
     "name": "stdout",
     "output_type": "stream",
     "text": [
      "         VIF              feature\n",
      "41  4.809772  diff_WB_CRUDE_BRENT\n",
      "diff_WB_NGAS_EUR\n",
      "42\n"
     ]
    },
    {
     "name": "stderr",
     "output_type": "stream",
     "text": [
      "C:\\Users\\lawre\\anaconda3\\envs\\gpu2\\lib\\site-packages\\statsmodels\\stats\\outliers_influence.py:193: RuntimeWarning: divide by zero encountered in double_scalars\n",
      "  vif = 1. / (1. - r_squared_i)\n"
     ]
    },
    {
     "name": "stdout",
     "output_type": "stream",
     "text": [
      "         VIF           feature\n",
      "42  1.597749  diff_WB_NGAS_EUR\n",
      "diff_WB_IRON_ORE\n",
      "43\n"
     ]
    },
    {
     "name": "stderr",
     "output_type": "stream",
     "text": [
      "C:\\Users\\lawre\\anaconda3\\envs\\gpu2\\lib\\site-packages\\statsmodels\\stats\\outliers_influence.py:193: RuntimeWarning: divide by zero encountered in double_scalars\n",
      "  vif = 1. / (1. - r_squared_i)\n"
     ]
    },
    {
     "name": "stdout",
     "output_type": "stream",
     "text": [
      "         VIF           feature\n",
      "43  1.584516  diff_WB_IRON_ORE\n",
      "diff_WB_NGAS_US\n",
      "44\n"
     ]
    },
    {
     "name": "stderr",
     "output_type": "stream",
     "text": [
      "C:\\Users\\lawre\\anaconda3\\envs\\gpu2\\lib\\site-packages\\statsmodels\\stats\\outliers_influence.py:193: RuntimeWarning: divide by zero encountered in double_scalars\n",
      "  vif = 1. / (1. - r_squared_i)\n"
     ]
    },
    {
     "name": "stdout",
     "output_type": "stream",
     "text": [
      "         VIF          feature\n",
      "44  1.798251  diff_WB_NGAS_US\n",
      "diff_CON_DE_B-D_F\n",
      "45\n"
     ]
    },
    {
     "name": "stderr",
     "output_type": "stream",
     "text": [
      "C:\\Users\\lawre\\anaconda3\\envs\\gpu2\\lib\\site-packages\\statsmodels\\stats\\outliers_influence.py:193: RuntimeWarning: divide by zero encountered in double_scalars\n",
      "  vif = 1. / (1. - r_squared_i)\n"
     ]
    },
    {
     "name": "stdout",
     "output_type": "stream",
     "text": [
      "         VIF            feature\n",
      "45  5.078174  diff_CON_DE_B-D_F\n",
      "diff_CON_DE_F\n",
      "46\n"
     ]
    },
    {
     "name": "stderr",
     "output_type": "stream",
     "text": [
      "C:\\Users\\lawre\\anaconda3\\envs\\gpu2\\lib\\site-packages\\statsmodels\\stats\\outliers_influence.py:193: RuntimeWarning: divide by zero encountered in double_scalars\n",
      "  vif = 1. / (1. - r_squared_i)\n"
     ]
    },
    {
     "name": "stdout",
     "output_type": "stream",
     "text": [
      "          VIF        feature\n",
      "46  10.801347  diff_CON_DE_F\n",
      "Removing diff_CON_DE_F\n",
      "diff_CON_DE_F_CC2\n",
      "47\n"
     ]
    },
    {
     "name": "stderr",
     "output_type": "stream",
     "text": [
      "C:\\Users\\lawre\\anaconda3\\envs\\gpu2\\lib\\site-packages\\statsmodels\\stats\\outliers_influence.py:193: RuntimeWarning: divide by zero encountered in double_scalars\n",
      "  vif = 1. / (1. - r_squared_i)\n"
     ]
    },
    {
     "name": "stdout",
     "output_type": "stream",
     "text": [
      "         VIF            feature\n",
      "47  6.123165  diff_CON_DE_F_CC2\n",
      "diff_ELC_GAS\n",
      "48\n"
     ]
    },
    {
     "name": "stderr",
     "output_type": "stream",
     "text": [
      "C:\\Users\\lawre\\anaconda3\\envs\\gpu2\\lib\\site-packages\\statsmodels\\stats\\outliers_influence.py:193: RuntimeWarning: divide by zero encountered in double_scalars\n",
      "  vif = 1. / (1. - r_squared_i)\n"
     ]
    },
    {
     "name": "stdout",
     "output_type": "stream",
     "text": [
      "           VIF       feature\n",
      "48  140.831341  diff_ELC_GAS\n",
      "Removing diff_ELC_GAS\n",
      "diff_IGD\n",
      "49\n"
     ]
    },
    {
     "name": "stderr",
     "output_type": "stream",
     "text": [
      "C:\\Users\\lawre\\anaconda3\\envs\\gpu2\\lib\\site-packages\\statsmodels\\stats\\outliers_influence.py:193: RuntimeWarning: divide by zero encountered in double_scalars\n",
      "  vif = 1. / (1. - r_squared_i)\n"
     ]
    },
    {
     "name": "stdout",
     "output_type": "stream",
     "text": [
      "          VIF   feature\n",
      "49  10.156646  diff_IGD\n",
      "Removing diff_IGD\n",
      "diff_NRG\n",
      "50\n"
     ]
    },
    {
     "name": "stderr",
     "output_type": "stream",
     "text": [
      "C:\\Users\\lawre\\anaconda3\\envs\\gpu2\\lib\\site-packages\\statsmodels\\stats\\outliers_influence.py:193: RuntimeWarning: divide by zero encountered in double_scalars\n",
      "  vif = 1. / (1. - r_squared_i)\n"
     ]
    },
    {
     "name": "stdout",
     "output_type": "stream",
     "text": [
      "          VIF   feature\n",
      "50  469.96765  diff_NRG\n",
      "Removing diff_NRG\n",
      "diff_TOT_X_ALC_TBC\n",
      "51\n"
     ]
    },
    {
     "name": "stderr",
     "output_type": "stream",
     "text": [
      "C:\\Users\\lawre\\anaconda3\\envs\\gpu2\\lib\\site-packages\\statsmodels\\stats\\outliers_influence.py:193: RuntimeWarning: divide by zero encountered in double_scalars\n",
      "  vif = 1. / (1. - r_squared_i)\n"
     ]
    },
    {
     "name": "stdout",
     "output_type": "stream",
     "text": [
      "            VIF             feature\n",
      "51  2115.705426  diff_TOT_X_ALC_TBC\n",
      "Removing diff_TOT_X_ALC_TBC\n",
      "diff_TOT_X_FROOPP\n",
      "52\n"
     ]
    },
    {
     "name": "stderr",
     "output_type": "stream",
     "text": [
      "C:\\Users\\lawre\\anaconda3\\envs\\gpu2\\lib\\site-packages\\statsmodels\\stats\\outliers_influence.py:193: RuntimeWarning: divide by zero encountered in double_scalars\n",
      "  vif = 1. / (1. - r_squared_i)\n"
     ]
    },
    {
     "name": "stdout",
     "output_type": "stream",
     "text": [
      "           VIF            feature\n",
      "52  173.734228  diff_TOT_X_FROOPP\n",
      "Removing diff_TOT_X_FROOPP\n",
      "diff_TOT_X_FUEL\n",
      "53\n"
     ]
    },
    {
     "name": "stderr",
     "output_type": "stream",
     "text": [
      "C:\\Users\\lawre\\anaconda3\\envs\\gpu2\\lib\\site-packages\\statsmodels\\stats\\outliers_influence.py:193: RuntimeWarning: divide by zero encountered in double_scalars\n",
      "  vif = 1. / (1. - r_squared_i)\n"
     ]
    },
    {
     "name": "stdout",
     "output_type": "stream",
     "text": [
      "            VIF          feature\n",
      "53  1624.154534  diff_TOT_X_FUEL\n",
      "Removing diff_TOT_X_FUEL\n",
      "diff_TOT_X_NRG_FOOD\n",
      "54\n"
     ]
    },
    {
     "name": "stderr",
     "output_type": "stream",
     "text": [
      "C:\\Users\\lawre\\anaconda3\\envs\\gpu2\\lib\\site-packages\\statsmodels\\stats\\outliers_influence.py:193: RuntimeWarning: divide by zero encountered in double_scalars\n",
      "  vif = 1. / (1. - r_squared_i)\n"
     ]
    },
    {
     "name": "stdout",
     "output_type": "stream",
     "text": [
      "           VIF              feature\n",
      "54  229.848922  diff_TOT_X_NRG_FOOD\n",
      "Removing diff_TOT_X_NRG_FOOD\n",
      "diff_BS-CCI-BAL\n",
      "55\n"
     ]
    },
    {
     "name": "stderr",
     "output_type": "stream",
     "text": [
      "C:\\Users\\lawre\\anaconda3\\envs\\gpu2\\lib\\site-packages\\statsmodels\\stats\\outliers_influence.py:193: RuntimeWarning: divide by zero encountered in double_scalars\n",
      "  vif = 1. / (1. - r_squared_i)\n"
     ]
    },
    {
     "name": "stdout",
     "output_type": "stream",
     "text": [
      "         VIF          feature\n",
      "55  4.122242  diff_BS-CCI-BAL\n",
      "diff_BS-CSMCI-BAL\n",
      "56\n"
     ]
    },
    {
     "name": "stderr",
     "output_type": "stream",
     "text": [
      "C:\\Users\\lawre\\anaconda3\\envs\\gpu2\\lib\\site-packages\\statsmodels\\stats\\outliers_influence.py:193: RuntimeWarning: divide by zero encountered in double_scalars\n",
      "  vif = 1. / (1. - r_squared_i)\n"
     ]
    },
    {
     "name": "stdout",
     "output_type": "stream",
     "text": [
      "         VIF            feature\n",
      "56  3.618978  diff_BS-CSMCI-BAL\n",
      "diff_BS-ICI-BAL\n",
      "57\n"
     ]
    },
    {
     "name": "stderr",
     "output_type": "stream",
     "text": [
      "C:\\Users\\lawre\\anaconda3\\envs\\gpu2\\lib\\site-packages\\statsmodels\\stats\\outliers_influence.py:193: RuntimeWarning: divide by zero encountered in double_scalars\n",
      "  vif = 1. / (1. - r_squared_i)\n"
     ]
    },
    {
     "name": "stdout",
     "output_type": "stream",
     "text": [
      "         VIF          feature\n",
      "57  3.603622  diff_BS-ICI-BAL\n",
      "diff_BS-RCI-BAL\n",
      "58\n"
     ]
    },
    {
     "name": "stderr",
     "output_type": "stream",
     "text": [
      "C:\\Users\\lawre\\anaconda3\\envs\\gpu2\\lib\\site-packages\\statsmodels\\stats\\outliers_influence.py:193: RuntimeWarning: divide by zero encountered in double_scalars\n",
      "  vif = 1. / (1. - r_squared_i)\n"
     ]
    },
    {
     "name": "stdout",
     "output_type": "stream",
     "text": [
      "         VIF          feature\n",
      "58  4.134043  diff_BS-RCI-BAL\n",
      "diff_BS-SCI-BAL\n",
      "59\n"
     ]
    },
    {
     "name": "stderr",
     "output_type": "stream",
     "text": [
      "C:\\Users\\lawre\\anaconda3\\envs\\gpu2\\lib\\site-packages\\statsmodels\\stats\\outliers_influence.py:193: RuntimeWarning: divide by zero encountered in double_scalars\n",
      "  vif = 1. / (1. - r_squared_i)\n"
     ]
    },
    {
     "name": "stdout",
     "output_type": "stream",
     "text": [
      "         VIF          feature\n",
      "59  5.123982  diff_BS-SCI-BAL\n",
      "diff_Price\n",
      "60\n"
     ]
    },
    {
     "name": "stderr",
     "output_type": "stream",
     "text": [
      "C:\\Users\\lawre\\anaconda3\\envs\\gpu2\\lib\\site-packages\\statsmodels\\stats\\outliers_influence.py:193: RuntimeWarning: divide by zero encountered in double_scalars\n",
      "  vif = 1. / (1. - r_squared_i)\n"
     ]
    },
    {
     "name": "stdout",
     "output_type": "stream",
     "text": [
      "         VIF     feature\n",
      "60  1.431411  diff_Price\n",
      "ravg_qt_Volume_crd\n",
      "61\n"
     ]
    },
    {
     "name": "stderr",
     "output_type": "stream",
     "text": [
      "C:\\Users\\lawre\\anaconda3\\envs\\gpu2\\lib\\site-packages\\statsmodels\\stats\\outliers_influence.py:193: RuntimeWarning: divide by zero encountered in double_scalars\n",
      "  vif = 1. / (1. - r_squared_i)\n"
     ]
    },
    {
     "name": "stdout",
     "output_type": "stream",
     "text": [
      "          VIF             feature\n",
      "61  25.153619  ravg_qt_Volume_crd\n",
      "Removing ravg_qt_Volume_crd\n",
      "ravg_qt_Volume_sp\n",
      "62\n"
     ]
    },
    {
     "name": "stderr",
     "output_type": "stream",
     "text": [
      "C:\\Users\\lawre\\anaconda3\\envs\\gpu2\\lib\\site-packages\\statsmodels\\stats\\outliers_influence.py:193: RuntimeWarning: divide by zero encountered in double_scalars\n",
      "  vif = 1. / (1. - r_squared_i)\n"
     ]
    },
    {
     "name": "stdout",
     "output_type": "stream",
     "text": [
      "           VIF            feature\n",
      "62  467.874319  ravg_qt_Volume_sp\n",
      "Removing ravg_qt_Volume_sp\n",
      "ravg_qt_Volume_usd\n",
      "63\n"
     ]
    },
    {
     "name": "stderr",
     "output_type": "stream",
     "text": [
      "C:\\Users\\lawre\\anaconda3\\envs\\gpu2\\lib\\site-packages\\statsmodels\\stats\\outliers_influence.py:193: RuntimeWarning: divide by zero encountered in double_scalars\n",
      "  vif = 1. / (1. - r_squared_i)\n"
     ]
    },
    {
     "name": "stdout",
     "output_type": "stream",
     "text": [
      "         VIF             feature\n",
      "63  3.489856  ravg_qt_Volume_usd\n",
      "ravg_yr_Volume_crd\n",
      "64\n"
     ]
    },
    {
     "name": "stderr",
     "output_type": "stream",
     "text": [
      "C:\\Users\\lawre\\anaconda3\\envs\\gpu2\\lib\\site-packages\\statsmodels\\stats\\outliers_influence.py:193: RuntimeWarning: divide by zero encountered in double_scalars\n",
      "  vif = 1. / (1. - r_squared_i)\n"
     ]
    },
    {
     "name": "stdout",
     "output_type": "stream",
     "text": [
      "         VIF             feature\n",
      "64  8.421789  ravg_yr_Volume_crd\n",
      "ravg_yr_Volume_sp\n",
      "65\n"
     ]
    },
    {
     "name": "stderr",
     "output_type": "stream",
     "text": [
      "C:\\Users\\lawre\\anaconda3\\envs\\gpu2\\lib\\site-packages\\statsmodels\\stats\\outliers_influence.py:193: RuntimeWarning: divide by zero encountered in double_scalars\n",
      "  vif = 1. / (1. - r_squared_i)\n"
     ]
    },
    {
     "name": "stdout",
     "output_type": "stream",
     "text": [
      "           VIF            feature\n",
      "65  195.162708  ravg_yr_Volume_sp\n",
      "Removing ravg_yr_Volume_sp\n",
      "ravg_yr_Volume_usd\n",
      "66\n"
     ]
    },
    {
     "name": "stderr",
     "output_type": "stream",
     "text": [
      "C:\\Users\\lawre\\anaconda3\\envs\\gpu2\\lib\\site-packages\\statsmodels\\stats\\outliers_influence.py:193: RuntimeWarning: divide by zero encountered in double_scalars\n",
      "  vif = 1. / (1. - r_squared_i)\n"
     ]
    },
    {
     "name": "stdout",
     "output_type": "stream",
     "text": [
      "         VIF             feature\n",
      "66  1.553415  ravg_yr_Volume_usd\n",
      "ravg_yr_CON_DE_B-D_F\n",
      "67\n"
     ]
    },
    {
     "name": "stderr",
     "output_type": "stream",
     "text": [
      "C:\\Users\\lawre\\anaconda3\\envs\\gpu2\\lib\\site-packages\\statsmodels\\stats\\outliers_influence.py:193: RuntimeWarning: divide by zero encountered in double_scalars\n",
      "  vif = 1. / (1. - r_squared_i)\n"
     ]
    },
    {
     "name": "stdout",
     "output_type": "stream",
     "text": [
      "          VIF               feature\n",
      "67  42.500426  ravg_yr_CON_DE_B-D_F\n",
      "Removing ravg_yr_CON_DE_B-D_F\n",
      "ravg_yr_CON_DE_F\n",
      "68\n"
     ]
    },
    {
     "name": "stderr",
     "output_type": "stream",
     "text": [
      "C:\\Users\\lawre\\anaconda3\\envs\\gpu2\\lib\\site-packages\\statsmodels\\stats\\outliers_influence.py:193: RuntimeWarning: divide by zero encountered in double_scalars\n",
      "  vif = 1. / (1. - r_squared_i)\n"
     ]
    },
    {
     "name": "stdout",
     "output_type": "stream",
     "text": [
      "           VIF           feature\n",
      "68  343.639563  ravg_yr_CON_DE_F\n",
      "Removing ravg_yr_CON_DE_F\n",
      "ravg_yr_CON_DE_F_CC1\n",
      "69\n"
     ]
    },
    {
     "name": "stderr",
     "output_type": "stream",
     "text": [
      "C:\\Users\\lawre\\anaconda3\\envs\\gpu2\\lib\\site-packages\\statsmodels\\stats\\outliers_influence.py:193: RuntimeWarning: divide by zero encountered in double_scalars\n",
      "  vif = 1. / (1. - r_squared_i)\n"
     ]
    },
    {
     "name": "stdout",
     "output_type": "stream",
     "text": [
      "           VIF               feature\n",
      "69  232.801968  ravg_yr_CON_DE_F_CC1\n",
      "Removing ravg_yr_CON_DE_F_CC1\n",
      "lag_Volume_crd\n",
      "70\n"
     ]
    },
    {
     "name": "stderr",
     "output_type": "stream",
     "text": [
      "C:\\Users\\lawre\\anaconda3\\envs\\gpu2\\lib\\site-packages\\statsmodels\\stats\\outliers_influence.py:193: RuntimeWarning: divide by zero encountered in double_scalars\n",
      "  vif = 1. / (1. - r_squared_i)\n"
     ]
    },
    {
     "name": "stdout",
     "output_type": "stream",
     "text": [
      "    VIF         feature\n",
      "70  inf  lag_Volume_crd\n",
      "Removing lag_Volume_crd\n",
      "lag_Volume_sp\n",
      "71\n"
     ]
    },
    {
     "name": "stderr",
     "output_type": "stream",
     "text": [
      "C:\\Users\\lawre\\anaconda3\\envs\\gpu2\\lib\\site-packages\\statsmodels\\stats\\outliers_influence.py:193: RuntimeWarning: divide by zero encountered in double_scalars\n",
      "  vif = 1. / (1. - r_squared_i)\n"
     ]
    },
    {
     "name": "stdout",
     "output_type": "stream",
     "text": [
      "    VIF        feature\n",
      "71  inf  lag_Volume_sp\n",
      "Removing lag_Volume_sp\n",
      "lag_Volume_usd\n",
      "72\n"
     ]
    },
    {
     "name": "stderr",
     "output_type": "stream",
     "text": [
      "C:\\Users\\lawre\\anaconda3\\envs\\gpu2\\lib\\site-packages\\statsmodels\\stats\\outliers_influence.py:193: RuntimeWarning: divide by zero encountered in double_scalars\n",
      "  vif = 1. / (1. - r_squared_i)\n"
     ]
    },
    {
     "name": "stdout",
     "output_type": "stream",
     "text": [
      "    VIF         feature\n",
      "72  inf  lag_Volume_usd\n",
      "Removing lag_Volume_usd\n",
      "yoy_Open_crd\n",
      "73\n"
     ]
    },
    {
     "name": "stderr",
     "output_type": "stream",
     "text": [
      "C:\\Users\\lawre\\anaconda3\\envs\\gpu2\\lib\\site-packages\\statsmodels\\stats\\outliers_influence.py:193: RuntimeWarning: divide by zero encountered in double_scalars\n",
      "  vif = 1. / (1. - r_squared_i)\n"
     ]
    },
    {
     "name": "stdout",
     "output_type": "stream",
     "text": [
      "          VIF       feature\n",
      "73  11.678119  yoy_Open_crd\n",
      "Removing yoy_Open_crd\n",
      "yoy_Low_crd\n",
      "74\n"
     ]
    },
    {
     "name": "stderr",
     "output_type": "stream",
     "text": [
      "C:\\Users\\lawre\\anaconda3\\envs\\gpu2\\lib\\site-packages\\statsmodels\\stats\\outliers_influence.py:193: RuntimeWarning: divide by zero encountered in double_scalars\n",
      "  vif = 1. / (1. - r_squared_i)\n"
     ]
    },
    {
     "name": "stdout",
     "output_type": "stream",
     "text": [
      "          VIF      feature\n",
      "74  11.615731  yoy_Low_crd\n",
      "Removing yoy_Low_crd\n",
      "yoy_Volume_crd\n",
      "75\n"
     ]
    },
    {
     "name": "stderr",
     "output_type": "stream",
     "text": [
      "C:\\Users\\lawre\\anaconda3\\envs\\gpu2\\lib\\site-packages\\statsmodels\\stats\\outliers_influence.py:193: RuntimeWarning: divide by zero encountered in double_scalars\n",
      "  vif = 1. / (1. - r_squared_i)\n"
     ]
    },
    {
     "name": "stdout",
     "output_type": "stream",
     "text": [
      "         VIF         feature\n",
      "75  2.447774  yoy_Volume_crd\n",
      "yoy_Open_sp\n",
      "76\n"
     ]
    },
    {
     "name": "stderr",
     "output_type": "stream",
     "text": [
      "C:\\Users\\lawre\\anaconda3\\envs\\gpu2\\lib\\site-packages\\statsmodels\\stats\\outliers_influence.py:193: RuntimeWarning: divide by zero encountered in double_scalars\n",
      "  vif = 1. / (1. - r_squared_i)\n"
     ]
    },
    {
     "name": "stdout",
     "output_type": "stream",
     "text": [
      "          VIF      feature\n",
      "76  10.169588  yoy_Open_sp\n",
      "Removing yoy_Open_sp\n",
      "yoy_Volume_sp\n",
      "77\n"
     ]
    },
    {
     "name": "stderr",
     "output_type": "stream",
     "text": [
      "C:\\Users\\lawre\\anaconda3\\envs\\gpu2\\lib\\site-packages\\statsmodels\\stats\\outliers_influence.py:193: RuntimeWarning: divide by zero encountered in double_scalars\n",
      "  vif = 1. / (1. - r_squared_i)\n"
     ]
    },
    {
     "name": "stdout",
     "output_type": "stream",
     "text": [
      "         VIF        feature\n",
      "77  4.208481  yoy_Volume_sp\n",
      "yoy_Open_ns\n",
      "78\n"
     ]
    },
    {
     "name": "stderr",
     "output_type": "stream",
     "text": [
      "C:\\Users\\lawre\\anaconda3\\envs\\gpu2\\lib\\site-packages\\statsmodels\\stats\\outliers_influence.py:193: RuntimeWarning: divide by zero encountered in double_scalars\n",
      "  vif = 1. / (1. - r_squared_i)\n"
     ]
    },
    {
     "name": "stdout",
     "output_type": "stream",
     "text": [
      "         VIF      feature\n",
      "78  9.670231  yoy_Open_ns\n",
      "yoy_Volume_ns\n",
      "79\n"
     ]
    },
    {
     "name": "stderr",
     "output_type": "stream",
     "text": [
      "C:\\Users\\lawre\\anaconda3\\envs\\gpu2\\lib\\site-packages\\statsmodels\\stats\\outliers_influence.py:193: RuntimeWarning: divide by zero encountered in double_scalars\n",
      "  vif = 1. / (1. - r_squared_i)\n"
     ]
    },
    {
     "name": "stdout",
     "output_type": "stream",
     "text": [
      "         VIF        feature\n",
      "79  3.410761  yoy_Volume_ns\n",
      "yoy_Open_usd\n",
      "80\n"
     ]
    },
    {
     "name": "stderr",
     "output_type": "stream",
     "text": [
      "C:\\Users\\lawre\\anaconda3\\envs\\gpu2\\lib\\site-packages\\statsmodels\\stats\\outliers_influence.py:193: RuntimeWarning: divide by zero encountered in double_scalars\n",
      "  vif = 1. / (1. - r_squared_i)\n"
     ]
    },
    {
     "name": "stdout",
     "output_type": "stream",
     "text": [
      "         VIF       feature\n",
      "80  1.546193  yoy_Open_usd\n",
      "yoy_Volume_usd\n",
      "81\n"
     ]
    },
    {
     "name": "stderr",
     "output_type": "stream",
     "text": [
      "C:\\Users\\lawre\\anaconda3\\envs\\gpu2\\lib\\site-packages\\statsmodels\\stats\\outliers_influence.py:193: RuntimeWarning: divide by zero encountered in double_scalars\n",
      "  vif = 1. / (1. - r_squared_i)\n"
     ]
    },
    {
     "name": "stdout",
     "output_type": "stream",
     "text": [
      "         VIF         feature\n",
      "81  2.058577  yoy_Volume_usd\n",
      "yoy_WB_CRUDE_BRENT\n",
      "82\n"
     ]
    },
    {
     "name": "stderr",
     "output_type": "stream",
     "text": [
      "C:\\Users\\lawre\\anaconda3\\envs\\gpu2\\lib\\site-packages\\statsmodels\\stats\\outliers_influence.py:193: RuntimeWarning: divide by zero encountered in double_scalars\n",
      "  vif = 1. / (1. - r_squared_i)\n"
     ]
    },
    {
     "name": "stdout",
     "output_type": "stream",
     "text": [
      "         VIF             feature\n",
      "82  5.285932  yoy_WB_CRUDE_BRENT\n",
      "yoy_WB_NGAS_EUR\n",
      "83\n"
     ]
    },
    {
     "name": "stderr",
     "output_type": "stream",
     "text": [
      "C:\\Users\\lawre\\anaconda3\\envs\\gpu2\\lib\\site-packages\\statsmodels\\stats\\outliers_influence.py:193: RuntimeWarning: divide by zero encountered in double_scalars\n",
      "  vif = 1. / (1. - r_squared_i)\n"
     ]
    },
    {
     "name": "stdout",
     "output_type": "stream",
     "text": [
      "         VIF          feature\n",
      "83  1.983694  yoy_WB_NGAS_EUR\n",
      "yoy_WB_IRON_ORE\n",
      "84\n"
     ]
    },
    {
     "name": "stderr",
     "output_type": "stream",
     "text": [
      "C:\\Users\\lawre\\anaconda3\\envs\\gpu2\\lib\\site-packages\\statsmodels\\stats\\outliers_influence.py:193: RuntimeWarning: divide by zero encountered in double_scalars\n",
      "  vif = 1. / (1. - r_squared_i)\n"
     ]
    },
    {
     "name": "stdout",
     "output_type": "stream",
     "text": [
      "         VIF          feature\n",
      "84  2.079398  yoy_WB_IRON_ORE\n",
      "yoy_WB_NGAS_US\n",
      "85\n"
     ]
    },
    {
     "name": "stderr",
     "output_type": "stream",
     "text": [
      "C:\\Users\\lawre\\anaconda3\\envs\\gpu2\\lib\\site-packages\\statsmodels\\stats\\outliers_influence.py:193: RuntimeWarning: divide by zero encountered in double_scalars\n",
      "  vif = 1. / (1. - r_squared_i)\n"
     ]
    },
    {
     "name": "stdout",
     "output_type": "stream",
     "text": [
      "         VIF         feature\n",
      "85  2.111219  yoy_WB_NGAS_US\n",
      "yoy_CON_DE_B-D_F\n",
      "86\n"
     ]
    },
    {
     "name": "stderr",
     "output_type": "stream",
     "text": [
      "C:\\Users\\lawre\\anaconda3\\envs\\gpu2\\lib\\site-packages\\statsmodels\\stats\\outliers_influence.py:193: RuntimeWarning: divide by zero encountered in double_scalars\n",
      "  vif = 1. / (1. - r_squared_i)\n"
     ]
    },
    {
     "name": "stdout",
     "output_type": "stream",
     "text": [
      "          VIF           feature\n",
      "86  10.441616  yoy_CON_DE_B-D_F\n",
      "Removing yoy_CON_DE_B-D_F\n",
      "yoy_CON_DE_F\n",
      "87\n"
     ]
    },
    {
     "name": "stderr",
     "output_type": "stream",
     "text": [
      "C:\\Users\\lawre\\anaconda3\\envs\\gpu2\\lib\\site-packages\\statsmodels\\stats\\outliers_influence.py:193: RuntimeWarning: divide by zero encountered in double_scalars\n",
      "  vif = 1. / (1. - r_squared_i)\n"
     ]
    },
    {
     "name": "stdout",
     "output_type": "stream",
     "text": [
      "          VIF       feature\n",
      "87  17.122638  yoy_CON_DE_F\n",
      "Removing yoy_CON_DE_F\n",
      "yoy_CON_DE_F_CC2\n",
      "88\n"
     ]
    },
    {
     "name": "stderr",
     "output_type": "stream",
     "text": [
      "C:\\Users\\lawre\\anaconda3\\envs\\gpu2\\lib\\site-packages\\statsmodels\\stats\\outliers_influence.py:193: RuntimeWarning: divide by zero encountered in double_scalars\n",
      "  vif = 1. / (1. - r_squared_i)\n"
     ]
    },
    {
     "name": "stdout",
     "output_type": "stream",
     "text": [
      "          VIF           feature\n",
      "88  10.287808  yoy_CON_DE_F_CC2\n",
      "Removing yoy_CON_DE_F_CC2\n",
      "yoy_ELC_GAS\n",
      "89\n"
     ]
    },
    {
     "name": "stderr",
     "output_type": "stream",
     "text": [
      "C:\\Users\\lawre\\anaconda3\\envs\\gpu2\\lib\\site-packages\\statsmodels\\stats\\outliers_influence.py:193: RuntimeWarning: divide by zero encountered in double_scalars\n",
      "  vif = 1. / (1. - r_squared_i)\n"
     ]
    },
    {
     "name": "stdout",
     "output_type": "stream",
     "text": [
      "           VIF      feature\n",
      "89  162.757533  yoy_ELC_GAS\n",
      "Removing yoy_ELC_GAS\n",
      "yoy_IGD\n",
      "90\n"
     ]
    },
    {
     "name": "stderr",
     "output_type": "stream",
     "text": [
      "C:\\Users\\lawre\\anaconda3\\envs\\gpu2\\lib\\site-packages\\statsmodels\\stats\\outliers_influence.py:193: RuntimeWarning: divide by zero encountered in double_scalars\n",
      "  vif = 1. / (1. - r_squared_i)\n"
     ]
    },
    {
     "name": "stdout",
     "output_type": "stream",
     "text": [
      "          VIF  feature\n",
      "90  11.233607  yoy_IGD\n",
      "Removing yoy_IGD\n",
      "yoy_NRG\n",
      "91\n"
     ]
    },
    {
     "name": "stderr",
     "output_type": "stream",
     "text": [
      "C:\\Users\\lawre\\anaconda3\\envs\\gpu2\\lib\\site-packages\\statsmodels\\stats\\outliers_influence.py:193: RuntimeWarning: divide by zero encountered in double_scalars\n",
      "  vif = 1. / (1. - r_squared_i)\n"
     ]
    },
    {
     "name": "stdout",
     "output_type": "stream",
     "text": [
      "           VIF  feature\n",
      "91  571.637052  yoy_NRG\n",
      "Removing yoy_NRG\n",
      "yoy_TOT_X_ALC_TBC\n",
      "92\n"
     ]
    },
    {
     "name": "stderr",
     "output_type": "stream",
     "text": [
      "C:\\Users\\lawre\\anaconda3\\envs\\gpu2\\lib\\site-packages\\statsmodels\\stats\\outliers_influence.py:193: RuntimeWarning: divide by zero encountered in double_scalars\n",
      "  vif = 1. / (1. - r_squared_i)\n"
     ]
    },
    {
     "name": "stdout",
     "output_type": "stream",
     "text": [
      "            VIF            feature\n",
      "92  2376.726591  yoy_TOT_X_ALC_TBC\n",
      "Removing yoy_TOT_X_ALC_TBC\n",
      "yoy_TOT_X_FROOPP\n",
      "93\n"
     ]
    },
    {
     "name": "stderr",
     "output_type": "stream",
     "text": [
      "C:\\Users\\lawre\\anaconda3\\envs\\gpu2\\lib\\site-packages\\statsmodels\\stats\\outliers_influence.py:193: RuntimeWarning: divide by zero encountered in double_scalars\n",
      "  vif = 1. / (1. - r_squared_i)\n"
     ]
    },
    {
     "name": "stdout",
     "output_type": "stream",
     "text": [
      "           VIF           feature\n",
      "93  187.105209  yoy_TOT_X_FROOPP\n",
      "Removing yoy_TOT_X_FROOPP\n",
      "yoy_TOT_X_FUEL\n",
      "94\n"
     ]
    },
    {
     "name": "stderr",
     "output_type": "stream",
     "text": [
      "C:\\Users\\lawre\\anaconda3\\envs\\gpu2\\lib\\site-packages\\statsmodels\\stats\\outliers_influence.py:193: RuntimeWarning: divide by zero encountered in double_scalars\n",
      "  vif = 1. / (1. - r_squared_i)\n"
     ]
    },
    {
     "name": "stdout",
     "output_type": "stream",
     "text": [
      "            VIF         feature\n",
      "94  1769.438554  yoy_TOT_X_FUEL\n",
      "Removing yoy_TOT_X_FUEL\n",
      "yoy_TOT_X_NRG_FOOD\n",
      "95\n"
     ]
    },
    {
     "name": "stderr",
     "output_type": "stream",
     "text": [
      "C:\\Users\\lawre\\anaconda3\\envs\\gpu2\\lib\\site-packages\\statsmodels\\stats\\outliers_influence.py:193: RuntimeWarning: divide by zero encountered in double_scalars\n",
      "  vif = 1. / (1. - r_squared_i)\n"
     ]
    },
    {
     "name": "stdout",
     "output_type": "stream",
     "text": [
      "           VIF             feature\n",
      "95  243.677483  yoy_TOT_X_NRG_FOOD\n",
      "Removing yoy_TOT_X_NRG_FOOD\n",
      "yoy_BS-CCI-BAL\n",
      "96\n"
     ]
    },
    {
     "name": "stderr",
     "output_type": "stream",
     "text": [
      "C:\\Users\\lawre\\anaconda3\\envs\\gpu2\\lib\\site-packages\\statsmodels\\stats\\outliers_influence.py:193: RuntimeWarning: divide by zero encountered in double_scalars\n",
      "  vif = 1. / (1. - r_squared_i)\n"
     ]
    },
    {
     "name": "stdout",
     "output_type": "stream",
     "text": [
      "         VIF         feature\n",
      "96  5.135271  yoy_BS-CCI-BAL\n",
      "yoy_BS-CSMCI-BAL\n",
      "97\n"
     ]
    },
    {
     "name": "stderr",
     "output_type": "stream",
     "text": [
      "C:\\Users\\lawre\\anaconda3\\envs\\gpu2\\lib\\site-packages\\statsmodels\\stats\\outliers_influence.py:193: RuntimeWarning: divide by zero encountered in double_scalars\n",
      "  vif = 1. / (1. - r_squared_i)\n"
     ]
    },
    {
     "name": "stdout",
     "output_type": "stream",
     "text": [
      "         VIF           feature\n",
      "97  4.296401  yoy_BS-CSMCI-BAL\n",
      "yoy_BS-ICI-BAL\n",
      "98\n"
     ]
    },
    {
     "name": "stderr",
     "output_type": "stream",
     "text": [
      "C:\\Users\\lawre\\anaconda3\\envs\\gpu2\\lib\\site-packages\\statsmodels\\stats\\outliers_influence.py:193: RuntimeWarning: divide by zero encountered in double_scalars\n",
      "  vif = 1. / (1. - r_squared_i)\n"
     ]
    },
    {
     "name": "stdout",
     "output_type": "stream",
     "text": [
      "         VIF         feature\n",
      "98  4.479136  yoy_BS-ICI-BAL\n",
      "yoy_BS-RCI-BAL\n",
      "99\n"
     ]
    },
    {
     "name": "stderr",
     "output_type": "stream",
     "text": [
      "C:\\Users\\lawre\\anaconda3\\envs\\gpu2\\lib\\site-packages\\statsmodels\\stats\\outliers_influence.py:193: RuntimeWarning: divide by zero encountered in double_scalars\n",
      "  vif = 1. / (1. - r_squared_i)\n"
     ]
    },
    {
     "name": "stdout",
     "output_type": "stream",
     "text": [
      "         VIF         feature\n",
      "99  4.745067  yoy_BS-RCI-BAL\n",
      "yoy_BS-SCI-BAL\n",
      "100\n"
     ]
    },
    {
     "name": "stderr",
     "output_type": "stream",
     "text": [
      "C:\\Users\\lawre\\anaconda3\\envs\\gpu2\\lib\\site-packages\\statsmodels\\stats\\outliers_influence.py:193: RuntimeWarning: divide by zero encountered in double_scalars\n",
      "  vif = 1. / (1. - r_squared_i)\n"
     ]
    },
    {
     "name": "stdout",
     "output_type": "stream",
     "text": [
      "          VIF         feature\n",
      "100  6.121012  yoy_BS-SCI-BAL\n",
      "yoy_Price\n",
      "101\n"
     ]
    },
    {
     "name": "stderr",
     "output_type": "stream",
     "text": [
      "C:\\Users\\lawre\\anaconda3\\envs\\gpu2\\lib\\site-packages\\statsmodels\\stats\\outliers_influence.py:193: RuntimeWarning: divide by zero encountered in double_scalars\n",
      "  vif = 1. / (1. - r_squared_i)\n"
     ]
    },
    {
     "name": "stdout",
     "output_type": "stream",
     "text": [
      "          VIF    feature\n",
      "101  1.886772  yoy_Price\n",
      "Processed  48 models on 1 predictors in 0.06318211555480957 seconds.\n",
      "Processed  47 models on 2 predictors in 0.0650784969329834 seconds.\n",
      "Processed  46 models on 3 predictors in 0.06817412376403809 seconds.\n",
      "Processed  45 models on 4 predictors in 0.07813644409179688 seconds.\n",
      "Processed  44 models on 5 predictors in 0.08419489860534668 seconds.\n",
      "Processed  43 models on 6 predictors in 0.09189462661743164 seconds.\n",
      "Processed  42 models on 7 predictors in 0.09875082969665527 seconds.\n",
      "Processed  41 models on 8 predictors in 0.1027991771697998 seconds.\n",
      "Processed  40 models on 9 predictors in 0.11464643478393555 seconds.\n",
      "Processed  39 models on 10 predictors in 0.12424468994140625 seconds.\n",
      "Processed  38 models on 11 predictors in 0.13203215599060059 seconds.\n",
      "Processed  37 models on 12 predictors in 0.13440465927124023 seconds.\n",
      "Processed  36 models on 13 predictors in 0.14751958847045898 seconds.\n",
      "Processed  35 models on 14 predictors in 0.15326309204101562 seconds.\n",
      "Processed  34 models on 15 predictors in 0.16111278533935547 seconds.\n",
      "Processed  33 models on 16 predictors in 0.16275668144226074 seconds.\n",
      "Processed  32 models on 17 predictors in 0.17030644416809082 seconds.\n",
      "Processed  31 models on 18 predictors in 0.17685222625732422 seconds.\n",
      "Processed  30 models on 19 predictors in 0.1839606761932373 seconds.\n",
      "Processed  29 models on 20 predictors in 0.18775558471679688 seconds.\n",
      "Processed  28 models on 21 predictors in 0.19214797019958496 seconds.\n",
      "Processed  27 models on 22 predictors in 0.20102882385253906 seconds.\n",
      "Processed  26 models on 23 predictors in 0.2235100269317627 seconds.\n",
      "Processed  25 models on 24 predictors in 0.22148680686950684 seconds.\n",
      "Processed  24 models on 25 predictors in 0.22356700897216797 seconds.\n",
      "Processed  23 models on 26 predictors in 0.23891901969909668 seconds.\n",
      "Processed  22 models on 27 predictors in 0.22559332847595215 seconds.\n",
      "Processed  21 models on 28 predictors in 0.21982932090759277 seconds.\n",
      "Processed  20 models on 29 predictors in 0.21478700637817383 seconds.\n",
      "Processed  19 models on 30 predictors in 0.2131493091583252 seconds.\n",
      "Processed  18 models on 31 predictors in 0.21469783782958984 seconds.\n",
      "Processed  17 models on 32 predictors in 0.20546317100524902 seconds.\n",
      "Processed  16 models on 33 predictors in 0.203324556350708 seconds.\n",
      "Processed  15 models on 34 predictors in 0.2000596523284912 seconds.\n",
      "Processed  14 models on 35 predictors in 0.19425487518310547 seconds.\n",
      "Processed  13 models on 36 predictors in 0.19125056266784668 seconds.\n",
      "Processed  12 models on 37 predictors in 0.17998576164245605 seconds.\n",
      "Processed  11 models on 38 predictors in 0.17389512062072754 seconds.\n",
      "Processed  10 models on 39 predictors in 0.16628503799438477 seconds.\n",
      "Processed  9 models on 40 predictors in 0.1480247974395752 seconds.\n",
      "Processed  8 models on 41 predictors in 0.14888906478881836 seconds.\n",
      "Processed  7 models on 42 predictors in 0.13465642929077148 seconds.\n",
      "Processed  6 models on 43 predictors in 0.12158060073852539 seconds.\n",
      "Processed  5 models on 44 predictors in 0.10410785675048828 seconds.\n",
      "Processed  4 models on 45 predictors in 0.08499622344970703 seconds.\n",
      "Processed  3 models on 46 predictors in 0.06520438194274902 seconds.\n",
      "Processed  2 models on 47 predictors in 0.045839548110961914 seconds.\n",
      "Processed  1 models on 48 predictors in 0.025548458099365234 seconds.\n",
      "Total elapsed time: 7.442260026931763 seconds.\n",
      "                                 OLS Regression Results                                \n",
      "=======================================================================================\n",
      "Dep. Variable:                tgt_crd   R-squared (uncentered):                   0.972\n",
      "Model:                            OLS   Adj. R-squared (uncentered):              0.972\n",
      "Method:                 Least Squares   F-statistic:                              7145.\n",
      "Date:                Sat, 19 Aug 2023   Prob (F-statistic):                        0.00\n",
      "Time:                        12:13:18   Log-Likelihood:                         -12072.\n",
      "No. Observations:                3066   AIC:                                  2.417e+04\n",
      "Df Residuals:                    3051   BIC:                                  2.426e+04\n",
      "Df Model:                          15                                                  \n",
      "Covariance Type:            nonrobust                                                  \n",
      "======================================================================================\n",
      "                         coef    std err          t      P>|t|      [0.025      0.975]\n",
      "--------------------------------------------------------------------------------------\n",
      "WB_IRON_ORE            0.3394      0.005     66.517      0.000       0.329       0.349\n",
      "WB_NGAS_US             4.9471      0.250     19.782      0.000       4.457       5.437\n",
      "BS-SCI-BAL             1.5977      0.036     44.139      0.000       1.527       1.669\n",
      "BS-RCI-BAL            -1.3926      0.052    -26.576      0.000      -1.495      -1.290\n",
      "ravg_yr_Volume_crd -3.397e-05   1.12e-06    -30.203      0.000   -3.62e-05   -3.18e-05\n",
      "yoy_WB_NGAS_US        -4.8836      0.617     -7.913      0.000      -6.094      -3.673\n",
      "yoy_WB_CRUDE_BRENT     0.5479      0.050     11.057      0.000       0.451       0.645\n",
      "yoy_WB_IRON_ORE       -0.2552      0.028     -9.142      0.000      -0.310      -0.200\n",
      "yoy_Price              0.2318      0.032      7.147      0.000       0.168       0.295\n",
      "BS-ICI-BAL            -0.1700      0.027     -6.218      0.000      -0.224      -0.116\n",
      "yoy_BS-SCI-BAL        -0.4590      0.089     -5.176      0.000      -0.633      -0.285\n",
      "yoy_Open_usd          -0.8509      0.171     -4.985      0.000      -1.186      -0.516\n",
      "yoy_BS-RCI-BAL         0.5881      0.102      5.745      0.000       0.387       0.789\n",
      "yoy_BS-CSMCI-BAL      -0.9047      0.193     -4.691      0.000      -1.283      -0.527\n",
      "diff_High_crd          0.6758      0.169      3.999      0.000       0.344       1.007\n",
      "==============================================================================\n",
      "Omnibus:                        0.010   Durbin-Watson:                   0.063\n",
      "Prob(Omnibus):                  0.995   Jarque-Bera (JB):                0.019\n",
      "Skew:                           0.004   Prob(JB):                        0.991\n",
      "Kurtosis:                       2.991   Cond. No.                     1.26e+06\n",
      "==============================================================================\n",
      "\n",
      "Notes:\n",
      "[1] R² is computed without centering (uncentered) since the model does not contain a constant.\n",
      "[2] Standard Errors assume that the covariance matrix of the errors is correctly specified.\n",
      "[3] The condition number is large, 1.26e+06. This might indicate that there are\n",
      "strong multicollinearity or other numerical problems.\n",
      "Regression Train Score: 75.50 RMSE\n",
      "Regression Test Score: 77.54 RMSE\n",
      "Regression Validation Score: 77.44 RMSE\n"
     ]
    },
    {
     "data": {
      "image/png": "[encoded data removed]",
      "text/plain": [
       "<Figure size 432x288 with 1 Axes>"
      ]
     },
     "metadata": {
      "needs_background": "light"
     },
     "output_type": "display_data"
    },
    {
     "name": "stdout",
     "output_type": "stream",
     "text": [
      "x_train.shape =  torch.Size([3066, 15, 1])\n",
      "y_train.shape =  torch.Size([3066, 1])\n",
      "x_test.shape =  torch.Size([35, 15, 1])\n",
      "y_test.shape =  torch.Size([35, 1])\n",
      "x_val.shape =  torch.Size([34, 15, 1])\n",
      "y_val.shape =  torch.Size([34, 1])\n",
      "LSTM(\n",
      "  (lstm): LSTM(1, 32, num_layers=4, batch_first=True, dropout=0.2)\n",
      "  (fc): Linear(in_features=32, out_features=1, bias=True)\n",
      "  (relu): ReLU()\n",
      ")\n",
      "18\n",
      "torch.Size([128, 1])\n",
      "torch.Size([128, 32])\n",
      "torch.Size([128])\n",
      "torch.Size([128])\n",
      "torch.Size([128, 32])\n",
      "torch.Size([128, 32])\n",
      "torch.Size([128])\n",
      "torch.Size([128])\n",
      "torch.Size([128, 32])\n",
      "torch.Size([128, 32])\n",
      "torch.Size([128])\n",
      "torch.Size([128])\n",
      "torch.Size([128, 32])\n",
      "torch.Size([128, 32])\n",
      "torch.Size([128])\n",
      "torch.Size([128])\n",
      "torch.Size([1, 32])\n",
      "torch.Size([1])\n",
      "Epoch  50 MSE:  0.13030028343200684\n",
      "Epoch  50 Test MSE:  0.028857963159680367\n",
      "Epoch  100 MSE:  0.1279752403497696\n",
      "Epoch  100 Test MSE:  0.05299432948231697\n",
      "Epoch  150 MSE:  0.12796713411808014\n",
      "Epoch  150 Test MSE:  0.054553527384996414\n",
      "--- 79.04106450080872 seconds ---\n"
     ]
    },
    {
     "data": {
      "image/png": "[encoded data removed]",
      "text/plain": [
       "<Figure size 432x288 with 1 Axes>"
      ]
     },
     "metadata": {
      "needs_background": "light"
     },
     "output_type": "display_data"
    },
    {
     "name": "stdout",
     "output_type": "stream",
     "text": [
      "Test Score: 9.99 RMSE\n",
      "Train Score: 23.62 RMSE\n",
      "Validation Score: 11.25 RMSE\n"
     ]
    },
    {
     "data": {
      "image/png": "[encoded data removed]",
      "text/plain": [
       "<Figure size 432x288 with 1 Axes>"
      ]
     },
     "metadata": {
      "needs_background": "light"
     },
     "output_type": "display_data"
    },
    {
     "ename": "NameError",
     "evalue": "name 'step' is not defined",
     "output_type": "error",
     "traceback": [
      "\u001b[1;31m---------------------------------------------------------------------------\u001b[0m",
      "\u001b[1;31mNameError\u001b[0m                                 Traceback (most recent call last)",
      "\u001b[1;32m<ipython-input-62-e3ce321d8f86>\u001b[0m in \u001b[0;36m<module>\u001b[1;34m\u001b[0m\n\u001b[0;32m    209\u001b[0m                               }, index = [str(dte)])\n\u001b[0;32m    210\u001b[0m \u001b[1;33m\u001b[0m\u001b[0m\n\u001b[1;32m--> 211\u001b[1;33m \u001b[0mfcst\u001b[0m \u001b[1;33m=\u001b[0m \u001b[0mpd\u001b[0m\u001b[1;33m.\u001b[0m\u001b[0mDataFrame\u001b[0m\u001b[1;33m(\u001b[0m\u001b[0mdata\u001b[0m \u001b[1;33m=\u001b[0m \u001b[1;33m{\u001b[0m\u001b[1;34m\"dte\"\u001b[0m \u001b[1;33m:\u001b[0m \u001b[0my_val\u001b[0m\u001b[1;33m.\u001b[0m\u001b[0mindex\u001b[0m\u001b[1;33m,\u001b[0m \u001b[1;34m\"step\"\u001b[0m\u001b[1;33m:\u001b[0m\u001b[0mstep\u001b[0m\u001b[1;33m,\u001b[0m \u001b[1;34m\"y_pred\"\u001b[0m\u001b[1;33m:\u001b[0m \u001b[0my_val_pred\u001b[0m\u001b[1;33m,\u001b[0m \u001b[1;34m\"y_val\"\u001b[0m\u001b[1;33m:\u001b[0m \u001b[0my_val\u001b[0m\u001b[1;33m.\u001b[0m\u001b[0mvalues\u001b[0m\u001b[1;33m}\u001b[0m\u001b[1;33m)\u001b[0m\u001b[1;33m\u001b[0m\u001b[1;33m\u001b[0m\u001b[0m\n\u001b[0m\u001b[0;32m    212\u001b[0m \u001b[1;33m\u001b[0m\u001b[0m\n\u001b[0;32m    213\u001b[0m \u001b[1;32mreturn\u001b[0m\u001b[1;33m(\u001b[0m\u001b[0mhist\u001b[0m\u001b[1;33m,\u001b[0m \u001b[0mhist_test\u001b[0m\u001b[1;33m,\u001b[0m \u001b[0my_test_pred\u001b[0m\u001b[1;33m,\u001b[0m \u001b[0my_val_pred\u001b[0m\u001b[1;33m,\u001b[0m \u001b[0merr_row\u001b[0m\u001b[1;33m,\u001b[0m \u001b[0mfcst\u001b[0m\u001b[1;33m)\u001b[0m\u001b[1;33m\u001b[0m\u001b[1;33m\u001b[0m\u001b[0m\n",
      "\u001b[1;31mNameError\u001b[0m: name 'step' is not defined"
     ]
    }
   ],
   "source": [
    "\n",
    "\n",
    "    \n",
    "#Split data\n",
    "#Train test validation splits\n",
    "dat = dat.copy().drop(y_remove, axis=1)#.astype('float64')\n",
    "X_train, X_val, X_test, y_train, y_val, y_test = train_val_test_split_date(df = dat, target_col = y_name, dte = dte,\n",
    "                                                                          val_days = val_days, test_days = val_days)\n",
    "\n",
    "if verbose == True:\n",
    "    print(dte)\n",
    "    print(\"X_train: \" + str(X_train.shape) + \" \" + str(min(X_train.index)) + \">\" + str(max(X_train.index)))\n",
    "    print(\"X_test: \" + str(X_test.shape)+ \" \" + str(min(X_test.index)) + \">\" + str(max(X_test.index)))\n",
    "    print(\"X_val: \" + str(X_val.shape)+ \" \" + str(min(X_val.index)) + \">\" + str(max(X_val.index)))\n",
    "    print(\"y_train: \" + str(y_train.shape)+ \" \" + str(min(y_train.index)) + \">\" + str(max(y_train.index)))\n",
    "    print(\"y_test: \" + str(y_test.shape)+ \" \" + str(min(y_test.index)) + \">\" + str(max(y_test.index)))\n",
    "    print(\"y_val: \" + str(y_val.shape)+ \" \" + str(min(y_val.index)) + \">\" + str(max(y_val.index)))\n",
    "\n",
    "#Subset data \n",
    "X_train_vif, X_test_vif, X_val_vif = vif_correlation_subset(X_train, X_test, X_val, \n",
    "                                                            read_vif_values = read_vif_values, verbose = verbose)\n",
    "\n",
    "X_train_subset, X_test_subset, X_val_subset, reg_model, subsets = fwd_subset(X_train_vif, X_test_vif, X_val_vif, \n",
    "                                                         y_train, y_name, verbose = verbose, \n",
    "                                                                    read_subset_values = read_subset_values)\n",
    "\n",
    "#Create tensors from subset of data\n",
    "from sklearn.preprocessing import MinMaxScaler\n",
    "\n",
    "scaler = MinMaxScaler()\n",
    "X_train_arr = scaler.fit_transform(X_train_subset)\n",
    "X_val_arr = scaler.transform(X_val_subset)\n",
    "X_test_arr = scaler.transform(X_test_subset)\n",
    "\n",
    "y_train_arr = scaler.fit_transform(y_train)\n",
    "y_val_arr = scaler.transform(y_val)\n",
    "y_test_arr = scaler.transform(y_test)\n",
    "\n",
    "y_pred_train_reg = reg_model.predict(X_train_arr) \n",
    "y_pred_test_reg = reg_model.predict(X_test_arr) \n",
    "y_pred_val_reg = reg_model.predict(X_val_arr) \n",
    "\n",
    "import math\n",
    "from sklearn.metrics import mean_squared_error\n",
    "trainScoreReg = math.sqrt(mean_squared_error(y_train, y_pred_train_reg))\n",
    "testScoreReg = math.sqrt(mean_squared_error(y_test, y_pred_test_reg))\n",
    "valScoreReg = math.sqrt(mean_squared_error(y_val, y_pred_val_reg))\n",
    "\n",
    "if verbose == True:\n",
    "    print('Regression Train Score: %.2f RMSE' % (trainScoreReg))\n",
    "    print('Regression Test Score: %.2f RMSE' % (testScoreReg))\n",
    "    print('Regression Validation Score: %.2f RMSE' % (valScoreReg))\n",
    "\n",
    "    plt.plot(subsets[\"r_sq\"], label=\"r squared\")\n",
    "    plt.legend()\n",
    "    plt.show()\n",
    "\n",
    "# make training and test sets in torch\n",
    "X_train_subset_tensor = torch.from_numpy(X_train_arr).type(torch.Tensor)\n",
    "X_test_subset_tensor = torch.from_numpy(X_test_arr).type(torch.Tensor)\n",
    "X_val_subset_tensor = torch.from_numpy(X_val_arr).type(torch.Tensor)\n",
    "y_train_tensor = torch.from_numpy(y_train_arr).type(torch.Tensor)\n",
    "y_test_tensor = torch.from_numpy(y_test_arr).type(torch.Tensor)\n",
    "y_val_tensor = torch.from_numpy(y_val_arr).type(torch.Tensor)\n",
    "\n",
    "X_train_subset_tensor = X_train_subset_tensor[:,:,None]\n",
    "X_test_subset_tensor = X_test_subset_tensor[:,:,None]\n",
    "X_val_subset_tensor = X_val_subset_tensor[:,:,None]\n",
    "\n",
    "if verbose == True:\n",
    "    print('x_train.shape = ',X_train_subset_tensor.shape)\n",
    "    print('y_train.shape = ',y_train_tensor.shape)\n",
    "    print('x_test.shape = ',X_test_subset_tensor.shape)\n",
    "    print('y_test.shape = ',y_test_tensor.shape)\n",
    "    print('x_val.shape = ',X_val_subset_tensor.shape)\n",
    "    print('y_val.shape = ',y_val_tensor.shape)\n",
    "\n",
    "if model_name == \"lstm\":\n",
    "    model = LSTM(input_dim=input_dim, hidden_dim=hidden_dim, output_dim=output_dim, \n",
    "              num_layers=num_layers, dropout_prob = dropout)\n",
    "elif model_name == \"gru\":\n",
    "    model = GRU(input_dim=input_dim, hidden_dim=hidden_dim, output_dim=output_dim, num_layers=num_layers)\n",
    "elif model_name == \"rnn\":\n",
    "    model = RNN(input_dim=input_dim, hidden_dim=hidden_dim, output_dim=output_dim, \n",
    "                      layer_dim=num_layers, dropout_prob = dropout)\n",
    "\n",
    "model = prune_model_l1_unstructured(model, nn.Conv2d, prune_prop)\n",
    "\n",
    "loss_fn = torch.nn.L1Loss()\n",
    "\n",
    "optimiser = torch.optim.Adam(model.parameters(), lr=learning_rate, weight_decay=weight_decay)\n",
    "\n",
    "if verbose == True:\n",
    "    print(model)\n",
    "    print(len(list(model.parameters())))\n",
    "    for i in range(len(list(model.parameters()))):\n",
    "        print(list(model.parameters())[i].size())\n",
    "\n",
    "model = prune_model_l1_unstructured(model, nn.Conv2d, prune_prop)\n",
    "\n",
    "# Train model\n",
    "#####################\n",
    "hist = np.zeros(num_epochs)\n",
    "hist_test = np.zeros(num_epochs)\n",
    "look_back = 10 # choose sequence length\n",
    "\n",
    "# Number of steps to unroll\n",
    "seq_dim = look_back-1  \n",
    "\n",
    "start_time = time.time() \n",
    "for t in range(num_epochs):\n",
    "    # Initialise hidden state\n",
    "    # Don't do this if you want your LSTM to be stateful\n",
    "    #model.hidden = model.init_hidden()\n",
    "\n",
    "    # Forward pass\n",
    "    y_train_pred = model(X_train_subset_tensor)\n",
    "    y_test_pred = model(X_test_subset_tensor)\n",
    "\n",
    "    loss = loss_fn(y_train_pred, y_train_tensor)\n",
    "    loss_test = loss_fn(y_test_pred, y_test_tensor)\n",
    "    if verbose == True:\n",
    "        if t % 50 == 0 and t !=0:\n",
    "            print(\"Epoch \", t, \"MSE: \", loss.item())\n",
    "            print(\"Epoch \", t, \"Test MSE: \", loss_test.item())\n",
    "    hist[t] = loss.item()\n",
    "    hist_test[t] = loss_test.item()\n",
    "\n",
    "    # Zero out gradient, else they will accumulate between epochs\n",
    "    optimiser.zero_grad()\n",
    "\n",
    "    # Backward pass\n",
    "    loss.backward()\n",
    "\n",
    "    # Update parameters\n",
    "    optimiser.step()\n",
    "\n",
    "if verbose == True:\n",
    "    print(\"--- %s seconds ---\" % (time.time() - start_time))\n",
    "\n",
    "if verbose == True:\n",
    "    plt.plot(hist, label=\"Training loss\")\n",
    "    plt.plot(hist_test, label=\"Test loss\")\n",
    "    plt.legend()\n",
    "    plt.title(str(model) + \" Loss\")\n",
    "    plt.savefig('lstm_loss_low.png')\n",
    "    plt.show()\n",
    "\n",
    "# make test predictions\n",
    "y_test_pred = model(X_test_subset_tensor)\n",
    "\n",
    "# invert predictions\n",
    "y_train_pred = scaler.inverse_transform(y_train_pred.detach().numpy())\n",
    "y_train_det = scaler.inverse_transform(y_train_tensor.detach().numpy())\n",
    "y_test_pred = scaler.inverse_transform(y_test_pred.detach().numpy())\n",
    "y_test_det = scaler.inverse_transform(y_test_tensor.detach().numpy())\n",
    "\n",
    "# make validation predictions\n",
    "y_val_pred = model(X_val_subset_tensor)\n",
    "\n",
    "# invert predictions\n",
    "y_val_pred = scaler.inverse_transform(y_val_pred.detach().numpy())\n",
    "y_val_det = scaler.inverse_transform(y_val_tensor.detach().numpy())\n",
    "\n",
    "# calculate root mean squared error\n",
    "trainScore = math.sqrt(mean_squared_error(y_train_det[:,0], y_train_pred[:,0]))\n",
    "testScore = math.sqrt(mean_squared_error(y_test_det[:,0], y_test_pred[:,0]))\n",
    "valScore = math.sqrt(mean_squared_error(y_val_det[:,0], y_val_pred[:,0]))\n",
    "\n",
    "if verbose == True:\n",
    "    print('Test Score: %.2f RMSE' % (testScore))\n",
    "    print('Train Score: %.2f RMSE' % (trainScore))\n",
    "    print('Validation Score: %.2f RMSE' % (valScore))\n",
    "\n",
    "    # Visualising the results\n",
    "    figure, axes = plt.subplots()\n",
    "    axes.xaxis_date()\n",
    "\n",
    "    axes.plot(pd.to_datetime(y_val.index), y_val.values, color = 'red', label = 'Real')\n",
    "    axes.plot(pd.to_datetime(y_val.index), y_val_pred, color = 'blue', label = 'Predicted')\n",
    "    plt.title(str(model) + ' Prediction')\n",
    "    plt.xlabel('Time')\n",
    "    plt.ylabel('Price')\n",
    "    plt.legend()\n",
    "    plt.savefig('lstm.png')\n",
    "    plt.show()\n",
    "\n",
    "err_row = pd.DataFrame(data = {\"reg_train\":trainScoreReg,\"reg_test\":testScoreReg, \"reg_val\":valScoreReg,\n",
    "      \"net_train\":trainScore,\"net_test\":testScore, \"net_val\":valScore#,\n",
    "        #\"hist\":hist,\"hist_test\":hist_test,\"y_test_pred\":y_test_pred, \"y_val_pred\":y_val_pred\n",
    "                              }, index = [str(dte)])\n",
    "\n",
    "fcst = pd.DataFrame(data = {\"dte\" : y_val.index, \"step\": [step] * len(y_val_pred), \"y_pred\": y_val_pred, \"y_val\": y_val.values})\n",
    "\n",
    "return(hist, hist_test, y_test_pred, y_val_pred, err_row, fcst)\n"
   ]
  },
  {
   "cell_type": "code",
   "execution_count": 88,
   "id": "c0315fd3",
   "metadata": {},
   "outputs": [
    {
     "data": {
      "text/html": [
       "<div>\n",
       "<style scoped>\n",
       "    .dataframe tbody tr th:only-of-type {\n",
       "        vertical-align: middle;\n",
       "    }\n",
       "\n",
       "    .dataframe tbody tr th {\n",
       "        vertical-align: top;\n",
       "    }\n",
       "\n",
       "    .dataframe thead th {\n",
       "        text-align: right;\n",
       "    }\n",
       "</style>\n",
       "<table border=\"1\" class=\"dataframe\">\n",
       "  <thead>\n",
       "    <tr style=\"text-align: right;\">\n",
       "      <th></th>\n",
       "      <th>dte</th>\n",
       "      <th>step</th>\n",
       "      <th>y_pred</th>\n",
       "      <th>y_val</th>\n",
       "    </tr>\n",
       "  </thead>\n",
       "  <tbody>\n",
       "    <tr>\n",
       "      <th>0</th>\n",
       "      <td>2023-01-04</td>\n",
       "      <td>1</td>\n",
       "      <td>67.028557</td>\n",
       "      <td>73.669998</td>\n",
       "    </tr>\n",
       "    <tr>\n",
       "      <th>1</th>\n",
       "      <td>2023-01-05</td>\n",
       "      <td>1</td>\n",
       "      <td>67.088387</td>\n",
       "      <td>73.769997</td>\n",
       "    </tr>\n",
       "    <tr>\n",
       "      <th>2</th>\n",
       "      <td>2023-01-06</td>\n",
       "      <td>1</td>\n",
       "      <td>67.087997</td>\n",
       "      <td>74.629997</td>\n",
       "    </tr>\n",
       "    <tr>\n",
       "      <th>3</th>\n",
       "      <td>2023-01-09</td>\n",
       "      <td>1</td>\n",
       "      <td>66.144623</td>\n",
       "      <td>75.120003</td>\n",
       "    </tr>\n",
       "    <tr>\n",
       "      <th>4</th>\n",
       "      <td>2023-01-10</td>\n",
       "      <td>1</td>\n",
       "      <td>66.317917</td>\n",
       "      <td>77.410004</td>\n",
       "    </tr>\n",
       "    <tr>\n",
       "      <th>5</th>\n",
       "      <td>2023-01-11</td>\n",
       "      <td>1</td>\n",
       "      <td>66.189949</td>\n",
       "      <td>78.389999</td>\n",
       "    </tr>\n",
       "    <tr>\n",
       "      <th>6</th>\n",
       "      <td>2023-01-12</td>\n",
       "      <td>1</td>\n",
       "      <td>67.173187</td>\n",
       "      <td>79.860001</td>\n",
       "    </tr>\n",
       "    <tr>\n",
       "      <th>7</th>\n",
       "      <td>2023-01-13</td>\n",
       "      <td>1</td>\n",
       "      <td>66.208755</td>\n",
       "      <td>80.180000</td>\n",
       "    </tr>\n",
       "    <tr>\n",
       "      <th>8</th>\n",
       "      <td>2023-01-17</td>\n",
       "      <td>1</td>\n",
       "      <td>67.192780</td>\n",
       "      <td>79.480003</td>\n",
       "    </tr>\n",
       "    <tr>\n",
       "      <th>9</th>\n",
       "      <td>2023-01-18</td>\n",
       "      <td>1</td>\n",
       "      <td>67.674561</td>\n",
       "      <td>80.330002</td>\n",
       "    </tr>\n",
       "    <tr>\n",
       "      <th>10</th>\n",
       "      <td>2023-01-19</td>\n",
       "      <td>1</td>\n",
       "      <td>66.725807</td>\n",
       "      <td>81.309998</td>\n",
       "    </tr>\n",
       "    <tr>\n",
       "      <th>11</th>\n",
       "      <td>2023-01-20</td>\n",
       "      <td>1</td>\n",
       "      <td>67.467522</td>\n",
       "      <td>81.620003</td>\n",
       "    </tr>\n",
       "    <tr>\n",
       "      <th>12</th>\n",
       "      <td>2023-01-23</td>\n",
       "      <td>1</td>\n",
       "      <td>66.984123</td>\n",
       "      <td>80.129997</td>\n",
       "    </tr>\n",
       "    <tr>\n",
       "      <th>13</th>\n",
       "      <td>2023-01-24</td>\n",
       "      <td>1</td>\n",
       "      <td>66.015648</td>\n",
       "      <td>80.150002</td>\n",
       "    </tr>\n",
       "    <tr>\n",
       "      <th>14</th>\n",
       "      <td>2023-01-25</td>\n",
       "      <td>1</td>\n",
       "      <td>66.921051</td>\n",
       "      <td>81.010002</td>\n",
       "    </tr>\n",
       "    <tr>\n",
       "      <th>15</th>\n",
       "      <td>2023-01-26</td>\n",
       "      <td>1</td>\n",
       "      <td>66.632050</td>\n",
       "      <td>79.680000</td>\n",
       "    </tr>\n",
       "    <tr>\n",
       "      <th>16</th>\n",
       "      <td>2023-01-27</td>\n",
       "      <td>1</td>\n",
       "      <td>66.568626</td>\n",
       "      <td>77.900002</td>\n",
       "    </tr>\n",
       "    <tr>\n",
       "      <th>17</th>\n",
       "      <td>2023-01-30</td>\n",
       "      <td>1</td>\n",
       "      <td>66.844833</td>\n",
       "      <td>78.870003</td>\n",
       "    </tr>\n",
       "    <tr>\n",
       "      <th>18</th>\n",
       "      <td>2023-01-31</td>\n",
       "      <td>1</td>\n",
       "      <td>67.328758</td>\n",
       "      <td>76.410004</td>\n",
       "    </tr>\n",
       "    <tr>\n",
       "      <th>19</th>\n",
       "      <td>2023-02-01</td>\n",
       "      <td>1</td>\n",
       "      <td>66.678192</td>\n",
       "      <td>75.879997</td>\n",
       "    </tr>\n",
       "    <tr>\n",
       "      <th>20</th>\n",
       "      <td>2023-02-02</td>\n",
       "      <td>1</td>\n",
       "      <td>67.734192</td>\n",
       "      <td>73.389999</td>\n",
       "    </tr>\n",
       "    <tr>\n",
       "      <th>21</th>\n",
       "      <td>2023-02-03</td>\n",
       "      <td>1</td>\n",
       "      <td>66.817047</td>\n",
       "      <td>74.110001</td>\n",
       "    </tr>\n",
       "    <tr>\n",
       "      <th>22</th>\n",
       "      <td>2023-02-06</td>\n",
       "      <td>1</td>\n",
       "      <td>66.432816</td>\n",
       "      <td>77.139999</td>\n",
       "    </tr>\n",
       "    <tr>\n",
       "      <th>23</th>\n",
       "      <td>2023-02-07</td>\n",
       "      <td>1</td>\n",
       "      <td>67.246803</td>\n",
       "      <td>78.470001</td>\n",
       "    </tr>\n",
       "    <tr>\n",
       "      <th>24</th>\n",
       "      <td>2023-02-08</td>\n",
       "      <td>1</td>\n",
       "      <td>67.342880</td>\n",
       "      <td>78.059998</td>\n",
       "    </tr>\n",
       "    <tr>\n",
       "      <th>25</th>\n",
       "      <td>2023-02-09</td>\n",
       "      <td>1</td>\n",
       "      <td>66.441116</td>\n",
       "      <td>79.720001</td>\n",
       "    </tr>\n",
       "    <tr>\n",
       "      <th>26</th>\n",
       "      <td>2023-02-10</td>\n",
       "      <td>1</td>\n",
       "      <td>66.721382</td>\n",
       "      <td>80.139999</td>\n",
       "    </tr>\n",
       "    <tr>\n",
       "      <th>27</th>\n",
       "      <td>2023-02-13</td>\n",
       "      <td>1</td>\n",
       "      <td>66.575455</td>\n",
       "      <td>79.059998</td>\n",
       "    </tr>\n",
       "    <tr>\n",
       "      <th>28</th>\n",
       "      <td>2023-02-14</td>\n",
       "      <td>1</td>\n",
       "      <td>66.948975</td>\n",
       "      <td>78.589996</td>\n",
       "    </tr>\n",
       "    <tr>\n",
       "      <th>29</th>\n",
       "      <td>2023-02-15</td>\n",
       "      <td>1</td>\n",
       "      <td>66.468330</td>\n",
       "      <td>78.489998</td>\n",
       "    </tr>\n",
       "    <tr>\n",
       "      <th>30</th>\n",
       "      <td>2023-02-16</td>\n",
       "      <td>1</td>\n",
       "      <td>67.276222</td>\n",
       "      <td>76.339996</td>\n",
       "    </tr>\n",
       "    <tr>\n",
       "      <th>31</th>\n",
       "      <td>2023-02-17</td>\n",
       "      <td>1</td>\n",
       "      <td>66.293411</td>\n",
       "      <td>76.160004</td>\n",
       "    </tr>\n",
       "    <tr>\n",
       "      <th>32</th>\n",
       "      <td>2023-02-21</td>\n",
       "      <td>1</td>\n",
       "      <td>67.013680</td>\n",
       "      <td>73.949997</td>\n",
       "    </tr>\n",
       "    <tr>\n",
       "      <th>33</th>\n",
       "      <td>2023-02-22</td>\n",
       "      <td>1</td>\n",
       "      <td>66.357407</td>\n",
       "      <td>75.389999</td>\n",
       "    </tr>\n",
       "  </tbody>\n",
       "</table>\n",
       "</div>"
      ],
      "text/plain": [
       "           dte  step     y_pred      y_val\n",
       "0   2023-01-04     1  67.028557  73.669998\n",
       "1   2023-01-05     1  67.088387  73.769997\n",
       "2   2023-01-06     1  67.087997  74.629997\n",
       "3   2023-01-09     1  66.144623  75.120003\n",
       "4   2023-01-10     1  66.317917  77.410004\n",
       "5   2023-01-11     1  66.189949  78.389999\n",
       "6   2023-01-12     1  67.173187  79.860001\n",
       "7   2023-01-13     1  66.208755  80.180000\n",
       "8   2023-01-17     1  67.192780  79.480003\n",
       "9   2023-01-18     1  67.674561  80.330002\n",
       "10  2023-01-19     1  66.725807  81.309998\n",
       "11  2023-01-20     1  67.467522  81.620003\n",
       "12  2023-01-23     1  66.984123  80.129997\n",
       "13  2023-01-24     1  66.015648  80.150002\n",
       "14  2023-01-25     1  66.921051  81.010002\n",
       "15  2023-01-26     1  66.632050  79.680000\n",
       "16  2023-01-27     1  66.568626  77.900002\n",
       "17  2023-01-30     1  66.844833  78.870003\n",
       "18  2023-01-31     1  67.328758  76.410004\n",
       "19  2023-02-01     1  66.678192  75.879997\n",
       "20  2023-02-02     1  67.734192  73.389999\n",
       "21  2023-02-03     1  66.817047  74.110001\n",
       "22  2023-02-06     1  66.432816  77.139999\n",
       "23  2023-02-07     1  67.246803  78.470001\n",
       "24  2023-02-08     1  67.342880  78.059998\n",
       "25  2023-02-09     1  66.441116  79.720001\n",
       "26  2023-02-10     1  66.721382  80.139999\n",
       "27  2023-02-13     1  66.575455  79.059998\n",
       "28  2023-02-14     1  66.948975  78.589996\n",
       "29  2023-02-15     1  66.468330  78.489998\n",
       "30  2023-02-16     1  67.276222  76.339996\n",
       "31  2023-02-17     1  66.293411  76.160004\n",
       "32  2023-02-21     1  67.013680  73.949997\n",
       "33  2023-02-22     1  66.357407  75.389999"
      ]
     },
     "execution_count": 88,
     "metadata": {},
     "output_type": "execute_result"
    }
   ],
   "source": [
    "step = 1\n",
    "fcst = pd.DataFrame(index =  data = {\"dte\" : y_val.index.to_list(), \"step\":[step] * len(y_val_pred), \n",
    "                            \"y_pred\": y_val_pred.flatten(), \"y_val\": y_val.values.flatten()})\n",
    "fcst"
   ]
  },
  {
   "cell_type": "code",
   "execution_count": 91,
   "id": "cdc7ccef",
   "metadata": {},
   "outputs": [
    {
     "ename": "TypeError",
     "evalue": "unsupported operand type(s) for +: 'datetime.datetime' and 'int'",
     "output_type": "error",
     "traceback": [
      "\u001b[1;31m---------------------------------------------------------------------------\u001b[0m",
      "\u001b[1;31mTypeError\u001b[0m                                 Traceback (most recent call last)",
      "\u001b[1;32m<ipython-input-91-ba88725d55fd>\u001b[0m in \u001b[0;36m<module>\u001b[1;34m\u001b[0m\n\u001b[1;32m----> 1\u001b[1;33m \u001b[0mfcst\u001b[0m\u001b[1;33m.\u001b[0m\u001b[0mindex\u001b[0m \u001b[1;33m=\u001b[0m \u001b[0mdte\u001b[0m \u001b[1;33m+\u001b[0m \u001b[0mstep\u001b[0m\u001b[1;33m\u001b[0m\u001b[1;33m\u001b[0m\u001b[0m\n\u001b[0m",
      "\u001b[1;31mTypeError\u001b[0m: unsupported operand type(s) for +: 'datetime.datetime' and 'int'"
     ]
    }
   ],
   "source": [
    "fcst.insert(0, step_dte = )"
   ]
  },
  {
   "cell_type": "code",
   "execution_count": 103,
   "id": "5de31eb9",
   "metadata": {},
   "outputs": [
    {
     "data": {
      "text/html": [
       "<div>\n",
       "<style scoped>\n",
       "    .dataframe tbody tr th:only-of-type {\n",
       "        vertical-align: middle;\n",
       "    }\n",
       "\n",
       "    .dataframe tbody tr th {\n",
       "        vertical-align: top;\n",
       "    }\n",
       "\n",
       "    .dataframe thead th {\n",
       "        text-align: right;\n",
       "    }\n",
       "</style>\n",
       "<table border=\"1\" class=\"dataframe\">\n",
       "  <thead>\n",
       "    <tr style=\"text-align: right;\">\n",
       "      <th></th>\n",
       "      <th>dte</th>\n",
       "      <th>step</th>\n",
       "      <th>y_pred</th>\n",
       "      <th>y_val</th>\n",
       "      <th>step_dte</th>\n",
       "    </tr>\n",
       "  </thead>\n",
       "  <tbody>\n",
       "    <tr>\n",
       "      <th>1_2023-01-04</th>\n",
       "      <td>2023-01-04</td>\n",
       "      <td>1</td>\n",
       "      <td>67.028557</td>\n",
       "      <td>73.669998</td>\n",
       "      <td>12023-01-04</td>\n",
       "    </tr>\n",
       "    <tr>\n",
       "      <th>1_2023-01-05</th>\n",
       "      <td>2023-01-05</td>\n",
       "      <td>1</td>\n",
       "      <td>67.088387</td>\n",
       "      <td>73.769997</td>\n",
       "      <td>12023-01-05</td>\n",
       "    </tr>\n",
       "    <tr>\n",
       "      <th>1_2023-01-06</th>\n",
       "      <td>2023-01-06</td>\n",
       "      <td>1</td>\n",
       "      <td>67.087997</td>\n",
       "      <td>74.629997</td>\n",
       "      <td>12023-01-06</td>\n",
       "    </tr>\n",
       "    <tr>\n",
       "      <th>1_2023-01-09</th>\n",
       "      <td>2023-01-09</td>\n",
       "      <td>1</td>\n",
       "      <td>66.144623</td>\n",
       "      <td>75.120003</td>\n",
       "      <td>12023-01-09</td>\n",
       "    </tr>\n",
       "    <tr>\n",
       "      <th>1_2023-01-10</th>\n",
       "      <td>2023-01-10</td>\n",
       "      <td>1</td>\n",
       "      <td>66.317917</td>\n",
       "      <td>77.410004</td>\n",
       "      <td>12023-01-10</td>\n",
       "    </tr>\n",
       "    <tr>\n",
       "      <th>1_2023-01-11</th>\n",
       "      <td>2023-01-11</td>\n",
       "      <td>1</td>\n",
       "      <td>66.189949</td>\n",
       "      <td>78.389999</td>\n",
       "      <td>12023-01-11</td>\n",
       "    </tr>\n",
       "    <tr>\n",
       "      <th>1_2023-01-12</th>\n",
       "      <td>2023-01-12</td>\n",
       "      <td>1</td>\n",
       "      <td>67.173187</td>\n",
       "      <td>79.860001</td>\n",
       "      <td>12023-01-12</td>\n",
       "    </tr>\n",
       "    <tr>\n",
       "      <th>1_2023-01-13</th>\n",
       "      <td>2023-01-13</td>\n",
       "      <td>1</td>\n",
       "      <td>66.208755</td>\n",
       "      <td>80.180000</td>\n",
       "      <td>12023-01-13</td>\n",
       "    </tr>\n",
       "    <tr>\n",
       "      <th>1_2023-01-17</th>\n",
       "      <td>2023-01-17</td>\n",
       "      <td>1</td>\n",
       "      <td>67.192780</td>\n",
       "      <td>79.480003</td>\n",
       "      <td>12023-01-17</td>\n",
       "    </tr>\n",
       "    <tr>\n",
       "      <th>1_2023-01-18</th>\n",
       "      <td>2023-01-18</td>\n",
       "      <td>1</td>\n",
       "      <td>67.674561</td>\n",
       "      <td>80.330002</td>\n",
       "      <td>12023-01-18</td>\n",
       "    </tr>\n",
       "    <tr>\n",
       "      <th>1_2023-01-19</th>\n",
       "      <td>2023-01-19</td>\n",
       "      <td>1</td>\n",
       "      <td>66.725807</td>\n",
       "      <td>81.309998</td>\n",
       "      <td>12023-01-19</td>\n",
       "    </tr>\n",
       "    <tr>\n",
       "      <th>1_2023-01-20</th>\n",
       "      <td>2023-01-20</td>\n",
       "      <td>1</td>\n",
       "      <td>67.467522</td>\n",
       "      <td>81.620003</td>\n",
       "      <td>12023-01-20</td>\n",
       "    </tr>\n",
       "    <tr>\n",
       "      <th>1_2023-01-23</th>\n",
       "      <td>2023-01-23</td>\n",
       "      <td>1</td>\n",
       "      <td>66.984123</td>\n",
       "      <td>80.129997</td>\n",
       "      <td>12023-01-23</td>\n",
       "    </tr>\n",
       "    <tr>\n",
       "      <th>1_2023-01-24</th>\n",
       "      <td>2023-01-24</td>\n",
       "      <td>1</td>\n",
       "      <td>66.015648</td>\n",
       "      <td>80.150002</td>\n",
       "      <td>12023-01-24</td>\n",
       "    </tr>\n",
       "    <tr>\n",
       "      <th>1_2023-01-25</th>\n",
       "      <td>2023-01-25</td>\n",
       "      <td>1</td>\n",
       "      <td>66.921051</td>\n",
       "      <td>81.010002</td>\n",
       "      <td>12023-01-25</td>\n",
       "    </tr>\n",
       "    <tr>\n",
       "      <th>1_2023-01-26</th>\n",
       "      <td>2023-01-26</td>\n",
       "      <td>1</td>\n",
       "      <td>66.632050</td>\n",
       "      <td>79.680000</td>\n",
       "      <td>12023-01-26</td>\n",
       "    </tr>\n",
       "    <tr>\n",
       "      <th>1_2023-01-27</th>\n",
       "      <td>2023-01-27</td>\n",
       "      <td>1</td>\n",
       "      <td>66.568626</td>\n",
       "      <td>77.900002</td>\n",
       "      <td>12023-01-27</td>\n",
       "    </tr>\n",
       "    <tr>\n",
       "      <th>1_2023-01-30</th>\n",
       "      <td>2023-01-30</td>\n",
       "      <td>1</td>\n",
       "      <td>66.844833</td>\n",
       "      <td>78.870003</td>\n",
       "      <td>12023-01-30</td>\n",
       "    </tr>\n",
       "    <tr>\n",
       "      <th>1_2023-01-31</th>\n",
       "      <td>2023-01-31</td>\n",
       "      <td>1</td>\n",
       "      <td>67.328758</td>\n",
       "      <td>76.410004</td>\n",
       "      <td>12023-01-31</td>\n",
       "    </tr>\n",
       "    <tr>\n",
       "      <th>1_2023-02-01</th>\n",
       "      <td>2023-02-01</td>\n",
       "      <td>1</td>\n",
       "      <td>66.678192</td>\n",
       "      <td>75.879997</td>\n",
       "      <td>12023-02-01</td>\n",
       "    </tr>\n",
       "    <tr>\n",
       "      <th>1_2023-02-02</th>\n",
       "      <td>2023-02-02</td>\n",
       "      <td>1</td>\n",
       "      <td>67.734192</td>\n",
       "      <td>73.389999</td>\n",
       "      <td>12023-02-02</td>\n",
       "    </tr>\n",
       "    <tr>\n",
       "      <th>1_2023-02-03</th>\n",
       "      <td>2023-02-03</td>\n",
       "      <td>1</td>\n",
       "      <td>66.817047</td>\n",
       "      <td>74.110001</td>\n",
       "      <td>12023-02-03</td>\n",
       "    </tr>\n",
       "    <tr>\n",
       "      <th>1_2023-02-06</th>\n",
       "      <td>2023-02-06</td>\n",
       "      <td>1</td>\n",
       "      <td>66.432816</td>\n",
       "      <td>77.139999</td>\n",
       "      <td>12023-02-06</td>\n",
       "    </tr>\n",
       "    <tr>\n",
       "      <th>1_2023-02-07</th>\n",
       "      <td>2023-02-07</td>\n",
       "      <td>1</td>\n",
       "      <td>67.246803</td>\n",
       "      <td>78.470001</td>\n",
       "      <td>12023-02-07</td>\n",
       "    </tr>\n",
       "    <tr>\n",
       "      <th>1_2023-02-08</th>\n",
       "      <td>2023-02-08</td>\n",
       "      <td>1</td>\n",
       "      <td>67.342880</td>\n",
       "      <td>78.059998</td>\n",
       "      <td>12023-02-08</td>\n",
       "    </tr>\n",
       "    <tr>\n",
       "      <th>1_2023-02-09</th>\n",
       "      <td>2023-02-09</td>\n",
       "      <td>1</td>\n",
       "      <td>66.441116</td>\n",
       "      <td>79.720001</td>\n",
       "      <td>12023-02-09</td>\n",
       "    </tr>\n",
       "    <tr>\n",
       "      <th>1_2023-02-10</th>\n",
       "      <td>2023-02-10</td>\n",
       "      <td>1</td>\n",
       "      <td>66.721382</td>\n",
       "      <td>80.139999</td>\n",
       "      <td>12023-02-10</td>\n",
       "    </tr>\n",
       "    <tr>\n",
       "      <th>1_2023-02-13</th>\n",
       "      <td>2023-02-13</td>\n",
       "      <td>1</td>\n",
       "      <td>66.575455</td>\n",
       "      <td>79.059998</td>\n",
       "      <td>12023-02-13</td>\n",
       "    </tr>\n",
       "    <tr>\n",
       "      <th>1_2023-02-14</th>\n",
       "      <td>2023-02-14</td>\n",
       "      <td>1</td>\n",
       "      <td>66.948975</td>\n",
       "      <td>78.589996</td>\n",
       "      <td>12023-02-14</td>\n",
       "    </tr>\n",
       "    <tr>\n",
       "      <th>1_2023-02-15</th>\n",
       "      <td>2023-02-15</td>\n",
       "      <td>1</td>\n",
       "      <td>66.468330</td>\n",
       "      <td>78.489998</td>\n",
       "      <td>12023-02-15</td>\n",
       "    </tr>\n",
       "    <tr>\n",
       "      <th>1_2023-02-16</th>\n",
       "      <td>2023-02-16</td>\n",
       "      <td>1</td>\n",
       "      <td>67.276222</td>\n",
       "      <td>76.339996</td>\n",
       "      <td>12023-02-16</td>\n",
       "    </tr>\n",
       "    <tr>\n",
       "      <th>1_2023-02-17</th>\n",
       "      <td>2023-02-17</td>\n",
       "      <td>1</td>\n",
       "      <td>66.293411</td>\n",
       "      <td>76.160004</td>\n",
       "      <td>12023-02-17</td>\n",
       "    </tr>\n",
       "    <tr>\n",
       "      <th>1_2023-02-21</th>\n",
       "      <td>2023-02-21</td>\n",
       "      <td>1</td>\n",
       "      <td>67.013680</td>\n",
       "      <td>73.949997</td>\n",
       "      <td>12023-02-21</td>\n",
       "    </tr>\n",
       "    <tr>\n",
       "      <th>1_2023-02-22</th>\n",
       "      <td>2023-02-22</td>\n",
       "      <td>1</td>\n",
       "      <td>66.357407</td>\n",
       "      <td>75.389999</td>\n",
       "      <td>12023-02-22</td>\n",
       "    </tr>\n",
       "  </tbody>\n",
       "</table>\n",
       "</div>"
      ],
      "text/plain": [
       "                     dte  step     y_pred      y_val     step_dte\n",
       "1_2023-01-04  2023-01-04     1  67.028557  73.669998  12023-01-04\n",
       "1_2023-01-05  2023-01-05     1  67.088387  73.769997  12023-01-05\n",
       "1_2023-01-06  2023-01-06     1  67.087997  74.629997  12023-01-06\n",
       "1_2023-01-09  2023-01-09     1  66.144623  75.120003  12023-01-09\n",
       "1_2023-01-10  2023-01-10     1  66.317917  77.410004  12023-01-10\n",
       "1_2023-01-11  2023-01-11     1  66.189949  78.389999  12023-01-11\n",
       "1_2023-01-12  2023-01-12     1  67.173187  79.860001  12023-01-12\n",
       "1_2023-01-13  2023-01-13     1  66.208755  80.180000  12023-01-13\n",
       "1_2023-01-17  2023-01-17     1  67.192780  79.480003  12023-01-17\n",
       "1_2023-01-18  2023-01-18     1  67.674561  80.330002  12023-01-18\n",
       "1_2023-01-19  2023-01-19     1  66.725807  81.309998  12023-01-19\n",
       "1_2023-01-20  2023-01-20     1  67.467522  81.620003  12023-01-20\n",
       "1_2023-01-23  2023-01-23     1  66.984123  80.129997  12023-01-23\n",
       "1_2023-01-24  2023-01-24     1  66.015648  80.150002  12023-01-24\n",
       "1_2023-01-25  2023-01-25     1  66.921051  81.010002  12023-01-25\n",
       "1_2023-01-26  2023-01-26     1  66.632050  79.680000  12023-01-26\n",
       "1_2023-01-27  2023-01-27     1  66.568626  77.900002  12023-01-27\n",
       "1_2023-01-30  2023-01-30     1  66.844833  78.870003  12023-01-30\n",
       "1_2023-01-31  2023-01-31     1  67.328758  76.410004  12023-01-31\n",
       "1_2023-02-01  2023-02-01     1  66.678192  75.879997  12023-02-01\n",
       "1_2023-02-02  2023-02-02     1  67.734192  73.389999  12023-02-02\n",
       "1_2023-02-03  2023-02-03     1  66.817047  74.110001  12023-02-03\n",
       "1_2023-02-06  2023-02-06     1  66.432816  77.139999  12023-02-06\n",
       "1_2023-02-07  2023-02-07     1  67.246803  78.470001  12023-02-07\n",
       "1_2023-02-08  2023-02-08     1  67.342880  78.059998  12023-02-08\n",
       "1_2023-02-09  2023-02-09     1  66.441116  79.720001  12023-02-09\n",
       "1_2023-02-10  2023-02-10     1  66.721382  80.139999  12023-02-10\n",
       "1_2023-02-13  2023-02-13     1  66.575455  79.059998  12023-02-13\n",
       "1_2023-02-14  2023-02-14     1  66.948975  78.589996  12023-02-14\n",
       "1_2023-02-15  2023-02-15     1  66.468330  78.489998  12023-02-15\n",
       "1_2023-02-16  2023-02-16     1  67.276222  76.339996  12023-02-16\n",
       "1_2023-02-17  2023-02-17     1  66.293411  76.160004  12023-02-17\n",
       "1_2023-02-21  2023-02-21     1  67.013680  73.949997  12023-02-21\n",
       "1_2023-02-22  2023-02-22     1  66.357407  75.389999  12023-02-22"
      ]
     },
     "execution_count": 103,
     "metadata": {},
     "output_type": "execute_result"
    }
   ],
   "source": [
    "fcst.index = fcst[\"step\"].astype(str) + \"_\" + fcst[\"dte\"]\n",
    "fcst"
   ]
  },
  {
   "cell_type": "code",
   "execution_count": 87,
   "id": "64aac0c0",
   "metadata": {},
   "outputs": [
    {
     "data": {
      "text/plain": [
       "array([73.66999817, 73.76999664, 74.62999725, 75.12000275, 77.41000366,\n",
       "       78.38999939, 79.86000061, 80.18000031, 79.48000336, 80.33000183,\n",
       "       81.30999756, 81.62000275, 80.12999725, 80.15000153, 81.01000214,\n",
       "       79.68000031, 77.90000153, 78.87000275, 76.41000366, 75.87999725,\n",
       "       73.38999939, 74.11000061, 77.13999939, 78.47000122, 78.05999756,\n",
       "       79.72000122, 80.13999939, 79.05999756, 78.58999634, 78.48999786,\n",
       "       76.33999634, 76.16000366, 73.94999695, 75.38999939])"
      ]
     },
     "execution_count": 87,
     "metadata": {},
     "output_type": "execute_result"
    }
   ],
   "source": [
    "y_val.values.flatten()"
   ]
  },
  {
   "cell_type": "code",
   "execution_count": 33,
   "id": "a1d96ac4",
   "metadata": {},
   "outputs": [
    {
     "name": "stdout",
     "output_type": "stream",
     "text": [
      "X_train: (3105, 313) 2010-10-26>2023-03-01\n",
      "X_test: (35, 313) 2023-04-21>2023-06-09\n",
      "X_val: (35, 313) 2023-03-02>2023-04-20\n",
      "y_train: (3105, 1) 2010-10-26>2023-03-01\n",
      "y_test: (35, 1) 2023-04-21>2023-06-09\n",
      "y_val: (35, 1) 2023-03-02>2023-04-20\n"
     ]
    }
   ],
   "source": [
    "#Train test validation splits\n",
    "y_name = \"tgt_crd\"\n",
    "X_train, X_val, X_test, y_train, y_val, y_test = train_val_test_split_date(dat, y_name, dte = forecast_start_date)\n",
    "y_val_low = y_val\n",
    "print(\"X_train: \" + str(X_train.shape) + \" \" + str(min(X_train.index)) + \">\" + str(max(X_train.index)))\n",
    "print(\"X_test: \" + str(X_test.shape)+ \" \" + str(min(X_test.index)) + \">\" + str(max(X_test.index)))\n",
    "print(\"X_val: \" + str(X_val.shape)+ \" \" + str(min(X_val.index)) + \">\" + str(max(X_val.index)))\n",
    "print(\"y_train: \" + str(y_train.shape)+ \" \" + str(min(y_train.index)) + \">\" + str(max(y_train.index)))\n",
    "print(\"y_test: \" + str(y_test.shape)+ \" \" + str(min(y_test.index)) + \">\" + str(max(y_test.index)))\n",
    "print(\"y_val: \" + str(y_val.shape)+ \" \" + str(min(y_val.index)) + \">\" + str(max(y_val.index)))"
   ]
  },
  {
   "cell_type": "code",
   "execution_count": 46,
   "id": "bb346c61",
   "metadata": {},
   "outputs": [
    {
     "name": "stdout",
     "output_type": "stream",
     "text": [
      "Open_crd\n",
      "0\n"
     ]
    },
    {
     "name": "stderr",
     "output_type": "stream",
     "text": [
      "C:\\Users\\lawre\\anaconda3\\envs\\gpu2\\lib\\site-packages\\statsmodels\\stats\\outliers_influence.py:193: RuntimeWarning: divide by zero encountered in double_scalars\n",
      "  vif = 1. / (1. - r_squared_i)\n"
     ]
    },
    {
     "name": "stdout",
     "output_type": "stream",
     "text": [
      "            VIF           feature\n",
      "0     11.359712          Open_crd\n",
      "1           inf        Volume_crd\n",
      "2    154.595201           Open_sp\n",
      "3           inf         Volume_sp\n",
      "4     97.163345         Volume_ns\n",
      "..          ...               ...\n",
      "97     4.262240  yoy_BS-CSMCI-BAL\n",
      "98     4.548438    yoy_BS-ICI-BAL\n",
      "99     4.754283    yoy_BS-RCI-BAL\n",
      "100    6.114753    yoy_BS-SCI-BAL\n",
      "101    1.887148         yoy_Price\n",
      "\n",
      "[102 rows x 2 columns]\n",
      "         VIF   feature\n",
      "0  11.359712  Open_crd\n",
      "Removing Open_crd\n",
      "Volume_crd\n",
      "1\n"
     ]
    },
    {
     "name": "stderr",
     "output_type": "stream",
     "text": [
      "C:\\Users\\lawre\\anaconda3\\envs\\gpu2\\lib\\site-packages\\statsmodels\\stats\\outliers_influence.py:193: RuntimeWarning: divide by zero encountered in double_scalars\n",
      "  vif = 1. / (1. - r_squared_i)\n"
     ]
    },
    {
     "name": "stdout",
     "output_type": "stream",
     "text": [
      "            VIF           feature\n",
      "0     11.359712          Open_crd\n",
      "1           inf        Volume_crd\n",
      "2    154.595201           Open_sp\n",
      "3           inf         Volume_sp\n",
      "4     97.163345         Volume_ns\n",
      "..          ...               ...\n",
      "97     4.262240  yoy_BS-CSMCI-BAL\n",
      "98     4.548438    yoy_BS-ICI-BAL\n",
      "99     4.754283    yoy_BS-RCI-BAL\n",
      "100    6.114753    yoy_BS-SCI-BAL\n",
      "101    1.887148         yoy_Price\n",
      "\n",
      "[102 rows x 2 columns]\n",
      "   VIF     feature\n",
      "1  inf  Volume_crd\n",
      "Removing Volume_crd\n",
      "Open_sp\n",
      "2\n"
     ]
    },
    {
     "name": "stderr",
     "output_type": "stream",
     "text": [
      "C:\\Users\\lawre\\anaconda3\\envs\\gpu2\\lib\\site-packages\\statsmodels\\stats\\outliers_influence.py:193: RuntimeWarning: divide by zero encountered in double_scalars\n",
      "  vif = 1. / (1. - r_squared_i)\n"
     ]
    },
    {
     "name": "stdout",
     "output_type": "stream",
     "text": [
      "            VIF           feature\n",
      "0     11.359712          Open_crd\n",
      "1           inf        Volume_crd\n",
      "2    154.595201           Open_sp\n",
      "3           inf         Volume_sp\n",
      "4     97.163345         Volume_ns\n",
      "..          ...               ...\n",
      "97     4.262240  yoy_BS-CSMCI-BAL\n",
      "98     4.548438    yoy_BS-ICI-BAL\n",
      "99     4.754283    yoy_BS-RCI-BAL\n",
      "100    6.114753    yoy_BS-SCI-BAL\n",
      "101    1.887148         yoy_Price\n",
      "\n",
      "[102 rows x 2 columns]\n",
      "          VIF  feature\n",
      "2  154.595201  Open_sp\n",
      "Removing Open_sp\n",
      "Volume_sp\n",
      "3\n"
     ]
    },
    {
     "name": "stderr",
     "output_type": "stream",
     "text": [
      "C:\\Users\\lawre\\anaconda3\\envs\\gpu2\\lib\\site-packages\\statsmodels\\stats\\outliers_influence.py:193: RuntimeWarning: divide by zero encountered in double_scalars\n",
      "  vif = 1. / (1. - r_squared_i)\n"
     ]
    },
    {
     "name": "stdout",
     "output_type": "stream",
     "text": [
      "            VIF           feature\n",
      "0     11.359712          Open_crd\n",
      "1           inf        Volume_crd\n",
      "2    154.595201           Open_sp\n",
      "3           inf         Volume_sp\n",
      "4     97.163345         Volume_ns\n",
      "..          ...               ...\n",
      "97     4.262240  yoy_BS-CSMCI-BAL\n",
      "98     4.548438    yoy_BS-ICI-BAL\n",
      "99     4.754283    yoy_BS-RCI-BAL\n",
      "100    6.114753    yoy_BS-SCI-BAL\n",
      "101    1.887148         yoy_Price\n",
      "\n",
      "[102 rows x 2 columns]\n",
      "   VIF    feature\n",
      "3  inf  Volume_sp\n",
      "Removing Volume_sp\n",
      "Volume_ns\n",
      "4\n"
     ]
    },
    {
     "name": "stderr",
     "output_type": "stream",
     "text": [
      "C:\\Users\\lawre\\anaconda3\\envs\\gpu2\\lib\\site-packages\\statsmodels\\stats\\outliers_influence.py:193: RuntimeWarning: divide by zero encountered in double_scalars\n",
      "  vif = 1. / (1. - r_squared_i)\n"
     ]
    },
    {
     "name": "stdout",
     "output_type": "stream",
     "text": [
      "            VIF           feature\n",
      "0     11.359712          Open_crd\n",
      "1           inf        Volume_crd\n",
      "2    154.595201           Open_sp\n",
      "3           inf         Volume_sp\n",
      "4     97.163345         Volume_ns\n",
      "..          ...               ...\n",
      "97     4.262240  yoy_BS-CSMCI-BAL\n",
      "98     4.548438    yoy_BS-ICI-BAL\n",
      "99     4.754283    yoy_BS-RCI-BAL\n",
      "100    6.114753    yoy_BS-SCI-BAL\n",
      "101    1.887148         yoy_Price\n",
      "\n",
      "[102 rows x 2 columns]\n",
      "         VIF    feature\n",
      "4  97.163345  Volume_ns\n",
      "Removing Volume_ns\n",
      "Open_usd\n",
      "5\n"
     ]
    },
    {
     "name": "stderr",
     "output_type": "stream",
     "text": [
      "C:\\Users\\lawre\\anaconda3\\envs\\gpu2\\lib\\site-packages\\statsmodels\\stats\\outliers_influence.py:193: RuntimeWarning: divide by zero encountered in double_scalars\n",
      "  vif = 1. / (1. - r_squared_i)\n"
     ]
    },
    {
     "name": "stdout",
     "output_type": "stream",
     "text": [
      "            VIF           feature\n",
      "0     11.359712          Open_crd\n",
      "1           inf        Volume_crd\n",
      "2    154.595201           Open_sp\n",
      "3           inf         Volume_sp\n",
      "4     97.163345         Volume_ns\n",
      "..          ...               ...\n",
      "97     4.262240  yoy_BS-CSMCI-BAL\n",
      "98     4.548438    yoy_BS-ICI-BAL\n",
      "99     4.754283    yoy_BS-RCI-BAL\n",
      "100    6.114753    yoy_BS-SCI-BAL\n",
      "101    1.887148         yoy_Price\n",
      "\n",
      "[102 rows x 2 columns]\n",
      "        VIF   feature\n",
      "5  17.03007  Open_usd\n",
      "Removing Open_usd\n",
      "Volume_usd\n",
      "6\n"
     ]
    },
    {
     "name": "stderr",
     "output_type": "stream",
     "text": [
      "C:\\Users\\lawre\\anaconda3\\envs\\gpu2\\lib\\site-packages\\statsmodels\\stats\\outliers_influence.py:193: RuntimeWarning: divide by zero encountered in double_scalars\n",
      "  vif = 1. / (1. - r_squared_i)\n"
     ]
    },
    {
     "name": "stdout",
     "output_type": "stream",
     "text": [
      "            VIF           feature\n",
      "0     11.359712          Open_crd\n",
      "1           inf        Volume_crd\n",
      "2    154.595201           Open_sp\n",
      "3           inf         Volume_sp\n",
      "4     97.163345         Volume_ns\n",
      "..          ...               ...\n",
      "97     4.262240  yoy_BS-CSMCI-BAL\n",
      "98     4.548438    yoy_BS-ICI-BAL\n",
      "99     4.754283    yoy_BS-RCI-BAL\n",
      "100    6.114753    yoy_BS-SCI-BAL\n",
      "101    1.887148         yoy_Price\n",
      "\n",
      "[102 rows x 2 columns]\n",
      "   VIF     feature\n",
      "6  inf  Volume_usd\n",
      "Removing Volume_usd\n",
      "WB_NGAS_EUR\n",
      "7\n"
     ]
    },
    {
     "name": "stderr",
     "output_type": "stream",
     "text": [
      "C:\\Users\\lawre\\anaconda3\\envs\\gpu2\\lib\\site-packages\\statsmodels\\stats\\outliers_influence.py:193: RuntimeWarning: divide by zero encountered in double_scalars\n",
      "  vif = 1. / (1. - r_squared_i)\n"
     ]
    },
    {
     "name": "stdout",
     "output_type": "stream",
     "text": [
      "            VIF           feature\n",
      "0     11.359712          Open_crd\n",
      "1           inf        Volume_crd\n",
      "2    154.595201           Open_sp\n",
      "3           inf         Volume_sp\n",
      "4     97.163345         Volume_ns\n",
      "..          ...               ...\n",
      "97     4.262240  yoy_BS-CSMCI-BAL\n",
      "98     4.548438    yoy_BS-ICI-BAL\n",
      "99     4.754283    yoy_BS-RCI-BAL\n",
      "100    6.114753    yoy_BS-SCI-BAL\n",
      "101    1.887148         yoy_Price\n",
      "\n",
      "[102 rows x 2 columns]\n",
      "         VIF      feature\n",
      "7  29.101138  WB_NGAS_EUR\n",
      "Removing WB_NGAS_EUR\n",
      "WB_IRON_ORE\n",
      "8\n"
     ]
    },
    {
     "name": "stderr",
     "output_type": "stream",
     "text": [
      "C:\\Users\\lawre\\anaconda3\\envs\\gpu2\\lib\\site-packages\\statsmodels\\stats\\outliers_influence.py:193: RuntimeWarning: divide by zero encountered in double_scalars\n",
      "  vif = 1. / (1. - r_squared_i)\n"
     ]
    },
    {
     "name": "stdout",
     "output_type": "stream",
     "text": [
      "            VIF           feature\n",
      "0     11.359712          Open_crd\n",
      "1           inf        Volume_crd\n",
      "2    154.595201           Open_sp\n",
      "3           inf         Volume_sp\n",
      "4     97.163345         Volume_ns\n",
      "..          ...               ...\n",
      "97     4.262240  yoy_BS-CSMCI-BAL\n",
      "98     4.548438    yoy_BS-ICI-BAL\n",
      "99     4.754283    yoy_BS-RCI-BAL\n",
      "100    6.114753    yoy_BS-SCI-BAL\n",
      "101    1.887148         yoy_Price\n",
      "\n",
      "[102 rows x 2 columns]\n",
      "        VIF      feature\n",
      "8  5.303968  WB_IRON_ORE\n",
      "WB_NGAS_US\n",
      "9\n"
     ]
    },
    {
     "name": "stderr",
     "output_type": "stream",
     "text": [
      "C:\\Users\\lawre\\anaconda3\\envs\\gpu2\\lib\\site-packages\\statsmodels\\stats\\outliers_influence.py:193: RuntimeWarning: divide by zero encountered in double_scalars\n",
      "  vif = 1. / (1. - r_squared_i)\n"
     ]
    },
    {
     "name": "stdout",
     "output_type": "stream",
     "text": [
      "            VIF           feature\n",
      "0     11.359712          Open_crd\n",
      "1           inf        Volume_crd\n",
      "2    154.595201           Open_sp\n",
      "3           inf         Volume_sp\n",
      "4     97.163345         Volume_ns\n",
      "..          ...               ...\n",
      "97     4.262240  yoy_BS-CSMCI-BAL\n",
      "98     4.548438    yoy_BS-ICI-BAL\n",
      "99     4.754283    yoy_BS-RCI-BAL\n",
      "100    6.114753    yoy_BS-SCI-BAL\n",
      "101    1.887148         yoy_Price\n",
      "\n",
      "[102 rows x 2 columns]\n",
      "        VIF     feature\n",
      "9  6.836182  WB_NGAS_US\n",
      "CON_DE_B-D_F\n",
      "10\n"
     ]
    },
    {
     "name": "stderr",
     "output_type": "stream",
     "text": [
      "C:\\Users\\lawre\\anaconda3\\envs\\gpu2\\lib\\site-packages\\statsmodels\\stats\\outliers_influence.py:193: RuntimeWarning: divide by zero encountered in double_scalars\n",
      "  vif = 1. / (1. - r_squared_i)\n"
     ]
    },
    {
     "name": "stdout",
     "output_type": "stream",
     "text": [
      "            VIF           feature\n",
      "0     11.359712          Open_crd\n",
      "1           inf        Volume_crd\n",
      "2    154.595201           Open_sp\n",
      "3           inf         Volume_sp\n",
      "4     97.163345         Volume_ns\n",
      "..          ...               ...\n",
      "97     4.262240  yoy_BS-CSMCI-BAL\n",
      "98     4.548438    yoy_BS-ICI-BAL\n",
      "99     4.754283    yoy_BS-RCI-BAL\n",
      "100    6.114753    yoy_BS-SCI-BAL\n",
      "101    1.887148         yoy_Price\n",
      "\n",
      "[102 rows x 2 columns]\n",
      "          VIF       feature\n",
      "10  51.031759  CON_DE_B-D_F\n",
      "Removing CON_DE_B-D_F\n",
      "CON_DE_F\n",
      "11\n"
     ]
    },
    {
     "name": "stderr",
     "output_type": "stream",
     "text": [
      "C:\\Users\\lawre\\anaconda3\\envs\\gpu2\\lib\\site-packages\\statsmodels\\stats\\outliers_influence.py:193: RuntimeWarning: divide by zero encountered in double_scalars\n",
      "  vif = 1. / (1. - r_squared_i)\n"
     ]
    },
    {
     "name": "stdout",
     "output_type": "stream",
     "text": [
      "            VIF           feature\n",
      "0     11.359712          Open_crd\n",
      "1           inf        Volume_crd\n",
      "2    154.595201           Open_sp\n",
      "3           inf         Volume_sp\n",
      "4     97.163345         Volume_ns\n",
      "..          ...               ...\n",
      "97     4.262240  yoy_BS-CSMCI-BAL\n",
      "98     4.548438    yoy_BS-ICI-BAL\n",
      "99     4.754283    yoy_BS-RCI-BAL\n",
      "100    6.114753    yoy_BS-SCI-BAL\n",
      "101    1.887148         yoy_Price\n",
      "\n",
      "[102 rows x 2 columns]\n",
      "           VIF   feature\n",
      "11  417.964048  CON_DE_F\n",
      "Removing CON_DE_F\n",
      "CON_DE_F_CC1\n",
      "12\n"
     ]
    },
    {
     "name": "stderr",
     "output_type": "stream",
     "text": [
      "C:\\Users\\lawre\\anaconda3\\envs\\gpu2\\lib\\site-packages\\statsmodels\\stats\\outliers_influence.py:193: RuntimeWarning: divide by zero encountered in double_scalars\n",
      "  vif = 1. / (1. - r_squared_i)\n"
     ]
    },
    {
     "name": "stdout",
     "output_type": "stream",
     "text": [
      "            VIF           feature\n",
      "0     11.359712          Open_crd\n",
      "1           inf        Volume_crd\n",
      "2    154.595201           Open_sp\n",
      "3           inf         Volume_sp\n",
      "4     97.163345         Volume_ns\n",
      "..          ...               ...\n",
      "97     4.262240  yoy_BS-CSMCI-BAL\n",
      "98     4.548438    yoy_BS-ICI-BAL\n",
      "99     4.754283    yoy_BS-RCI-BAL\n",
      "100    6.114753    yoy_BS-SCI-BAL\n",
      "101    1.887148         yoy_Price\n",
      "\n",
      "[102 rows x 2 columns]\n",
      "           VIF       feature\n",
      "12  276.625066  CON_DE_F_CC1\n",
      "Removing CON_DE_F_CC1\n",
      "CON_DE_F_CC2\n",
      "13\n"
     ]
    },
    {
     "name": "stderr",
     "output_type": "stream",
     "text": [
      "C:\\Users\\lawre\\anaconda3\\envs\\gpu2\\lib\\site-packages\\statsmodels\\stats\\outliers_influence.py:193: RuntimeWarning: divide by zero encountered in double_scalars\n",
      "  vif = 1. / (1. - r_squared_i)\n"
     ]
    },
    {
     "name": "stdout",
     "output_type": "stream",
     "text": [
      "            VIF           feature\n",
      "0     11.359712          Open_crd\n",
      "1           inf        Volume_crd\n",
      "2    154.595201           Open_sp\n",
      "3           inf         Volume_sp\n",
      "4     97.163345         Volume_ns\n",
      "..          ...               ...\n",
      "97     4.262240  yoy_BS-CSMCI-BAL\n",
      "98     4.548438    yoy_BS-ICI-BAL\n",
      "99     4.754283    yoy_BS-RCI-BAL\n",
      "100    6.114753    yoy_BS-SCI-BAL\n",
      "101    1.887148         yoy_Price\n",
      "\n",
      "[102 rows x 2 columns]\n",
      "          VIF       feature\n",
      "13  20.934035  CON_DE_F_CC2\n",
      "Removing CON_DE_F_CC2\n",
      "ELC_GAS\n",
      "14\n"
     ]
    },
    {
     "name": "stderr",
     "output_type": "stream",
     "text": [
      "C:\\Users\\lawre\\anaconda3\\envs\\gpu2\\lib\\site-packages\\statsmodels\\stats\\outliers_influence.py:193: RuntimeWarning: divide by zero encountered in double_scalars\n",
      "  vif = 1. / (1. - r_squared_i)\n"
     ]
    },
    {
     "name": "stdout",
     "output_type": "stream",
     "text": [
      "            VIF           feature\n",
      "0     11.359712          Open_crd\n",
      "1           inf        Volume_crd\n",
      "2    154.595201           Open_sp\n",
      "3           inf         Volume_sp\n",
      "4     97.163345         Volume_ns\n",
      "..          ...               ...\n",
      "97     4.262240  yoy_BS-CSMCI-BAL\n",
      "98     4.548438    yoy_BS-ICI-BAL\n",
      "99     4.754283    yoy_BS-RCI-BAL\n",
      "100    6.114753    yoy_BS-SCI-BAL\n",
      "101    1.887148         yoy_Price\n",
      "\n",
      "[102 rows x 2 columns]\n",
      "            VIF  feature\n",
      "14  1180.284939  ELC_GAS\n",
      "Removing ELC_GAS\n",
      "TOT_X_ALC_TBC\n",
      "15\n"
     ]
    },
    {
     "name": "stderr",
     "output_type": "stream",
     "text": [
      "C:\\Users\\lawre\\anaconda3\\envs\\gpu2\\lib\\site-packages\\statsmodels\\stats\\outliers_influence.py:193: RuntimeWarning: divide by zero encountered in double_scalars\n",
      "  vif = 1. / (1. - r_squared_i)\n"
     ]
    },
    {
     "name": "stdout",
     "output_type": "stream",
     "text": [
      "            VIF           feature\n",
      "0     11.359712          Open_crd\n",
      "1           inf        Volume_crd\n",
      "2    154.595201           Open_sp\n",
      "3           inf         Volume_sp\n",
      "4     97.163345         Volume_ns\n",
      "..          ...               ...\n",
      "97     4.262240  yoy_BS-CSMCI-BAL\n",
      "98     4.548438    yoy_BS-ICI-BAL\n",
      "99     4.754283    yoy_BS-RCI-BAL\n",
      "100    6.114753    yoy_BS-SCI-BAL\n",
      "101    1.887148         yoy_Price\n",
      "\n",
      "[102 rows x 2 columns]\n",
      "            VIF        feature\n",
      "15  5134.118751  TOT_X_ALC_TBC\n",
      "Removing TOT_X_ALC_TBC\n",
      "BS-CCI-BAL\n",
      "16\n"
     ]
    },
    {
     "name": "stderr",
     "output_type": "stream",
     "text": [
      "C:\\Users\\lawre\\anaconda3\\envs\\gpu2\\lib\\site-packages\\statsmodels\\stats\\outliers_influence.py:193: RuntimeWarning: divide by zero encountered in double_scalars\n",
      "  vif = 1. / (1. - r_squared_i)\n"
     ]
    },
    {
     "name": "stdout",
     "output_type": "stream",
     "text": [
      "            VIF           feature\n",
      "0     11.359712          Open_crd\n",
      "1           inf        Volume_crd\n",
      "2    154.595201           Open_sp\n",
      "3           inf         Volume_sp\n",
      "4     97.163345         Volume_ns\n",
      "..          ...               ...\n",
      "97     4.262240  yoy_BS-CSMCI-BAL\n",
      "98     4.548438    yoy_BS-ICI-BAL\n",
      "99     4.754283    yoy_BS-RCI-BAL\n",
      "100    6.114753    yoy_BS-SCI-BAL\n",
      "101    1.887148         yoy_Price\n",
      "\n",
      "[102 rows x 2 columns]\n",
      "         VIF     feature\n",
      "16  5.648305  BS-CCI-BAL\n",
      "BS-CSMCI-BAL\n",
      "17\n"
     ]
    },
    {
     "name": "stderr",
     "output_type": "stream",
     "text": [
      "C:\\Users\\lawre\\anaconda3\\envs\\gpu2\\lib\\site-packages\\statsmodels\\stats\\outliers_influence.py:193: RuntimeWarning: divide by zero encountered in double_scalars\n",
      "  vif = 1. / (1. - r_squared_i)\n"
     ]
    },
    {
     "name": "stdout",
     "output_type": "stream",
     "text": [
      "            VIF           feature\n",
      "0     11.359712          Open_crd\n",
      "1           inf        Volume_crd\n",
      "2    154.595201           Open_sp\n",
      "3           inf         Volume_sp\n",
      "4     97.163345         Volume_ns\n",
      "..          ...               ...\n",
      "97     4.262240  yoy_BS-CSMCI-BAL\n",
      "98     4.548438    yoy_BS-ICI-BAL\n",
      "99     4.754283    yoy_BS-RCI-BAL\n",
      "100    6.114753    yoy_BS-SCI-BAL\n",
      "101    1.887148         yoy_Price\n",
      "\n",
      "[102 rows x 2 columns]\n",
      "          VIF       feature\n",
      "17  24.700748  BS-CSMCI-BAL\n",
      "Removing BS-CSMCI-BAL\n",
      "BS-ICI-BAL\n",
      "18\n"
     ]
    },
    {
     "name": "stderr",
     "output_type": "stream",
     "text": [
      "C:\\Users\\lawre\\anaconda3\\envs\\gpu2\\lib\\site-packages\\statsmodels\\stats\\outliers_influence.py:193: RuntimeWarning: divide by zero encountered in double_scalars\n",
      "  vif = 1. / (1. - r_squared_i)\n"
     ]
    },
    {
     "name": "stdout",
     "output_type": "stream",
     "text": [
      "            VIF           feature\n",
      "0     11.359712          Open_crd\n",
      "1           inf        Volume_crd\n",
      "2    154.595201           Open_sp\n",
      "3           inf         Volume_sp\n",
      "4     97.163345         Volume_ns\n",
      "..          ...               ...\n",
      "97     4.262240  yoy_BS-CSMCI-BAL\n",
      "98     4.548438    yoy_BS-ICI-BAL\n",
      "99     4.754283    yoy_BS-RCI-BAL\n",
      "100    6.114753    yoy_BS-SCI-BAL\n",
      "101    1.887148         yoy_Price\n",
      "\n",
      "[102 rows x 2 columns]\n",
      "         VIF     feature\n",
      "18  4.437072  BS-ICI-BAL\n",
      "BS-RCI-BAL\n",
      "19\n"
     ]
    },
    {
     "name": "stderr",
     "output_type": "stream",
     "text": [
      "C:\\Users\\lawre\\anaconda3\\envs\\gpu2\\lib\\site-packages\\statsmodels\\stats\\outliers_influence.py:193: RuntimeWarning: divide by zero encountered in double_scalars\n",
      "  vif = 1. / (1. - r_squared_i)\n"
     ]
    },
    {
     "name": "stdout",
     "output_type": "stream",
     "text": [
      "            VIF           feature\n",
      "0     11.359712          Open_crd\n",
      "1           inf        Volume_crd\n",
      "2    154.595201           Open_sp\n",
      "3           inf         Volume_sp\n",
      "4     97.163345         Volume_ns\n",
      "..          ...               ...\n",
      "97     4.262240  yoy_BS-CSMCI-BAL\n",
      "98     4.548438    yoy_BS-ICI-BAL\n",
      "99     4.754283    yoy_BS-RCI-BAL\n",
      "100    6.114753    yoy_BS-SCI-BAL\n",
      "101    1.887148         yoy_Price\n",
      "\n",
      "[102 rows x 2 columns]\n",
      "         VIF     feature\n",
      "19  5.777116  BS-RCI-BAL\n",
      "BS-SCI-BAL\n",
      "20\n"
     ]
    },
    {
     "name": "stderr",
     "output_type": "stream",
     "text": [
      "C:\\Users\\lawre\\anaconda3\\envs\\gpu2\\lib\\site-packages\\statsmodels\\stats\\outliers_influence.py:193: RuntimeWarning: divide by zero encountered in double_scalars\n",
      "  vif = 1. / (1. - r_squared_i)\n"
     ]
    },
    {
     "name": "stdout",
     "output_type": "stream",
     "text": [
      "            VIF           feature\n",
      "0     11.359712          Open_crd\n",
      "1           inf        Volume_crd\n",
      "2    154.595201           Open_sp\n",
      "3           inf         Volume_sp\n",
      "4     97.163345         Volume_ns\n",
      "..          ...               ...\n",
      "97     4.262240  yoy_BS-CSMCI-BAL\n",
      "98     4.548438    yoy_BS-ICI-BAL\n",
      "99     4.754283    yoy_BS-RCI-BAL\n",
      "100    6.114753    yoy_BS-SCI-BAL\n",
      "101    1.887148         yoy_Price\n",
      "\n",
      "[102 rows x 2 columns]\n",
      "         VIF     feature\n",
      "20  9.549958  BS-SCI-BAL\n",
      "diff_Open_crd\n",
      "21\n"
     ]
    },
    {
     "name": "stderr",
     "output_type": "stream",
     "text": [
      "C:\\Users\\lawre\\anaconda3\\envs\\gpu2\\lib\\site-packages\\statsmodels\\stats\\outliers_influence.py:193: RuntimeWarning: divide by zero encountered in double_scalars\n",
      "  vif = 1. / (1. - r_squared_i)\n"
     ]
    },
    {
     "name": "stdout",
     "output_type": "stream",
     "text": [
      "            VIF           feature\n",
      "0     11.359712          Open_crd\n",
      "1           inf        Volume_crd\n",
      "2    154.595201           Open_sp\n",
      "3           inf         Volume_sp\n",
      "4     97.163345         Volume_ns\n",
      "..          ...               ...\n",
      "97     4.262240  yoy_BS-CSMCI-BAL\n",
      "98     4.548438    yoy_BS-ICI-BAL\n",
      "99     4.754283    yoy_BS-RCI-BAL\n",
      "100    6.114753    yoy_BS-SCI-BAL\n",
      "101    1.887148         yoy_Price\n",
      "\n",
      "[102 rows x 2 columns]\n",
      "         VIF        feature\n",
      "21  4.548249  diff_Open_crd\n",
      "diff_High_crd\n",
      "22\n"
     ]
    },
    {
     "name": "stderr",
     "output_type": "stream",
     "text": [
      "C:\\Users\\lawre\\anaconda3\\envs\\gpu2\\lib\\site-packages\\statsmodels\\stats\\outliers_influence.py:193: RuntimeWarning: divide by zero encountered in double_scalars\n",
      "  vif = 1. / (1. - r_squared_i)\n"
     ]
    },
    {
     "name": "stdout",
     "output_type": "stream",
     "text": [
      "            VIF           feature\n",
      "0     11.359712          Open_crd\n",
      "1           inf        Volume_crd\n",
      "2    154.595201           Open_sp\n",
      "3           inf         Volume_sp\n",
      "4     97.163345         Volume_ns\n",
      "..          ...               ...\n",
      "97     4.262240  yoy_BS-CSMCI-BAL\n",
      "98     4.548438    yoy_BS-ICI-BAL\n",
      "99     4.754283    yoy_BS-RCI-BAL\n",
      "100    6.114753    yoy_BS-SCI-BAL\n",
      "101    1.887148         yoy_Price\n",
      "\n",
      "[102 rows x 2 columns]\n",
      "         VIF        feature\n",
      "22  3.322703  diff_High_crd\n",
      "diff_Low_crd\n",
      "23\n"
     ]
    },
    {
     "name": "stderr",
     "output_type": "stream",
     "text": [
      "C:\\Users\\lawre\\anaconda3\\envs\\gpu2\\lib\\site-packages\\statsmodels\\stats\\outliers_influence.py:193: RuntimeWarning: divide by zero encountered in double_scalars\n",
      "  vif = 1. / (1. - r_squared_i)\n"
     ]
    },
    {
     "name": "stdout",
     "output_type": "stream",
     "text": [
      "            VIF           feature\n",
      "0     11.359712          Open_crd\n",
      "1           inf        Volume_crd\n",
      "2    154.595201           Open_sp\n",
      "3           inf         Volume_sp\n",
      "4     97.163345         Volume_ns\n",
      "..          ...               ...\n",
      "97     4.262240  yoy_BS-CSMCI-BAL\n",
      "98     4.548438    yoy_BS-ICI-BAL\n",
      "99     4.754283    yoy_BS-RCI-BAL\n",
      "100    6.114753    yoy_BS-SCI-BAL\n",
      "101    1.887148         yoy_Price\n",
      "\n",
      "[102 rows x 2 columns]\n",
      "         VIF       feature\n",
      "23  6.110452  diff_Low_crd\n",
      "diff_Close_crd\n",
      "24\n"
     ]
    },
    {
     "name": "stderr",
     "output_type": "stream",
     "text": [
      "C:\\Users\\lawre\\anaconda3\\envs\\gpu2\\lib\\site-packages\\statsmodels\\stats\\outliers_influence.py:193: RuntimeWarning: divide by zero encountered in double_scalars\n",
      "  vif = 1. / (1. - r_squared_i)\n"
     ]
    },
    {
     "name": "stdout",
     "output_type": "stream",
     "text": [
      "            VIF           feature\n",
      "0     11.359712          Open_crd\n",
      "1           inf        Volume_crd\n",
      "2    154.595201           Open_sp\n",
      "3           inf         Volume_sp\n",
      "4     97.163345         Volume_ns\n",
      "..          ...               ...\n",
      "97     4.262240  yoy_BS-CSMCI-BAL\n",
      "98     4.548438    yoy_BS-ICI-BAL\n",
      "99     4.754283    yoy_BS-RCI-BAL\n",
      "100    6.114753    yoy_BS-SCI-BAL\n",
      "101    1.887148         yoy_Price\n",
      "\n",
      "[102 rows x 2 columns]\n",
      "         VIF         feature\n",
      "24  6.776389  diff_Close_crd\n",
      "diff_Volume_crd\n",
      "25\n"
     ]
    },
    {
     "name": "stderr",
     "output_type": "stream",
     "text": [
      "C:\\Users\\lawre\\anaconda3\\envs\\gpu2\\lib\\site-packages\\statsmodels\\stats\\outliers_influence.py:193: RuntimeWarning: divide by zero encountered in double_scalars\n",
      "  vif = 1. / (1. - r_squared_i)\n"
     ]
    },
    {
     "name": "stdout",
     "output_type": "stream",
     "text": [
      "            VIF           feature\n",
      "0     11.359712          Open_crd\n",
      "1           inf        Volume_crd\n",
      "2    154.595201           Open_sp\n",
      "3           inf         Volume_sp\n",
      "4     97.163345         Volume_ns\n",
      "..          ...               ...\n",
      "97     4.262240  yoy_BS-CSMCI-BAL\n",
      "98     4.548438    yoy_BS-ICI-BAL\n",
      "99     4.754283    yoy_BS-RCI-BAL\n",
      "100    6.114753    yoy_BS-SCI-BAL\n",
      "101    1.887148         yoy_Price\n",
      "\n",
      "[102 rows x 2 columns]\n",
      "    VIF          feature\n",
      "25  inf  diff_Volume_crd\n",
      "Removing diff_Volume_crd\n",
      "diff_Open_sp\n",
      "26\n"
     ]
    },
    {
     "name": "stderr",
     "output_type": "stream",
     "text": [
      "C:\\Users\\lawre\\anaconda3\\envs\\gpu2\\lib\\site-packages\\statsmodels\\stats\\outliers_influence.py:193: RuntimeWarning: divide by zero encountered in double_scalars\n",
      "  vif = 1. / (1. - r_squared_i)\n"
     ]
    },
    {
     "name": "stdout",
     "output_type": "stream",
     "text": [
      "            VIF           feature\n",
      "0     11.359712          Open_crd\n",
      "1           inf        Volume_crd\n",
      "2    154.595201           Open_sp\n",
      "3           inf         Volume_sp\n",
      "4     97.163345         Volume_ns\n",
      "..          ...               ...\n",
      "97     4.262240  yoy_BS-CSMCI-BAL\n",
      "98     4.548438    yoy_BS-ICI-BAL\n",
      "99     4.754283    yoy_BS-RCI-BAL\n",
      "100    6.114753    yoy_BS-SCI-BAL\n",
      "101    1.887148         yoy_Price\n",
      "\n",
      "[102 rows x 2 columns]\n",
      "         VIF       feature\n",
      "26  9.341306  diff_Open_sp\n",
      "diff_High_sp\n",
      "27\n"
     ]
    },
    {
     "name": "stderr",
     "output_type": "stream",
     "text": [
      "C:\\Users\\lawre\\anaconda3\\envs\\gpu2\\lib\\site-packages\\statsmodels\\stats\\outliers_influence.py:193: RuntimeWarning: divide by zero encountered in double_scalars\n",
      "  vif = 1. / (1. - r_squared_i)\n"
     ]
    },
    {
     "name": "stdout",
     "output_type": "stream",
     "text": [
      "            VIF           feature\n",
      "0     11.359712          Open_crd\n",
      "1           inf        Volume_crd\n",
      "2    154.595201           Open_sp\n",
      "3           inf         Volume_sp\n",
      "4     97.163345         Volume_ns\n",
      "..          ...               ...\n",
      "97     4.262240  yoy_BS-CSMCI-BAL\n",
      "98     4.548438    yoy_BS-ICI-BAL\n",
      "99     4.754283    yoy_BS-RCI-BAL\n",
      "100    6.114753    yoy_BS-SCI-BAL\n",
      "101    1.887148         yoy_Price\n",
      "\n",
      "[102 rows x 2 columns]\n",
      "          VIF       feature\n",
      "27  16.838185  diff_High_sp\n",
      "Removing diff_High_sp\n",
      "diff_Low_sp\n",
      "28\n"
     ]
    },
    {
     "name": "stderr",
     "output_type": "stream",
     "text": [
      "C:\\Users\\lawre\\anaconda3\\envs\\gpu2\\lib\\site-packages\\statsmodels\\stats\\outliers_influence.py:193: RuntimeWarning: divide by zero encountered in double_scalars\n",
      "  vif = 1. / (1. - r_squared_i)\n"
     ]
    },
    {
     "name": "stdout",
     "output_type": "stream",
     "text": [
      "            VIF           feature\n",
      "0     11.359712          Open_crd\n",
      "1           inf        Volume_crd\n",
      "2    154.595201           Open_sp\n",
      "3           inf         Volume_sp\n",
      "4     97.163345         Volume_ns\n",
      "..          ...               ...\n",
      "97     4.262240  yoy_BS-CSMCI-BAL\n",
      "98     4.548438    yoy_BS-ICI-BAL\n",
      "99     4.754283    yoy_BS-RCI-BAL\n",
      "100    6.114753    yoy_BS-SCI-BAL\n",
      "101    1.887148         yoy_Price\n",
      "\n",
      "[102 rows x 2 columns]\n",
      "          VIF      feature\n",
      "28  19.526597  diff_Low_sp\n",
      "Removing diff_Low_sp\n",
      "diff_Close_sp\n",
      "29\n"
     ]
    },
    {
     "name": "stderr",
     "output_type": "stream",
     "text": [
      "C:\\Users\\lawre\\anaconda3\\envs\\gpu2\\lib\\site-packages\\statsmodels\\stats\\outliers_influence.py:193: RuntimeWarning: divide by zero encountered in double_scalars\n",
      "  vif = 1. / (1. - r_squared_i)\n"
     ]
    },
    {
     "name": "stdout",
     "output_type": "stream",
     "text": [
      "            VIF           feature\n",
      "0     11.359712          Open_crd\n",
      "1           inf        Volume_crd\n",
      "2    154.595201           Open_sp\n",
      "3           inf         Volume_sp\n",
      "4     97.163345         Volume_ns\n",
      "..          ...               ...\n",
      "97     4.262240  yoy_BS-CSMCI-BAL\n",
      "98     4.548438    yoy_BS-ICI-BAL\n",
      "99     4.754283    yoy_BS-RCI-BAL\n",
      "100    6.114753    yoy_BS-SCI-BAL\n",
      "101    1.887148         yoy_Price\n",
      "\n",
      "[102 rows x 2 columns]\n",
      "         VIF        feature\n",
      "29  26.39771  diff_Close_sp\n",
      "Removing diff_Close_sp\n",
      "diff_Volume_sp\n",
      "30\n"
     ]
    },
    {
     "name": "stderr",
     "output_type": "stream",
     "text": [
      "C:\\Users\\lawre\\anaconda3\\envs\\gpu2\\lib\\site-packages\\statsmodels\\stats\\outliers_influence.py:193: RuntimeWarning: divide by zero encountered in double_scalars\n",
      "  vif = 1. / (1. - r_squared_i)\n"
     ]
    },
    {
     "name": "stdout",
     "output_type": "stream",
     "text": [
      "            VIF           feature\n",
      "0     11.359712          Open_crd\n",
      "1           inf        Volume_crd\n",
      "2    154.595201           Open_sp\n",
      "3           inf         Volume_sp\n",
      "4     97.163345         Volume_ns\n",
      "..          ...               ...\n",
      "97     4.262240  yoy_BS-CSMCI-BAL\n",
      "98     4.548438    yoy_BS-ICI-BAL\n",
      "99     4.754283    yoy_BS-RCI-BAL\n",
      "100    6.114753    yoy_BS-SCI-BAL\n",
      "101    1.887148         yoy_Price\n",
      "\n",
      "[102 rows x 2 columns]\n",
      "    VIF         feature\n",
      "30  inf  diff_Volume_sp\n",
      "Removing diff_Volume_sp\n",
      "diff_Open_ns\n",
      "31\n"
     ]
    },
    {
     "name": "stderr",
     "output_type": "stream",
     "text": [
      "C:\\Users\\lawre\\anaconda3\\envs\\gpu2\\lib\\site-packages\\statsmodels\\stats\\outliers_influence.py:193: RuntimeWarning: divide by zero encountered in double_scalars\n",
      "  vif = 1. / (1. - r_squared_i)\n"
     ]
    },
    {
     "name": "stdout",
     "output_type": "stream",
     "text": [
      "            VIF           feature\n",
      "0     11.359712          Open_crd\n",
      "1           inf        Volume_crd\n",
      "2    154.595201           Open_sp\n",
      "3           inf         Volume_sp\n",
      "4     97.163345         Volume_ns\n",
      "..          ...               ...\n",
      "97     4.262240  yoy_BS-CSMCI-BAL\n",
      "98     4.548438    yoy_BS-ICI-BAL\n",
      "99     4.754283    yoy_BS-RCI-BAL\n",
      "100    6.114753    yoy_BS-SCI-BAL\n",
      "101    1.887148         yoy_Price\n",
      "\n",
      "[102 rows x 2 columns]\n",
      "         VIF       feature\n",
      "31  9.977803  diff_Open_ns\n",
      "diff_High_ns\n",
      "32\n"
     ]
    },
    {
     "name": "stderr",
     "output_type": "stream",
     "text": [
      "C:\\Users\\lawre\\anaconda3\\envs\\gpu2\\lib\\site-packages\\statsmodels\\stats\\outliers_influence.py:193: RuntimeWarning: divide by zero encountered in double_scalars\n",
      "  vif = 1. / (1. - r_squared_i)\n"
     ]
    },
    {
     "name": "stdout",
     "output_type": "stream",
     "text": [
      "            VIF           feature\n",
      "0     11.359712          Open_crd\n",
      "1           inf        Volume_crd\n",
      "2    154.595201           Open_sp\n",
      "3           inf         Volume_sp\n",
      "4     97.163345         Volume_ns\n",
      "..          ...               ...\n",
      "97     4.262240  yoy_BS-CSMCI-BAL\n",
      "98     4.548438    yoy_BS-ICI-BAL\n",
      "99     4.754283    yoy_BS-RCI-BAL\n",
      "100    6.114753    yoy_BS-SCI-BAL\n",
      "101    1.887148         yoy_Price\n",
      "\n",
      "[102 rows x 2 columns]\n",
      "         VIF       feature\n",
      "32  17.96036  diff_High_ns\n",
      "Removing diff_High_ns\n",
      "diff_Low_ns\n",
      "33\n"
     ]
    },
    {
     "name": "stderr",
     "output_type": "stream",
     "text": [
      "C:\\Users\\lawre\\anaconda3\\envs\\gpu2\\lib\\site-packages\\statsmodels\\stats\\outliers_influence.py:193: RuntimeWarning: divide by zero encountered in double_scalars\n",
      "  vif = 1. / (1. - r_squared_i)\n"
     ]
    },
    {
     "name": "stdout",
     "output_type": "stream",
     "text": [
      "            VIF           feature\n",
      "0     11.359712          Open_crd\n",
      "1           inf        Volume_crd\n",
      "2    154.595201           Open_sp\n",
      "3           inf         Volume_sp\n",
      "4     97.163345         Volume_ns\n",
      "..          ...               ...\n",
      "97     4.262240  yoy_BS-CSMCI-BAL\n",
      "98     4.548438    yoy_BS-ICI-BAL\n",
      "99     4.754283    yoy_BS-RCI-BAL\n",
      "100    6.114753    yoy_BS-SCI-BAL\n",
      "101    1.887148         yoy_Price\n",
      "\n",
      "[102 rows x 2 columns]\n",
      "          VIF      feature\n",
      "33  18.550455  diff_Low_ns\n",
      "Removing diff_Low_ns\n",
      "diff_Close_ns\n",
      "34\n"
     ]
    },
    {
     "name": "stderr",
     "output_type": "stream",
     "text": [
      "C:\\Users\\lawre\\anaconda3\\envs\\gpu2\\lib\\site-packages\\statsmodels\\stats\\outliers_influence.py:193: RuntimeWarning: divide by zero encountered in double_scalars\n",
      "  vif = 1. / (1. - r_squared_i)\n"
     ]
    },
    {
     "name": "stdout",
     "output_type": "stream",
     "text": [
      "            VIF           feature\n",
      "0     11.359712          Open_crd\n",
      "1           inf        Volume_crd\n",
      "2    154.595201           Open_sp\n",
      "3           inf         Volume_sp\n",
      "4     97.163345         Volume_ns\n",
      "..          ...               ...\n",
      "97     4.262240  yoy_BS-CSMCI-BAL\n",
      "98     4.548438    yoy_BS-ICI-BAL\n",
      "99     4.754283    yoy_BS-RCI-BAL\n",
      "100    6.114753    yoy_BS-SCI-BAL\n",
      "101    1.887148         yoy_Price\n",
      "\n",
      "[102 rows x 2 columns]\n",
      "          VIF        feature\n",
      "34  25.186502  diff_Close_ns\n",
      "Removing diff_Close_ns\n",
      "diff_Volume_ns\n",
      "35\n"
     ]
    },
    {
     "name": "stderr",
     "output_type": "stream",
     "text": [
      "C:\\Users\\lawre\\anaconda3\\envs\\gpu2\\lib\\site-packages\\statsmodels\\stats\\outliers_influence.py:193: RuntimeWarning: divide by zero encountered in double_scalars\n",
      "  vif = 1. / (1. - r_squared_i)\n"
     ]
    },
    {
     "name": "stdout",
     "output_type": "stream",
     "text": [
      "            VIF           feature\n",
      "0     11.359712          Open_crd\n",
      "1           inf        Volume_crd\n",
      "2    154.595201           Open_sp\n",
      "3           inf         Volume_sp\n",
      "4     97.163345         Volume_ns\n",
      "..          ...               ...\n",
      "97     4.262240  yoy_BS-CSMCI-BAL\n",
      "98     4.548438    yoy_BS-ICI-BAL\n",
      "99     4.754283    yoy_BS-RCI-BAL\n",
      "100    6.114753    yoy_BS-SCI-BAL\n",
      "101    1.887148         yoy_Price\n",
      "\n",
      "[102 rows x 2 columns]\n",
      "         VIF         feature\n",
      "35  3.326537  diff_Volume_ns\n",
      "diff_Open_usd\n",
      "36\n"
     ]
    },
    {
     "name": "stderr",
     "output_type": "stream",
     "text": [
      "C:\\Users\\lawre\\anaconda3\\envs\\gpu2\\lib\\site-packages\\statsmodels\\stats\\outliers_influence.py:193: RuntimeWarning: divide by zero encountered in double_scalars\n",
      "  vif = 1. / (1. - r_squared_i)\n"
     ]
    },
    {
     "name": "stdout",
     "output_type": "stream",
     "text": [
      "            VIF           feature\n",
      "0     11.359712          Open_crd\n",
      "1           inf        Volume_crd\n",
      "2    154.595201           Open_sp\n",
      "3           inf         Volume_sp\n",
      "4     97.163345         Volume_ns\n",
      "..          ...               ...\n",
      "97     4.262240  yoy_BS-CSMCI-BAL\n",
      "98     4.548438    yoy_BS-ICI-BAL\n",
      "99     4.754283    yoy_BS-RCI-BAL\n",
      "100    6.114753    yoy_BS-SCI-BAL\n",
      "101    1.887148         yoy_Price\n",
      "\n",
      "[102 rows x 2 columns]\n",
      "         VIF        feature\n",
      "36  2.906929  diff_Open_usd\n",
      "diff_High_usd\n",
      "37\n"
     ]
    },
    {
     "name": "stderr",
     "output_type": "stream",
     "text": [
      "C:\\Users\\lawre\\anaconda3\\envs\\gpu2\\lib\\site-packages\\statsmodels\\stats\\outliers_influence.py:193: RuntimeWarning: divide by zero encountered in double_scalars\n",
      "  vif = 1. / (1. - r_squared_i)\n"
     ]
    },
    {
     "name": "stdout",
     "output_type": "stream",
     "text": [
      "            VIF           feature\n",
      "0     11.359712          Open_crd\n",
      "1           inf        Volume_crd\n",
      "2    154.595201           Open_sp\n",
      "3           inf         Volume_sp\n",
      "4     97.163345         Volume_ns\n",
      "..          ...               ...\n",
      "97     4.262240  yoy_BS-CSMCI-BAL\n",
      "98     4.548438    yoy_BS-ICI-BAL\n",
      "99     4.754283    yoy_BS-RCI-BAL\n",
      "100    6.114753    yoy_BS-SCI-BAL\n",
      "101    1.887148         yoy_Price\n",
      "\n",
      "[102 rows x 2 columns]\n",
      "         VIF        feature\n",
      "37  2.797991  diff_High_usd\n",
      "diff_Low_usd\n",
      "38\n"
     ]
    },
    {
     "name": "stderr",
     "output_type": "stream",
     "text": [
      "C:\\Users\\lawre\\anaconda3\\envs\\gpu2\\lib\\site-packages\\statsmodels\\stats\\outliers_influence.py:193: RuntimeWarning: divide by zero encountered in double_scalars\n",
      "  vif = 1. / (1. - r_squared_i)\n"
     ]
    },
    {
     "name": "stdout",
     "output_type": "stream",
     "text": [
      "            VIF           feature\n",
      "0     11.359712          Open_crd\n",
      "1           inf        Volume_crd\n",
      "2    154.595201           Open_sp\n",
      "3           inf         Volume_sp\n",
      "4     97.163345         Volume_ns\n",
      "..          ...               ...\n",
      "97     4.262240  yoy_BS-CSMCI-BAL\n",
      "98     4.548438    yoy_BS-ICI-BAL\n",
      "99     4.754283    yoy_BS-RCI-BAL\n",
      "100    6.114753    yoy_BS-SCI-BAL\n",
      "101    1.887148         yoy_Price\n",
      "\n",
      "[102 rows x 2 columns]\n",
      "         VIF       feature\n",
      "38  3.123294  diff_Low_usd\n",
      "diff_Close_usd\n",
      "39\n"
     ]
    },
    {
     "name": "stderr",
     "output_type": "stream",
     "text": [
      "C:\\Users\\lawre\\anaconda3\\envs\\gpu2\\lib\\site-packages\\statsmodels\\stats\\outliers_influence.py:193: RuntimeWarning: divide by zero encountered in double_scalars\n",
      "  vif = 1. / (1. - r_squared_i)\n"
     ]
    },
    {
     "name": "stdout",
     "output_type": "stream",
     "text": [
      "            VIF           feature\n",
      "0     11.359712          Open_crd\n",
      "1           inf        Volume_crd\n",
      "2    154.595201           Open_sp\n",
      "3           inf         Volume_sp\n",
      "4     97.163345         Volume_ns\n",
      "..          ...               ...\n",
      "97     4.262240  yoy_BS-CSMCI-BAL\n",
      "98     4.548438    yoy_BS-ICI-BAL\n",
      "99     4.754283    yoy_BS-RCI-BAL\n",
      "100    6.114753    yoy_BS-SCI-BAL\n",
      "101    1.887148         yoy_Price\n",
      "\n",
      "[102 rows x 2 columns]\n",
      "         VIF         feature\n",
      "39  3.319502  diff_Close_usd\n",
      "diff_Volume_usd\n",
      "40\n"
     ]
    },
    {
     "name": "stderr",
     "output_type": "stream",
     "text": [
      "C:\\Users\\lawre\\anaconda3\\envs\\gpu2\\lib\\site-packages\\statsmodels\\stats\\outliers_influence.py:193: RuntimeWarning: divide by zero encountered in double_scalars\n",
      "  vif = 1. / (1. - r_squared_i)\n"
     ]
    },
    {
     "name": "stdout",
     "output_type": "stream",
     "text": [
      "            VIF           feature\n",
      "0     11.359712          Open_crd\n",
      "1           inf        Volume_crd\n",
      "2    154.595201           Open_sp\n",
      "3           inf         Volume_sp\n",
      "4     97.163345         Volume_ns\n",
      "..          ...               ...\n",
      "97     4.262240  yoy_BS-CSMCI-BAL\n",
      "98     4.548438    yoy_BS-ICI-BAL\n",
      "99     4.754283    yoy_BS-RCI-BAL\n",
      "100    6.114753    yoy_BS-SCI-BAL\n",
      "101    1.887148         yoy_Price\n",
      "\n",
      "[102 rows x 2 columns]\n",
      "    VIF          feature\n",
      "40  inf  diff_Volume_usd\n",
      "Removing diff_Volume_usd\n",
      "diff_WB_CRUDE_BRENT\n",
      "41\n"
     ]
    },
    {
     "name": "stderr",
     "output_type": "stream",
     "text": [
      "C:\\Users\\lawre\\anaconda3\\envs\\gpu2\\lib\\site-packages\\statsmodels\\stats\\outliers_influence.py:193: RuntimeWarning: divide by zero encountered in double_scalars\n",
      "  vif = 1. / (1. - r_squared_i)\n"
     ]
    },
    {
     "name": "stdout",
     "output_type": "stream",
     "text": [
      "            VIF           feature\n",
      "0     11.359712          Open_crd\n",
      "1           inf        Volume_crd\n",
      "2    154.595201           Open_sp\n",
      "3           inf         Volume_sp\n",
      "4     97.163345         Volume_ns\n",
      "..          ...               ...\n",
      "97     4.262240  yoy_BS-CSMCI-BAL\n",
      "98     4.548438    yoy_BS-ICI-BAL\n",
      "99     4.754283    yoy_BS-RCI-BAL\n",
      "100    6.114753    yoy_BS-SCI-BAL\n",
      "101    1.887148         yoy_Price\n",
      "\n",
      "[102 rows x 2 columns]\n",
      "         VIF              feature\n",
      "41  4.734214  diff_WB_CRUDE_BRENT\n",
      "diff_WB_NGAS_EUR\n",
      "42\n"
     ]
    },
    {
     "name": "stderr",
     "output_type": "stream",
     "text": [
      "C:\\Users\\lawre\\anaconda3\\envs\\gpu2\\lib\\site-packages\\statsmodels\\stats\\outliers_influence.py:193: RuntimeWarning: divide by zero encountered in double_scalars\n",
      "  vif = 1. / (1. - r_squared_i)\n"
     ]
    },
    {
     "name": "stdout",
     "output_type": "stream",
     "text": [
      "            VIF           feature\n",
      "0     11.359712          Open_crd\n",
      "1           inf        Volume_crd\n",
      "2    154.595201           Open_sp\n",
      "3           inf         Volume_sp\n",
      "4     97.163345         Volume_ns\n",
      "..          ...               ...\n",
      "97     4.262240  yoy_BS-CSMCI-BAL\n",
      "98     4.548438    yoy_BS-ICI-BAL\n",
      "99     4.754283    yoy_BS-RCI-BAL\n",
      "100    6.114753    yoy_BS-SCI-BAL\n",
      "101    1.887148         yoy_Price\n",
      "\n",
      "[102 rows x 2 columns]\n",
      "         VIF           feature\n",
      "42  1.883728  diff_WB_NGAS_EUR\n",
      "diff_WB_IRON_ORE\n",
      "43\n"
     ]
    },
    {
     "name": "stderr",
     "output_type": "stream",
     "text": [
      "C:\\Users\\lawre\\anaconda3\\envs\\gpu2\\lib\\site-packages\\statsmodels\\stats\\outliers_influence.py:193: RuntimeWarning: divide by zero encountered in double_scalars\n",
      "  vif = 1. / (1. - r_squared_i)\n"
     ]
    },
    {
     "name": "stdout",
     "output_type": "stream",
     "text": [
      "            VIF           feature\n",
      "0     11.359712          Open_crd\n",
      "1           inf        Volume_crd\n",
      "2    154.595201           Open_sp\n",
      "3           inf         Volume_sp\n",
      "4     97.163345         Volume_ns\n",
      "..          ...               ...\n",
      "97     4.262240  yoy_BS-CSMCI-BAL\n",
      "98     4.548438    yoy_BS-ICI-BAL\n",
      "99     4.754283    yoy_BS-RCI-BAL\n",
      "100    6.114753    yoy_BS-SCI-BAL\n",
      "101    1.887148         yoy_Price\n",
      "\n",
      "[102 rows x 2 columns]\n",
      "         VIF           feature\n",
      "43  1.598003  diff_WB_IRON_ORE\n",
      "diff_WB_NGAS_US\n",
      "44\n"
     ]
    },
    {
     "name": "stderr",
     "output_type": "stream",
     "text": [
      "C:\\Users\\lawre\\anaconda3\\envs\\gpu2\\lib\\site-packages\\statsmodels\\stats\\outliers_influence.py:193: RuntimeWarning: divide by zero encountered in double_scalars\n",
      "  vif = 1. / (1. - r_squared_i)\n"
     ]
    },
    {
     "name": "stdout",
     "output_type": "stream",
     "text": [
      "            VIF           feature\n",
      "0     11.359712          Open_crd\n",
      "1           inf        Volume_crd\n",
      "2    154.595201           Open_sp\n",
      "3           inf         Volume_sp\n",
      "4     97.163345         Volume_ns\n",
      "..          ...               ...\n",
      "97     4.262240  yoy_BS-CSMCI-BAL\n",
      "98     4.548438    yoy_BS-ICI-BAL\n",
      "99     4.754283    yoy_BS-RCI-BAL\n",
      "100    6.114753    yoy_BS-SCI-BAL\n",
      "101    1.887148         yoy_Price\n",
      "\n",
      "[102 rows x 2 columns]\n",
      "         VIF          feature\n",
      "44  1.891854  diff_WB_NGAS_US\n",
      "diff_CON_DE_B-D_F\n",
      "45\n"
     ]
    },
    {
     "name": "stderr",
     "output_type": "stream",
     "text": [
      "C:\\Users\\lawre\\anaconda3\\envs\\gpu2\\lib\\site-packages\\statsmodels\\stats\\outliers_influence.py:193: RuntimeWarning: divide by zero encountered in double_scalars\n",
      "  vif = 1. / (1. - r_squared_i)\n"
     ]
    },
    {
     "name": "stdout",
     "output_type": "stream",
     "text": [
      "            VIF           feature\n",
      "0     11.359712          Open_crd\n",
      "1           inf        Volume_crd\n",
      "2    154.595201           Open_sp\n",
      "3           inf         Volume_sp\n",
      "4     97.163345         Volume_ns\n",
      "..          ...               ...\n",
      "97     4.262240  yoy_BS-CSMCI-BAL\n",
      "98     4.548438    yoy_BS-ICI-BAL\n",
      "99     4.754283    yoy_BS-RCI-BAL\n",
      "100    6.114753    yoy_BS-SCI-BAL\n",
      "101    1.887148         yoy_Price\n",
      "\n",
      "[102 rows x 2 columns]\n",
      "         VIF            feature\n",
      "45  5.080728  diff_CON_DE_B-D_F\n",
      "diff_CON_DE_F\n",
      "46\n"
     ]
    },
    {
     "name": "stderr",
     "output_type": "stream",
     "text": [
      "C:\\Users\\lawre\\anaconda3\\envs\\gpu2\\lib\\site-packages\\statsmodels\\stats\\outliers_influence.py:193: RuntimeWarning: divide by zero encountered in double_scalars\n",
      "  vif = 1. / (1. - r_squared_i)\n"
     ]
    },
    {
     "name": "stdout",
     "output_type": "stream",
     "text": [
      "            VIF           feature\n",
      "0     11.359712          Open_crd\n",
      "1           inf        Volume_crd\n",
      "2    154.595201           Open_sp\n",
      "3           inf         Volume_sp\n",
      "4     97.163345         Volume_ns\n",
      "..          ...               ...\n",
      "97     4.262240  yoy_BS-CSMCI-BAL\n",
      "98     4.548438    yoy_BS-ICI-BAL\n",
      "99     4.754283    yoy_BS-RCI-BAL\n",
      "100    6.114753    yoy_BS-SCI-BAL\n",
      "101    1.887148         yoy_Price\n",
      "\n",
      "[102 rows x 2 columns]\n",
      "          VIF        feature\n",
      "46  10.805046  diff_CON_DE_F\n",
      "Removing diff_CON_DE_F\n",
      "diff_CON_DE_F_CC2\n",
      "47\n"
     ]
    },
    {
     "name": "stderr",
     "output_type": "stream",
     "text": [
      "C:\\Users\\lawre\\anaconda3\\envs\\gpu2\\lib\\site-packages\\statsmodels\\stats\\outliers_influence.py:193: RuntimeWarning: divide by zero encountered in double_scalars\n",
      "  vif = 1. / (1. - r_squared_i)\n"
     ]
    },
    {
     "name": "stdout",
     "output_type": "stream",
     "text": [
      "            VIF           feature\n",
      "0     11.359712          Open_crd\n",
      "1           inf        Volume_crd\n",
      "2    154.595201           Open_sp\n",
      "3           inf         Volume_sp\n",
      "4     97.163345         Volume_ns\n",
      "..          ...               ...\n",
      "97     4.262240  yoy_BS-CSMCI-BAL\n",
      "98     4.548438    yoy_BS-ICI-BAL\n",
      "99     4.754283    yoy_BS-RCI-BAL\n",
      "100    6.114753    yoy_BS-SCI-BAL\n",
      "101    1.887148         yoy_Price\n",
      "\n",
      "[102 rows x 2 columns]\n",
      "         VIF            feature\n",
      "47  6.015148  diff_CON_DE_F_CC2\n",
      "diff_ELC_GAS\n",
      "48\n"
     ]
    },
    {
     "name": "stderr",
     "output_type": "stream",
     "text": [
      "C:\\Users\\lawre\\anaconda3\\envs\\gpu2\\lib\\site-packages\\statsmodels\\stats\\outliers_influence.py:193: RuntimeWarning: divide by zero encountered in double_scalars\n",
      "  vif = 1. / (1. - r_squared_i)\n"
     ]
    },
    {
     "name": "stdout",
     "output_type": "stream",
     "text": [
      "            VIF           feature\n",
      "0     11.359712          Open_crd\n",
      "1           inf        Volume_crd\n",
      "2    154.595201           Open_sp\n",
      "3           inf         Volume_sp\n",
      "4     97.163345         Volume_ns\n",
      "..          ...               ...\n",
      "97     4.262240  yoy_BS-CSMCI-BAL\n",
      "98     4.548438    yoy_BS-ICI-BAL\n",
      "99     4.754283    yoy_BS-RCI-BAL\n",
      "100    6.114753    yoy_BS-SCI-BAL\n",
      "101    1.887148         yoy_Price\n",
      "\n",
      "[102 rows x 2 columns]\n",
      "           VIF       feature\n",
      "48  114.488923  diff_ELC_GAS\n",
      "Removing diff_ELC_GAS\n",
      "diff_IGD\n",
      "49\n"
     ]
    },
    {
     "name": "stderr",
     "output_type": "stream",
     "text": [
      "C:\\Users\\lawre\\anaconda3\\envs\\gpu2\\lib\\site-packages\\statsmodels\\stats\\outliers_influence.py:193: RuntimeWarning: divide by zero encountered in double_scalars\n",
      "  vif = 1. / (1. - r_squared_i)\n"
     ]
    },
    {
     "name": "stdout",
     "output_type": "stream",
     "text": [
      "            VIF           feature\n",
      "0     11.359712          Open_crd\n",
      "1           inf        Volume_crd\n",
      "2    154.595201           Open_sp\n",
      "3           inf         Volume_sp\n",
      "4     97.163345         Volume_ns\n",
      "..          ...               ...\n",
      "97     4.262240  yoy_BS-CSMCI-BAL\n",
      "98     4.548438    yoy_BS-ICI-BAL\n",
      "99     4.754283    yoy_BS-RCI-BAL\n",
      "100    6.114753    yoy_BS-SCI-BAL\n",
      "101    1.887148         yoy_Price\n",
      "\n",
      "[102 rows x 2 columns]\n",
      "         VIF   feature\n",
      "49  9.898329  diff_IGD\n",
      "diff_NRG\n",
      "50\n"
     ]
    },
    {
     "name": "stderr",
     "output_type": "stream",
     "text": [
      "C:\\Users\\lawre\\anaconda3\\envs\\gpu2\\lib\\site-packages\\statsmodels\\stats\\outliers_influence.py:193: RuntimeWarning: divide by zero encountered in double_scalars\n",
      "  vif = 1. / (1. - r_squared_i)\n"
     ]
    },
    {
     "name": "stdout",
     "output_type": "stream",
     "text": [
      "            VIF           feature\n",
      "0     11.359712          Open_crd\n",
      "1           inf        Volume_crd\n",
      "2    154.595201           Open_sp\n",
      "3           inf         Volume_sp\n",
      "4     97.163345         Volume_ns\n",
      "..          ...               ...\n",
      "97     4.262240  yoy_BS-CSMCI-BAL\n",
      "98     4.548438    yoy_BS-ICI-BAL\n",
      "99     4.754283    yoy_BS-RCI-BAL\n",
      "100    6.114753    yoy_BS-SCI-BAL\n",
      "101    1.887148         yoy_Price\n",
      "\n",
      "[102 rows x 2 columns]\n",
      "          VIF   feature\n",
      "50  419.04501  diff_NRG\n",
      "Removing diff_NRG\n",
      "diff_TOT_X_ALC_TBC\n",
      "51\n"
     ]
    },
    {
     "name": "stderr",
     "output_type": "stream",
     "text": [
      "C:\\Users\\lawre\\anaconda3\\envs\\gpu2\\lib\\site-packages\\statsmodels\\stats\\outliers_influence.py:193: RuntimeWarning: divide by zero encountered in double_scalars\n",
      "  vif = 1. / (1. - r_squared_i)\n"
     ]
    },
    {
     "name": "stdout",
     "output_type": "stream",
     "text": [
      "            VIF           feature\n",
      "0     11.359712          Open_crd\n",
      "1           inf        Volume_crd\n",
      "2    154.595201           Open_sp\n",
      "3           inf         Volume_sp\n",
      "4     97.163345         Volume_ns\n",
      "..          ...               ...\n",
      "97     4.262240  yoy_BS-CSMCI-BAL\n",
      "98     4.548438    yoy_BS-ICI-BAL\n",
      "99     4.754283    yoy_BS-RCI-BAL\n",
      "100    6.114753    yoy_BS-SCI-BAL\n",
      "101    1.887148         yoy_Price\n",
      "\n",
      "[102 rows x 2 columns]\n",
      "           VIF             feature\n",
      "51  2004.94864  diff_TOT_X_ALC_TBC\n",
      "Removing diff_TOT_X_ALC_TBC\n",
      "diff_TOT_X_FROOPP\n",
      "52\n"
     ]
    },
    {
     "name": "stderr",
     "output_type": "stream",
     "text": [
      "C:\\Users\\lawre\\anaconda3\\envs\\gpu2\\lib\\site-packages\\statsmodels\\stats\\outliers_influence.py:193: RuntimeWarning: divide by zero encountered in double_scalars\n",
      "  vif = 1. / (1. - r_squared_i)\n"
     ]
    },
    {
     "name": "stdout",
     "output_type": "stream",
     "text": [
      "            VIF           feature\n",
      "0     11.359712          Open_crd\n",
      "1           inf        Volume_crd\n",
      "2    154.595201           Open_sp\n",
      "3           inf         Volume_sp\n",
      "4     97.163345         Volume_ns\n",
      "..          ...               ...\n",
      "97     4.262240  yoy_BS-CSMCI-BAL\n",
      "98     4.548438    yoy_BS-ICI-BAL\n",
      "99     4.754283    yoy_BS-RCI-BAL\n",
      "100    6.114753    yoy_BS-SCI-BAL\n",
      "101    1.887148         yoy_Price\n",
      "\n",
      "[102 rows x 2 columns]\n",
      "           VIF            feature\n",
      "52  158.724372  diff_TOT_X_FROOPP\n",
      "Removing diff_TOT_X_FROOPP\n",
      "diff_TOT_X_FUEL\n",
      "53\n"
     ]
    },
    {
     "name": "stderr",
     "output_type": "stream",
     "text": [
      "C:\\Users\\lawre\\anaconda3\\envs\\gpu2\\lib\\site-packages\\statsmodels\\stats\\outliers_influence.py:193: RuntimeWarning: divide by zero encountered in double_scalars\n",
      "  vif = 1. / (1. - r_squared_i)\n"
     ]
    },
    {
     "name": "stdout",
     "output_type": "stream",
     "text": [
      "            VIF           feature\n",
      "0     11.359712          Open_crd\n",
      "1           inf        Volume_crd\n",
      "2    154.595201           Open_sp\n",
      "3           inf         Volume_sp\n",
      "4     97.163345         Volume_ns\n",
      "..          ...               ...\n",
      "97     4.262240  yoy_BS-CSMCI-BAL\n",
      "98     4.548438    yoy_BS-ICI-BAL\n",
      "99     4.754283    yoy_BS-RCI-BAL\n",
      "100    6.114753    yoy_BS-SCI-BAL\n",
      "101    1.887148         yoy_Price\n",
      "\n",
      "[102 rows x 2 columns]\n",
      "            VIF          feature\n",
      "53  1466.935646  diff_TOT_X_FUEL\n",
      "Removing diff_TOT_X_FUEL\n",
      "diff_TOT_X_NRG_FOOD\n",
      "54\n"
     ]
    },
    {
     "name": "stderr",
     "output_type": "stream",
     "text": [
      "C:\\Users\\lawre\\anaconda3\\envs\\gpu2\\lib\\site-packages\\statsmodels\\stats\\outliers_influence.py:193: RuntimeWarning: divide by zero encountered in double_scalars\n",
      "  vif = 1. / (1. - r_squared_i)\n"
     ]
    },
    {
     "name": "stdout",
     "output_type": "stream",
     "text": [
      "            VIF           feature\n",
      "0     11.359712          Open_crd\n",
      "1           inf        Volume_crd\n",
      "2    154.595201           Open_sp\n",
      "3           inf         Volume_sp\n",
      "4     97.163345         Volume_ns\n",
      "..          ...               ...\n",
      "97     4.262240  yoy_BS-CSMCI-BAL\n",
      "98     4.548438    yoy_BS-ICI-BAL\n",
      "99     4.754283    yoy_BS-RCI-BAL\n",
      "100    6.114753    yoy_BS-SCI-BAL\n",
      "101    1.887148         yoy_Price\n",
      "\n",
      "[102 rows x 2 columns]\n",
      "          VIF              feature\n",
      "54  203.10954  diff_TOT_X_NRG_FOOD\n",
      "Removing diff_TOT_X_NRG_FOOD\n",
      "diff_BS-CCI-BAL\n",
      "55\n"
     ]
    },
    {
     "name": "stderr",
     "output_type": "stream",
     "text": [
      "C:\\Users\\lawre\\anaconda3\\envs\\gpu2\\lib\\site-packages\\statsmodels\\stats\\outliers_influence.py:193: RuntimeWarning: divide by zero encountered in double_scalars\n",
      "  vif = 1. / (1. - r_squared_i)\n"
     ]
    },
    {
     "name": "stdout",
     "output_type": "stream",
     "text": [
      "            VIF           feature\n",
      "0     11.359712          Open_crd\n",
      "1           inf        Volume_crd\n",
      "2    154.595201           Open_sp\n",
      "3           inf         Volume_sp\n",
      "4     97.163345         Volume_ns\n",
      "..          ...               ...\n",
      "97     4.262240  yoy_BS-CSMCI-BAL\n",
      "98     4.548438    yoy_BS-ICI-BAL\n",
      "99     4.754283    yoy_BS-RCI-BAL\n",
      "100    6.114753    yoy_BS-SCI-BAL\n",
      "101    1.887148         yoy_Price\n",
      "\n",
      "[102 rows x 2 columns]\n",
      "         VIF          feature\n",
      "55  3.940253  diff_BS-CCI-BAL\n",
      "diff_BS-CSMCI-BAL\n",
      "56\n"
     ]
    },
    {
     "name": "stderr",
     "output_type": "stream",
     "text": [
      "C:\\Users\\lawre\\anaconda3\\envs\\gpu2\\lib\\site-packages\\statsmodels\\stats\\outliers_influence.py:193: RuntimeWarning: divide by zero encountered in double_scalars\n",
      "  vif = 1. / (1. - r_squared_i)\n"
     ]
    },
    {
     "name": "stdout",
     "output_type": "stream",
     "text": [
      "            VIF           feature\n",
      "0     11.359712          Open_crd\n",
      "1           inf        Volume_crd\n",
      "2    154.595201           Open_sp\n",
      "3           inf         Volume_sp\n",
      "4     97.163345         Volume_ns\n",
      "..          ...               ...\n",
      "97     4.262240  yoy_BS-CSMCI-BAL\n",
      "98     4.548438    yoy_BS-ICI-BAL\n",
      "99     4.754283    yoy_BS-RCI-BAL\n",
      "100    6.114753    yoy_BS-SCI-BAL\n",
      "101    1.887148         yoy_Price\n",
      "\n",
      "[102 rows x 2 columns]\n",
      "         VIF            feature\n",
      "56  3.452427  diff_BS-CSMCI-BAL\n",
      "diff_BS-ICI-BAL\n",
      "57\n"
     ]
    },
    {
     "name": "stderr",
     "output_type": "stream",
     "text": [
      "C:\\Users\\lawre\\anaconda3\\envs\\gpu2\\lib\\site-packages\\statsmodels\\stats\\outliers_influence.py:193: RuntimeWarning: divide by zero encountered in double_scalars\n",
      "  vif = 1. / (1. - r_squared_i)\n"
     ]
    },
    {
     "name": "stdout",
     "output_type": "stream",
     "text": [
      "            VIF           feature\n",
      "0     11.359712          Open_crd\n",
      "1           inf        Volume_crd\n",
      "2    154.595201           Open_sp\n",
      "3           inf         Volume_sp\n",
      "4     97.163345         Volume_ns\n",
      "..          ...               ...\n",
      "97     4.262240  yoy_BS-CSMCI-BAL\n",
      "98     4.548438    yoy_BS-ICI-BAL\n",
      "99     4.754283    yoy_BS-RCI-BAL\n",
      "100    6.114753    yoy_BS-SCI-BAL\n",
      "101    1.887148         yoy_Price\n",
      "\n",
      "[102 rows x 2 columns]\n",
      "         VIF          feature\n",
      "57  3.684121  diff_BS-ICI-BAL\n",
      "diff_BS-RCI-BAL\n",
      "58\n"
     ]
    },
    {
     "name": "stderr",
     "output_type": "stream",
     "text": [
      "C:\\Users\\lawre\\anaconda3\\envs\\gpu2\\lib\\site-packages\\statsmodels\\stats\\outliers_influence.py:193: RuntimeWarning: divide by zero encountered in double_scalars\n",
      "  vif = 1. / (1. - r_squared_i)\n"
     ]
    },
    {
     "name": "stdout",
     "output_type": "stream",
     "text": [
      "            VIF           feature\n",
      "0     11.359712          Open_crd\n",
      "1           inf        Volume_crd\n",
      "2    154.595201           Open_sp\n",
      "3           inf         Volume_sp\n",
      "4     97.163345         Volume_ns\n",
      "..          ...               ...\n",
      "97     4.262240  yoy_BS-CSMCI-BAL\n",
      "98     4.548438    yoy_BS-ICI-BAL\n",
      "99     4.754283    yoy_BS-RCI-BAL\n",
      "100    6.114753    yoy_BS-SCI-BAL\n",
      "101    1.887148         yoy_Price\n",
      "\n",
      "[102 rows x 2 columns]\n",
      "         VIF          feature\n",
      "58  4.133318  diff_BS-RCI-BAL\n",
      "diff_BS-SCI-BAL\n",
      "59\n"
     ]
    },
    {
     "name": "stderr",
     "output_type": "stream",
     "text": [
      "C:\\Users\\lawre\\anaconda3\\envs\\gpu2\\lib\\site-packages\\statsmodels\\stats\\outliers_influence.py:193: RuntimeWarning: divide by zero encountered in double_scalars\n",
      "  vif = 1. / (1. - r_squared_i)\n"
     ]
    },
    {
     "name": "stdout",
     "output_type": "stream",
     "text": [
      "            VIF           feature\n",
      "0     11.359712          Open_crd\n",
      "1           inf        Volume_crd\n",
      "2    154.595201           Open_sp\n",
      "3           inf         Volume_sp\n",
      "4     97.163345         Volume_ns\n",
      "..          ...               ...\n",
      "97     4.262240  yoy_BS-CSMCI-BAL\n",
      "98     4.548438    yoy_BS-ICI-BAL\n",
      "99     4.754283    yoy_BS-RCI-BAL\n",
      "100    6.114753    yoy_BS-SCI-BAL\n",
      "101    1.887148         yoy_Price\n",
      "\n",
      "[102 rows x 2 columns]\n",
      "         VIF          feature\n",
      "59  4.775257  diff_BS-SCI-BAL\n",
      "diff_Price\n",
      "60\n"
     ]
    },
    {
     "name": "stderr",
     "output_type": "stream",
     "text": [
      "C:\\Users\\lawre\\anaconda3\\envs\\gpu2\\lib\\site-packages\\statsmodels\\stats\\outliers_influence.py:193: RuntimeWarning: divide by zero encountered in double_scalars\n",
      "  vif = 1. / (1. - r_squared_i)\n"
     ]
    },
    {
     "name": "stdout",
     "output_type": "stream",
     "text": [
      "            VIF           feature\n",
      "0     11.359712          Open_crd\n",
      "1           inf        Volume_crd\n",
      "2    154.595201           Open_sp\n",
      "3           inf         Volume_sp\n",
      "4     97.163345         Volume_ns\n",
      "..          ...               ...\n",
      "97     4.262240  yoy_BS-CSMCI-BAL\n",
      "98     4.548438    yoy_BS-ICI-BAL\n",
      "99     4.754283    yoy_BS-RCI-BAL\n",
      "100    6.114753    yoy_BS-SCI-BAL\n",
      "101    1.887148         yoy_Price\n",
      "\n",
      "[102 rows x 2 columns]\n",
      "         VIF     feature\n",
      "60  1.425336  diff_Price\n",
      "ravg_qt_Volume_crd\n",
      "61\n"
     ]
    },
    {
     "name": "stderr",
     "output_type": "stream",
     "text": [
      "C:\\Users\\lawre\\anaconda3\\envs\\gpu2\\lib\\site-packages\\statsmodels\\stats\\outliers_influence.py:193: RuntimeWarning: divide by zero encountered in double_scalars\n",
      "  vif = 1. / (1. - r_squared_i)\n"
     ]
    },
    {
     "name": "stdout",
     "output_type": "stream",
     "text": [
      "            VIF           feature\n",
      "0     11.359712          Open_crd\n",
      "1           inf        Volume_crd\n",
      "2    154.595201           Open_sp\n",
      "3           inf         Volume_sp\n",
      "4     97.163345         Volume_ns\n",
      "..          ...               ...\n",
      "97     4.262240  yoy_BS-CSMCI-BAL\n",
      "98     4.548438    yoy_BS-ICI-BAL\n",
      "99     4.754283    yoy_BS-RCI-BAL\n",
      "100    6.114753    yoy_BS-SCI-BAL\n",
      "101    1.887148         yoy_Price\n",
      "\n",
      "[102 rows x 2 columns]\n",
      "          VIF             feature\n",
      "61  25.192153  ravg_qt_Volume_crd\n",
      "Removing ravg_qt_Volume_crd\n",
      "ravg_qt_Volume_sp\n",
      "62\n"
     ]
    },
    {
     "name": "stderr",
     "output_type": "stream",
     "text": [
      "C:\\Users\\lawre\\anaconda3\\envs\\gpu2\\lib\\site-packages\\statsmodels\\stats\\outliers_influence.py:193: RuntimeWarning: divide by zero encountered in double_scalars\n",
      "  vif = 1. / (1. - r_squared_i)\n"
     ]
    },
    {
     "name": "stdout",
     "output_type": "stream",
     "text": [
      "            VIF           feature\n",
      "0     11.359712          Open_crd\n",
      "1           inf        Volume_crd\n",
      "2    154.595201           Open_sp\n",
      "3           inf         Volume_sp\n",
      "4     97.163345         Volume_ns\n",
      "..          ...               ...\n",
      "97     4.262240  yoy_BS-CSMCI-BAL\n",
      "98     4.548438    yoy_BS-ICI-BAL\n",
      "99     4.754283    yoy_BS-RCI-BAL\n",
      "100    6.114753    yoy_BS-SCI-BAL\n",
      "101    1.887148         yoy_Price\n",
      "\n",
      "[102 rows x 2 columns]\n",
      "           VIF            feature\n",
      "62  470.706916  ravg_qt_Volume_sp\n",
      "Removing ravg_qt_Volume_sp\n",
      "ravg_qt_Volume_usd\n",
      "63\n"
     ]
    },
    {
     "name": "stderr",
     "output_type": "stream",
     "text": [
      "C:\\Users\\lawre\\anaconda3\\envs\\gpu2\\lib\\site-packages\\statsmodels\\stats\\outliers_influence.py:193: RuntimeWarning: divide by zero encountered in double_scalars\n",
      "  vif = 1. / (1. - r_squared_i)\n"
     ]
    },
    {
     "name": "stdout",
     "output_type": "stream",
     "text": [
      "            VIF           feature\n",
      "0     11.359712          Open_crd\n",
      "1           inf        Volume_crd\n",
      "2    154.595201           Open_sp\n",
      "3           inf         Volume_sp\n",
      "4     97.163345         Volume_ns\n",
      "..          ...               ...\n",
      "97     4.262240  yoy_BS-CSMCI-BAL\n",
      "98     4.548438    yoy_BS-ICI-BAL\n",
      "99     4.754283    yoy_BS-RCI-BAL\n",
      "100    6.114753    yoy_BS-SCI-BAL\n",
      "101    1.887148         yoy_Price\n",
      "\n",
      "[102 rows x 2 columns]\n",
      "         VIF             feature\n",
      "63  3.489298  ravg_qt_Volume_usd\n",
      "ravg_yr_Volume_crd\n",
      "64\n"
     ]
    },
    {
     "name": "stderr",
     "output_type": "stream",
     "text": [
      "C:\\Users\\lawre\\anaconda3\\envs\\gpu2\\lib\\site-packages\\statsmodels\\stats\\outliers_influence.py:193: RuntimeWarning: divide by zero encountered in double_scalars\n",
      "  vif = 1. / (1. - r_squared_i)\n"
     ]
    },
    {
     "name": "stdout",
     "output_type": "stream",
     "text": [
      "            VIF           feature\n",
      "0     11.359712          Open_crd\n",
      "1           inf        Volume_crd\n",
      "2    154.595201           Open_sp\n",
      "3           inf         Volume_sp\n",
      "4     97.163345         Volume_ns\n",
      "..          ...               ...\n",
      "97     4.262240  yoy_BS-CSMCI-BAL\n",
      "98     4.548438    yoy_BS-ICI-BAL\n",
      "99     4.754283    yoy_BS-RCI-BAL\n",
      "100    6.114753    yoy_BS-SCI-BAL\n",
      "101    1.887148         yoy_Price\n",
      "\n",
      "[102 rows x 2 columns]\n",
      "        VIF             feature\n",
      "64  8.45045  ravg_yr_Volume_crd\n",
      "ravg_yr_Volume_sp\n",
      "65\n"
     ]
    },
    {
     "name": "stderr",
     "output_type": "stream",
     "text": [
      "C:\\Users\\lawre\\anaconda3\\envs\\gpu2\\lib\\site-packages\\statsmodels\\stats\\outliers_influence.py:193: RuntimeWarning: divide by zero encountered in double_scalars\n",
      "  vif = 1. / (1. - r_squared_i)\n"
     ]
    },
    {
     "name": "stdout",
     "output_type": "stream",
     "text": [
      "            VIF           feature\n",
      "0     11.359712          Open_crd\n",
      "1           inf        Volume_crd\n",
      "2    154.595201           Open_sp\n",
      "3           inf         Volume_sp\n",
      "4     97.163345         Volume_ns\n",
      "..          ...               ...\n",
      "97     4.262240  yoy_BS-CSMCI-BAL\n",
      "98     4.548438    yoy_BS-ICI-BAL\n",
      "99     4.754283    yoy_BS-RCI-BAL\n",
      "100    6.114753    yoy_BS-SCI-BAL\n",
      "101    1.887148         yoy_Price\n",
      "\n",
      "[102 rows x 2 columns]\n",
      "           VIF            feature\n",
      "65  191.944859  ravg_yr_Volume_sp\n",
      "Removing ravg_yr_Volume_sp\n",
      "ravg_yr_Volume_usd\n",
      "66\n"
     ]
    },
    {
     "name": "stderr",
     "output_type": "stream",
     "text": [
      "C:\\Users\\lawre\\anaconda3\\envs\\gpu2\\lib\\site-packages\\statsmodels\\stats\\outliers_influence.py:193: RuntimeWarning: divide by zero encountered in double_scalars\n",
      "  vif = 1. / (1. - r_squared_i)\n"
     ]
    },
    {
     "name": "stdout",
     "output_type": "stream",
     "text": [
      "            VIF           feature\n",
      "0     11.359712          Open_crd\n",
      "1           inf        Volume_crd\n",
      "2    154.595201           Open_sp\n",
      "3           inf         Volume_sp\n",
      "4     97.163345         Volume_ns\n",
      "..          ...               ...\n",
      "97     4.262240  yoy_BS-CSMCI-BAL\n",
      "98     4.548438    yoy_BS-ICI-BAL\n",
      "99     4.754283    yoy_BS-RCI-BAL\n",
      "100    6.114753    yoy_BS-SCI-BAL\n",
      "101    1.887148         yoy_Price\n",
      "\n",
      "[102 rows x 2 columns]\n",
      "         VIF             feature\n",
      "66  1.551189  ravg_yr_Volume_usd\n",
      "ravg_yr_CON_DE_B-D_F\n",
      "67\n"
     ]
    },
    {
     "name": "stderr",
     "output_type": "stream",
     "text": [
      "C:\\Users\\lawre\\anaconda3\\envs\\gpu2\\lib\\site-packages\\statsmodels\\stats\\outliers_influence.py:193: RuntimeWarning: divide by zero encountered in double_scalars\n",
      "  vif = 1. / (1. - r_squared_i)\n"
     ]
    },
    {
     "name": "stdout",
     "output_type": "stream",
     "text": [
      "            VIF           feature\n",
      "0     11.359712          Open_crd\n",
      "1           inf        Volume_crd\n",
      "2    154.595201           Open_sp\n",
      "3           inf         Volume_sp\n",
      "4     97.163345         Volume_ns\n",
      "..          ...               ...\n",
      "97     4.262240  yoy_BS-CSMCI-BAL\n",
      "98     4.548438    yoy_BS-ICI-BAL\n",
      "99     4.754283    yoy_BS-RCI-BAL\n",
      "100    6.114753    yoy_BS-SCI-BAL\n",
      "101    1.887148         yoy_Price\n",
      "\n",
      "[102 rows x 2 columns]\n",
      "          VIF               feature\n",
      "67  42.649737  ravg_yr_CON_DE_B-D_F\n",
      "Removing ravg_yr_CON_DE_B-D_F\n",
      "ravg_yr_CON_DE_F\n",
      "68\n"
     ]
    },
    {
     "name": "stderr",
     "output_type": "stream",
     "text": [
      "C:\\Users\\lawre\\anaconda3\\envs\\gpu2\\lib\\site-packages\\statsmodels\\stats\\outliers_influence.py:193: RuntimeWarning: divide by zero encountered in double_scalars\n",
      "  vif = 1. / (1. - r_squared_i)\n"
     ]
    },
    {
     "name": "stdout",
     "output_type": "stream",
     "text": [
      "            VIF           feature\n",
      "0     11.359712          Open_crd\n",
      "1           inf        Volume_crd\n",
      "2    154.595201           Open_sp\n",
      "3           inf         Volume_sp\n",
      "4     97.163345         Volume_ns\n",
      "..          ...               ...\n",
      "97     4.262240  yoy_BS-CSMCI-BAL\n",
      "98     4.548438    yoy_BS-ICI-BAL\n",
      "99     4.754283    yoy_BS-RCI-BAL\n",
      "100    6.114753    yoy_BS-SCI-BAL\n",
      "101    1.887148         yoy_Price\n",
      "\n",
      "[102 rows x 2 columns]\n",
      "           VIF           feature\n",
      "68  342.130607  ravg_yr_CON_DE_F\n",
      "Removing ravg_yr_CON_DE_F\n",
      "ravg_yr_CON_DE_F_CC1\n",
      "69\n"
     ]
    },
    {
     "name": "stderr",
     "output_type": "stream",
     "text": [
      "C:\\Users\\lawre\\anaconda3\\envs\\gpu2\\lib\\site-packages\\statsmodels\\stats\\outliers_influence.py:193: RuntimeWarning: divide by zero encountered in double_scalars\n",
      "  vif = 1. / (1. - r_squared_i)\n"
     ]
    },
    {
     "name": "stdout",
     "output_type": "stream",
     "text": [
      "            VIF           feature\n",
      "0     11.359712          Open_crd\n",
      "1           inf        Volume_crd\n",
      "2    154.595201           Open_sp\n",
      "3           inf         Volume_sp\n",
      "4     97.163345         Volume_ns\n",
      "..          ...               ...\n",
      "97     4.262240  yoy_BS-CSMCI-BAL\n",
      "98     4.548438    yoy_BS-ICI-BAL\n",
      "99     4.754283    yoy_BS-RCI-BAL\n",
      "100    6.114753    yoy_BS-SCI-BAL\n",
      "101    1.887148         yoy_Price\n",
      "\n",
      "[102 rows x 2 columns]\n",
      "           VIF               feature\n",
      "69  231.996821  ravg_yr_CON_DE_F_CC1\n",
      "Removing ravg_yr_CON_DE_F_CC1\n",
      "lag_Volume_crd\n",
      "70\n"
     ]
    },
    {
     "name": "stderr",
     "output_type": "stream",
     "text": [
      "C:\\Users\\lawre\\anaconda3\\envs\\gpu2\\lib\\site-packages\\statsmodels\\stats\\outliers_influence.py:193: RuntimeWarning: divide by zero encountered in double_scalars\n",
      "  vif = 1. / (1. - r_squared_i)\n"
     ]
    },
    {
     "name": "stdout",
     "output_type": "stream",
     "text": [
      "            VIF           feature\n",
      "0     11.359712          Open_crd\n",
      "1           inf        Volume_crd\n",
      "2    154.595201           Open_sp\n",
      "3           inf         Volume_sp\n",
      "4     97.163345         Volume_ns\n",
      "..          ...               ...\n",
      "97     4.262240  yoy_BS-CSMCI-BAL\n",
      "98     4.548438    yoy_BS-ICI-BAL\n",
      "99     4.754283    yoy_BS-RCI-BAL\n",
      "100    6.114753    yoy_BS-SCI-BAL\n",
      "101    1.887148         yoy_Price\n",
      "\n",
      "[102 rows x 2 columns]\n",
      "    VIF         feature\n",
      "70  inf  lag_Volume_crd\n",
      "Removing lag_Volume_crd\n",
      "lag_Volume_sp\n",
      "71\n"
     ]
    },
    {
     "name": "stderr",
     "output_type": "stream",
     "text": [
      "C:\\Users\\lawre\\anaconda3\\envs\\gpu2\\lib\\site-packages\\statsmodels\\stats\\outliers_influence.py:193: RuntimeWarning: divide by zero encountered in double_scalars\n",
      "  vif = 1. / (1. - r_squared_i)\n"
     ]
    },
    {
     "name": "stdout",
     "output_type": "stream",
     "text": [
      "            VIF           feature\n",
      "0     11.359712          Open_crd\n",
      "1           inf        Volume_crd\n",
      "2    154.595201           Open_sp\n",
      "3           inf         Volume_sp\n",
      "4     97.163345         Volume_ns\n",
      "..          ...               ...\n",
      "97     4.262240  yoy_BS-CSMCI-BAL\n",
      "98     4.548438    yoy_BS-ICI-BAL\n",
      "99     4.754283    yoy_BS-RCI-BAL\n",
      "100    6.114753    yoy_BS-SCI-BAL\n",
      "101    1.887148         yoy_Price\n",
      "\n",
      "[102 rows x 2 columns]\n",
      "    VIF        feature\n",
      "71  inf  lag_Volume_sp\n",
      "Removing lag_Volume_sp\n",
      "lag_Volume_usd\n",
      "72\n"
     ]
    },
    {
     "name": "stderr",
     "output_type": "stream",
     "text": [
      "C:\\Users\\lawre\\anaconda3\\envs\\gpu2\\lib\\site-packages\\statsmodels\\stats\\outliers_influence.py:193: RuntimeWarning: divide by zero encountered in double_scalars\n",
      "  vif = 1. / (1. - r_squared_i)\n"
     ]
    },
    {
     "name": "stdout",
     "output_type": "stream",
     "text": [
      "            VIF           feature\n",
      "0     11.359712          Open_crd\n",
      "1           inf        Volume_crd\n",
      "2    154.595201           Open_sp\n",
      "3           inf         Volume_sp\n",
      "4     97.163345         Volume_ns\n",
      "..          ...               ...\n",
      "97     4.262240  yoy_BS-CSMCI-BAL\n",
      "98     4.548438    yoy_BS-ICI-BAL\n",
      "99     4.754283    yoy_BS-RCI-BAL\n",
      "100    6.114753    yoy_BS-SCI-BAL\n",
      "101    1.887148         yoy_Price\n",
      "\n",
      "[102 rows x 2 columns]\n",
      "    VIF         feature\n",
      "72  inf  lag_Volume_usd\n",
      "Removing lag_Volume_usd\n",
      "yoy_Open_crd\n",
      "73\n"
     ]
    },
    {
     "name": "stderr",
     "output_type": "stream",
     "text": [
      "C:\\Users\\lawre\\anaconda3\\envs\\gpu2\\lib\\site-packages\\statsmodels\\stats\\outliers_influence.py:193: RuntimeWarning: divide by zero encountered in double_scalars\n",
      "  vif = 1. / (1. - r_squared_i)\n"
     ]
    },
    {
     "name": "stdout",
     "output_type": "stream",
     "text": [
      "            VIF           feature\n",
      "0     11.359712          Open_crd\n",
      "1           inf        Volume_crd\n",
      "2    154.595201           Open_sp\n",
      "3           inf         Volume_sp\n",
      "4     97.163345         Volume_ns\n",
      "..          ...               ...\n",
      "97     4.262240  yoy_BS-CSMCI-BAL\n",
      "98     4.548438    yoy_BS-ICI-BAL\n",
      "99     4.754283    yoy_BS-RCI-BAL\n",
      "100    6.114753    yoy_BS-SCI-BAL\n",
      "101    1.887148         yoy_Price\n",
      "\n",
      "[102 rows x 2 columns]\n",
      "          VIF       feature\n",
      "73  11.651644  yoy_Open_crd\n",
      "Removing yoy_Open_crd\n",
      "yoy_Low_crd\n",
      "74\n"
     ]
    },
    {
     "name": "stderr",
     "output_type": "stream",
     "text": [
      "C:\\Users\\lawre\\anaconda3\\envs\\gpu2\\lib\\site-packages\\statsmodels\\stats\\outliers_influence.py:193: RuntimeWarning: divide by zero encountered in double_scalars\n",
      "  vif = 1. / (1. - r_squared_i)\n"
     ]
    },
    {
     "name": "stdout",
     "output_type": "stream",
     "text": [
      "            VIF           feature\n",
      "0     11.359712          Open_crd\n",
      "1           inf        Volume_crd\n",
      "2    154.595201           Open_sp\n",
      "3           inf         Volume_sp\n",
      "4     97.163345         Volume_ns\n",
      "..          ...               ...\n",
      "97     4.262240  yoy_BS-CSMCI-BAL\n",
      "98     4.548438    yoy_BS-ICI-BAL\n",
      "99     4.754283    yoy_BS-RCI-BAL\n",
      "100    6.114753    yoy_BS-SCI-BAL\n",
      "101    1.887148         yoy_Price\n",
      "\n",
      "[102 rows x 2 columns]\n",
      "         VIF      feature\n",
      "74  11.55793  yoy_Low_crd\n",
      "Removing yoy_Low_crd\n",
      "yoy_Volume_crd\n",
      "75\n"
     ]
    },
    {
     "name": "stderr",
     "output_type": "stream",
     "text": [
      "C:\\Users\\lawre\\anaconda3\\envs\\gpu2\\lib\\site-packages\\statsmodels\\stats\\outliers_influence.py:193: RuntimeWarning: divide by zero encountered in double_scalars\n",
      "  vif = 1. / (1. - r_squared_i)\n"
     ]
    },
    {
     "name": "stdout",
     "output_type": "stream",
     "text": [
      "            VIF           feature\n",
      "0     11.359712          Open_crd\n",
      "1           inf        Volume_crd\n",
      "2    154.595201           Open_sp\n",
      "3           inf         Volume_sp\n",
      "4     97.163345         Volume_ns\n",
      "..          ...               ...\n",
      "97     4.262240  yoy_BS-CSMCI-BAL\n",
      "98     4.548438    yoy_BS-ICI-BAL\n",
      "99     4.754283    yoy_BS-RCI-BAL\n",
      "100    6.114753    yoy_BS-SCI-BAL\n",
      "101    1.887148         yoy_Price\n",
      "\n",
      "[102 rows x 2 columns]\n",
      "         VIF         feature\n",
      "75  2.441515  yoy_Volume_crd\n",
      "yoy_Open_sp\n",
      "76\n"
     ]
    },
    {
     "name": "stderr",
     "output_type": "stream",
     "text": [
      "C:\\Users\\lawre\\anaconda3\\envs\\gpu2\\lib\\site-packages\\statsmodels\\stats\\outliers_influence.py:193: RuntimeWarning: divide by zero encountered in double_scalars\n",
      "  vif = 1. / (1. - r_squared_i)\n"
     ]
    },
    {
     "name": "stdout",
     "output_type": "stream",
     "text": [
      "            VIF           feature\n",
      "0     11.359712          Open_crd\n",
      "1           inf        Volume_crd\n",
      "2    154.595201           Open_sp\n",
      "3           inf         Volume_sp\n",
      "4     97.163345         Volume_ns\n",
      "..          ...               ...\n",
      "97     4.262240  yoy_BS-CSMCI-BAL\n",
      "98     4.548438    yoy_BS-ICI-BAL\n",
      "99     4.754283    yoy_BS-RCI-BAL\n",
      "100    6.114753    yoy_BS-SCI-BAL\n",
      "101    1.887148         yoy_Price\n",
      "\n",
      "[102 rows x 2 columns]\n",
      "          VIF      feature\n",
      "76  10.081124  yoy_Open_sp\n",
      "Removing yoy_Open_sp\n",
      "yoy_Volume_sp\n",
      "77\n"
     ]
    },
    {
     "name": "stderr",
     "output_type": "stream",
     "text": [
      "C:\\Users\\lawre\\anaconda3\\envs\\gpu2\\lib\\site-packages\\statsmodels\\stats\\outliers_influence.py:193: RuntimeWarning: divide by zero encountered in double_scalars\n",
      "  vif = 1. / (1. - r_squared_i)\n"
     ]
    },
    {
     "name": "stdout",
     "output_type": "stream",
     "text": [
      "            VIF           feature\n",
      "0     11.359712          Open_crd\n",
      "1           inf        Volume_crd\n",
      "2    154.595201           Open_sp\n",
      "3           inf         Volume_sp\n",
      "4     97.163345         Volume_ns\n",
      "..          ...               ...\n",
      "97     4.262240  yoy_BS-CSMCI-BAL\n",
      "98     4.548438    yoy_BS-ICI-BAL\n",
      "99     4.754283    yoy_BS-RCI-BAL\n",
      "100    6.114753    yoy_BS-SCI-BAL\n",
      "101    1.887148         yoy_Price\n",
      "\n",
      "[102 rows x 2 columns]\n",
      "         VIF        feature\n",
      "77  4.127795  yoy_Volume_sp\n",
      "yoy_Open_ns\n",
      "78\n"
     ]
    },
    {
     "name": "stderr",
     "output_type": "stream",
     "text": [
      "C:\\Users\\lawre\\anaconda3\\envs\\gpu2\\lib\\site-packages\\statsmodels\\stats\\outliers_influence.py:193: RuntimeWarning: divide by zero encountered in double_scalars\n",
      "  vif = 1. / (1. - r_squared_i)\n"
     ]
    },
    {
     "name": "stdout",
     "output_type": "stream",
     "text": [
      "            VIF           feature\n",
      "0     11.359712          Open_crd\n",
      "1           inf        Volume_crd\n",
      "2    154.595201           Open_sp\n",
      "3           inf         Volume_sp\n",
      "4     97.163345         Volume_ns\n",
      "..          ...               ...\n",
      "97     4.262240  yoy_BS-CSMCI-BAL\n",
      "98     4.548438    yoy_BS-ICI-BAL\n",
      "99     4.754283    yoy_BS-RCI-BAL\n",
      "100    6.114753    yoy_BS-SCI-BAL\n",
      "101    1.887148         yoy_Price\n",
      "\n",
      "[102 rows x 2 columns]\n",
      "         VIF      feature\n",
      "78  9.516895  yoy_Open_ns\n",
      "yoy_Volume_ns\n",
      "79\n"
     ]
    },
    {
     "name": "stderr",
     "output_type": "stream",
     "text": [
      "C:\\Users\\lawre\\anaconda3\\envs\\gpu2\\lib\\site-packages\\statsmodels\\stats\\outliers_influence.py:193: RuntimeWarning: divide by zero encountered in double_scalars\n",
      "  vif = 1. / (1. - r_squared_i)\n"
     ]
    },
    {
     "name": "stdout",
     "output_type": "stream",
     "text": [
      "            VIF           feature\n",
      "0     11.359712          Open_crd\n",
      "1           inf        Volume_crd\n",
      "2    154.595201           Open_sp\n",
      "3           inf         Volume_sp\n",
      "4     97.163345         Volume_ns\n",
      "..          ...               ...\n",
      "97     4.262240  yoy_BS-CSMCI-BAL\n",
      "98     4.548438    yoy_BS-ICI-BAL\n",
      "99     4.754283    yoy_BS-RCI-BAL\n",
      "100    6.114753    yoy_BS-SCI-BAL\n",
      "101    1.887148         yoy_Price\n",
      "\n",
      "[102 rows x 2 columns]\n",
      "         VIF        feature\n",
      "79  3.354049  yoy_Volume_ns\n",
      "yoy_Open_usd\n",
      "80\n"
     ]
    },
    {
     "name": "stderr",
     "output_type": "stream",
     "text": [
      "C:\\Users\\lawre\\anaconda3\\envs\\gpu2\\lib\\site-packages\\statsmodels\\stats\\outliers_influence.py:193: RuntimeWarning: divide by zero encountered in double_scalars\n",
      "  vif = 1. / (1. - r_squared_i)\n"
     ]
    },
    {
     "name": "stdout",
     "output_type": "stream",
     "text": [
      "            VIF           feature\n",
      "0     11.359712          Open_crd\n",
      "1           inf        Volume_crd\n",
      "2    154.595201           Open_sp\n",
      "3           inf         Volume_sp\n",
      "4     97.163345         Volume_ns\n",
      "..          ...               ...\n",
      "97     4.262240  yoy_BS-CSMCI-BAL\n",
      "98     4.548438    yoy_BS-ICI-BAL\n",
      "99     4.754283    yoy_BS-RCI-BAL\n",
      "100    6.114753    yoy_BS-SCI-BAL\n",
      "101    1.887148         yoy_Price\n",
      "\n",
      "[102 rows x 2 columns]\n",
      "         VIF       feature\n",
      "80  1.520772  yoy_Open_usd\n",
      "yoy_Volume_usd\n",
      "81\n"
     ]
    },
    {
     "name": "stderr",
     "output_type": "stream",
     "text": [
      "C:\\Users\\lawre\\anaconda3\\envs\\gpu2\\lib\\site-packages\\statsmodels\\stats\\outliers_influence.py:193: RuntimeWarning: divide by zero encountered in double_scalars\n",
      "  vif = 1. / (1. - r_squared_i)\n"
     ]
    },
    {
     "name": "stdout",
     "output_type": "stream",
     "text": [
      "            VIF           feature\n",
      "0     11.359712          Open_crd\n",
      "1           inf        Volume_crd\n",
      "2    154.595201           Open_sp\n",
      "3           inf         Volume_sp\n",
      "4     97.163345         Volume_ns\n",
      "..          ...               ...\n",
      "97     4.262240  yoy_BS-CSMCI-BAL\n",
      "98     4.548438    yoy_BS-ICI-BAL\n",
      "99     4.754283    yoy_BS-RCI-BAL\n",
      "100    6.114753    yoy_BS-SCI-BAL\n",
      "101    1.887148         yoy_Price\n",
      "\n",
      "[102 rows x 2 columns]\n",
      "         VIF         feature\n",
      "81  2.057717  yoy_Volume_usd\n",
      "yoy_WB_CRUDE_BRENT\n",
      "82\n"
     ]
    },
    {
     "name": "stderr",
     "output_type": "stream",
     "text": [
      "C:\\Users\\lawre\\anaconda3\\envs\\gpu2\\lib\\site-packages\\statsmodels\\stats\\outliers_influence.py:193: RuntimeWarning: divide by zero encountered in double_scalars\n",
      "  vif = 1. / (1. - r_squared_i)\n"
     ]
    },
    {
     "name": "stdout",
     "output_type": "stream",
     "text": [
      "            VIF           feature\n",
      "0     11.359712          Open_crd\n",
      "1           inf        Volume_crd\n",
      "2    154.595201           Open_sp\n",
      "3           inf         Volume_sp\n",
      "4     97.163345         Volume_ns\n",
      "..          ...               ...\n",
      "97     4.262240  yoy_BS-CSMCI-BAL\n",
      "98     4.548438    yoy_BS-ICI-BAL\n",
      "99     4.754283    yoy_BS-RCI-BAL\n",
      "100    6.114753    yoy_BS-SCI-BAL\n",
      "101    1.887148         yoy_Price\n",
      "\n",
      "[102 rows x 2 columns]\n",
      "         VIF             feature\n",
      "82  5.208057  yoy_WB_CRUDE_BRENT\n",
      "yoy_WB_NGAS_EUR\n",
      "83\n"
     ]
    },
    {
     "name": "stderr",
     "output_type": "stream",
     "text": [
      "C:\\Users\\lawre\\anaconda3\\envs\\gpu2\\lib\\site-packages\\statsmodels\\stats\\outliers_influence.py:193: RuntimeWarning: divide by zero encountered in double_scalars\n",
      "  vif = 1. / (1. - r_squared_i)\n"
     ]
    },
    {
     "name": "stdout",
     "output_type": "stream",
     "text": [
      "            VIF           feature\n",
      "0     11.359712          Open_crd\n",
      "1           inf        Volume_crd\n",
      "2    154.595201           Open_sp\n",
      "3           inf         Volume_sp\n",
      "4     97.163345         Volume_ns\n",
      "..          ...               ...\n",
      "97     4.262240  yoy_BS-CSMCI-BAL\n",
      "98     4.548438    yoy_BS-ICI-BAL\n",
      "99     4.754283    yoy_BS-RCI-BAL\n",
      "100    6.114753    yoy_BS-SCI-BAL\n",
      "101    1.887148         yoy_Price\n",
      "\n",
      "[102 rows x 2 columns]\n",
      "       VIF          feature\n",
      "83  2.3054  yoy_WB_NGAS_EUR\n",
      "yoy_WB_IRON_ORE\n",
      "84\n"
     ]
    },
    {
     "name": "stderr",
     "output_type": "stream",
     "text": [
      "C:\\Users\\lawre\\anaconda3\\envs\\gpu2\\lib\\site-packages\\statsmodels\\stats\\outliers_influence.py:193: RuntimeWarning: divide by zero encountered in double_scalars\n",
      "  vif = 1. / (1. - r_squared_i)\n"
     ]
    },
    {
     "name": "stdout",
     "output_type": "stream",
     "text": [
      "            VIF           feature\n",
      "0     11.359712          Open_crd\n",
      "1           inf        Volume_crd\n",
      "2    154.595201           Open_sp\n",
      "3           inf         Volume_sp\n",
      "4     97.163345         Volume_ns\n",
      "..          ...               ...\n",
      "97     4.262240  yoy_BS-CSMCI-BAL\n",
      "98     4.548438    yoy_BS-ICI-BAL\n",
      "99     4.754283    yoy_BS-RCI-BAL\n",
      "100    6.114753    yoy_BS-SCI-BAL\n",
      "101    1.887148         yoy_Price\n",
      "\n",
      "[102 rows x 2 columns]\n",
      "         VIF          feature\n",
      "84  2.085525  yoy_WB_IRON_ORE\n",
      "yoy_WB_NGAS_US\n",
      "85\n"
     ]
    },
    {
     "name": "stderr",
     "output_type": "stream",
     "text": [
      "C:\\Users\\lawre\\anaconda3\\envs\\gpu2\\lib\\site-packages\\statsmodels\\stats\\outliers_influence.py:193: RuntimeWarning: divide by zero encountered in double_scalars\n",
      "  vif = 1. / (1. - r_squared_i)\n"
     ]
    },
    {
     "name": "stdout",
     "output_type": "stream",
     "text": [
      "            VIF           feature\n",
      "0     11.359712          Open_crd\n",
      "1           inf        Volume_crd\n",
      "2    154.595201           Open_sp\n",
      "3           inf         Volume_sp\n",
      "4     97.163345         Volume_ns\n",
      "..          ...               ...\n",
      "97     4.262240  yoy_BS-CSMCI-BAL\n",
      "98     4.548438    yoy_BS-ICI-BAL\n",
      "99     4.754283    yoy_BS-RCI-BAL\n",
      "100    6.114753    yoy_BS-SCI-BAL\n",
      "101    1.887148         yoy_Price\n",
      "\n",
      "[102 rows x 2 columns]\n",
      "         VIF         feature\n",
      "85  2.261589  yoy_WB_NGAS_US\n",
      "yoy_CON_DE_B-D_F\n",
      "86\n"
     ]
    },
    {
     "name": "stderr",
     "output_type": "stream",
     "text": [
      "C:\\Users\\lawre\\anaconda3\\envs\\gpu2\\lib\\site-packages\\statsmodels\\stats\\outliers_influence.py:193: RuntimeWarning: divide by zero encountered in double_scalars\n",
      "  vif = 1. / (1. - r_squared_i)\n"
     ]
    },
    {
     "name": "stdout",
     "output_type": "stream",
     "text": [
      "            VIF           feature\n",
      "0     11.359712          Open_crd\n",
      "1           inf        Volume_crd\n",
      "2    154.595201           Open_sp\n",
      "3           inf         Volume_sp\n",
      "4     97.163345         Volume_ns\n",
      "..          ...               ...\n",
      "97     4.262240  yoy_BS-CSMCI-BAL\n",
      "98     4.548438    yoy_BS-ICI-BAL\n",
      "99     4.754283    yoy_BS-RCI-BAL\n",
      "100    6.114753    yoy_BS-SCI-BAL\n",
      "101    1.887148         yoy_Price\n",
      "\n",
      "[102 rows x 2 columns]\n",
      "         VIF           feature\n",
      "86  10.41785  yoy_CON_DE_B-D_F\n",
      "Removing yoy_CON_DE_B-D_F\n",
      "yoy_CON_DE_F\n",
      "87\n"
     ]
    },
    {
     "name": "stderr",
     "output_type": "stream",
     "text": [
      "C:\\Users\\lawre\\anaconda3\\envs\\gpu2\\lib\\site-packages\\statsmodels\\stats\\outliers_influence.py:193: RuntimeWarning: divide by zero encountered in double_scalars\n",
      "  vif = 1. / (1. - r_squared_i)\n"
     ]
    },
    {
     "name": "stdout",
     "output_type": "stream",
     "text": [
      "            VIF           feature\n",
      "0     11.359712          Open_crd\n",
      "1           inf        Volume_crd\n",
      "2    154.595201           Open_sp\n",
      "3           inf         Volume_sp\n",
      "4     97.163345         Volume_ns\n",
      "..          ...               ...\n",
      "97     4.262240  yoy_BS-CSMCI-BAL\n",
      "98     4.548438    yoy_BS-ICI-BAL\n",
      "99     4.754283    yoy_BS-RCI-BAL\n",
      "100    6.114753    yoy_BS-SCI-BAL\n",
      "101    1.887148         yoy_Price\n",
      "\n",
      "[102 rows x 2 columns]\n",
      "          VIF       feature\n",
      "87  17.146642  yoy_CON_DE_F\n",
      "Removing yoy_CON_DE_F\n",
      "yoy_CON_DE_F_CC2\n",
      "88\n"
     ]
    },
    {
     "name": "stderr",
     "output_type": "stream",
     "text": [
      "C:\\Users\\lawre\\anaconda3\\envs\\gpu2\\lib\\site-packages\\statsmodels\\stats\\outliers_influence.py:193: RuntimeWarning: divide by zero encountered in double_scalars\n",
      "  vif = 1. / (1. - r_squared_i)\n"
     ]
    },
    {
     "name": "stdout",
     "output_type": "stream",
     "text": [
      "            VIF           feature\n",
      "0     11.359712          Open_crd\n",
      "1           inf        Volume_crd\n",
      "2    154.595201           Open_sp\n",
      "3           inf         Volume_sp\n",
      "4     97.163345         Volume_ns\n",
      "..          ...               ...\n",
      "97     4.262240  yoy_BS-CSMCI-BAL\n",
      "98     4.548438    yoy_BS-ICI-BAL\n",
      "99     4.754283    yoy_BS-RCI-BAL\n",
      "100    6.114753    yoy_BS-SCI-BAL\n",
      "101    1.887148         yoy_Price\n",
      "\n",
      "[102 rows x 2 columns]\n",
      "          VIF           feature\n",
      "88  10.009637  yoy_CON_DE_F_CC2\n",
      "Removing yoy_CON_DE_F_CC2\n",
      "yoy_ELC_GAS\n",
      "89\n"
     ]
    },
    {
     "name": "stderr",
     "output_type": "stream",
     "text": [
      "C:\\Users\\lawre\\anaconda3\\envs\\gpu2\\lib\\site-packages\\statsmodels\\stats\\outliers_influence.py:193: RuntimeWarning: divide by zero encountered in double_scalars\n",
      "  vif = 1. / (1. - r_squared_i)\n"
     ]
    },
    {
     "name": "stdout",
     "output_type": "stream",
     "text": [
      "            VIF           feature\n",
      "0     11.359712          Open_crd\n",
      "1           inf        Volume_crd\n",
      "2    154.595201           Open_sp\n",
      "3           inf         Volume_sp\n",
      "4     97.163345         Volume_ns\n",
      "..          ...               ...\n",
      "97     4.262240  yoy_BS-CSMCI-BAL\n",
      "98     4.548438    yoy_BS-ICI-BAL\n",
      "99     4.754283    yoy_BS-RCI-BAL\n",
      "100    6.114753    yoy_BS-SCI-BAL\n",
      "101    1.887148         yoy_Price\n",
      "\n",
      "[102 rows x 2 columns]\n",
      "           VIF      feature\n",
      "89  134.432322  yoy_ELC_GAS\n",
      "Removing yoy_ELC_GAS\n",
      "yoy_IGD\n",
      "90\n"
     ]
    },
    {
     "name": "stderr",
     "output_type": "stream",
     "text": [
      "C:\\Users\\lawre\\anaconda3\\envs\\gpu2\\lib\\site-packages\\statsmodels\\stats\\outliers_influence.py:193: RuntimeWarning: divide by zero encountered in double_scalars\n",
      "  vif = 1. / (1. - r_squared_i)\n"
     ]
    },
    {
     "name": "stdout",
     "output_type": "stream",
     "text": [
      "            VIF           feature\n",
      "0     11.359712          Open_crd\n",
      "1           inf        Volume_crd\n",
      "2    154.595201           Open_sp\n",
      "3           inf         Volume_sp\n",
      "4     97.163345         Volume_ns\n",
      "..          ...               ...\n",
      "97     4.262240  yoy_BS-CSMCI-BAL\n",
      "98     4.548438    yoy_BS-ICI-BAL\n",
      "99     4.754283    yoy_BS-RCI-BAL\n",
      "100    6.114753    yoy_BS-SCI-BAL\n",
      "101    1.887148         yoy_Price\n",
      "\n",
      "[102 rows x 2 columns]\n",
      "          VIF  feature\n",
      "90  10.913706  yoy_IGD\n",
      "Removing yoy_IGD\n",
      "yoy_NRG\n",
      "91\n"
     ]
    },
    {
     "name": "stderr",
     "output_type": "stream",
     "text": [
      "C:\\Users\\lawre\\anaconda3\\envs\\gpu2\\lib\\site-packages\\statsmodels\\stats\\outliers_influence.py:193: RuntimeWarning: divide by zero encountered in double_scalars\n",
      "  vif = 1. / (1. - r_squared_i)\n"
     ]
    },
    {
     "name": "stdout",
     "output_type": "stream",
     "text": [
      "            VIF           feature\n",
      "0     11.359712          Open_crd\n",
      "1           inf        Volume_crd\n",
      "2    154.595201           Open_sp\n",
      "3           inf         Volume_sp\n",
      "4     97.163345         Volume_ns\n",
      "..          ...               ...\n",
      "97     4.262240  yoy_BS-CSMCI-BAL\n",
      "98     4.548438    yoy_BS-ICI-BAL\n",
      "99     4.754283    yoy_BS-RCI-BAL\n",
      "100    6.114753    yoy_BS-SCI-BAL\n",
      "101    1.887148         yoy_Price\n",
      "\n",
      "[102 rows x 2 columns]\n",
      "           VIF  feature\n",
      "91  497.916283  yoy_NRG\n",
      "Removing yoy_NRG\n",
      "yoy_TOT_X_ALC_TBC\n",
      "92\n"
     ]
    },
    {
     "name": "stderr",
     "output_type": "stream",
     "text": [
      "C:\\Users\\lawre\\anaconda3\\envs\\gpu2\\lib\\site-packages\\statsmodels\\stats\\outliers_influence.py:193: RuntimeWarning: divide by zero encountered in double_scalars\n",
      "  vif = 1. / (1. - r_squared_i)\n"
     ]
    },
    {
     "name": "stdout",
     "output_type": "stream",
     "text": [
      "            VIF           feature\n",
      "0     11.359712          Open_crd\n",
      "1           inf        Volume_crd\n",
      "2    154.595201           Open_sp\n",
      "3           inf         Volume_sp\n",
      "4     97.163345         Volume_ns\n",
      "..          ...               ...\n",
      "97     4.262240  yoy_BS-CSMCI-BAL\n",
      "98     4.548438    yoy_BS-ICI-BAL\n",
      "99     4.754283    yoy_BS-RCI-BAL\n",
      "100    6.114753    yoy_BS-SCI-BAL\n",
      "101    1.887148         yoy_Price\n",
      "\n",
      "[102 rows x 2 columns]\n",
      "            VIF            feature\n",
      "92  2182.331698  yoy_TOT_X_ALC_TBC\n",
      "Removing yoy_TOT_X_ALC_TBC\n",
      "yoy_TOT_X_FROOPP\n",
      "93\n"
     ]
    },
    {
     "name": "stderr",
     "output_type": "stream",
     "text": [
      "C:\\Users\\lawre\\anaconda3\\envs\\gpu2\\lib\\site-packages\\statsmodels\\stats\\outliers_influence.py:193: RuntimeWarning: divide by zero encountered in double_scalars\n",
      "  vif = 1. / (1. - r_squared_i)\n"
     ]
    },
    {
     "name": "stdout",
     "output_type": "stream",
     "text": [
      "            VIF           feature\n",
      "0     11.359712          Open_crd\n",
      "1           inf        Volume_crd\n",
      "2    154.595201           Open_sp\n",
      "3           inf         Volume_sp\n",
      "4     97.163345         Volume_ns\n",
      "..          ...               ...\n",
      "97     4.262240  yoy_BS-CSMCI-BAL\n",
      "98     4.548438    yoy_BS-ICI-BAL\n",
      "99     4.754283    yoy_BS-RCI-BAL\n",
      "100    6.114753    yoy_BS-SCI-BAL\n",
      "101    1.887148         yoy_Price\n",
      "\n",
      "[102 rows x 2 columns]\n",
      "           VIF           feature\n",
      "93  179.026744  yoy_TOT_X_FROOPP\n",
      "Removing yoy_TOT_X_FROOPP\n",
      "yoy_TOT_X_FUEL\n",
      "94\n"
     ]
    },
    {
     "name": "stderr",
     "output_type": "stream",
     "text": [
      "C:\\Users\\lawre\\anaconda3\\envs\\gpu2\\lib\\site-packages\\statsmodels\\stats\\outliers_influence.py:193: RuntimeWarning: divide by zero encountered in double_scalars\n",
      "  vif = 1. / (1. - r_squared_i)\n"
     ]
    },
    {
     "name": "stdout",
     "output_type": "stream",
     "text": [
      "            VIF           feature\n",
      "0     11.359712          Open_crd\n",
      "1           inf        Volume_crd\n",
      "2    154.595201           Open_sp\n",
      "3           inf         Volume_sp\n",
      "4     97.163345         Volume_ns\n",
      "..          ...               ...\n",
      "97     4.262240  yoy_BS-CSMCI-BAL\n",
      "98     4.548438    yoy_BS-ICI-BAL\n",
      "99     4.754283    yoy_BS-RCI-BAL\n",
      "100    6.114753    yoy_BS-SCI-BAL\n",
      "101    1.887148         yoy_Price\n",
      "\n",
      "[102 rows x 2 columns]\n",
      "            VIF         feature\n",
      "94  1565.979572  yoy_TOT_X_FUEL\n",
      "Removing yoy_TOT_X_FUEL\n",
      "yoy_TOT_X_NRG_FOOD\n",
      "95\n"
     ]
    },
    {
     "name": "stderr",
     "output_type": "stream",
     "text": [
      "C:\\Users\\lawre\\anaconda3\\envs\\gpu2\\lib\\site-packages\\statsmodels\\stats\\outliers_influence.py:193: RuntimeWarning: divide by zero encountered in double_scalars\n",
      "  vif = 1. / (1. - r_squared_i)\n"
     ]
    },
    {
     "name": "stdout",
     "output_type": "stream",
     "text": [
      "            VIF           feature\n",
      "0     11.359712          Open_crd\n",
      "1           inf        Volume_crd\n",
      "2    154.595201           Open_sp\n",
      "3           inf         Volume_sp\n",
      "4     97.163345         Volume_ns\n",
      "..          ...               ...\n",
      "97     4.262240  yoy_BS-CSMCI-BAL\n",
      "98     4.548438    yoy_BS-ICI-BAL\n",
      "99     4.754283    yoy_BS-RCI-BAL\n",
      "100    6.114753    yoy_BS-SCI-BAL\n",
      "101    1.887148         yoy_Price\n",
      "\n",
      "[102 rows x 2 columns]\n",
      "           VIF             feature\n",
      "95  232.624399  yoy_TOT_X_NRG_FOOD\n",
      "Removing yoy_TOT_X_NRG_FOOD\n",
      "yoy_BS-CCI-BAL\n",
      "96\n"
     ]
    },
    {
     "name": "stderr",
     "output_type": "stream",
     "text": [
      "C:\\Users\\lawre\\anaconda3\\envs\\gpu2\\lib\\site-packages\\statsmodels\\stats\\outliers_influence.py:193: RuntimeWarning: divide by zero encountered in double_scalars\n",
      "  vif = 1. / (1. - r_squared_i)\n"
     ]
    },
    {
     "name": "stdout",
     "output_type": "stream",
     "text": [
      "            VIF           feature\n",
      "0     11.359712          Open_crd\n",
      "1           inf        Volume_crd\n",
      "2    154.595201           Open_sp\n",
      "3           inf         Volume_sp\n",
      "4     97.163345         Volume_ns\n",
      "..          ...               ...\n",
      "97     4.262240  yoy_BS-CSMCI-BAL\n",
      "98     4.548438    yoy_BS-ICI-BAL\n",
      "99     4.754283    yoy_BS-RCI-BAL\n",
      "100    6.114753    yoy_BS-SCI-BAL\n",
      "101    1.887148         yoy_Price\n",
      "\n",
      "[102 rows x 2 columns]\n",
      "         VIF         feature\n",
      "96  4.925976  yoy_BS-CCI-BAL\n",
      "yoy_BS-CSMCI-BAL\n",
      "97\n"
     ]
    },
    {
     "name": "stderr",
     "output_type": "stream",
     "text": [
      "C:\\Users\\lawre\\anaconda3\\envs\\gpu2\\lib\\site-packages\\statsmodels\\stats\\outliers_influence.py:193: RuntimeWarning: divide by zero encountered in double_scalars\n",
      "  vif = 1. / (1. - r_squared_i)\n"
     ]
    },
    {
     "name": "stdout",
     "output_type": "stream",
     "text": [
      "            VIF           feature\n",
      "0     11.359712          Open_crd\n",
      "1           inf        Volume_crd\n",
      "2    154.595201           Open_sp\n",
      "3           inf         Volume_sp\n",
      "4     97.163345         Volume_ns\n",
      "..          ...               ...\n",
      "97     4.262240  yoy_BS-CSMCI-BAL\n",
      "98     4.548438    yoy_BS-ICI-BAL\n",
      "99     4.754283    yoy_BS-RCI-BAL\n",
      "100    6.114753    yoy_BS-SCI-BAL\n",
      "101    1.887148         yoy_Price\n",
      "\n",
      "[102 rows x 2 columns]\n",
      "        VIF           feature\n",
      "97  4.26224  yoy_BS-CSMCI-BAL\n",
      "yoy_BS-ICI-BAL\n",
      "98\n"
     ]
    },
    {
     "name": "stderr",
     "output_type": "stream",
     "text": [
      "C:\\Users\\lawre\\anaconda3\\envs\\gpu2\\lib\\site-packages\\statsmodels\\stats\\outliers_influence.py:193: RuntimeWarning: divide by zero encountered in double_scalars\n",
      "  vif = 1. / (1. - r_squared_i)\n"
     ]
    },
    {
     "name": "stdout",
     "output_type": "stream",
     "text": [
      "            VIF           feature\n",
      "0     11.359712          Open_crd\n",
      "1           inf        Volume_crd\n",
      "2    154.595201           Open_sp\n",
      "3           inf         Volume_sp\n",
      "4     97.163345         Volume_ns\n",
      "..          ...               ...\n",
      "97     4.262240  yoy_BS-CSMCI-BAL\n",
      "98     4.548438    yoy_BS-ICI-BAL\n",
      "99     4.754283    yoy_BS-RCI-BAL\n",
      "100    6.114753    yoy_BS-SCI-BAL\n",
      "101    1.887148         yoy_Price\n",
      "\n",
      "[102 rows x 2 columns]\n",
      "         VIF         feature\n",
      "98  4.548438  yoy_BS-ICI-BAL\n",
      "yoy_BS-RCI-BAL\n",
      "99\n"
     ]
    },
    {
     "name": "stderr",
     "output_type": "stream",
     "text": [
      "C:\\Users\\lawre\\anaconda3\\envs\\gpu2\\lib\\site-packages\\statsmodels\\stats\\outliers_influence.py:193: RuntimeWarning: divide by zero encountered in double_scalars\n",
      "  vif = 1. / (1. - r_squared_i)\n"
     ]
    },
    {
     "name": "stdout",
     "output_type": "stream",
     "text": [
      "            VIF           feature\n",
      "0     11.359712          Open_crd\n",
      "1           inf        Volume_crd\n",
      "2    154.595201           Open_sp\n",
      "3           inf         Volume_sp\n",
      "4     97.163345         Volume_ns\n",
      "..          ...               ...\n",
      "97     4.262240  yoy_BS-CSMCI-BAL\n",
      "98     4.548438    yoy_BS-ICI-BAL\n",
      "99     4.754283    yoy_BS-RCI-BAL\n",
      "100    6.114753    yoy_BS-SCI-BAL\n",
      "101    1.887148         yoy_Price\n",
      "\n",
      "[102 rows x 2 columns]\n",
      "         VIF         feature\n",
      "99  4.754283  yoy_BS-RCI-BAL\n",
      "yoy_BS-SCI-BAL\n",
      "100\n"
     ]
    },
    {
     "name": "stderr",
     "output_type": "stream",
     "text": [
      "C:\\Users\\lawre\\anaconda3\\envs\\gpu2\\lib\\site-packages\\statsmodels\\stats\\outliers_influence.py:193: RuntimeWarning: divide by zero encountered in double_scalars\n",
      "  vif = 1. / (1. - r_squared_i)\n"
     ]
    },
    {
     "name": "stdout",
     "output_type": "stream",
     "text": [
      "            VIF           feature\n",
      "0     11.359712          Open_crd\n",
      "1           inf        Volume_crd\n",
      "2    154.595201           Open_sp\n",
      "3           inf         Volume_sp\n",
      "4     97.163345         Volume_ns\n",
      "..          ...               ...\n",
      "97     4.262240  yoy_BS-CSMCI-BAL\n",
      "98     4.548438    yoy_BS-ICI-BAL\n",
      "99     4.754283    yoy_BS-RCI-BAL\n",
      "100    6.114753    yoy_BS-SCI-BAL\n",
      "101    1.887148         yoy_Price\n",
      "\n",
      "[102 rows x 2 columns]\n",
      "          VIF         feature\n",
      "100  6.114753  yoy_BS-SCI-BAL\n",
      "yoy_Price\n",
      "101\n"
     ]
    },
    {
     "name": "stderr",
     "output_type": "stream",
     "text": [
      "C:\\Users\\lawre\\anaconda3\\envs\\gpu2\\lib\\site-packages\\statsmodels\\stats\\outliers_influence.py:193: RuntimeWarning: divide by zero encountered in double_scalars\n",
      "  vif = 1. / (1. - r_squared_i)\n"
     ]
    },
    {
     "name": "stdout",
     "output_type": "stream",
     "text": [
      "            VIF           feature\n",
      "0     11.359712          Open_crd\n",
      "1           inf        Volume_crd\n",
      "2    154.595201           Open_sp\n",
      "3           inf         Volume_sp\n",
      "4     97.163345         Volume_ns\n",
      "..          ...               ...\n",
      "97     4.262240  yoy_BS-CSMCI-BAL\n",
      "98     4.548438    yoy_BS-ICI-BAL\n",
      "99     4.754283    yoy_BS-RCI-BAL\n",
      "100    6.114753    yoy_BS-SCI-BAL\n",
      "101    1.887148         yoy_Price\n",
      "\n",
      "[102 rows x 2 columns]\n",
      "          VIF    feature\n",
      "101  1.887148  yoy_Price\n"
     ]
    },
    {
     "ename": "KeyError",
     "evalue": "\"['yoy_TOT_X_FUEL', 'diff_High_ns', 'CON_DE_F_CC2', 'CON_DE_B-D_F', 'yoy_Low_crd', 'Volume_crd', 'lag_Volume_crd', 'Volume_ns', 'diff_ELC_GAS', 'diff_Low_sp', 'diff_NRG', 'BS-CSMCI-BAL', 'diff_Volume_crd', 'diff_Volume_sp', 'diff_TOT_X_ALC_TBC', 'yoy_TOT_X_NRG_FOOD', 'lag_Volume_sp', 'yoy_TOT_X_ALC_TBC', 'Volume_usd', 'diff_High_sp', 'Open_sp', 'yoy_ELC_GAS', 'lag_Volume_usd', 'diff_TOT_X_FUEL', 'ravg_yr_CON_DE_F', 'ravg_yr_CON_DE_F_CC1', 'CON_DE_F', 'ravg_qt_Volume_crd', 'yoy_Open_sp', 'Open_crd', 'yoy_Open_crd', 'TOT_X_ALC_TBC', 'WB_NGAS_EUR', 'yoy_NRG', 'ravg_yr_CON_DE_B-D_F', 'Open_usd', 'ravg_yr_Volume_sp', 'diff_Low_ns', 'yoy_CON_DE_F', 'diff_Close_sp', 'yoy_CON_DE_B-D_F', 'yoy_TOT_X_FROOPP', 'CON_DE_F_CC1', 'diff_Close_ns', 'diff_CON_DE_F', 'ELC_GAS', 'diff_TOT_X_FROOPP', 'Volume_sp', 'yoy_IGD', 'diff_TOT_X_NRG_FOOD', 'yoy_CON_DE_F_CC2', 'diff_Volume_usd', 'ravg_qt_Volume_sp'] not in index\"",
     "output_type": "error",
     "traceback": [
      "\u001b[1;31m---------------------------------------------------------------------------\u001b[0m",
      "\u001b[1;31mKeyError\u001b[0m                                  Traceback (most recent call last)",
      "\u001b[1;32m<ipython-input-46-2dabe814f719>\u001b[0m in \u001b[0;36m<module>\u001b[1;34m\u001b[0m\n\u001b[1;32m----> 1\u001b[1;33m \u001b[0mX_train_vif\u001b[0m\u001b[1;33m,\u001b[0m \u001b[0mX_test_vif\u001b[0m\u001b[1;33m,\u001b[0m \u001b[0mX_val_vif\u001b[0m \u001b[1;33m=\u001b[0m \u001b[0mvif_correlation_subset\u001b[0m\u001b[1;33m(\u001b[0m\u001b[0mX_train\u001b[0m\u001b[1;33m,\u001b[0m \u001b[0mX_test\u001b[0m\u001b[1;33m,\u001b[0m \u001b[0mX_val\u001b[0m\u001b[1;33m,\u001b[0m \u001b[0mread_vif_values\u001b[0m \u001b[1;33m=\u001b[0m \u001b[1;32mFalse\u001b[0m\u001b[1;33m,\u001b[0m \u001b[0mverbose\u001b[0m \u001b[1;33m=\u001b[0m \u001b[1;32mTrue\u001b[0m\u001b[1;33m)\u001b[0m\u001b[1;33m\u001b[0m\u001b[1;33m\u001b[0m\u001b[0m\n\u001b[0m",
      "\u001b[1;32m<ipython-input-36-3fed7ae55e65>\u001b[0m in \u001b[0;36mvif_correlation_subset\u001b[1;34m(X_train, X_test, X_val, read_vif_values, verbose)\u001b[0m\n\u001b[0;32m     49\u001b[0m             \u001b[0mX_train\u001b[0m\u001b[1;33m.\u001b[0m\u001b[0mto_csv\u001b[0m\u001b[1;33m(\u001b[0m\u001b[1;34m\"X_train_vif.csv\"\u001b[0m\u001b[1;33m)\u001b[0m\u001b[1;33m\u001b[0m\u001b[1;33m\u001b[0m\u001b[0m\n\u001b[0;32m     50\u001b[0m \u001b[1;33m\u001b[0m\u001b[0m\n\u001b[1;32m---> 51\u001b[1;33m     \u001b[0mX_train\u001b[0m \u001b[1;33m=\u001b[0m \u001b[0mX_train\u001b[0m\u001b[1;33m[\u001b[0m\u001b[0mX_train_vif\u001b[0m\u001b[1;33m.\u001b[0m\u001b[0mcolumns\u001b[0m\u001b[1;33m]\u001b[0m\u001b[1;33m\u001b[0m\u001b[1;33m\u001b[0m\u001b[0m\n\u001b[0m\u001b[0;32m     52\u001b[0m     \u001b[0mX_test\u001b[0m \u001b[1;33m=\u001b[0m \u001b[0mX_test\u001b[0m\u001b[1;33m[\u001b[0m\u001b[0mX_train\u001b[0m\u001b[1;33m.\u001b[0m\u001b[0mcolumns\u001b[0m\u001b[1;33m]\u001b[0m\u001b[1;33m\u001b[0m\u001b[1;33m\u001b[0m\u001b[0m\n\u001b[0;32m     53\u001b[0m     \u001b[0mX_val\u001b[0m \u001b[1;33m=\u001b[0m \u001b[0mX_val\u001b[0m\u001b[1;33m[\u001b[0m\u001b[0mX_train\u001b[0m\u001b[1;33m.\u001b[0m\u001b[0mcolumns\u001b[0m\u001b[1;33m]\u001b[0m\u001b[1;33m\u001b[0m\u001b[1;33m\u001b[0m\u001b[0m\n",
      "\u001b[1;32m~\\anaconda3\\envs\\gpu2\\lib\\site-packages\\pandas\\core\\frame.py\u001b[0m in \u001b[0;36m__getitem__\u001b[1;34m(self, key)\u001b[0m\n\u001b[0;32m   2910\u001b[0m             \u001b[1;32mif\u001b[0m \u001b[0mis_iterator\u001b[0m\u001b[1;33m(\u001b[0m\u001b[0mkey\u001b[0m\u001b[1;33m)\u001b[0m\u001b[1;33m:\u001b[0m\u001b[1;33m\u001b[0m\u001b[1;33m\u001b[0m\u001b[0m\n\u001b[0;32m   2911\u001b[0m                 \u001b[0mkey\u001b[0m \u001b[1;33m=\u001b[0m \u001b[0mlist\u001b[0m\u001b[1;33m(\u001b[0m\u001b[0mkey\u001b[0m\u001b[1;33m)\u001b[0m\u001b[1;33m\u001b[0m\u001b[1;33m\u001b[0m\u001b[0m\n\u001b[1;32m-> 2912\u001b[1;33m             \u001b[0mindexer\u001b[0m \u001b[1;33m=\u001b[0m \u001b[0mself\u001b[0m\u001b[1;33m.\u001b[0m\u001b[0mloc\u001b[0m\u001b[1;33m.\u001b[0m\u001b[0m_get_listlike_indexer\u001b[0m\u001b[1;33m(\u001b[0m\u001b[0mkey\u001b[0m\u001b[1;33m,\u001b[0m \u001b[0maxis\u001b[0m\u001b[1;33m=\u001b[0m\u001b[1;36m1\u001b[0m\u001b[1;33m,\u001b[0m \u001b[0mraise_missing\u001b[0m\u001b[1;33m=\u001b[0m\u001b[1;32mTrue\u001b[0m\u001b[1;33m)\u001b[0m\u001b[1;33m[\u001b[0m\u001b[1;36m1\u001b[0m\u001b[1;33m]\u001b[0m\u001b[1;33m\u001b[0m\u001b[1;33m\u001b[0m\u001b[0m\n\u001b[0m\u001b[0;32m   2913\u001b[0m \u001b[1;33m\u001b[0m\u001b[0m\n\u001b[0;32m   2914\u001b[0m         \u001b[1;31m# take() does not accept boolean indexers\u001b[0m\u001b[1;33m\u001b[0m\u001b[1;33m\u001b[0m\u001b[1;33m\u001b[0m\u001b[0m\n",
      "\u001b[1;32m~\\anaconda3\\envs\\gpu2\\lib\\site-packages\\pandas\\core\\indexing.py\u001b[0m in \u001b[0;36m_get_listlike_indexer\u001b[1;34m(self, key, axis, raise_missing)\u001b[0m\n\u001b[0;32m   1252\u001b[0m             \u001b[0mkeyarr\u001b[0m\u001b[1;33m,\u001b[0m \u001b[0mindexer\u001b[0m\u001b[1;33m,\u001b[0m \u001b[0mnew_indexer\u001b[0m \u001b[1;33m=\u001b[0m \u001b[0max\u001b[0m\u001b[1;33m.\u001b[0m\u001b[0m_reindex_non_unique\u001b[0m\u001b[1;33m(\u001b[0m\u001b[0mkeyarr\u001b[0m\u001b[1;33m)\u001b[0m\u001b[1;33m\u001b[0m\u001b[1;33m\u001b[0m\u001b[0m\n\u001b[0;32m   1253\u001b[0m \u001b[1;33m\u001b[0m\u001b[0m\n\u001b[1;32m-> 1254\u001b[1;33m         \u001b[0mself\u001b[0m\u001b[1;33m.\u001b[0m\u001b[0m_validate_read_indexer\u001b[0m\u001b[1;33m(\u001b[0m\u001b[0mkeyarr\u001b[0m\u001b[1;33m,\u001b[0m \u001b[0mindexer\u001b[0m\u001b[1;33m,\u001b[0m \u001b[0maxis\u001b[0m\u001b[1;33m,\u001b[0m \u001b[0mraise_missing\u001b[0m\u001b[1;33m=\u001b[0m\u001b[0mraise_missing\u001b[0m\u001b[1;33m)\u001b[0m\u001b[1;33m\u001b[0m\u001b[1;33m\u001b[0m\u001b[0m\n\u001b[0m\u001b[0;32m   1255\u001b[0m         \u001b[1;32mreturn\u001b[0m \u001b[0mkeyarr\u001b[0m\u001b[1;33m,\u001b[0m \u001b[0mindexer\u001b[0m\u001b[1;33m\u001b[0m\u001b[1;33m\u001b[0m\u001b[0m\n\u001b[0;32m   1256\u001b[0m \u001b[1;33m\u001b[0m\u001b[0m\n",
      "\u001b[1;32m~\\anaconda3\\envs\\gpu2\\lib\\site-packages\\pandas\\core\\indexing.py\u001b[0m in \u001b[0;36m_validate_read_indexer\u001b[1;34m(self, key, indexer, axis, raise_missing)\u001b[0m\n\u001b[0;32m   1302\u001b[0m             \u001b[1;32mif\u001b[0m \u001b[0mraise_missing\u001b[0m\u001b[1;33m:\u001b[0m\u001b[1;33m\u001b[0m\u001b[1;33m\u001b[0m\u001b[0m\n\u001b[0;32m   1303\u001b[0m                 \u001b[0mnot_found\u001b[0m \u001b[1;33m=\u001b[0m \u001b[0mlist\u001b[0m\u001b[1;33m(\u001b[0m\u001b[0mset\u001b[0m\u001b[1;33m(\u001b[0m\u001b[0mkey\u001b[0m\u001b[1;33m)\u001b[0m \u001b[1;33m-\u001b[0m \u001b[0mset\u001b[0m\u001b[1;33m(\u001b[0m\u001b[0max\u001b[0m\u001b[1;33m)\u001b[0m\u001b[1;33m)\u001b[0m\u001b[1;33m\u001b[0m\u001b[1;33m\u001b[0m\u001b[0m\n\u001b[1;32m-> 1304\u001b[1;33m                 \u001b[1;32mraise\u001b[0m \u001b[0mKeyError\u001b[0m\u001b[1;33m(\u001b[0m\u001b[1;34mf\"{not_found} not in index\"\u001b[0m\u001b[1;33m)\u001b[0m\u001b[1;33m\u001b[0m\u001b[1;33m\u001b[0m\u001b[0m\n\u001b[0m\u001b[0;32m   1305\u001b[0m \u001b[1;33m\u001b[0m\u001b[0m\n\u001b[0;32m   1306\u001b[0m             \u001b[1;31m# we skip the warning on Categorical\u001b[0m\u001b[1;33m\u001b[0m\u001b[1;33m\u001b[0m\u001b[1;33m\u001b[0m\u001b[0m\n",
      "\u001b[1;31mKeyError\u001b[0m: \"['yoy_TOT_X_FUEL', 'diff_High_ns', 'CON_DE_F_CC2', 'CON_DE_B-D_F', 'yoy_Low_crd', 'Volume_crd', 'lag_Volume_crd', 'Volume_ns', 'diff_ELC_GAS', 'diff_Low_sp', 'diff_NRG', 'BS-CSMCI-BAL', 'diff_Volume_crd', 'diff_Volume_sp', 'diff_TOT_X_ALC_TBC', 'yoy_TOT_X_NRG_FOOD', 'lag_Volume_sp', 'yoy_TOT_X_ALC_TBC', 'Volume_usd', 'diff_High_sp', 'Open_sp', 'yoy_ELC_GAS', 'lag_Volume_usd', 'diff_TOT_X_FUEL', 'ravg_yr_CON_DE_F', 'ravg_yr_CON_DE_F_CC1', 'CON_DE_F', 'ravg_qt_Volume_crd', 'yoy_Open_sp', 'Open_crd', 'yoy_Open_crd', 'TOT_X_ALC_TBC', 'WB_NGAS_EUR', 'yoy_NRG', 'ravg_yr_CON_DE_B-D_F', 'Open_usd', 'ravg_yr_Volume_sp', 'diff_Low_ns', 'yoy_CON_DE_F', 'diff_Close_sp', 'yoy_CON_DE_B-D_F', 'yoy_TOT_X_FROOPP', 'CON_DE_F_CC1', 'diff_Close_ns', 'diff_CON_DE_F', 'ELC_GAS', 'diff_TOT_X_FROOPP', 'Volume_sp', 'yoy_IGD', 'diff_TOT_X_NRG_FOOD', 'yoy_CON_DE_F_CC2', 'diff_Volume_usd', 'ravg_qt_Volume_sp'] not in index\""
     ]
    }
   ],
   "source": [
    "X_train_vif, X_test_vif, X_val_vif = vif_correlation_subset(X_train, X_test, X_val, read_vif_values = False, verbose = True)"
   ]
  },
  {
   "cell_type": "code",
   "execution_count": 47,
   "id": "6aa0885b",
   "metadata": {},
   "outputs": [
    {
     "ename": "NameError",
     "evalue": "name 'X_train_vif' is not defined",
     "output_type": "error",
     "traceback": [
      "\u001b[1;31m---------------------------------------------------------------------------\u001b[0m",
      "\u001b[1;31mNameError\u001b[0m                                 Traceback (most recent call last)",
      "\u001b[1;32m<ipython-input-47-bbf83d2eac56>\u001b[0m in \u001b[0;36m<module>\u001b[1;34m\u001b[0m\n\u001b[1;32m----> 1\u001b[1;33m \u001b[0mX_train_subset\u001b[0m\u001b[1;33m,\u001b[0m \u001b[0mX_test_subset\u001b[0m\u001b[1;33m,\u001b[0m \u001b[0mX_val\u001b[0m \u001b[1;33m=\u001b[0m \u001b[0mfwd_subset\u001b[0m\u001b[1;33m(\u001b[0m\u001b[0mX_train_vif\u001b[0m\u001b[1;33m,\u001b[0m \u001b[0mX_test_vif\u001b[0m\u001b[1;33m,\u001b[0m \u001b[0mX_val_vif\u001b[0m\u001b[1;33m,\u001b[0m \u001b[0my_train\u001b[0m\u001b[1;33m,\u001b[0m \u001b[0my_name\u001b[0m\u001b[1;33m,\u001b[0m \u001b[0mverbose\u001b[0m \u001b[1;33m=\u001b[0m \u001b[1;32mTrue\u001b[0m\u001b[1;33m)\u001b[0m\u001b[1;33m\u001b[0m\u001b[1;33m\u001b[0m\u001b[0m\n\u001b[0m",
      "\u001b[1;31mNameError\u001b[0m: name 'X_train_vif' is not defined"
     ]
    }
   ],
   "source": [
    "X_train_subset, X_test_subset, X_val, reg_model = fwd_subset(X_train_vif, X_test_vif, X_val_vif, \n",
    "                                                             y_train, y_name, verbose = True)"
   ]
  }
 ],
 "metadata": {
  "kernelspec": {
   "display_name": "gpu2",
   "language": "python",
   "name": "gpu2"
  },
  "language_info": {
   "codemirror_mode": {
    "name": "ipython",
    "version": 3
   },
   "file_extension": ".py",
   "mimetype": "text/x-python",
   "name": "python",
   "nbconvert_exporter": "python",
   "pygments_lexer": "ipython3",
   "version": "3.9.17"
  },
  "varInspector": {
   "cols": {
    "lenName": 16,
    "lenType": 16,
    "lenVar": 40
   },
   "kernels_config": {
    "python": {
     "delete_cmd_postfix": "",
     "delete_cmd_prefix": "del ",
     "library": "var_list.py",
     "varRefreshCmd": "print(var_dic_list())"
    },
    "r": {
     "delete_cmd_postfix": ") ",
     "delete_cmd_prefix": "rm(",
     "library": "var_list.r",
     "varRefreshCmd": "cat(var_dic_list()) "
    }
   },
   "types_to_exclude": [
    "module",
    "function",
    "builtin_function_or_method",
    "instance",
    "_Feature"
   ],
   "window_display": false
  }
 },
 "nbformat": 4,
 "nbformat_minor": 5
}
